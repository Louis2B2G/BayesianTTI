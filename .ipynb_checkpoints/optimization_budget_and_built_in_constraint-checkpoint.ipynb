{
 "cells": [
  {
   "cell_type": "code",
   "execution_count": 1,
   "metadata": {},
   "outputs": [
    {
     "name": "stdout",
     "output_type": "stream",
     "text": [
      "/home/gejinchen/Desktop/l48/project/tti-explorer\n",
      "Note: you may need to restart the kernel to use updated packages.\n"
     ]
    }
   ],
   "source": [
    "%cd ../tti-explorer\n",
    "%pip install -q ."
   ]
  },
  {
   "cell_type": "code",
   "execution_count": 2,
   "metadata": {},
   "outputs": [],
   "source": [
    "import tti\n",
    "from tti import simulation\n",
    "\n",
    "import GPy\n",
    "import GPyOpt\n",
    "from numpy.random import seed\n",
    "import matplotlib\n",
    "\n",
    "import numpy as np"
   ]
  },
  {
   "cell_type": "markdown",
   "metadata": {},
   "source": [
    "# Use parameters in config as cost"
   ]
  },
  {
   "cell_type": "code",
   "execution_count": 3,
   "metadata": {},
   "outputs": [],
   "source": [
    "# The base function that reuturns R\n",
    "def f(x):\n",
    "    # x has shape (1, 2)\n",
    "    theta = x[0]\n",
    "    config_details = {0 : {\"name\": \"compliance\", \"config\": \"policy_config\"}, \n",
    "                      1 : {\"name\": \"go_to_school_prob\", \"config\": \"policy_config\"}} \n",
    "    output_dict = simulation(theta, config_details)\n",
    "    reduced_r = output_dict['Effective R']\n",
    "    return reduced_r"
   ]
  },
  {
   "cell_type": "code",
   "execution_count": 4,
   "metadata": {},
   "outputs": [],
   "source": [
    "def cost(x):\n",
    "    compliance = x[0,0]\n",
    "    go_to_school_prob = x[0,1]\n",
    "    \n",
    "    # Use x**2 means the hgiher the compliance, the harder to increase compliance\n",
    "    compliance_cost = compliance**2\n",
    "    # Use 1/x means the lower the go_to_school_prob, the harder to decrease go_to_school_prob.(Maybe not true)\n",
    "    # Plus 0.001 to avoid division by 0\n",
    "    go_to_school_prob_cost = 1 / (go_to_school_prob+0.001)\n",
    "    \n",
    "    # Weighted by coefficients\n",
    "    return compliance_cost + 0.05*go_to_school_prob_cost"
   ]
  },
  {
   "cell_type": "code",
   "execution_count": 5,
   "metadata": {},
   "outputs": [],
   "source": [
    "def composite_f(x):\n",
    "    coeff = 1.5\n",
    "    return f(x) + coeff*cost(x)"
   ]
  },
  {
   "cell_type": "code",
   "execution_count": 11,
   "metadata": {},
   "outputs": [],
   "source": [
    "bounds =[{'name': 'var_1', 'type': 'continuous', 'domain': (0, 1)},\n",
    "         {'name': 'var_2', 'type': 'continuous', 'domain': (0, 1)}]\n",
    "\n",
    "# Inequality constraint. The constraint is cost() < 1.0\n",
    "constraints = [{'name': 'constr_1', 'constraint': 'x[:,0]**2 + 0.05*1/(x[:,1]+0.001) - 1.0'}]\n",
    "\n",
    "# \"Equality\" constraint built with two inequality constraints. The constraints are cost() < 1.0 + 0.001 and cost() > 1.0 - 0.001\n",
    "# constraints = [{'name': 'constr_1', 'constraint': 'x[:,0]**2 + 0.05*1/(x[:,1]+0.001) - 1.0 - 0.001'},\n",
    "#                {'name': 'constr_2', 'constraint': '-x[:,0]**2 - 0.05*1/(x[:,1]+0.001) + 1.0 - 0.001'}]"
   ]
  },
  {
   "cell_type": "markdown",
   "metadata": {},
   "source": [
    "# Do optimization"
   ]
  },
  {
   "cell_type": "code",
   "execution_count": null,
   "metadata": {},
   "outputs": [
    {
     "data": {
      "application/vnd.jupyter.widget-view+json": {
       "model_id": "5e7626152fa2454ea35bc5c254943565",
       "version_major": 2,
       "version_minor": 0
      },
      "text/plain": [
       "HBox(children=(HTML(value=''), FloatProgress(value=0.0, max=10000.0), HTML(value='')))"
      ]
     },
     "metadata": {},
     "output_type": "display_data"
    }
   ],
   "source": [
    "# Creates GPyOpt object with the model and anquisition fucntion\n",
    "seed(42)\n",
    "myBopt2D = GPyOpt.methods.BayesianOptimization(f,\n",
    "                                              domain=bounds,\n",
    "                                              constraints=constraints,\n",
    "                                              model_type = 'GP',\n",
    "                                              acquisition_type='EI',  \n",
    "                                              normalize_Y = True,\n",
    "                                              acquisition_weight = 2)    "
   ]
  },
  {
   "cell_type": "code",
   "execution_count": null,
   "metadata": {},
   "outputs": [],
   "source": [
    "max_iter = 80  # maximum time 40 iterations\n",
    "max_time = 240  # maximum time 120 seconds\n",
    "\n",
    "myBopt2D.run_optimization(max_iter, max_time, verbosity=True, eps=1e-06)    "
   ]
  },
  {
   "cell_type": "code",
   "execution_count": null,
   "metadata": {},
   "outputs": [],
   "source": [
    "myBopt2D.plot_acquisition()"
   ]
  },
  {
   "cell_type": "code",
   "execution_count": null,
   "metadata": {},
   "outputs": [],
   "source": [
    "myBopt2D.plot_convergence()"
   ]
  },
  {
   "cell_type": "code",
   "execution_count": null,
   "metadata": {},
   "outputs": [],
   "source": [
    "# Optimum of x or argmin\n",
    "myBopt2D.x_opt"
   ]
  },
  {
   "cell_type": "code",
   "execution_count": null,
   "metadata": {},
   "outputs": [],
   "source": [
    "# Optimum of fx or min\n",
    "myBopt2D.fx_opt"
   ]
  },
  {
   "cell_type": "code",
   "execution_count": null,
   "metadata": {},
   "outputs": [],
   "source": [
    "# Optima of R and cost respectively\n",
    "x_opt = np.expand_dims(myBopt2D.x_opt, axis=0)\n",
    "print (\"R: \", f(x_opt))\n",
    "print (\"cost: \", cost(x_opt))"
   ]
  },
  {
   "cell_type": "code",
   "execution_count": null,
   "metadata": {},
   "outputs": [],
   "source": []
  }
 ],
 "metadata": {
  "kernelspec": {
   "display_name": "Python 3",
   "language": "python",
   "name": "python3"
  },
  "language_info": {
   "codemirror_mode": {
    "name": "ipython",
    "version": 3
   },
   "file_extension": ".py",
   "mimetype": "text/x-python",
   "name": "python",
   "nbconvert_exporter": "python",
   "pygments_lexer": "ipython3",
   "version": "3.7.3"
  }
 },
 "nbformat": 4,
 "nbformat_minor": 4
}
