{
 "cells": [
  {
   "cell_type": "markdown",
   "metadata": {},
   "source": [
    "# Sensitivity Analysis for the TTI-explorer"
   ]
  },
  {
   "cell_type": "markdown",
   "metadata": {},
   "source": [
    "## Preliminaries"
   ]
  },
  {
   "cell_type": "code",
   "execution_count": 2,
   "metadata": {},
   "outputs": [],
   "source": [
    "%load_ext autoreload\n",
    "%autoreload 2"
   ]
  },
  {
   "cell_type": "code",
   "execution_count": 3,
   "metadata": {},
   "outputs": [],
   "source": [
    "import numpy as np\n",
    "import matplotlib.pyplot as plt\n",
    "import pandas as pd\n",
    "from tti import simulation\n",
    "from emukit.test_functions.sensitivity import Ishigami\n",
    "from emukit.core import ContinuousParameter, DiscreteParameter, ParameterSpace\n",
    "\n",
    "np.random.seed(10) # for reproducibility\n",
    "\n",
    "PROB_DOMAIN = (0,1)"
   ]
  },
  {
   "cell_type": "markdown",
   "metadata": {},
   "source": [
    "## Initial Sample\n",
    "\n",
    "First, we define the parameter space over which we want to perform the sensitivity analysis and take an initial sample from this using the Latin hypercube sampling method."
   ]
  },
  {
   "cell_type": "code",
   "execution_count": 5,
   "metadata": {},
   "outputs": [],
   "source": [
    "space = ParameterSpace(\n",
    "            [\n",
    "                ContinuousParameter('go_to_school_prob', *PROB_DOMAIN),\n",
    "                DiscreteParameter('testing_delay', [*range(6)]),\n",
    "                DiscreteParameter('quarantine_length', [*range(1,11)])\n",
    "            ])\n",
    "\n",
    "config_details = {\n",
    "                    0:  {\"name\": \"go_to_school_prob\", \"config\": \"policy_config\"},\n",
    "                    1:  {\"name\": \"testing_delay\", \"config\": \"policy_config\"},\n",
    "                    2:  {\"name\": \"quarantine_length\", \"config\": \"policy_config\"}\n",
    "                 }"
   ]
  },
  {
   "cell_type": "code",
   "execution_count": null,
   "metadata": {},
   "outputs": [],
   "source": [
    "from emukit.core.initial_designs import LatinDesign\n",
    "\n",
    "def initial_sample():\n",
    "    num_initial_points = 50\n",
    "    design = LatinDesign(space)\n",
    "    x = design.get_samples(num_initial_points)\n",
    "    y = np.array([total_cost_R(k) for k in x])[:,np.newaxis]\n",
    "    \n",
    "    return x, y"
   ]
  },
  {
   "cell_type": "markdown",
   "metadata": {},
   "source": [
    "## Emulator model\n",
    "\n",
    "Then, set up the emulator - here using GP regression - to approximate the output of the simulation. Initialise using the initial samples obtained above."
   ]
  },
  {
   "cell_type": "code",
   "execution_count": null,
   "metadata": {},
   "outputs": [],
   "source": [
    "def setup_model(x, y):\n",
    "    # Use GP regression as the emulator\n",
    "    from GPy.models import GPRegression\n",
    "    from GPy.kern import RBF, Bias\n",
    "    from emukit.model_wrappers import GPyModelWrapper\n",
    "\n",
    "    kern = RBF(len(space.parameters), variance=1.0, lengthscale=100, ARD=True) + Bias(len(space.parameters))\n",
    "    model_gpy = GPRegression(x, y, kern)\n",
    "    model_emukit = GPyModelWrapper(model_gpy)\n",
    "    model_emukit.optimize()\n",
    "    \n",
    "    return model_emukit, model_gpy"
   ]
  },
  {
   "cell_type": "markdown",
   "metadata": {},
   "source": [
    "## Experimental Design Loop\n",
    "\n",
    "Set up an ED loop using uncertainty sampling (US) - which corresponds to using the ModelVariance acqusition function. Run this loop for a numbre of iterations."
   ]
  },
  {
   "cell_type": "code",
   "execution_count": 8,
   "metadata": {},
   "outputs": [],
   "source": [
    "from emukit.experimental_design.acquisitions import ModelVariance\n",
    "from emukit.experimental_design import ExperimentalDesignLoop\n",
    "\n",
    "def sim_loop(x):\n",
    "    return np.array([[simulation(x[0], config_details)['Effective R']]])\n",
    "\n",
    "def run_exp_loop(model_emukit):\n",
    "    model_variance = ModelVariance(model = model_emukit)        \n",
    "    exp_loop = ExperimentalDesignLoop(model = model_emukit,\n",
    "                                    space = space,\n",
    "                                    acquisition = model_variance,\n",
    "                                    update_interval = 1,\n",
    "                                    batch_size = 1)\n",
    "    exp_iterations = 100\n",
    "    exp_loop.run_loop(sim_loop, exp_iterations)\n",
    "    return"
   ]
  },
  {
   "cell_type": "markdown",
   "metadata": {},
   "source": [
    "## Sensitivity Analysis\n",
    "\n",
    "Perform the sensitivity analysis. We use SALib here because emukit does not fully support SA over discrete parameters."
   ]
  },
  {
   "cell_type": "code",
   "execution_count": 10,
   "metadata": {},
   "outputs": [],
   "source": [
    "from SALib.sample import saltelli\n",
    "from SALib.analyze import sobol\n",
    "\n",
    "def sens_analysis(model_emukit):\n",
    "    # Define the parameter space\n",
    "    problem = {\n",
    "      'num_vars': 3,\n",
    "      'names': ['go_to_school_prob', 'testing_delay', 'quarantine_length'],\n",
    "      'bounds': [[0, 1], [0, 6], [1, 11]]\n",
    "    }\n",
    "\n",
    "    # Generate samples\n",
    "    param_values = saltelli.sample(problem, 10000)\n",
    "    # Round discrete parameters to integers\n",
    "    param_values[:,1] = np.around(param_values[:,1])\n",
    "    param_values[:,2] = np.around(param_values[:,2])\n",
    "\n",
    "    Y = model_emukit.predict(param_values)[0][:,0]\n",
    "\n",
    "    # Perform analysis\n",
    "    Si = sobol.analyze(problem, Y, print_to_console=True)\n",
    "\n",
    "    main_effects_sa = Si['S1']\n",
    "    total_effects_sa = Si['ST']\n",
    "    return main_effects_sa, total_effects_sa"
   ]
  },
  {
   "cell_type": "code",
   "execution_count": 11,
   "metadata": {},
   "outputs": [],
   "source": [
    "def run_sensitivity():\n",
    "    x_init, y_init = initial_sample()\n",
    "    model_emukit, model_gpy = setup_model(x_init, y_init)\n",
    "    run_exp_loop(model_emukit)\n",
    "    \n",
    "    main_effects_sa, total_effects_sa = sens_analysis(model_emukit)\n",
    "    \n",
    "    return main_effects_sa, total_effects_sa"
   ]
  },
  {
   "cell_type": "code",
   "execution_count": 12,
   "metadata": {},
   "outputs": [],
   "source": [
    "def plot_sens(name, main_effects_sa, total_effects_sa):\n",
    "    param_names = [x.name for x in space.parameters]\n",
    "    bar_width = 0.35\n",
    "    label_locs = np.arange(len(param_names))\n",
    "\n",
    "    fig, ax = plt.subplots(figsize=(10, 5))\n",
    "    ax.bar(label_locs - bar_width/2, main_effects_sa, bar_width, label='First-order Sobol indices')\n",
    "    ax.bar(label_locs + bar_width/2, total_effects_sa, bar_width, label='Total effects')\n",
    "\n",
    "    ax.set_ylabel('% of explained output variance')\n",
    "    ax.set_xticks(label_locs)\n",
    "    ax.set_xticklabels(param_names)\n",
    "    ax.legend()\n",
    "\n",
    "    fig.savefig('plots/' + name + '.eps', format='eps')"
   ]
  },
  {
   "cell_type": "code",
   "execution_count": null,
   "metadata": {},
   "outputs": [],
   "source": [
    "me, te = run_sensitivity()\n",
    "plot_sens('R_3', me, te)"
   ]
  }
 ],
 "metadata": {
  "kernelspec": {
   "display_name": "mlpwEnv",
   "language": "python",
   "name": "mlpwenv"
  },
  "language_info": {
   "codemirror_mode": {
    "name": "ipython",
    "version": 3
   },
   "file_extension": ".py",
   "mimetype": "text/x-python",
   "name": "python",
   "nbconvert_exporter": "python",
   "pygments_lexer": "ipython3",
   "version": "3.6.12"
  }
 },
 "nbformat": 4,
 "nbformat_minor": 4
}
