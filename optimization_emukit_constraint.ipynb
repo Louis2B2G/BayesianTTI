{
 "cells": [
  {
   "cell_type": "code",
   "execution_count": 1,
   "metadata": {},
   "outputs": [
    {
     "name": "stdout",
     "output_type": "stream",
     "text": [
      "/home/gejinchen/Desktop/l48/project/tti-explorer\n",
      "Note: you may need to restart the kernel to use updated packages.\n"
     ]
    }
   ],
   "source": [
    "%cd ../tti-explorer\n",
    "%pip install -q ."
   ]
  },
  {
   "cell_type": "code",
   "execution_count": 2,
   "metadata": {},
   "outputs": [],
   "source": [
    "### General imports\n",
    "%matplotlib inline\n",
    "%matplotlib notebook\n",
    "import numpy as np\n",
    "import matplotlib.pyplot as plt\n",
    "\n",
    "from numpy.random import seed\n",
    "seed(42)\n",
    "\n",
    "import tti\n",
    "from tti import simulation\n",
    "\n",
    "from utils import *"
   ]
  },
  {
   "cell_type": "code",
   "execution_count": 3,
   "metadata": {},
   "outputs": [],
   "source": [
    "from emukit.test_functions import forrester_function\n",
    "from emukit.core.loop.user_function import UserFunctionWrapper\n",
    "from emukit.core import ContinuousParameter, ParameterSpace, DiscreteParameter\n",
    "\n",
    "# def target_function(X):\n",
    "#     # X has shape (N, 2)\n",
    "#     config_details = {0 : {\"name\": \"compliance\", \"config\": \"policy_config\"}, \n",
    "#                       1 : {\"name\": \"go_to_school_prob\", \"config\": \"policy_config\"}} \n",
    "#     r_array = np.array([simulation(x, config_details)['Effective R'] for x in X])[:,None]\n",
    "#     return r_array\n",
    "\n",
    "# def constraint(X):\n",
    "#     # X has shape (N, 2)\n",
    "#     compliance = X[:,0]\n",
    "#     go_to_school_prob = X[:,1]\n",
    "    \n",
    "#     # Use x**2 means the hgiher the compliance, the harder to increase compliance\n",
    "#     compliance_cost = compliance**2\n",
    "#     # Use 1/x means the lower the go_to_school_prob, the harder to decrease go_to_school_prob.(Maybe not true)\n",
    "#     # Plus 0.001 to avoid division by 0\n",
    "#     go_to_school_prob_cost = 1 / (go_to_school_prob+0.001)\n",
    "    \n",
    "#     # Weighted by coefficients. -1.0 means cost <= 1.0\n",
    "#     total_cost = compliance_cost + 0.05*go_to_school_prob_cost - 1.0\n",
    "#     total_cost = total_cost[:,None]\n",
    "#     return total_cost\n",
    "\n",
    "\n",
    "def config_cost(X):\n",
    "    total_cost = np.zeros_like(X[:,0], dtype=float)\n",
    "    \n",
    "    testing_delay = X[:,0]\n",
    "    testing_delay_cost = 5 / testing_delay\n",
    "    total_cost += 0.4*testing_delay_cost\n",
    "#     print (\"testing_delay_cost: \", testing_delay_cost)\n",
    "    \n",
    "    manual_trace_delay = X[:,1]\n",
    "    manual_trace_delay_cost = 5 / manual_trace_delay\n",
    "    total_cost += 0.4*manual_trace_delay_cost\n",
    "#     print (\"manual_trace_delay_cost: \", manual_trace_delay_cost)\n",
    "    \n",
    "    manual_work_trace_prob = X[:,2]\n",
    "    manual_work_trace_prob_cost = manual_work_trace_prob**3\n",
    "    total_cost += 0.4*manual_work_trace_prob_cost\n",
    "#     print (\"manual_work_trace_prob_cost: \", manual_work_trace_prob_cost)\n",
    "    \n",
    "    manual_othr_trace_prob = X[:,3]\n",
    "    manual_othr_trace_prob_cost = manual_othr_trace_prob**3\n",
    "    total_cost += 0.4*manual_othr_trace_prob_cost\n",
    "#     print (\"manual_othr_trace_prob_cost: \", manual_othr_trace_prob_cost)\n",
    "    \n",
    "    app_cov = X[:,4]\n",
    "    app_cov_cost = app_cov**2\n",
    "    total_cost += 0.5*app_cov_cost\n",
    "#     print (\"app_cov_cost: \", app_cov_cost)\n",
    "    \n",
    "    compliance = X[:,5]\n",
    "    compliance_cost = compliance**2\n",
    "    total_cost += 2*compliance_cost\n",
    "#     print (\"compliance_cost: \", compliance_cost)\n",
    "    \n",
    "    go_to_school_prob = X[:,6]\n",
    "    go_to_school_prob_cost = 1 / (go_to_school_prob+0.1)\n",
    "    total_cost += 0.2*go_to_school_prob_cost\n",
    "#     print (\"go_to_school_prob_cost: \", go_to_school_prob_cost)\n",
    "    \n",
    "    wfh_prob = X[:,7]\n",
    "    wfh_prob_cost = wfh_prob**3\n",
    "    total_cost += 5*wfh_prob_cost\n",
    "#     print (\"wfh_prob_cost: \", wfh_prob_cost)\n",
    "    \n",
    "    return total_cost\n",
    "\n",
    "\n",
    "def composite_f(X):\n",
    "    config_details = {0 : {\"name\": \"testing_delay\",          \"config\": \"policy_config\"}, \n",
    "                      1 : {\"name\": \"manual_trace_delay\",     \"config\": \"policy_config\"}, \n",
    "                      2 : {\"name\": \"manual_work_trace_prob\", \"config\": \"policy_config\"}, \n",
    "                      3 : {\"name\": \"manual_othr_trace_prob\", \"config\": \"policy_config\"}, \n",
    "                      4 : {\"name\": \"app_cov\",                \"config\": \"policy_config\"}, \n",
    "                      5 : {\"name\": \"compliance\",             \"config\": \"policy_config\"}, \n",
    "                      6 : {\"name\": \"go_to_school_prob\",      \"config\": \"policy_config\"}, \n",
    "                      7 : {\"name\": \"wfh_prob\",               \"config\": \"policy_config\"}} \n",
    "    \n",
    "    dict_array = np.array([simulation(x, config_details) for x in X])\n",
    "#     print (dict_array)\n",
    "    r_array = np.array([dic['Effective R'] for dic in dict_array])\n",
    "    man_trace_array = np.array([dic['# Manual Traces'] for dic in dict_array])\n",
    "    app_trace_array = np.array([dic['# App Traces'] for dic in dict_array])\n",
    "    tests_array = np.array([dic['# Tests Needed'] for dic in dict_array])\n",
    "    quarantine_array = np.array([dic['# PersonDays Quarantined'] for dic in dict_array])\n",
    "    \n",
    "    cofig_costs = config_cost(X) * 20\n",
    "    \n",
    "    # 200 is the constraint, costs_array should be smaller than 0 to meet the constraint\n",
    "    costs_array = man_trace_array + tests_array + 4*quarantine_array + cofig_costs - 200\n",
    "    return r_array[:,None], costs_array[:,None]\n",
    "\n",
    "\n",
    "\n",
    "p0 = DiscreteParameter('x0', [1, 2, 3, 4, 5])\n",
    "p1 = DiscreteParameter('x1', [1, 2, 3, 4, 5])\n",
    "p2 = ContinuousParameter('x2', 0, 1)\n",
    "p3 = ContinuousParameter('x3', 0, 1)\n",
    "p4 = ContinuousParameter('x4', 0, 1)\n",
    "p5 = ContinuousParameter('x5', 0, 1)\n",
    "p6 = ContinuousParameter('x6', 0, 1)\n",
    "p7 = ContinuousParameter('x7', 0, 1)\n",
    "space = ParameterSpace([p0, p1, p2, p3, p4, p5, p6, p7])"
   ]
  },
  {
   "cell_type": "code",
   "execution_count": 4,
   "metadata": {},
   "outputs": [],
   "source": [
    "# print (composite_f(np.array([[1, 1, 1, 1, 1, 1, 0, 1]])))\n",
    "# config_cost(np.array([[1, 1, 1, 1, 1, 1, 0, 1]]))"
   ]
  },
  {
   "cell_type": "code",
   "execution_count": 5,
   "metadata": {},
   "outputs": [],
   "source": [
    "from emukit.core.initial_designs import RandomDesign\n",
    "design = SobolDesign(space)\n",
    "# Number of initial design points\n",
    "n_initial_points = 50\n",
    "# Number of total random sampled points, the extra samples are used to compare with GP results, so\n",
    "# n_initial_points - n_initial_points must equal number of GP iterations\n",
    "n_total_points = 150\n",
    "random_design = design.get_samples(n_total_points)"
   ]
  },
  {
   "cell_type": "code",
   "execution_count": 6,
   "metadata": {},
   "outputs": [],
   "source": [
    "# # Only for 3D\n",
    "# res = 50\n",
    "# dim_0 = np.linspace(space.parameters[0].min, space.parameters[0].max, res)[:, None]\n",
    "# dim_1 = np.linspace(space.parameters[1].min, space.parameters[1].max, res)[:, None]\n",
    "# dim_2 = np.linspace(space.parameters[2].min, space.parameters[2].max, res)[:, None]\n",
    "# dim_0, dim_1, dim_2 = np.meshgrid(dim_0, dim_1, dim_2)\n",
    "# dim_0 = dim_0.flatten()[:, None]\n",
    "# dim_1 = dim_1.flatten()[:, None]\n",
    "# dim_2 = dim_2.flatten()[:, None]\n",
    "# x_plot_3d = np.concatenate((dim_0, dim_1, dim_2), axis=1)\n",
    "\n",
    "res = 200\n",
    "# The 2 dimensions not in dim_slicing will be ploted, dim_slicing includes the fixed value of other dimensions\n",
    "dim_slicing = {0:3, 1:3, 2:0.95, 3:0.95, 4:0.35, 7:0.1}\n",
    "dim_to_plot = []\n",
    "for i in range(space.dimensionality):\n",
    "    if not i in dim_slicing.keys():\n",
    "        dim_to_plot.append(i)\n",
    "assert len(dim_to_plot) == 2\n",
    "dim_0 = np.linspace(space.parameters[dim_to_plot[0]].min, space.parameters[dim_to_plot[0]].max, res)[:, None]\n",
    "dim_1 = np.linspace(space.parameters[dim_to_plot[1]].min, space.parameters[dim_to_plot[1]].max, res)[:, None]\n",
    "dim_0, dim_1 = np.meshgrid(dim_0, dim_1)\n",
    "dim_0 = dim_0.flatten()[:, None]\n",
    "dim_1 = dim_1.flatten()[:, None]\n",
    "x_plot = np.concatenate((dim_0, dim_1), axis=1)\n",
    "dims = [None]*space.dimensionality\n",
    "dims[dim_to_plot[0]] = dim_0\n",
    "dims[dim_to_plot[1]] = dim_1\n",
    "for key, value in dim_slicing.items():\n",
    "    dim_fix = np.zeros_like(dim_0)\n",
    "    dim_fix.fill(value)\n",
    "    dims[key] = dim_fix\n",
    "x_plot_eval = np.concatenate(dims, axis=1)"
   ]
  },
  {
   "cell_type": "code",
   "execution_count": 7,
   "metadata": {},
   "outputs": [
    {
     "data": {
      "application/vnd.jupyter.widget-view+json": {
       "model_id": "153c36546c50448d957ea038eead83ff",
       "version_major": 2,
       "version_minor": 0
      },
      "text/plain": [
       "HBox(children=(HTML(value=''), FloatProgress(value=0.0, max=10000.0), HTML(value='')))"
      ]
     },
     "metadata": {},
     "output_type": "display_data"
    },
    {
     "name": "stdout",
     "output_type": "stream",
     "text": [
      "\n"
     ]
    },
    {
     "data": {
      "application/vnd.jupyter.widget-view+json": {
       "model_id": "575256ee880649eaa4b447240e43792c",
       "version_major": 2,
       "version_minor": 0
      },
      "text/plain": [
       "HBox(children=(HTML(value=''), FloatProgress(value=0.0, max=10000.0), HTML(value='')))"
      ]
     },
     "metadata": {},
     "output_type": "display_data"
    },
    {
     "name": "stdout",
     "output_type": "stream",
     "text": [
      "\n"
     ]
    },
    {
     "data": {
      "application/vnd.jupyter.widget-view+json": {
       "model_id": "046f4385239b46268115689b565e24d5",
       "version_major": 2,
       "version_minor": 0
      },
      "text/plain": [
       "HBox(children=(HTML(value=''), FloatProgress(value=0.0, max=10000.0), HTML(value='')))"
      ]
     },
     "metadata": {},
     "output_type": "display_data"
    },
    {
     "name": "stdout",
     "output_type": "stream",
     "text": [
      "\n"
     ]
    },
    {
     "data": {
      "application/vnd.jupyter.widget-view+json": {
       "model_id": "2ee22e59894b43d2b85ab7465ca0f58d",
       "version_major": 2,
       "version_minor": 0
      },
      "text/plain": [
       "HBox(children=(HTML(value=''), FloatProgress(value=0.0, max=10000.0), HTML(value='')))"
      ]
     },
     "metadata": {},
     "output_type": "display_data"
    },
    {
     "name": "stdout",
     "output_type": "stream",
     "text": [
      "\n"
     ]
    },
    {
     "data": {
      "application/vnd.jupyter.widget-view+json": {
       "model_id": "7eae15f136b74f81ab56163be97b1868",
       "version_major": 2,
       "version_minor": 0
      },
      "text/plain": [
       "HBox(children=(HTML(value=''), FloatProgress(value=0.0, max=10000.0), HTML(value='')))"
      ]
     },
     "metadata": {},
     "output_type": "display_data"
    },
    {
     "name": "stdout",
     "output_type": "stream",
     "text": [
      "\n"
     ]
    },
    {
     "data": {
      "application/vnd.jupyter.widget-view+json": {
       "model_id": "0fe70968f3dd4ece9137a5a927a91bc2",
       "version_major": 2,
       "version_minor": 0
      },
      "text/plain": [
       "HBox(children=(HTML(value=''), FloatProgress(value=0.0, max=10000.0), HTML(value='')))"
      ]
     },
     "metadata": {},
     "output_type": "display_data"
    },
    {
     "name": "stdout",
     "output_type": "stream",
     "text": [
      "\n"
     ]
    },
    {
     "data": {
      "application/vnd.jupyter.widget-view+json": {
       "model_id": "89a2a2f67ba64a538f2c80f5632012fc",
       "version_major": 2,
       "version_minor": 0
      },
      "text/plain": [
       "HBox(children=(HTML(value=''), FloatProgress(value=0.0, max=10000.0), HTML(value='')))"
      ]
     },
     "metadata": {},
     "output_type": "display_data"
    },
    {
     "name": "stdout",
     "output_type": "stream",
     "text": [
      "\n"
     ]
    },
    {
     "data": {
      "application/vnd.jupyter.widget-view+json": {
       "model_id": "a6319383226248c99b777daf1d74f80b",
       "version_major": 2,
       "version_minor": 0
      },
      "text/plain": [
       "HBox(children=(HTML(value=''), FloatProgress(value=0.0, max=10000.0), HTML(value='')))"
      ]
     },
     "metadata": {},
     "output_type": "display_data"
    },
    {
     "name": "stdout",
     "output_type": "stream",
     "text": [
      "\n"
     ]
    },
    {
     "data": {
      "application/vnd.jupyter.widget-view+json": {
       "model_id": "9d0f0d4e1db1454090d80e5064d9338a",
       "version_major": 2,
       "version_minor": 0
      },
      "text/plain": [
       "HBox(children=(HTML(value=''), FloatProgress(value=0.0, max=10000.0), HTML(value='')))"
      ]
     },
     "metadata": {},
     "output_type": "display_data"
    },
    {
     "name": "stdout",
     "output_type": "stream",
     "text": [
      "\n"
     ]
    },
    {
     "data": {
      "application/vnd.jupyter.widget-view+json": {
       "model_id": "f25886b405104fdfa814f3ae77280e85",
       "version_major": 2,
       "version_minor": 0
      },
      "text/plain": [
       "HBox(children=(HTML(value=''), FloatProgress(value=0.0, max=10000.0), HTML(value='')))"
      ]
     },
     "metadata": {},
     "output_type": "display_data"
    },
    {
     "name": "stdout",
     "output_type": "stream",
     "text": [
      "\n"
     ]
    },
    {
     "data": {
      "application/vnd.jupyter.widget-view+json": {
       "model_id": "d815e465ad12462fa5e1f2c260dca3bd",
       "version_major": 2,
       "version_minor": 0
      },
      "text/plain": [
       "HBox(children=(HTML(value=''), FloatProgress(value=0.0, max=10000.0), HTML(value='')))"
      ]
     },
     "metadata": {},
     "output_type": "display_data"
    },
    {
     "name": "stdout",
     "output_type": "stream",
     "text": [
      "\n"
     ]
    },
    {
     "data": {
      "application/vnd.jupyter.widget-view+json": {
       "model_id": "f1f1016df00f45ab90c15c5448112df6",
       "version_major": 2,
       "version_minor": 0
      },
      "text/plain": [
       "HBox(children=(HTML(value=''), FloatProgress(value=0.0, max=10000.0), HTML(value='')))"
      ]
     },
     "metadata": {},
     "output_type": "display_data"
    },
    {
     "name": "stdout",
     "output_type": "stream",
     "text": [
      "\n"
     ]
    },
    {
     "data": {
      "application/vnd.jupyter.widget-view+json": {
       "model_id": "34be89261cce4f56bc572cc74ea9c607",
       "version_major": 2,
       "version_minor": 0
      },
      "text/plain": [
       "HBox(children=(HTML(value=''), FloatProgress(value=0.0, max=10000.0), HTML(value='')))"
      ]
     },
     "metadata": {},
     "output_type": "display_data"
    },
    {
     "name": "stdout",
     "output_type": "stream",
     "text": [
      "\n"
     ]
    },
    {
     "data": {
      "application/vnd.jupyter.widget-view+json": {
       "model_id": "377b0eae0542435499cc49082f407936",
       "version_major": 2,
       "version_minor": 0
      },
      "text/plain": [
       "HBox(children=(HTML(value=''), FloatProgress(value=0.0, max=10000.0), HTML(value='')))"
      ]
     },
     "metadata": {},
     "output_type": "display_data"
    },
    {
     "name": "stdout",
     "output_type": "stream",
     "text": [
      "\n"
     ]
    },
    {
     "data": {
      "application/vnd.jupyter.widget-view+json": {
       "model_id": "b511bd31158545e7aa0c192ae1f0874c",
       "version_major": 2,
       "version_minor": 0
      },
      "text/plain": [
       "HBox(children=(HTML(value=''), FloatProgress(value=0.0, max=10000.0), HTML(value='')))"
      ]
     },
     "metadata": {},
     "output_type": "display_data"
    },
    {
     "name": "stdout",
     "output_type": "stream",
     "text": [
      "\n"
     ]
    },
    {
     "data": {
      "application/vnd.jupyter.widget-view+json": {
       "model_id": "06d7cc137f9e45e1b8d578b029ee13ea",
       "version_major": 2,
       "version_minor": 0
      },
      "text/plain": [
       "HBox(children=(HTML(value=''), FloatProgress(value=0.0, max=10000.0), HTML(value='')))"
      ]
     },
     "metadata": {},
     "output_type": "display_data"
    },
    {
     "name": "stdout",
     "output_type": "stream",
     "text": [
      "\n"
     ]
    },
    {
     "data": {
      "application/vnd.jupyter.widget-view+json": {
       "model_id": "bec439f05c244726a2ff5edecacd469a",
       "version_major": 2,
       "version_minor": 0
      },
      "text/plain": [
       "HBox(children=(HTML(value=''), FloatProgress(value=0.0, max=10000.0), HTML(value='')))"
      ]
     },
     "metadata": {},
     "output_type": "display_data"
    },
    {
     "name": "stdout",
     "output_type": "stream",
     "text": [
      "\n"
     ]
    },
    {
     "data": {
      "application/vnd.jupyter.widget-view+json": {
       "model_id": "9ffd691e721a4938b5b4242d154fb598",
       "version_major": 2,
       "version_minor": 0
      },
      "text/plain": [
       "HBox(children=(HTML(value=''), FloatProgress(value=0.0, max=10000.0), HTML(value='')))"
      ]
     },
     "metadata": {},
     "output_type": "display_data"
    },
    {
     "name": "stdout",
     "output_type": "stream",
     "text": [
      "\n"
     ]
    },
    {
     "data": {
      "application/vnd.jupyter.widget-view+json": {
       "model_id": "321d4390c4b748d68ac0ebf89138b09f",
       "version_major": 2,
       "version_minor": 0
      },
      "text/plain": [
       "HBox(children=(HTML(value=''), FloatProgress(value=0.0, max=10000.0), HTML(value='')))"
      ]
     },
     "metadata": {},
     "output_type": "display_data"
    },
    {
     "name": "stdout",
     "output_type": "stream",
     "text": [
      "\n"
     ]
    },
    {
     "data": {
      "application/vnd.jupyter.widget-view+json": {
       "model_id": "d5abf9117149498fac0ffeb26a692311",
       "version_major": 2,
       "version_minor": 0
      },
      "text/plain": [
       "HBox(children=(HTML(value=''), FloatProgress(value=0.0, max=10000.0), HTML(value='')))"
      ]
     },
     "metadata": {},
     "output_type": "display_data"
    },
    {
     "name": "stdout",
     "output_type": "stream",
     "text": [
      "\n"
     ]
    },
    {
     "data": {
      "application/vnd.jupyter.widget-view+json": {
       "model_id": "3ff4b7a0ce994e5a87b88d87734f0281",
       "version_major": 2,
       "version_minor": 0
      },
      "text/plain": [
       "HBox(children=(HTML(value=''), FloatProgress(value=0.0, max=10000.0), HTML(value='')))"
      ]
     },
     "metadata": {},
     "output_type": "display_data"
    },
    {
     "name": "stdout",
     "output_type": "stream",
     "text": [
      "\n"
     ]
    },
    {
     "data": {
      "application/vnd.jupyter.widget-view+json": {
       "model_id": "36f5efacfc20403690b38281ea67a8a9",
       "version_major": 2,
       "version_minor": 0
      },
      "text/plain": [
       "HBox(children=(HTML(value=''), FloatProgress(value=0.0, max=10000.0), HTML(value='')))"
      ]
     },
     "metadata": {},
     "output_type": "display_data"
    },
    {
     "name": "stdout",
     "output_type": "stream",
     "text": [
      "\n"
     ]
    },
    {
     "data": {
      "application/vnd.jupyter.widget-view+json": {
       "model_id": "b59921f48b5e4e03ab4ceb58186efb67",
       "version_major": 2,
       "version_minor": 0
      },
      "text/plain": [
       "HBox(children=(HTML(value=''), FloatProgress(value=0.0, max=10000.0), HTML(value='')))"
      ]
     },
     "metadata": {},
     "output_type": "display_data"
    },
    {
     "name": "stdout",
     "output_type": "stream",
     "text": [
      "\n"
     ]
    },
    {
     "data": {
      "application/vnd.jupyter.widget-view+json": {
       "model_id": "449a84dcb0384a77a5a0b52623d6d013",
       "version_major": 2,
       "version_minor": 0
      },
      "text/plain": [
       "HBox(children=(HTML(value=''), FloatProgress(value=0.0, max=10000.0), HTML(value='')))"
      ]
     },
     "metadata": {},
     "output_type": "display_data"
    },
    {
     "name": "stdout",
     "output_type": "stream",
     "text": [
      "\n"
     ]
    },
    {
     "data": {
      "application/vnd.jupyter.widget-view+json": {
       "model_id": "753d04b987a0473a88c2805a746e7f36",
       "version_major": 2,
       "version_minor": 0
      },
      "text/plain": [
       "HBox(children=(HTML(value=''), FloatProgress(value=0.0, max=10000.0), HTML(value='')))"
      ]
     },
     "metadata": {},
     "output_type": "display_data"
    },
    {
     "name": "stdout",
     "output_type": "stream",
     "text": [
      "\n"
     ]
    },
    {
     "data": {
      "application/vnd.jupyter.widget-view+json": {
       "model_id": "cabac0b951b1429095ac6fb0d06befb7",
       "version_major": 2,
       "version_minor": 0
      },
      "text/plain": [
       "HBox(children=(HTML(value=''), FloatProgress(value=0.0, max=10000.0), HTML(value='')))"
      ]
     },
     "metadata": {},
     "output_type": "display_data"
    },
    {
     "name": "stdout",
     "output_type": "stream",
     "text": [
      "\n"
     ]
    },
    {
     "data": {
      "application/vnd.jupyter.widget-view+json": {
       "model_id": "5f549c414e214440aaf2a2a7b7a0a74e",
       "version_major": 2,
       "version_minor": 0
      },
      "text/plain": [
       "HBox(children=(HTML(value=''), FloatProgress(value=0.0, max=10000.0), HTML(value='')))"
      ]
     },
     "metadata": {},
     "output_type": "display_data"
    },
    {
     "name": "stdout",
     "output_type": "stream",
     "text": [
      "\n"
     ]
    },
    {
     "data": {
      "application/vnd.jupyter.widget-view+json": {
       "model_id": "d75ec65a4d8644369509c2addf97ace1",
       "version_major": 2,
       "version_minor": 0
      },
      "text/plain": [
       "HBox(children=(HTML(value=''), FloatProgress(value=0.0, max=10000.0), HTML(value='')))"
      ]
     },
     "metadata": {},
     "output_type": "display_data"
    },
    {
     "name": "stdout",
     "output_type": "stream",
     "text": [
      "\n"
     ]
    },
    {
     "data": {
      "application/vnd.jupyter.widget-view+json": {
       "model_id": "48fb747d50164490ad14803df4416e69",
       "version_major": 2,
       "version_minor": 0
      },
      "text/plain": [
       "HBox(children=(HTML(value=''), FloatProgress(value=0.0, max=10000.0), HTML(value='')))"
      ]
     },
     "metadata": {},
     "output_type": "display_data"
    },
    {
     "name": "stdout",
     "output_type": "stream",
     "text": [
      "\n"
     ]
    },
    {
     "data": {
      "application/vnd.jupyter.widget-view+json": {
       "model_id": "d50deca274914b3b8b8e946944229230",
       "version_major": 2,
       "version_minor": 0
      },
      "text/plain": [
       "HBox(children=(HTML(value=''), FloatProgress(value=0.0, max=10000.0), HTML(value='')))"
      ]
     },
     "metadata": {},
     "output_type": "display_data"
    },
    {
     "name": "stdout",
     "output_type": "stream",
     "text": [
      "\n"
     ]
    },
    {
     "data": {
      "application/vnd.jupyter.widget-view+json": {
       "model_id": "f2b9b34153c84299b3739d6f79eee5c5",
       "version_major": 2,
       "version_minor": 0
      },
      "text/plain": [
       "HBox(children=(HTML(value=''), FloatProgress(value=0.0, max=10000.0), HTML(value='')))"
      ]
     },
     "metadata": {},
     "output_type": "display_data"
    },
    {
     "name": "stdout",
     "output_type": "stream",
     "text": [
      "\n"
     ]
    },
    {
     "data": {
      "application/vnd.jupyter.widget-view+json": {
       "model_id": "56994eabb1a14bd3802701ee8a564ec0",
       "version_major": 2,
       "version_minor": 0
      },
      "text/plain": [
       "HBox(children=(HTML(value=''), FloatProgress(value=0.0, max=10000.0), HTML(value='')))"
      ]
     },
     "metadata": {},
     "output_type": "display_data"
    },
    {
     "name": "stdout",
     "output_type": "stream",
     "text": [
      "\n"
     ]
    },
    {
     "data": {
      "application/vnd.jupyter.widget-view+json": {
       "model_id": "a49d6c933d9842f4862eadd6932fddce",
       "version_major": 2,
       "version_minor": 0
      },
      "text/plain": [
       "HBox(children=(HTML(value=''), FloatProgress(value=0.0, max=10000.0), HTML(value='')))"
      ]
     },
     "metadata": {},
     "output_type": "display_data"
    },
    {
     "name": "stdout",
     "output_type": "stream",
     "text": [
      "\n"
     ]
    },
    {
     "data": {
      "application/vnd.jupyter.widget-view+json": {
       "model_id": "8236b7fcf4674c90a36da06cbde309df",
       "version_major": 2,
       "version_minor": 0
      },
      "text/plain": [
       "HBox(children=(HTML(value=''), FloatProgress(value=0.0, max=10000.0), HTML(value='')))"
      ]
     },
     "metadata": {},
     "output_type": "display_data"
    },
    {
     "name": "stdout",
     "output_type": "stream",
     "text": [
      "\n"
     ]
    },
    {
     "data": {
      "application/vnd.jupyter.widget-view+json": {
       "model_id": "ca0ab75f706449feb53696e42f326272",
       "version_major": 2,
       "version_minor": 0
      },
      "text/plain": [
       "HBox(children=(HTML(value=''), FloatProgress(value=0.0, max=10000.0), HTML(value='')))"
      ]
     },
     "metadata": {},
     "output_type": "display_data"
    },
    {
     "name": "stdout",
     "output_type": "stream",
     "text": [
      "\n"
     ]
    },
    {
     "data": {
      "application/vnd.jupyter.widget-view+json": {
       "model_id": "915650b16a664bc3bf62a8845a120408",
       "version_major": 2,
       "version_minor": 0
      },
      "text/plain": [
       "HBox(children=(HTML(value=''), FloatProgress(value=0.0, max=10000.0), HTML(value='')))"
      ]
     },
     "metadata": {},
     "output_type": "display_data"
    },
    {
     "name": "stdout",
     "output_type": "stream",
     "text": [
      "\n"
     ]
    },
    {
     "data": {
      "application/vnd.jupyter.widget-view+json": {
       "model_id": "8cb4717cf1114d52a7df6e44189917ad",
       "version_major": 2,
       "version_minor": 0
      },
      "text/plain": [
       "HBox(children=(HTML(value=''), FloatProgress(value=0.0, max=10000.0), HTML(value='')))"
      ]
     },
     "metadata": {},
     "output_type": "display_data"
    },
    {
     "name": "stdout",
     "output_type": "stream",
     "text": [
      "\n"
     ]
    },
    {
     "data": {
      "application/vnd.jupyter.widget-view+json": {
       "model_id": "a91431af41b342b1968b79b9e8f7f36e",
       "version_major": 2,
       "version_minor": 0
      },
      "text/plain": [
       "HBox(children=(HTML(value=''), FloatProgress(value=0.0, max=10000.0), HTML(value='')))"
      ]
     },
     "metadata": {},
     "output_type": "display_data"
    },
    {
     "name": "stdout",
     "output_type": "stream",
     "text": [
      "\n"
     ]
    },
    {
     "data": {
      "application/vnd.jupyter.widget-view+json": {
       "model_id": "dad36142b85f4eedb4e2da13bb7f28fc",
       "version_major": 2,
       "version_minor": 0
      },
      "text/plain": [
       "HBox(children=(HTML(value=''), FloatProgress(value=0.0, max=10000.0), HTML(value='')))"
      ]
     },
     "metadata": {},
     "output_type": "display_data"
    },
    {
     "name": "stdout",
     "output_type": "stream",
     "text": [
      "\n"
     ]
    },
    {
     "data": {
      "application/vnd.jupyter.widget-view+json": {
       "model_id": "cf1502b5d26c40a283237308499fa378",
       "version_major": 2,
       "version_minor": 0
      },
      "text/plain": [
       "HBox(children=(HTML(value=''), FloatProgress(value=0.0, max=10000.0), HTML(value='')))"
      ]
     },
     "metadata": {},
     "output_type": "display_data"
    },
    {
     "name": "stdout",
     "output_type": "stream",
     "text": [
      "\n"
     ]
    },
    {
     "data": {
      "application/vnd.jupyter.widget-view+json": {
       "model_id": "983ac873ad304f62a0c28ac39afaa17a",
       "version_major": 2,
       "version_minor": 0
      },
      "text/plain": [
       "HBox(children=(HTML(value=''), FloatProgress(value=0.0, max=10000.0), HTML(value='')))"
      ]
     },
     "metadata": {},
     "output_type": "display_data"
    },
    {
     "name": "stdout",
     "output_type": "stream",
     "text": [
      "\n"
     ]
    },
    {
     "data": {
      "application/vnd.jupyter.widget-view+json": {
       "model_id": "a1577c7b93e04ff28e1fedb4114aa53c",
       "version_major": 2,
       "version_minor": 0
      },
      "text/plain": [
       "HBox(children=(HTML(value=''), FloatProgress(value=0.0, max=10000.0), HTML(value='')))"
      ]
     },
     "metadata": {},
     "output_type": "display_data"
    },
    {
     "name": "stdout",
     "output_type": "stream",
     "text": [
      "\n"
     ]
    },
    {
     "data": {
      "application/vnd.jupyter.widget-view+json": {
       "model_id": "c98a03e4240d412db64668467af339c3",
       "version_major": 2,
       "version_minor": 0
      },
      "text/plain": [
       "HBox(children=(HTML(value=''), FloatProgress(value=0.0, max=10000.0), HTML(value='')))"
      ]
     },
     "metadata": {},
     "output_type": "display_data"
    },
    {
     "name": "stdout",
     "output_type": "stream",
     "text": [
      "\n"
     ]
    },
    {
     "data": {
      "application/vnd.jupyter.widget-view+json": {
       "model_id": "929b10b4bab0478d908d04f410c995ef",
       "version_major": 2,
       "version_minor": 0
      },
      "text/plain": [
       "HBox(children=(HTML(value=''), FloatProgress(value=0.0, max=10000.0), HTML(value='')))"
      ]
     },
     "metadata": {},
     "output_type": "display_data"
    },
    {
     "name": "stdout",
     "output_type": "stream",
     "text": [
      "\n"
     ]
    },
    {
     "data": {
      "application/vnd.jupyter.widget-view+json": {
       "model_id": "63a7ef8e3e0d4cd392e827f26b669632",
       "version_major": 2,
       "version_minor": 0
      },
      "text/plain": [
       "HBox(children=(HTML(value=''), FloatProgress(value=0.0, max=10000.0), HTML(value='')))"
      ]
     },
     "metadata": {},
     "output_type": "display_data"
    },
    {
     "name": "stdout",
     "output_type": "stream",
     "text": [
      "\n"
     ]
    },
    {
     "data": {
      "application/vnd.jupyter.widget-view+json": {
       "model_id": "098ac4a709c0431a964a6a8c948eb903",
       "version_major": 2,
       "version_minor": 0
      },
      "text/plain": [
       "HBox(children=(HTML(value=''), FloatProgress(value=0.0, max=10000.0), HTML(value='')))"
      ]
     },
     "metadata": {},
     "output_type": "display_data"
    },
    {
     "name": "stdout",
     "output_type": "stream",
     "text": [
      "\n"
     ]
    },
    {
     "data": {
      "application/vnd.jupyter.widget-view+json": {
       "model_id": "5cfda33b4e314d64a78aeefa6db27901",
       "version_major": 2,
       "version_minor": 0
      },
      "text/plain": [
       "HBox(children=(HTML(value=''), FloatProgress(value=0.0, max=10000.0), HTML(value='')))"
      ]
     },
     "metadata": {},
     "output_type": "display_data"
    },
    {
     "name": "stdout",
     "output_type": "stream",
     "text": [
      "\n"
     ]
    },
    {
     "data": {
      "application/vnd.jupyter.widget-view+json": {
       "model_id": "1e24ffa484bb4b5a8e5b0b8a8bb6478f",
       "version_major": 2,
       "version_minor": 0
      },
      "text/plain": [
       "HBox(children=(HTML(value=''), FloatProgress(value=0.0, max=10000.0), HTML(value='')))"
      ]
     },
     "metadata": {},
     "output_type": "display_data"
    },
    {
     "name": "stdout",
     "output_type": "stream",
     "text": [
      "\n"
     ]
    },
    {
     "data": {
      "application/vnd.jupyter.widget-view+json": {
       "model_id": "0e02b3b852344c21a38dbef5955dba57",
       "version_major": 2,
       "version_minor": 0
      },
      "text/plain": [
       "HBox(children=(HTML(value=''), FloatProgress(value=0.0, max=10000.0), HTML(value='')))"
      ]
     },
     "metadata": {},
     "output_type": "display_data"
    },
    {
     "name": "stdout",
     "output_type": "stream",
     "text": [
      "\n"
     ]
    },
    {
     "data": {
      "application/vnd.jupyter.widget-view+json": {
       "model_id": "b15188cfcd6847a8b538be5498252986",
       "version_major": 2,
       "version_minor": 0
      },
      "text/plain": [
       "HBox(children=(HTML(value=''), FloatProgress(value=0.0, max=10000.0), HTML(value='')))"
      ]
     },
     "metadata": {},
     "output_type": "display_data"
    },
    {
     "name": "stdout",
     "output_type": "stream",
     "text": [
      "\n"
     ]
    },
    {
     "data": {
      "application/vnd.jupyter.widget-view+json": {
       "model_id": "f0aedf3d7b85459da6f33dbabab5f6c8",
       "version_major": 2,
       "version_minor": 0
      },
      "text/plain": [
       "HBox(children=(HTML(value=''), FloatProgress(value=0.0, max=10000.0), HTML(value='')))"
      ]
     },
     "metadata": {},
     "output_type": "display_data"
    },
    {
     "name": "stdout",
     "output_type": "stream",
     "text": [
      "\n"
     ]
    },
    {
     "data": {
      "application/vnd.jupyter.widget-view+json": {
       "model_id": "1216f47038ff43f4b1998f94391f5fcb",
       "version_major": 2,
       "version_minor": 0
      },
      "text/plain": [
       "HBox(children=(HTML(value=''), FloatProgress(value=0.0, max=10000.0), HTML(value='')))"
      ]
     },
     "metadata": {},
     "output_type": "display_data"
    },
    {
     "name": "stdout",
     "output_type": "stream",
     "text": [
      "\n"
     ]
    },
    {
     "data": {
      "application/vnd.jupyter.widget-view+json": {
       "model_id": "050253378d8846248b33cd8dfabd7c51",
       "version_major": 2,
       "version_minor": 0
      },
      "text/plain": [
       "HBox(children=(HTML(value=''), FloatProgress(value=0.0, max=10000.0), HTML(value='')))"
      ]
     },
     "metadata": {},
     "output_type": "display_data"
    },
    {
     "name": "stdout",
     "output_type": "stream",
     "text": [
      "\n"
     ]
    },
    {
     "data": {
      "application/vnd.jupyter.widget-view+json": {
       "model_id": "0b02949d061b498c9bd9654dd2825be7",
       "version_major": 2,
       "version_minor": 0
      },
      "text/plain": [
       "HBox(children=(HTML(value=''), FloatProgress(value=0.0, max=10000.0), HTML(value='')))"
      ]
     },
     "metadata": {},
     "output_type": "display_data"
    },
    {
     "name": "stdout",
     "output_type": "stream",
     "text": [
      "\n"
     ]
    },
    {
     "data": {
      "application/vnd.jupyter.widget-view+json": {
       "model_id": "feb4b8f26c914d21a1243f22b7036c22",
       "version_major": 2,
       "version_minor": 0
      },
      "text/plain": [
       "HBox(children=(HTML(value=''), FloatProgress(value=0.0, max=10000.0), HTML(value='')))"
      ]
     },
     "metadata": {},
     "output_type": "display_data"
    },
    {
     "name": "stdout",
     "output_type": "stream",
     "text": [
      "\n"
     ]
    },
    {
     "data": {
      "application/vnd.jupyter.widget-view+json": {
       "model_id": "88789e784806422186d445d680e953c7",
       "version_major": 2,
       "version_minor": 0
      },
      "text/plain": [
       "HBox(children=(HTML(value=''), FloatProgress(value=0.0, max=10000.0), HTML(value='')))"
      ]
     },
     "metadata": {},
     "output_type": "display_data"
    },
    {
     "name": "stdout",
     "output_type": "stream",
     "text": [
      "\n"
     ]
    },
    {
     "data": {
      "application/vnd.jupyter.widget-view+json": {
       "model_id": "a4391deb5133425c96a0a0a0993e2f09",
       "version_major": 2,
       "version_minor": 0
      },
      "text/plain": [
       "HBox(children=(HTML(value=''), FloatProgress(value=0.0, max=10000.0), HTML(value='')))"
      ]
     },
     "metadata": {},
     "output_type": "display_data"
    },
    {
     "name": "stdout",
     "output_type": "stream",
     "text": [
      "\n"
     ]
    },
    {
     "data": {
      "application/vnd.jupyter.widget-view+json": {
       "model_id": "009dc093bee04dc2845a820565285f2b",
       "version_major": 2,
       "version_minor": 0
      },
      "text/plain": [
       "HBox(children=(HTML(value=''), FloatProgress(value=0.0, max=10000.0), HTML(value='')))"
      ]
     },
     "metadata": {},
     "output_type": "display_data"
    },
    {
     "name": "stdout",
     "output_type": "stream",
     "text": [
      "\n"
     ]
    },
    {
     "data": {
      "application/vnd.jupyter.widget-view+json": {
       "model_id": "5300052141a84b0eaee846e054ebd275",
       "version_major": 2,
       "version_minor": 0
      },
      "text/plain": [
       "HBox(children=(HTML(value=''), FloatProgress(value=0.0, max=10000.0), HTML(value='')))"
      ]
     },
     "metadata": {},
     "output_type": "display_data"
    },
    {
     "name": "stdout",
     "output_type": "stream",
     "text": [
      "\n"
     ]
    },
    {
     "data": {
      "application/vnd.jupyter.widget-view+json": {
       "model_id": "8b7a9edf924b4778a87013642a415252",
       "version_major": 2,
       "version_minor": 0
      },
      "text/plain": [
       "HBox(children=(HTML(value=''), FloatProgress(value=0.0, max=10000.0), HTML(value='')))"
      ]
     },
     "metadata": {},
     "output_type": "display_data"
    },
    {
     "name": "stdout",
     "output_type": "stream",
     "text": [
      "\n"
     ]
    },
    {
     "data": {
      "application/vnd.jupyter.widget-view+json": {
       "model_id": "061fc53ba182468080f301fc18944df7",
       "version_major": 2,
       "version_minor": 0
      },
      "text/plain": [
       "HBox(children=(HTML(value=''), FloatProgress(value=0.0, max=10000.0), HTML(value='')))"
      ]
     },
     "metadata": {},
     "output_type": "display_data"
    },
    {
     "name": "stdout",
     "output_type": "stream",
     "text": [
      "\n"
     ]
    },
    {
     "data": {
      "application/vnd.jupyter.widget-view+json": {
       "model_id": "5b04420a1ad34392a2f404dacb9424de",
       "version_major": 2,
       "version_minor": 0
      },
      "text/plain": [
       "HBox(children=(HTML(value=''), FloatProgress(value=0.0, max=10000.0), HTML(value='')))"
      ]
     },
     "metadata": {},
     "output_type": "display_data"
    },
    {
     "name": "stdout",
     "output_type": "stream",
     "text": [
      "\n"
     ]
    },
    {
     "data": {
      "application/vnd.jupyter.widget-view+json": {
       "model_id": "e31dfe51003f4c459653f5435ccecc06",
       "version_major": 2,
       "version_minor": 0
      },
      "text/plain": [
       "HBox(children=(HTML(value=''), FloatProgress(value=0.0, max=10000.0), HTML(value='')))"
      ]
     },
     "metadata": {},
     "output_type": "display_data"
    },
    {
     "name": "stdout",
     "output_type": "stream",
     "text": [
      "\n"
     ]
    },
    {
     "data": {
      "application/vnd.jupyter.widget-view+json": {
       "model_id": "c3bbf6f9b30145efa0e3d57134a8daa5",
       "version_major": 2,
       "version_minor": 0
      },
      "text/plain": [
       "HBox(children=(HTML(value=''), FloatProgress(value=0.0, max=10000.0), HTML(value='')))"
      ]
     },
     "metadata": {},
     "output_type": "display_data"
    },
    {
     "name": "stdout",
     "output_type": "stream",
     "text": [
      "\n"
     ]
    },
    {
     "data": {
      "application/vnd.jupyter.widget-view+json": {
       "model_id": "66b33a74eb174664a9470265677b11ee",
       "version_major": 2,
       "version_minor": 0
      },
      "text/plain": [
       "HBox(children=(HTML(value=''), FloatProgress(value=0.0, max=10000.0), HTML(value='')))"
      ]
     },
     "metadata": {},
     "output_type": "display_data"
    },
    {
     "name": "stdout",
     "output_type": "stream",
     "text": [
      "\n"
     ]
    },
    {
     "data": {
      "application/vnd.jupyter.widget-view+json": {
       "model_id": "7e134ab7a97242dbb9d7e5327e598299",
       "version_major": 2,
       "version_minor": 0
      },
      "text/plain": [
       "HBox(children=(HTML(value=''), FloatProgress(value=0.0, max=10000.0), HTML(value='')))"
      ]
     },
     "metadata": {},
     "output_type": "display_data"
    },
    {
     "name": "stdout",
     "output_type": "stream",
     "text": [
      "\n"
     ]
    },
    {
     "data": {
      "application/vnd.jupyter.widget-view+json": {
       "model_id": "4592fbee921c40bd83cb465129249c5d",
       "version_major": 2,
       "version_minor": 0
      },
      "text/plain": [
       "HBox(children=(HTML(value=''), FloatProgress(value=0.0, max=10000.0), HTML(value='')))"
      ]
     },
     "metadata": {},
     "output_type": "display_data"
    },
    {
     "name": "stdout",
     "output_type": "stream",
     "text": [
      "\n"
     ]
    },
    {
     "data": {
      "application/vnd.jupyter.widget-view+json": {
       "model_id": "7767cd8f02fe46f29ee417cc9880c6e1",
       "version_major": 2,
       "version_minor": 0
      },
      "text/plain": [
       "HBox(children=(HTML(value=''), FloatProgress(value=0.0, max=10000.0), HTML(value='')))"
      ]
     },
     "metadata": {},
     "output_type": "display_data"
    },
    {
     "name": "stdout",
     "output_type": "stream",
     "text": [
      "\n"
     ]
    },
    {
     "data": {
      "application/vnd.jupyter.widget-view+json": {
       "model_id": "79c9cc53a0ee4c63989722e567bc3139",
       "version_major": 2,
       "version_minor": 0
      },
      "text/plain": [
       "HBox(children=(HTML(value=''), FloatProgress(value=0.0, max=10000.0), HTML(value='')))"
      ]
     },
     "metadata": {},
     "output_type": "display_data"
    },
    {
     "name": "stdout",
     "output_type": "stream",
     "text": [
      "\n"
     ]
    },
    {
     "data": {
      "application/vnd.jupyter.widget-view+json": {
       "model_id": "ab986f52741d4e0882e299ae79e3665c",
       "version_major": 2,
       "version_minor": 0
      },
      "text/plain": [
       "HBox(children=(HTML(value=''), FloatProgress(value=0.0, max=10000.0), HTML(value='')))"
      ]
     },
     "metadata": {},
     "output_type": "display_data"
    },
    {
     "name": "stdout",
     "output_type": "stream",
     "text": [
      "\n"
     ]
    },
    {
     "data": {
      "application/vnd.jupyter.widget-view+json": {
       "model_id": "b87fdc32bb6846799c06902a55132263",
       "version_major": 2,
       "version_minor": 0
      },
      "text/plain": [
       "HBox(children=(HTML(value=''), FloatProgress(value=0.0, max=10000.0), HTML(value='')))"
      ]
     },
     "metadata": {},
     "output_type": "display_data"
    },
    {
     "name": "stdout",
     "output_type": "stream",
     "text": [
      "\n"
     ]
    },
    {
     "data": {
      "application/vnd.jupyter.widget-view+json": {
       "model_id": "b91acb037c274a5487ed99c80be6a560",
       "version_major": 2,
       "version_minor": 0
      },
      "text/plain": [
       "HBox(children=(HTML(value=''), FloatProgress(value=0.0, max=10000.0), HTML(value='')))"
      ]
     },
     "metadata": {},
     "output_type": "display_data"
    },
    {
     "name": "stdout",
     "output_type": "stream",
     "text": [
      "\n"
     ]
    },
    {
     "data": {
      "application/vnd.jupyter.widget-view+json": {
       "model_id": "7dec1d1d69c7402aa82119db96631ebf",
       "version_major": 2,
       "version_minor": 0
      },
      "text/plain": [
       "HBox(children=(HTML(value=''), FloatProgress(value=0.0, max=10000.0), HTML(value='')))"
      ]
     },
     "metadata": {},
     "output_type": "display_data"
    },
    {
     "name": "stdout",
     "output_type": "stream",
     "text": [
      "\n"
     ]
    },
    {
     "data": {
      "application/vnd.jupyter.widget-view+json": {
       "model_id": "564aec2b84074c02a20bafc1214e9b9a",
       "version_major": 2,
       "version_minor": 0
      },
      "text/plain": [
       "HBox(children=(HTML(value=''), FloatProgress(value=0.0, max=10000.0), HTML(value='')))"
      ]
     },
     "metadata": {},
     "output_type": "display_data"
    },
    {
     "name": "stdout",
     "output_type": "stream",
     "text": [
      "\n"
     ]
    },
    {
     "data": {
      "application/vnd.jupyter.widget-view+json": {
       "model_id": "7d0d742394b24c3e91322df8a358dff7",
       "version_major": 2,
       "version_minor": 0
      },
      "text/plain": [
       "HBox(children=(HTML(value=''), FloatProgress(value=0.0, max=10000.0), HTML(value='')))"
      ]
     },
     "metadata": {},
     "output_type": "display_data"
    },
    {
     "name": "stdout",
     "output_type": "stream",
     "text": [
      "\n"
     ]
    },
    {
     "data": {
      "application/vnd.jupyter.widget-view+json": {
       "model_id": "6c85383dad8e43a68d1e4823c6d0f483",
       "version_major": 2,
       "version_minor": 0
      },
      "text/plain": [
       "HBox(children=(HTML(value=''), FloatProgress(value=0.0, max=10000.0), HTML(value='')))"
      ]
     },
     "metadata": {},
     "output_type": "display_data"
    },
    {
     "name": "stdout",
     "output_type": "stream",
     "text": [
      "\n"
     ]
    },
    {
     "data": {
      "application/vnd.jupyter.widget-view+json": {
       "model_id": "3f79e29662524453809c81dfe188d46f",
       "version_major": 2,
       "version_minor": 0
      },
      "text/plain": [
       "HBox(children=(HTML(value=''), FloatProgress(value=0.0, max=10000.0), HTML(value='')))"
      ]
     },
     "metadata": {},
     "output_type": "display_data"
    },
    {
     "name": "stdout",
     "output_type": "stream",
     "text": [
      "\n"
     ]
    },
    {
     "data": {
      "application/vnd.jupyter.widget-view+json": {
       "model_id": "fc780039dad24c93b82dd4857e4162d3",
       "version_major": 2,
       "version_minor": 0
      },
      "text/plain": [
       "HBox(children=(HTML(value=''), FloatProgress(value=0.0, max=10000.0), HTML(value='')))"
      ]
     },
     "metadata": {},
     "output_type": "display_data"
    },
    {
     "name": "stdout",
     "output_type": "stream",
     "text": [
      "\n"
     ]
    },
    {
     "data": {
      "application/vnd.jupyter.widget-view+json": {
       "model_id": "cdf47a2430d443bda0ea34a99ee97a87",
       "version_major": 2,
       "version_minor": 0
      },
      "text/plain": [
       "HBox(children=(HTML(value=''), FloatProgress(value=0.0, max=10000.0), HTML(value='')))"
      ]
     },
     "metadata": {},
     "output_type": "display_data"
    },
    {
     "name": "stdout",
     "output_type": "stream",
     "text": [
      "\n"
     ]
    },
    {
     "data": {
      "application/vnd.jupyter.widget-view+json": {
       "model_id": "97a7ee3bd9b94c8cad9cdc5bda7570aa",
       "version_major": 2,
       "version_minor": 0
      },
      "text/plain": [
       "HBox(children=(HTML(value=''), FloatProgress(value=0.0, max=10000.0), HTML(value='')))"
      ]
     },
     "metadata": {},
     "output_type": "display_data"
    },
    {
     "name": "stdout",
     "output_type": "stream",
     "text": [
      "\n"
     ]
    },
    {
     "data": {
      "application/vnd.jupyter.widget-view+json": {
       "model_id": "ee2b1d9917d04344916804c82a5b4519",
       "version_major": 2,
       "version_minor": 0
      },
      "text/plain": [
       "HBox(children=(HTML(value=''), FloatProgress(value=0.0, max=10000.0), HTML(value='')))"
      ]
     },
     "metadata": {},
     "output_type": "display_data"
    },
    {
     "name": "stdout",
     "output_type": "stream",
     "text": [
      "\n"
     ]
    },
    {
     "data": {
      "application/vnd.jupyter.widget-view+json": {
       "model_id": "2586bb1858d04be1b179f25d4c7cb68b",
       "version_major": 2,
       "version_minor": 0
      },
      "text/plain": [
       "HBox(children=(HTML(value=''), FloatProgress(value=0.0, max=10000.0), HTML(value='')))"
      ]
     },
     "metadata": {},
     "output_type": "display_data"
    },
    {
     "name": "stdout",
     "output_type": "stream",
     "text": [
      "\n"
     ]
    },
    {
     "data": {
      "application/vnd.jupyter.widget-view+json": {
       "model_id": "863358787e744af3900f10d7a723aa63",
       "version_major": 2,
       "version_minor": 0
      },
      "text/plain": [
       "HBox(children=(HTML(value=''), FloatProgress(value=0.0, max=10000.0), HTML(value='')))"
      ]
     },
     "metadata": {},
     "output_type": "display_data"
    },
    {
     "name": "stdout",
     "output_type": "stream",
     "text": [
      "\n"
     ]
    },
    {
     "data": {
      "application/vnd.jupyter.widget-view+json": {
       "model_id": "1c81a41dff7644faa6b4cb17fcbbff73",
       "version_major": 2,
       "version_minor": 0
      },
      "text/plain": [
       "HBox(children=(HTML(value=''), FloatProgress(value=0.0, max=10000.0), HTML(value='')))"
      ]
     },
     "metadata": {},
     "output_type": "display_data"
    },
    {
     "name": "stdout",
     "output_type": "stream",
     "text": [
      "\n"
     ]
    },
    {
     "data": {
      "application/vnd.jupyter.widget-view+json": {
       "model_id": "39f06f7c46ce4b88b9671f6a1b840e73",
       "version_major": 2,
       "version_minor": 0
      },
      "text/plain": [
       "HBox(children=(HTML(value=''), FloatProgress(value=0.0, max=10000.0), HTML(value='')))"
      ]
     },
     "metadata": {},
     "output_type": "display_data"
    },
    {
     "name": "stdout",
     "output_type": "stream",
     "text": [
      "\n"
     ]
    },
    {
     "data": {
      "application/vnd.jupyter.widget-view+json": {
       "model_id": "c8f681c728e040cfbdc05075775b7b32",
       "version_major": 2,
       "version_minor": 0
      },
      "text/plain": [
       "HBox(children=(HTML(value=''), FloatProgress(value=0.0, max=10000.0), HTML(value='')))"
      ]
     },
     "metadata": {},
     "output_type": "display_data"
    },
    {
     "name": "stdout",
     "output_type": "stream",
     "text": [
      "\n"
     ]
    },
    {
     "data": {
      "application/vnd.jupyter.widget-view+json": {
       "model_id": "45d85b09e582404ba1bfa641414db9c8",
       "version_major": 2,
       "version_minor": 0
      },
      "text/plain": [
       "HBox(children=(HTML(value=''), FloatProgress(value=0.0, max=10000.0), HTML(value='')))"
      ]
     },
     "metadata": {},
     "output_type": "display_data"
    },
    {
     "name": "stdout",
     "output_type": "stream",
     "text": [
      "\n"
     ]
    },
    {
     "data": {
      "application/vnd.jupyter.widget-view+json": {
       "model_id": "c9af02cfea9e416ba94e78f549c32feb",
       "version_major": 2,
       "version_minor": 0
      },
      "text/plain": [
       "HBox(children=(HTML(value=''), FloatProgress(value=0.0, max=10000.0), HTML(value='')))"
      ]
     },
     "metadata": {},
     "output_type": "display_data"
    },
    {
     "name": "stdout",
     "output_type": "stream",
     "text": [
      "\n"
     ]
    },
    {
     "data": {
      "application/vnd.jupyter.widget-view+json": {
       "model_id": "b62797b6f01344a5a4febbe75ddfce59",
       "version_major": 2,
       "version_minor": 0
      },
      "text/plain": [
       "HBox(children=(HTML(value=''), FloatProgress(value=0.0, max=10000.0), HTML(value='')))"
      ]
     },
     "metadata": {},
     "output_type": "display_data"
    },
    {
     "name": "stdout",
     "output_type": "stream",
     "text": [
      "\n"
     ]
    },
    {
     "data": {
      "application/vnd.jupyter.widget-view+json": {
       "model_id": "5a1e71de43164dd29235078fc6267db4",
       "version_major": 2,
       "version_minor": 0
      },
      "text/plain": [
       "HBox(children=(HTML(value=''), FloatProgress(value=0.0, max=10000.0), HTML(value='')))"
      ]
     },
     "metadata": {},
     "output_type": "display_data"
    },
    {
     "name": "stdout",
     "output_type": "stream",
     "text": [
      "\n"
     ]
    },
    {
     "data": {
      "application/vnd.jupyter.widget-view+json": {
       "model_id": "6bb9c3cc8d41458486463d592aebfc52",
       "version_major": 2,
       "version_minor": 0
      },
      "text/plain": [
       "HBox(children=(HTML(value=''), FloatProgress(value=0.0, max=10000.0), HTML(value='')))"
      ]
     },
     "metadata": {},
     "output_type": "display_data"
    },
    {
     "name": "stdout",
     "output_type": "stream",
     "text": [
      "\n"
     ]
    },
    {
     "data": {
      "application/vnd.jupyter.widget-view+json": {
       "model_id": "d611aea82fd3449caaa66474e9fd940c",
       "version_major": 2,
       "version_minor": 0
      },
      "text/plain": [
       "HBox(children=(HTML(value=''), FloatProgress(value=0.0, max=10000.0), HTML(value='')))"
      ]
     },
     "metadata": {},
     "output_type": "display_data"
    },
    {
     "name": "stdout",
     "output_type": "stream",
     "text": [
      "\n"
     ]
    },
    {
     "data": {
      "application/vnd.jupyter.widget-view+json": {
       "model_id": "a50f7c596d344ba1b36a38cae81b731b",
       "version_major": 2,
       "version_minor": 0
      },
      "text/plain": [
       "HBox(children=(HTML(value=''), FloatProgress(value=0.0, max=10000.0), HTML(value='')))"
      ]
     },
     "metadata": {},
     "output_type": "display_data"
    },
    {
     "name": "stdout",
     "output_type": "stream",
     "text": [
      "\n"
     ]
    },
    {
     "data": {
      "application/vnd.jupyter.widget-view+json": {
       "model_id": "705bddfc326949d19d0bf10f74728e6c",
       "version_major": 2,
       "version_minor": 0
      },
      "text/plain": [
       "HBox(children=(HTML(value=''), FloatProgress(value=0.0, max=10000.0), HTML(value='')))"
      ]
     },
     "metadata": {},
     "output_type": "display_data"
    },
    {
     "name": "stdout",
     "output_type": "stream",
     "text": [
      "\n"
     ]
    },
    {
     "data": {
      "application/vnd.jupyter.widget-view+json": {
       "model_id": "1bb3cde035fb49448492ea13f77ffbac",
       "version_major": 2,
       "version_minor": 0
      },
      "text/plain": [
       "HBox(children=(HTML(value=''), FloatProgress(value=0.0, max=10000.0), HTML(value='')))"
      ]
     },
     "metadata": {},
     "output_type": "display_data"
    },
    {
     "name": "stdout",
     "output_type": "stream",
     "text": [
      "\n"
     ]
    },
    {
     "data": {
      "application/vnd.jupyter.widget-view+json": {
       "model_id": "0fbe59ab97f740e59f0c9f57918c0446",
       "version_major": 2,
       "version_minor": 0
      },
      "text/plain": [
       "HBox(children=(HTML(value=''), FloatProgress(value=0.0, max=10000.0), HTML(value='')))"
      ]
     },
     "metadata": {},
     "output_type": "display_data"
    },
    {
     "name": "stdout",
     "output_type": "stream",
     "text": [
      "\n"
     ]
    },
    {
     "data": {
      "application/vnd.jupyter.widget-view+json": {
       "model_id": "eec7b315398249028cd8902e30287c83",
       "version_major": 2,
       "version_minor": 0
      },
      "text/plain": [
       "HBox(children=(HTML(value=''), FloatProgress(value=0.0, max=10000.0), HTML(value='')))"
      ]
     },
     "metadata": {},
     "output_type": "display_data"
    },
    {
     "name": "stdout",
     "output_type": "stream",
     "text": [
      "\n"
     ]
    },
    {
     "data": {
      "application/vnd.jupyter.widget-view+json": {
       "model_id": "6e77ac6de1bd46b2a3f1b43a4502861f",
       "version_major": 2,
       "version_minor": 0
      },
      "text/plain": [
       "HBox(children=(HTML(value=''), FloatProgress(value=0.0, max=10000.0), HTML(value='')))"
      ]
     },
     "metadata": {},
     "output_type": "display_data"
    },
    {
     "name": "stdout",
     "output_type": "stream",
     "text": [
      "\n"
     ]
    },
    {
     "data": {
      "application/vnd.jupyter.widget-view+json": {
       "model_id": "81de7b0267f14d32aa8f5c16377a2f5c",
       "version_major": 2,
       "version_minor": 0
      },
      "text/plain": [
       "HBox(children=(HTML(value=''), FloatProgress(value=0.0, max=10000.0), HTML(value='')))"
      ]
     },
     "metadata": {},
     "output_type": "display_data"
    },
    {
     "name": "stdout",
     "output_type": "stream",
     "text": [
      "\n"
     ]
    },
    {
     "data": {
      "application/vnd.jupyter.widget-view+json": {
       "model_id": "49b666ac48b6485f8b1329933a3f100c",
       "version_major": 2,
       "version_minor": 0
      },
      "text/plain": [
       "HBox(children=(HTML(value=''), FloatProgress(value=0.0, max=10000.0), HTML(value='')))"
      ]
     },
     "metadata": {},
     "output_type": "display_data"
    },
    {
     "name": "stdout",
     "output_type": "stream",
     "text": [
      "\n"
     ]
    },
    {
     "data": {
      "application/vnd.jupyter.widget-view+json": {
       "model_id": "7ebef60082364f20ae1b3231656c6488",
       "version_major": 2,
       "version_minor": 0
      },
      "text/plain": [
       "HBox(children=(HTML(value=''), FloatProgress(value=0.0, max=10000.0), HTML(value='')))"
      ]
     },
     "metadata": {},
     "output_type": "display_data"
    },
    {
     "name": "stdout",
     "output_type": "stream",
     "text": [
      "\n"
     ]
    },
    {
     "data": {
      "application/vnd.jupyter.widget-view+json": {
       "model_id": "f13987c553c34c6fb98039e82da4413a",
       "version_major": 2,
       "version_minor": 0
      },
      "text/plain": [
       "HBox(children=(HTML(value=''), FloatProgress(value=0.0, max=10000.0), HTML(value='')))"
      ]
     },
     "metadata": {},
     "output_type": "display_data"
    },
    {
     "name": "stdout",
     "output_type": "stream",
     "text": [
      "\n"
     ]
    },
    {
     "data": {
      "application/vnd.jupyter.widget-view+json": {
       "model_id": "c47018129b264c74a2793491556642ec",
       "version_major": 2,
       "version_minor": 0
      },
      "text/plain": [
       "HBox(children=(HTML(value=''), FloatProgress(value=0.0, max=10000.0), HTML(value='')))"
      ]
     },
     "metadata": {},
     "output_type": "display_data"
    },
    {
     "name": "stdout",
     "output_type": "stream",
     "text": [
      "\n"
     ]
    },
    {
     "data": {
      "application/vnd.jupyter.widget-view+json": {
       "model_id": "85ab03ace820404da3bb9e82518179f6",
       "version_major": 2,
       "version_minor": 0
      },
      "text/plain": [
       "HBox(children=(HTML(value=''), FloatProgress(value=0.0, max=10000.0), HTML(value='')))"
      ]
     },
     "metadata": {},
     "output_type": "display_data"
    },
    {
     "name": "stdout",
     "output_type": "stream",
     "text": [
      "\n"
     ]
    },
    {
     "data": {
      "application/vnd.jupyter.widget-view+json": {
       "model_id": "c8ba18822775490182c0e84c9d7a6b09",
       "version_major": 2,
       "version_minor": 0
      },
      "text/plain": [
       "HBox(children=(HTML(value=''), FloatProgress(value=0.0, max=10000.0), HTML(value='')))"
      ]
     },
     "metadata": {},
     "output_type": "display_data"
    },
    {
     "name": "stdout",
     "output_type": "stream",
     "text": [
      "\n"
     ]
    },
    {
     "data": {
      "application/vnd.jupyter.widget-view+json": {
       "model_id": "8b4c49b30dcc4b02a6e2ca95efcef5f5",
       "version_major": 2,
       "version_minor": 0
      },
      "text/plain": [
       "HBox(children=(HTML(value=''), FloatProgress(value=0.0, max=10000.0), HTML(value='')))"
      ]
     },
     "metadata": {},
     "output_type": "display_data"
    },
    {
     "name": "stdout",
     "output_type": "stream",
     "text": [
      "\n"
     ]
    },
    {
     "data": {
      "application/vnd.jupyter.widget-view+json": {
       "model_id": "2179757f4fe24c9faf2644d89329ca6b",
       "version_major": 2,
       "version_minor": 0
      },
      "text/plain": [
       "HBox(children=(HTML(value=''), FloatProgress(value=0.0, max=10000.0), HTML(value='')))"
      ]
     },
     "metadata": {},
     "output_type": "display_data"
    },
    {
     "name": "stdout",
     "output_type": "stream",
     "text": [
      "\n"
     ]
    },
    {
     "data": {
      "application/vnd.jupyter.widget-view+json": {
       "model_id": "525ce83988bc4728883211cee4726405",
       "version_major": 2,
       "version_minor": 0
      },
      "text/plain": [
       "HBox(children=(HTML(value=''), FloatProgress(value=0.0, max=10000.0), HTML(value='')))"
      ]
     },
     "metadata": {},
     "output_type": "display_data"
    },
    {
     "name": "stdout",
     "output_type": "stream",
     "text": [
      "\n"
     ]
    },
    {
     "data": {
      "application/vnd.jupyter.widget-view+json": {
       "model_id": "72f15a5bd4b74f0ea75c529011ec7c23",
       "version_major": 2,
       "version_minor": 0
      },
      "text/plain": [
       "HBox(children=(HTML(value=''), FloatProgress(value=0.0, max=10000.0), HTML(value='')))"
      ]
     },
     "metadata": {},
     "output_type": "display_data"
    },
    {
     "name": "stdout",
     "output_type": "stream",
     "text": [
      "\n"
     ]
    },
    {
     "data": {
      "application/vnd.jupyter.widget-view+json": {
       "model_id": "b9d5b46d7cac44a6bdfd99c92e39a4c1",
       "version_major": 2,
       "version_minor": 0
      },
      "text/plain": [
       "HBox(children=(HTML(value=''), FloatProgress(value=0.0, max=10000.0), HTML(value='')))"
      ]
     },
     "metadata": {},
     "output_type": "display_data"
    },
    {
     "name": "stdout",
     "output_type": "stream",
     "text": [
      "\n"
     ]
    },
    {
     "data": {
      "application/vnd.jupyter.widget-view+json": {
       "model_id": "be4f154b0c244f3e978d133271f14bb5",
       "version_major": 2,
       "version_minor": 0
      },
      "text/plain": [
       "HBox(children=(HTML(value=''), FloatProgress(value=0.0, max=10000.0), HTML(value='')))"
      ]
     },
     "metadata": {},
     "output_type": "display_data"
    },
    {
     "name": "stdout",
     "output_type": "stream",
     "text": [
      "\n"
     ]
    },
    {
     "data": {
      "application/vnd.jupyter.widget-view+json": {
       "model_id": "ac9b3e02ba4145c5a891ebab4660b2d7",
       "version_major": 2,
       "version_minor": 0
      },
      "text/plain": [
       "HBox(children=(HTML(value=''), FloatProgress(value=0.0, max=10000.0), HTML(value='')))"
      ]
     },
     "metadata": {},
     "output_type": "display_data"
    },
    {
     "name": "stdout",
     "output_type": "stream",
     "text": [
      "\n"
     ]
    },
    {
     "data": {
      "application/vnd.jupyter.widget-view+json": {
       "model_id": "2906698211d24a5a863930ee1a198f28",
       "version_major": 2,
       "version_minor": 0
      },
      "text/plain": [
       "HBox(children=(HTML(value=''), FloatProgress(value=0.0, max=10000.0), HTML(value='')))"
      ]
     },
     "metadata": {},
     "output_type": "display_data"
    },
    {
     "name": "stdout",
     "output_type": "stream",
     "text": [
      "\n"
     ]
    },
    {
     "data": {
      "application/vnd.jupyter.widget-view+json": {
       "model_id": "13bbf93ab08a40db937c563d14a5697b",
       "version_major": 2,
       "version_minor": 0
      },
      "text/plain": [
       "HBox(children=(HTML(value=''), FloatProgress(value=0.0, max=10000.0), HTML(value='')))"
      ]
     },
     "metadata": {},
     "output_type": "display_data"
    },
    {
     "name": "stdout",
     "output_type": "stream",
     "text": [
      "\n"
     ]
    },
    {
     "data": {
      "application/vnd.jupyter.widget-view+json": {
       "model_id": "e9b603057bdc455eb7b186a13a47789e",
       "version_major": 2,
       "version_minor": 0
      },
      "text/plain": [
       "HBox(children=(HTML(value=''), FloatProgress(value=0.0, max=10000.0), HTML(value='')))"
      ]
     },
     "metadata": {},
     "output_type": "display_data"
    },
    {
     "name": "stdout",
     "output_type": "stream",
     "text": [
      "\n"
     ]
    },
    {
     "data": {
      "application/vnd.jupyter.widget-view+json": {
       "model_id": "ad9eaf0d222043a4b4ddcff876af1322",
       "version_major": 2,
       "version_minor": 0
      },
      "text/plain": [
       "HBox(children=(HTML(value=''), FloatProgress(value=0.0, max=10000.0), HTML(value='')))"
      ]
     },
     "metadata": {},
     "output_type": "display_data"
    },
    {
     "name": "stdout",
     "output_type": "stream",
     "text": [
      "\n"
     ]
    },
    {
     "data": {
      "application/vnd.jupyter.widget-view+json": {
       "model_id": "2fb7fb3923b946df86b22ea1a8245d7f",
       "version_major": 2,
       "version_minor": 0
      },
      "text/plain": [
       "HBox(children=(HTML(value=''), FloatProgress(value=0.0, max=10000.0), HTML(value='')))"
      ]
     },
     "metadata": {},
     "output_type": "display_data"
    },
    {
     "name": "stdout",
     "output_type": "stream",
     "text": [
      "\n"
     ]
    },
    {
     "data": {
      "application/vnd.jupyter.widget-view+json": {
       "model_id": "deb64bc3b5f541dc9af90d84738369de",
       "version_major": 2,
       "version_minor": 0
      },
      "text/plain": [
       "HBox(children=(HTML(value=''), FloatProgress(value=0.0, max=10000.0), HTML(value='')))"
      ]
     },
     "metadata": {},
     "output_type": "display_data"
    },
    {
     "name": "stdout",
     "output_type": "stream",
     "text": [
      "\n"
     ]
    },
    {
     "data": {
      "application/vnd.jupyter.widget-view+json": {
       "model_id": "ff631a683c09413a9fb5ce1702b3e8cb",
       "version_major": 2,
       "version_minor": 0
      },
      "text/plain": [
       "HBox(children=(HTML(value=''), FloatProgress(value=0.0, max=10000.0), HTML(value='')))"
      ]
     },
     "metadata": {},
     "output_type": "display_data"
    },
    {
     "name": "stdout",
     "output_type": "stream",
     "text": [
      "\n"
     ]
    },
    {
     "data": {
      "application/vnd.jupyter.widget-view+json": {
       "model_id": "7fe5a2e315d7413fae8f4e90998db44b",
       "version_major": 2,
       "version_minor": 0
      },
      "text/plain": [
       "HBox(children=(HTML(value=''), FloatProgress(value=0.0, max=10000.0), HTML(value='')))"
      ]
     },
     "metadata": {},
     "output_type": "display_data"
    },
    {
     "name": "stdout",
     "output_type": "stream",
     "text": [
      "\n"
     ]
    },
    {
     "data": {
      "application/vnd.jupyter.widget-view+json": {
       "model_id": "1a07b5d2ada34091abdda4c9da76638b",
       "version_major": 2,
       "version_minor": 0
      },
      "text/plain": [
       "HBox(children=(HTML(value=''), FloatProgress(value=0.0, max=10000.0), HTML(value='')))"
      ]
     },
     "metadata": {},
     "output_type": "display_data"
    },
    {
     "name": "stdout",
     "output_type": "stream",
     "text": [
      "\n"
     ]
    },
    {
     "data": {
      "application/vnd.jupyter.widget-view+json": {
       "model_id": "ed7773d8203d419fbff9bc6fa4465a36",
       "version_major": 2,
       "version_minor": 0
      },
      "text/plain": [
       "HBox(children=(HTML(value=''), FloatProgress(value=0.0, max=10000.0), HTML(value='')))"
      ]
     },
     "metadata": {},
     "output_type": "display_data"
    },
    {
     "name": "stdout",
     "output_type": "stream",
     "text": [
      "\n"
     ]
    },
    {
     "data": {
      "application/vnd.jupyter.widget-view+json": {
       "model_id": "52cbfe98915e453f990febd4978bbca4",
       "version_major": 2,
       "version_minor": 0
      },
      "text/plain": [
       "HBox(children=(HTML(value=''), FloatProgress(value=0.0, max=10000.0), HTML(value='')))"
      ]
     },
     "metadata": {},
     "output_type": "display_data"
    },
    {
     "name": "stdout",
     "output_type": "stream",
     "text": [
      "\n"
     ]
    },
    {
     "data": {
      "application/vnd.jupyter.widget-view+json": {
       "model_id": "f6621da9acee4876b9a791bc2e47d131",
       "version_major": 2,
       "version_minor": 0
      },
      "text/plain": [
       "HBox(children=(HTML(value=''), FloatProgress(value=0.0, max=10000.0), HTML(value='')))"
      ]
     },
     "metadata": {},
     "output_type": "display_data"
    },
    {
     "name": "stdout",
     "output_type": "stream",
     "text": [
      "\n"
     ]
    },
    {
     "data": {
      "application/vnd.jupyter.widget-view+json": {
       "model_id": "42cd350b1d57464196b35291c5f47a4b",
       "version_major": 2,
       "version_minor": 0
      },
      "text/plain": [
       "HBox(children=(HTML(value=''), FloatProgress(value=0.0, max=10000.0), HTML(value='')))"
      ]
     },
     "metadata": {},
     "output_type": "display_data"
    },
    {
     "name": "stdout",
     "output_type": "stream",
     "text": [
      "\n"
     ]
    },
    {
     "data": {
      "application/vnd.jupyter.widget-view+json": {
       "model_id": "0659f37f7df247cab7294d9609f2c6a8",
       "version_major": 2,
       "version_minor": 0
      },
      "text/plain": [
       "HBox(children=(HTML(value=''), FloatProgress(value=0.0, max=10000.0), HTML(value='')))"
      ]
     },
     "metadata": {},
     "output_type": "display_data"
    },
    {
     "name": "stdout",
     "output_type": "stream",
     "text": [
      "\n"
     ]
    },
    {
     "data": {
      "application/vnd.jupyter.widget-view+json": {
       "model_id": "ff880fbdc09c44f29133fc17d63f42b2",
       "version_major": 2,
       "version_minor": 0
      },
      "text/plain": [
       "HBox(children=(HTML(value=''), FloatProgress(value=0.0, max=10000.0), HTML(value='')))"
      ]
     },
     "metadata": {},
     "output_type": "display_data"
    },
    {
     "name": "stdout",
     "output_type": "stream",
     "text": [
      "\n"
     ]
    },
    {
     "data": {
      "application/vnd.jupyter.widget-view+json": {
       "model_id": "4fe8f002d10748bca0fb2a28be167792",
       "version_major": 2,
       "version_minor": 0
      },
      "text/plain": [
       "HBox(children=(HTML(value=''), FloatProgress(value=0.0, max=10000.0), HTML(value='')))"
      ]
     },
     "metadata": {},
     "output_type": "display_data"
    },
    {
     "name": "stdout",
     "output_type": "stream",
     "text": [
      "\n"
     ]
    },
    {
     "data": {
      "application/vnd.jupyter.widget-view+json": {
       "model_id": "8cfbc5e225634ceeb5aae5ea43c57c16",
       "version_major": 2,
       "version_minor": 0
      },
      "text/plain": [
       "HBox(children=(HTML(value=''), FloatProgress(value=0.0, max=10000.0), HTML(value='')))"
      ]
     },
     "metadata": {},
     "output_type": "display_data"
    },
    {
     "name": "stdout",
     "output_type": "stream",
     "text": [
      "\n"
     ]
    },
    {
     "data": {
      "application/vnd.jupyter.widget-view+json": {
       "model_id": "570ffce307834206b7a63fbb6ba7d5e9",
       "version_major": 2,
       "version_minor": 0
      },
      "text/plain": [
       "HBox(children=(HTML(value=''), FloatProgress(value=0.0, max=10000.0), HTML(value='')))"
      ]
     },
     "metadata": {},
     "output_type": "display_data"
    },
    {
     "name": "stdout",
     "output_type": "stream",
     "text": [
      "\n"
     ]
    },
    {
     "data": {
      "application/vnd.jupyter.widget-view+json": {
       "model_id": "86bc3daef37742aab68950d1d42dc55a",
       "version_major": 2,
       "version_minor": 0
      },
      "text/plain": [
       "HBox(children=(HTML(value=''), FloatProgress(value=0.0, max=10000.0), HTML(value='')))"
      ]
     },
     "metadata": {},
     "output_type": "display_data"
    },
    {
     "name": "stdout",
     "output_type": "stream",
     "text": [
      "\n"
     ]
    },
    {
     "data": {
      "application/vnd.jupyter.widget-view+json": {
       "model_id": "a5a2a9d1589c4bf2b7866290f0399cb2",
       "version_major": 2,
       "version_minor": 0
      },
      "text/plain": [
       "HBox(children=(HTML(value=''), FloatProgress(value=0.0, max=10000.0), HTML(value='')))"
      ]
     },
     "metadata": {},
     "output_type": "display_data"
    },
    {
     "name": "stdout",
     "output_type": "stream",
     "text": [
      "\n"
     ]
    },
    {
     "data": {
      "application/vnd.jupyter.widget-view+json": {
       "model_id": "24b109f1581644d08bcd24420a1141ea",
       "version_major": 2,
       "version_minor": 0
      },
      "text/plain": [
       "HBox(children=(HTML(value=''), FloatProgress(value=0.0, max=10000.0), HTML(value='')))"
      ]
     },
     "metadata": {},
     "output_type": "display_data"
    },
    {
     "name": "stdout",
     "output_type": "stream",
     "text": [
      "\n"
     ]
    },
    {
     "data": {
      "application/vnd.jupyter.widget-view+json": {
       "model_id": "8baa91e1714046189554c348e0e2e3de",
       "version_major": 2,
       "version_minor": 0
      },
      "text/plain": [
       "HBox(children=(HTML(value=''), FloatProgress(value=0.0, max=10000.0), HTML(value='')))"
      ]
     },
     "metadata": {},
     "output_type": "display_data"
    },
    {
     "name": "stdout",
     "output_type": "stream",
     "text": [
      "\n"
     ]
    },
    {
     "data": {
      "application/vnd.jupyter.widget-view+json": {
       "model_id": "20ef5c2e230d46b5955b4c3637d32881",
       "version_major": 2,
       "version_minor": 0
      },
      "text/plain": [
       "HBox(children=(HTML(value=''), FloatProgress(value=0.0, max=10000.0), HTML(value='')))"
      ]
     },
     "metadata": {},
     "output_type": "display_data"
    },
    {
     "name": "stdout",
     "output_type": "stream",
     "text": [
      "\n"
     ]
    },
    {
     "data": {
      "application/vnd.jupyter.widget-view+json": {
       "model_id": "ef3120d713cc4af79725d8cd0d969453",
       "version_major": 2,
       "version_minor": 0
      },
      "text/plain": [
       "HBox(children=(HTML(value=''), FloatProgress(value=0.0, max=10000.0), HTML(value='')))"
      ]
     },
     "metadata": {},
     "output_type": "display_data"
    },
    {
     "name": "stdout",
     "output_type": "stream",
     "text": [
      "\n"
     ]
    },
    {
     "data": {
      "application/vnd.jupyter.widget-view+json": {
       "model_id": "1aca537829c645808e8da54bf3e7d452",
       "version_major": 2,
       "version_minor": 0
      },
      "text/plain": [
       "HBox(children=(HTML(value=''), FloatProgress(value=0.0, max=10000.0), HTML(value='')))"
      ]
     },
     "metadata": {},
     "output_type": "display_data"
    },
    {
     "name": "stdout",
     "output_type": "stream",
     "text": [
      "\n"
     ]
    },
    {
     "data": {
      "application/vnd.jupyter.widget-view+json": {
       "model_id": "851c963cb82d495c93df7b8d5a86e099",
       "version_major": 2,
       "version_minor": 0
      },
      "text/plain": [
       "HBox(children=(HTML(value=''), FloatProgress(value=0.0, max=10000.0), HTML(value='')))"
      ]
     },
     "metadata": {},
     "output_type": "display_data"
    },
    {
     "name": "stdout",
     "output_type": "stream",
     "text": [
      "\n"
     ]
    },
    {
     "data": {
      "application/vnd.jupyter.widget-view+json": {
       "model_id": "71839f83a0394ef68961d4fb79231302",
       "version_major": 2,
       "version_minor": 0
      },
      "text/plain": [
       "HBox(children=(HTML(value=''), FloatProgress(value=0.0, max=10000.0), HTML(value='')))"
      ]
     },
     "metadata": {},
     "output_type": "display_data"
    },
    {
     "name": "stdout",
     "output_type": "stream",
     "text": [
      "\n"
     ]
    },
    {
     "data": {
      "application/vnd.jupyter.widget-view+json": {
       "model_id": "22b93fb259824367b30395422a85be6f",
       "version_major": 2,
       "version_minor": 0
      },
      "text/plain": [
       "HBox(children=(HTML(value=''), FloatProgress(value=0.0, max=10000.0), HTML(value='')))"
      ]
     },
     "metadata": {},
     "output_type": "display_data"
    },
    {
     "name": "stdout",
     "output_type": "stream",
     "text": [
      "\n"
     ]
    },
    {
     "data": {
      "application/vnd.jupyter.widget-view+json": {
       "model_id": "8d0a74348f0e434f96d5ba7eb540c340",
       "version_major": 2,
       "version_minor": 0
      },
      "text/plain": [
       "HBox(children=(HTML(value=''), FloatProgress(value=0.0, max=10000.0), HTML(value='')))"
      ]
     },
     "metadata": {},
     "output_type": "display_data"
    },
    {
     "name": "stdout",
     "output_type": "stream",
     "text": [
      "\n"
     ]
    },
    {
     "data": {
      "application/vnd.jupyter.widget-view+json": {
       "model_id": "6b8501cd4ba7487aba74db79804a0f74",
       "version_major": 2,
       "version_minor": 0
      },
      "text/plain": [
       "HBox(children=(HTML(value=''), FloatProgress(value=0.0, max=10000.0), HTML(value='')))"
      ]
     },
     "metadata": {},
     "output_type": "display_data"
    },
    {
     "name": "stdout",
     "output_type": "stream",
     "text": [
      "\n"
     ]
    },
    {
     "data": {
      "application/vnd.jupyter.widget-view+json": {
       "model_id": "0353e23a018b4dbfae68c33138645d00",
       "version_major": 2,
       "version_minor": 0
      },
      "text/plain": [
       "HBox(children=(HTML(value=''), FloatProgress(value=0.0, max=10000.0), HTML(value='')))"
      ]
     },
     "metadata": {},
     "output_type": "display_data"
    },
    {
     "name": "stdout",
     "output_type": "stream",
     "text": [
      "\n"
     ]
    },
    {
     "data": {
      "application/vnd.jupyter.widget-view+json": {
       "model_id": "e64797613ecd490db071979ef96ab99d",
       "version_major": 2,
       "version_minor": 0
      },
      "text/plain": [
       "HBox(children=(HTML(value=''), FloatProgress(value=0.0, max=10000.0), HTML(value='')))"
      ]
     },
     "metadata": {},
     "output_type": "display_data"
    },
    {
     "name": "stdout",
     "output_type": "stream",
     "text": [
      "\n"
     ]
    },
    {
     "data": {
      "application/vnd.jupyter.widget-view+json": {
       "model_id": "c8dd5313d6924ea4a31ae73a662240c4",
       "version_major": 2,
       "version_minor": 0
      },
      "text/plain": [
       "HBox(children=(HTML(value=''), FloatProgress(value=0.0, max=10000.0), HTML(value='')))"
      ]
     },
     "metadata": {},
     "output_type": "display_data"
    },
    {
     "name": "stdout",
     "output_type": "stream",
     "text": [
      "\n"
     ]
    },
    {
     "data": {
      "application/vnd.jupyter.widget-view+json": {
       "model_id": "962f662edb304a6082af286001e510da",
       "version_major": 2,
       "version_minor": 0
      },
      "text/plain": [
       "HBox(children=(HTML(value=''), FloatProgress(value=0.0, max=10000.0), HTML(value='')))"
      ]
     },
     "metadata": {},
     "output_type": "display_data"
    },
    {
     "name": "stdout",
     "output_type": "stream",
     "text": [
      "\n"
     ]
    },
    {
     "data": {
      "application/vnd.jupyter.widget-view+json": {
       "model_id": "13e63368ce484bc6a34ed60095be476f",
       "version_major": 2,
       "version_minor": 0
      },
      "text/plain": [
       "HBox(children=(HTML(value=''), FloatProgress(value=0.0, max=10000.0), HTML(value='')))"
      ]
     },
     "metadata": {},
     "output_type": "display_data"
    },
    {
     "name": "stdout",
     "output_type": "stream",
     "text": [
      "\n"
     ]
    },
    {
     "data": {
      "application/vnd.jupyter.widget-view+json": {
       "model_id": "beaacbe5b82544f5959aa8ad0991641f",
       "version_major": 2,
       "version_minor": 0
      },
      "text/plain": [
       "HBox(children=(HTML(value=''), FloatProgress(value=0.0, max=10000.0), HTML(value='')))"
      ]
     },
     "metadata": {},
     "output_type": "display_data"
    },
    {
     "name": "stdout",
     "output_type": "stream",
     "text": [
      "\n"
     ]
    },
    {
     "data": {
      "application/vnd.jupyter.widget-view+json": {
       "model_id": "d9a6355103d748659eba619fc34b5d3b",
       "version_major": 2,
       "version_minor": 0
      },
      "text/plain": [
       "HBox(children=(HTML(value=''), FloatProgress(value=0.0, max=10000.0), HTML(value='')))"
      ]
     },
     "metadata": {},
     "output_type": "display_data"
    },
    {
     "name": "stdout",
     "output_type": "stream",
     "text": [
      "\n"
     ]
    },
    {
     "data": {
      "application/vnd.jupyter.widget-view+json": {
       "model_id": "96dd3cc9cf8841f8aedfd5e8fd7e24b2",
       "version_major": 2,
       "version_minor": 0
      },
      "text/plain": [
       "HBox(children=(HTML(value=''), FloatProgress(value=0.0, max=10000.0), HTML(value='')))"
      ]
     },
     "metadata": {},
     "output_type": "display_data"
    },
    {
     "name": "stdout",
     "output_type": "stream",
     "text": [
      "\n"
     ]
    }
   ],
   "source": [
    "r_array, costs_array = composite_f(random_design)\n",
    "# Y_init = target_function(random_design)\n",
    "# Yc_init = constraint(random_design)\n",
    "\n",
    "# Only take a part of random_design as initial design, the remaining are for comparison\n",
    "X_init = random_design[:n_initial_points]\n",
    "Y_init = r_array[:n_initial_points]\n",
    "Yc_init = costs_array[:n_initial_points]\n",
    "\n",
    "X_rand = random_design\n",
    "Y_rand = r_array\n",
    "Yc_rand = costs_array"
   ]
  },
  {
   "cell_type": "code",
   "execution_count": 8,
   "metadata": {},
   "outputs": [
    {
     "name": "stdout",
     "output_type": "stream",
     "text": [
      "Optimization restart 1/10, f = -6.727184355454575\n",
      "Optimization restart 2/10, f = -6.727184355799238\n",
      "Optimization restart 3/10, f = -6.7271843555318895\n",
      "Optimization restart 4/10, f = -6.727184355263663\n",
      "Optimization restart 5/10, f = -6.727184355558293\n",
      "Optimization restart 6/10, f = -6.727184354171275\n",
      "Optimization restart 7/10, f = -6.72718435572077\n",
      "Optimization restart 8/10, f = -6.727184355689346\n",
      "Optimization restart 9/10, f = -6.727184356078574\n",
      "Optimization restart 10/10, f = -6.727184355847381\n",
      "Optimization restart 1/10, f = 310.08437758159926\n",
      "Optimization restart 2/10, f = 307.599997189405\n",
      "Optimization restart 3/10, f = 341.2691436073387\n",
      "Optimization restart 4/10, f = 303.46695252834724\n",
      "Optimization restart 5/10, f = 303.07898282897213\n"
     ]
    },
    {
     "name": "stderr",
     "output_type": "stream",
     "text": [
      " /home/gejinchen/anaconda3/lib/python3.7/site-packages/GPy/kern/src/stationary.py:565: RuntimeWarning:overflow encountered in square\n",
      " /home/gejinchen/anaconda3/lib/python3.7/site-packages/GPy/kern/src/stationary.py:565: RuntimeWarning:invalid value encountered in multiply\n"
     ]
    },
    {
     "name": "stdout",
     "output_type": "stream",
     "text": [
      "Optimization restart 6/10, f = 253.35654412540035\n",
      "Optimization restart 7/10, f = 303.4668551927398\n",
      "Optimization restart 8/10, f = 269.7645496692772\n",
      "Optimization restart 9/10, f = 303.07897160137463\n",
      "Optimization restart 10/10, f = 307.49889967489577\n"
     ]
    }
   ],
   "source": [
    "import GPy\n",
    "from GPy.kern import Matern52\n",
    "from emukit.model_wrappers.gpy_model_wrappers import GPyModelWrapper\n",
    "\n",
    "f_model = GPy.models.GPRegression(X_init, Y_init, Matern52(X_init.shape[1], variance=1., ARD=False), noise_var=0.01)\n",
    "f_model = GPyModelWrapper(f_model, n_restarts=10)\n",
    "f_model.optimize()\n",
    "con_model = GPy.models.GPRegression(X_init, Yc_init, Matern52(X_init.shape[1], variance=1., ARD=False), noise_var=0.01)\n",
    "con_model = GPyModelWrapper(con_model, n_restarts=10)\n",
    "con_model.optimize()\n",
    "\n",
    "# plot_3d(X_init[:,0].squeeze(), X_init[:,1].squeeze(), X_init[:,2].squeeze())\n",
    "\n",
    "# mu_plot, var_plot = f_model.predict(x_plot_eval)\n",
    "# plot_f(X_init[:,dim_to_plot[0]].squeeze(), X_init[:,dim_to_plot[1]].squeeze(), \n",
    "#        x_plot, mu_plot.squeeze(), var_plot.squeeze())"
   ]
  },
  {
   "cell_type": "code",
   "execution_count": 9,
   "metadata": {
    "scrolled": false
   },
   "outputs": [],
   "source": [
    "from emukit.bayesian_optimization.acquisitions import ExpectedImprovement, ProbabilityOfFeasibility\n",
    "from emukit.core.acquisition import IntegratedHyperParameterAcquisition\n",
    "\n",
    "ei_acquisition = MyExpectedImprovement(f_model, con_model)\n",
    "pof_acquisition = ProbabilityOfFeasibility(con_model)\n",
    "composite_acquisition = ei_acquisition*pof_acquisition\n",
    "\n",
    "# ei_plot = ei_acquisition.evaluate(x_plot_eval)\n",
    "# pof_plot = pof_acquisition.evaluate(x_plot_eval)\n",
    "# composite_plot = composite_acquisition.evaluate(x_plot_eval)\n",
    "# plot_acquisition(X_init[:,dim_to_plot[0]].squeeze(), X_init[:,dim_to_plot[1]].squeeze(), \n",
    "#                  x_plot, ei_plot.squeeze(), pof_plot.squeeze(), composite_plot.squeeze())\n",
    "\n",
    "# pof_plot_3d = pof_acquisition.evaluate(x_plot_3d)\n",
    "# plot_pof_3d(X_init[:,0].squeeze(), X_init[:,1].squeeze(), X_init[:,2].squeeze(), x_plot_3d, pof_plot_3d.squeeze())"
   ]
  },
  {
   "cell_type": "code",
   "execution_count": 10,
   "metadata": {},
   "outputs": [
    {
     "data": {
      "application/vnd.jupyter.widget-view+json": {
       "model_id": "44e97884581a4628a4f46bfb5e0f0211",
       "version_major": 2,
       "version_minor": 0
      },
      "text/plain": [
       "HBox(children=(HTML(value=''), FloatProgress(value=0.0, max=10000.0), HTML(value='')))"
      ]
     },
     "metadata": {},
     "output_type": "display_data"
    },
    {
     "name": "stdout",
     "output_type": "stream",
     "text": [
      "\n",
      "Optimization restart 1/10, f = -7.677897510208346\n",
      "Optimization restart 2/10, f = -7.678182565544937\n",
      "Optimization restart 3/10, f = -7.678182565447042\n"
     ]
    },
    {
     "name": "stderr",
     "output_type": "stream",
     "text": [
      " /home/gejinchen/anaconda3/lib/python3.7/site-packages/paramz/transformations.py:111: RuntimeWarning:overflow encountered in expm1\n"
     ]
    },
    {
     "name": "stdout",
     "output_type": "stream",
     "text": [
      "Optimization restart 4/10, f = -7.6781825646570745\n",
      "Optimization restart 5/10, f = -7.678182565270472\n",
      "Optimization restart 6/10, f = -7.6781825650961615\n",
      "Optimization restart 7/10, f = -7.678182565334467\n",
      "Optimization restart 8/10, f = -7.678182562490562\n",
      "Optimization restart 9/10, f = -7.678182565270909\n",
      "Optimization restart 10/10, f = -7.67818256544923\n",
      "Optimization restart 1/10, f = 260.9247996838891\n",
      "Optimization restart 2/10, f = 312.4316990880075\n",
      "Optimization restart 3/10, f = 309.1640679060735\n",
      "Optimization restart 4/10, f = 309.16410129976606\n",
      "Optimization restart 5/10, f = 274.73378793247775\n",
      "Optimization restart 6/10, f = 309.1640927804473\n",
      "Optimization restart 7/10, f = 260.9198753826365\n",
      "Optimization restart 8/10, f = 346.3915805919628\n",
      "Optimization restart 9/10, f = 309.3205737762702\n"
     ]
    },
    {
     "name": "stderr",
     "output_type": "stream",
     "text": [
      " /home/gejinchen/anaconda3/lib/python3.7/site-packages/GPy/kern/src/stationary.py:565: RuntimeWarning:overflow encountered in multiply\n"
     ]
    },
    {
     "name": "stdout",
     "output_type": "stream",
     "text": [
      "Optimization restart 10/10, f = 309.48193987588485\n"
     ]
    },
    {
     "data": {
      "application/vnd.jupyter.widget-view+json": {
       "model_id": "f427d965a71441dfa832bdf2450aa4f9",
       "version_major": 2,
       "version_minor": 0
      },
      "text/plain": [
       "HBox(children=(HTML(value=''), FloatProgress(value=0.0, max=10000.0), HTML(value='')))"
      ]
     },
     "metadata": {},
     "output_type": "display_data"
    },
    {
     "name": "stdout",
     "output_type": "stream",
     "text": [
      "\n",
      "Optimization restart 1/10, f = -8.799667149567021\n",
      "Optimization restart 2/10, f = -8.802156990897423\n",
      "Optimization restart 3/10, f = -8.802156991238668\n",
      "Optimization restart 4/10, f = -8.80215699131631\n",
      "Optimization restart 5/10, f = -8.802156991469957\n",
      "Optimization restart 6/10, f = -8.802156989831609\n",
      "Optimization restart 7/10, f = -8.802156991405159\n",
      "Optimization restart 8/10, f = -8.80215699128907\n",
      "Optimization restart 9/10, f = -8.80215699126926\n",
      "Optimization restart 10/10, f = -8.802156991037837\n",
      "Optimization restart 1/10, f = 267.02918802376547\n",
      "Optimization restart 2/10, f = 267.02864452215874\n",
      "Optimization restart 3/10, f = 317.0689125480708\n",
      "Optimization restart 4/10, f = 314.26997762886083\n",
      "Optimization restart 5/10, f = 267.02864452808154\n",
      "Optimization restart 6/10, f = 314.8039570757314\n",
      "Optimization restart 7/10, f = 314.8041579083777\n",
      "Optimization restart 8/10, f = 341.91557355563646\n",
      "Optimization restart 9/10, f = 267.0286447548813\n",
      "Optimization restart 10/10, f = 314.8040141350936\n"
     ]
    },
    {
     "data": {
      "application/vnd.jupyter.widget-view+json": {
       "model_id": "9007a95182474277b7e8a08d690648b4",
       "version_major": 2,
       "version_minor": 0
      },
      "text/plain": [
       "HBox(children=(HTML(value=''), FloatProgress(value=0.0, max=10000.0), HTML(value='')))"
      ]
     },
     "metadata": {},
     "output_type": "display_data"
    },
    {
     "name": "stdout",
     "output_type": "stream",
     "text": [
      "\n",
      "Optimization restart 1/10, f = -9.561141084541816\n",
      "Optimization restart 2/10, f = -9.56241703859973\n",
      "Optimization restart 3/10, f = -9.562417040025025\n",
      "Optimization restart 4/10, f = -9.562416075795916\n",
      "Optimization restart 5/10, f = -9.562417039874784\n",
      "Optimization restart 6/10, f = -9.562417039771297\n",
      "Optimization restart 7/10, f = -9.562417039090224\n",
      "Optimization restart 8/10, f = -9.56241704018857\n",
      "Optimization restart 9/10, f = -9.562417039950503\n",
      "Optimization restart 10/10, f = -9.562417038508155\n",
      "Optimization restart 1/10, f = 272.8196485425408\n",
      "Optimization restart 2/10, f = 323.90739558148294\n",
      "Optimization restart 3/10, f = 347.8957450626235\n",
      "Optimization restart 4/10, f = 320.4330077051226\n",
      "Optimization restart 5/10, f = 320.43309547705843\n",
      "Optimization restart 6/10, f = 320.43300759655284\n",
      "Optimization restart 7/10, f = 320.4330140561807\n",
      "Optimization restart 8/10, f = 343.7289351696785\n",
      "Optimization restart 9/10, f = 352.9516239267105\n",
      "Optimization restart 10/10, f = 313.15286392116826\n"
     ]
    },
    {
     "name": "stderr",
     "output_type": "stream",
     "text": [
      " /home/gejinchen/anaconda3/lib/python3.7/site-packages/GPy/kern/src/stationary.py:168: RuntimeWarning:overflow encountered in true_divide\n"
     ]
    },
    {
     "data": {
      "application/vnd.jupyter.widget-view+json": {
       "model_id": "ad9ac78bde3a418f8d64dade057f42d8",
       "version_major": 2,
       "version_minor": 0
      },
      "text/plain": [
       "HBox(children=(HTML(value=''), FloatProgress(value=0.0, max=10000.0), HTML(value='')))"
      ]
     },
     "metadata": {},
     "output_type": "display_data"
    },
    {
     "name": "stdout",
     "output_type": "stream",
     "text": [
      "\n",
      "Optimization restart 1/10, f = -10.759783263541095\n",
      "Optimization restart 2/10, f = -10.761136257621551\n",
      "Optimization restart 3/10, f = -10.761136257671431\n",
      "Optimization restart 4/10, f = -10.761136257806335\n",
      "Optimization restart 5/10, f = -10.76113625772549\n",
      "Optimization restart 6/10, f = -10.761136257055593\n",
      "Optimization restart 7/10, f = -10.76113625783126\n",
      "Optimization restart 8/10, f = -10.761136257546848\n",
      "Optimization restart 9/10, f = -10.761136257992707\n",
      "Optimization restart 10/10, f = -10.76113625725133\n",
      "Optimization restart 1/10, f = 278.1028537771848\n",
      "Optimization restart 2/10, f = 326.0307491128883\n",
      "Optimization restart 3/10, f = 285.1871326779854\n",
      "Optimization restart 4/10, f = 285.1871326779685\n",
      "Optimization restart 5/10, f = 285.1871326783669\n",
      "Optimization restart 6/10, f = 331.9974218649787\n",
      "Optimization restart 7/10, f = 329.50910706268127\n",
      "Optimization restart 8/10, f = 328.37261993888285\n",
      "Optimization restart 9/10, f = 335.758510533124\n",
      "Optimization restart 10/10, f = 285.1871326788965\n"
     ]
    },
    {
     "data": {
      "application/vnd.jupyter.widget-view+json": {
       "model_id": "8e9034b7b2244fd8aed4c310ec2045b9",
       "version_major": 2,
       "version_minor": 0
      },
      "text/plain": [
       "HBox(children=(HTML(value=''), FloatProgress(value=0.0, max=10000.0), HTML(value='')))"
      ]
     },
     "metadata": {},
     "output_type": "display_data"
    },
    {
     "name": "stdout",
     "output_type": "stream",
     "text": [
      "\n",
      "Optimization restart 1/10, f = -11.68449380485891\n",
      "Optimization restart 2/10, f = -11.691781890869823\n",
      "Optimization restart 3/10, f = -11.691781891217445\n",
      "Optimization restart 4/10, f = -11.69178189067297\n",
      "Optimization restart 5/10, f = -11.691781890637898\n",
      "Optimization restart 6/10, f = -11.691781891166585\n",
      "Optimization restart 7/10, f = -11.691781890846496\n",
      "Optimization restart 8/10, f = -11.691781890833767\n",
      "Optimization restart 9/10, f = -11.69178189080812\n",
      "Optimization restart 10/10, f = -11.691781891283767\n",
      "Optimization restart 1/10, f = 283.9119342326034\n",
      "Optimization restart 2/10, f = 366.14269537844433\n",
      "Optimization restart 3/10, f = 331.6772742574069\n",
      "Optimization restart 4/10, f = 331.67726559031655\n",
      "Optimization restart 5/10, f = 330.92407334659765\n",
      "Optimization restart 6/10, f = 283.9044044660957\n",
      "Optimization restart 7/10, f = 283.90440438761067\n",
      "Optimization restart 8/10, f = 283.90440440029806\n",
      "Optimization restart 9/10, f = 368.5726778292344\n",
      "Optimization restart 10/10, f = 340.1055335295609\n"
     ]
    },
    {
     "data": {
      "application/vnd.jupyter.widget-view+json": {
       "model_id": "ddb693853c2e4e26b81074852abe8087",
       "version_major": 2,
       "version_minor": 0
      },
      "text/plain": [
       "HBox(children=(HTML(value=''), FloatProgress(value=0.0, max=10000.0), HTML(value='')))"
      ]
     },
     "metadata": {},
     "output_type": "display_data"
    },
    {
     "name": "stdout",
     "output_type": "stream",
     "text": [
      "\n",
      "Optimization restart 1/10, f = -12.546893783105904\n",
      "Optimization restart 2/10, f = -12.549679312553302\n",
      "Optimization restart 3/10, f = -12.54967931221293\n",
      "Optimization restart 4/10, f = -12.549679312100494\n",
      "Optimization restart 5/10, f = -12.549679249022773\n",
      "Optimization restart 6/10, f = -12.549679312853222\n",
      "Optimization restart 7/10, f = -12.549679312538679\n",
      "Optimization restart 8/10, f = -12.549679312497254\n",
      "Optimization restart 9/10, f = -12.549679312178412\n",
      "Optimization restart 10/10, f = -12.549679312439363\n",
      "Optimization restart 1/10, f = 289.70223320694936\n",
      "Optimization restart 2/10, f = 354.72957677588283\n",
      "Optimization restart 3/10, f = 369.0554621967784\n",
      "Optimization restart 4/10, f = 337.33032283223525\n",
      "Optimization restart 5/10, f = 294.8016569415045\n",
      "Optimization restart 6/10, f = 337.33023633962597\n",
      "Optimization restart 7/10, f = 289.66929669316204\n",
      "Optimization restart 8/10, f = 337.33021098778704\n",
      "Optimization restart 9/10, f = 337.3302105314769\n",
      "Optimization restart 10/10, f = 337.3302106807222\n"
     ]
    },
    {
     "data": {
      "application/vnd.jupyter.widget-view+json": {
       "model_id": "2c1d3f8992454423a9642f6159e14137",
       "version_major": 2,
       "version_minor": 0
      },
      "text/plain": [
       "HBox(children=(HTML(value=''), FloatProgress(value=0.0, max=10000.0), HTML(value='')))"
      ]
     },
     "metadata": {},
     "output_type": "display_data"
    },
    {
     "name": "stdout",
     "output_type": "stream",
     "text": [
      "\n",
      "Optimization restart 1/10, f = -13.15493607060856\n",
      "Optimization restart 2/10, f = -13.1556144905691\n",
      "Optimization restart 3/10, f = -13.155614490913017\n",
      "Optimization restart 4/10, f = -13.15561449099524\n",
      "Optimization restart 5/10, f = -13.155614491042687\n",
      "Optimization restart 6/10, f = -13.155614491227748\n",
      "Optimization restart 7/10, f = -13.155614491152306\n",
      "Optimization restart 8/10, f = -13.155614490797955\n",
      "Optimization restart 9/10, f = -13.155614490730407\n",
      "Optimization restart 10/10, f = -13.155614491106025\n",
      "Optimization restart 1/10, f = 294.4613427868911\n",
      "Optimization restart 2/10, f = 341.98265404099624\n",
      "Optimization restart 3/10, f = 342.89855018482405\n",
      "Optimization restart 4/10, f = 379.63229574582436\n",
      "Optimization restart 5/10, f = 342.8985104395967\n",
      "Optimization restart 6/10, f = 351.7274838828809\n",
      "Optimization restart 7/10, f = 349.5329004162842\n",
      "Optimization restart 8/10, f = 565.3246427388359\n",
      "Optimization restart 9/10, f = 342.8985075323964\n",
      "Optimization restart 10/10, f = 294.46061358008836\n"
     ]
    },
    {
     "data": {
      "application/vnd.jupyter.widget-view+json": {
       "model_id": "ac49e93c6b5748869b05ce5e662d13f1",
       "version_major": 2,
       "version_minor": 0
      },
      "text/plain": [
       "HBox(children=(HTML(value=''), FloatProgress(value=0.0, max=10000.0), HTML(value='')))"
      ]
     },
     "metadata": {},
     "output_type": "display_data"
    },
    {
     "name": "stdout",
     "output_type": "stream",
     "text": [
      "\n",
      "Optimization restart 1/10, f = -14.296172484266158\n",
      "Optimization restart 2/10, f = -14.29617248502317\n",
      "Optimization restart 3/10, f = -14.296172485233047\n",
      "Optimization restart 4/10, f = -14.296172484934697\n",
      "Optimization restart 5/10, f = -14.296172484867746\n",
      "Optimization restart 6/10, f = -14.29617248455165\n",
      "Optimization restart 7/10, f = -14.296172484940175\n",
      "Optimization restart 8/10, f = -14.296172485052857\n",
      "Optimization restart 9/10, f = -14.296172485286444\n",
      "Optimization restart 10/10, f = -14.29617248428897\n",
      "Optimization restart 1/10, f = 299.10930156195434\n",
      "Optimization restart 2/10, f = 360.9925091048865\n",
      "Optimization restart 3/10, f = 299.1789418505879\n",
      "Optimization restart 4/10, f = 348.4469962212779\n",
      "Optimization restart 5/10, f = 348.44695143897945\n",
      "Optimization restart 6/10, f = 348.44694841698504\n",
      "Optimization restart 7/10, f = 299.1789418530946\n",
      "Optimization restart 8/10, f = 348.4469552656078\n",
      "Optimization restart 9/10, f = 299.1789418507671\n",
      "Optimization restart 10/10, f = 348.44694744500674\n"
     ]
    },
    {
     "data": {
      "application/vnd.jupyter.widget-view+json": {
       "model_id": "a970cebff56646a5825e17faf89deca7",
       "version_major": 2,
       "version_minor": 0
      },
      "text/plain": [
       "HBox(children=(HTML(value=''), FloatProgress(value=0.0, max=10000.0), HTML(value='')))"
      ]
     },
     "metadata": {},
     "output_type": "display_data"
    },
    {
     "name": "stdout",
     "output_type": "stream",
     "text": [
      "\n",
      "Optimization restart 1/10, f = -15.459397860032535\n",
      "Optimization restart 2/10, f = -15.483092866341558\n",
      "Optimization restart 3/10, f = -15.483092866669914\n",
      "Optimization restart 4/10, f = -15.483092866691397\n",
      "Optimization restart 5/10, f = -15.483092866412871\n",
      "Optimization restart 6/10, f = -15.483092866688445\n",
      "Optimization restart 7/10, f = -15.48309285341459\n",
      "Optimization restart 8/10, f = -15.483092864231828\n",
      "Optimization restart 9/10, f = -15.483092866600447\n",
      "Optimization restart 10/10, f = -15.483092866620876\n",
      "Optimization restart 1/10, f = 303.686489249756\n",
      "Optimization restart 2/10, f = 301.3603961088482\n",
      "Optimization restart 3/10, f = 353.98345149616597\n",
      "Optimization restart 4/10, f = 301.3603960728993\n",
      "Optimization restart 5/10, f = 301.3603960733796\n",
      "Optimization restart 6/10, f = 301.36039607433355\n",
      "Optimization restart 7/10, f = 353.98344499315357\n",
      "Optimization restart 8/10, f = 353.98357219981284\n",
      "Optimization restart 9/10, f = 353.98350481818636\n",
      "Optimization restart 10/10, f = 413.23817684112566\n"
     ]
    },
    {
     "data": {
      "application/vnd.jupyter.widget-view+json": {
       "model_id": "0a41c91e0779475aafb51514dd042791",
       "version_major": 2,
       "version_minor": 0
      },
      "text/plain": [
       "HBox(children=(HTML(value=''), FloatProgress(value=0.0, max=10000.0), HTML(value='')))"
      ]
     },
     "metadata": {},
     "output_type": "display_data"
    },
    {
     "name": "stdout",
     "output_type": "stream",
     "text": [
      "\n",
      "Optimization restart 1/10, f = -16.202550774787362\n",
      "Optimization restart 2/10, f = -16.203939748958295\n",
      "Optimization restart 3/10, f = -16.203939743909064\n",
      "Optimization restart 4/10, f = -16.203939749038685\n",
      "Optimization restart 5/10, f = -16.20393974892319\n",
      "Optimization restart 6/10, f = -16.20393935797003\n",
      "Optimization restart 7/10, f = -16.203939744241207\n",
      "Optimization restart 8/10, f = -16.203939748938467\n",
      "Optimization restart 9/10, f = -16.203939749020098\n",
      "Optimization restart 10/10, f = -16.20393974298816\n",
      "Optimization restart 1/10, f = 308.0813575095593\n",
      "Optimization restart 2/10, f = 359.9139385994304\n",
      "Optimization restart 3/10, f = 308.0714744513982\n",
      "Optimization restart 4/10, f = 374.1655332464704\n",
      "Optimization restart 5/10, f = 362.15090099829166\n",
      "Optimization restart 6/10, f = 388.5589255313441\n",
      "Optimization restart 7/10, f = 358.693286571868\n",
      "Optimization restart 8/10, f = 409.45253855681125\n",
      "Optimization restart 9/10, f = 365.9715049052928\n",
      "Optimization restart 10/10, f = 360.4718597419263\n"
     ]
    },
    {
     "data": {
      "application/vnd.jupyter.widget-view+json": {
       "model_id": "52f1e2d088fd4d1eaad38ff9542eb63e",
       "version_major": 2,
       "version_minor": 0
      },
      "text/plain": [
       "HBox(children=(HTML(value=''), FloatProgress(value=0.0, max=10000.0), HTML(value='')))"
      ]
     },
     "metadata": {},
     "output_type": "display_data"
    },
    {
     "name": "stdout",
     "output_type": "stream",
     "text": [
      "\n",
      "Optimization restart 1/10, f = -17.201224534025496\n",
      "Optimization restart 2/10, f = -17.20905055526189\n",
      "Optimization restart 3/10, f = -17.209049537922187\n",
      "Optimization restart 4/10, f = -17.209050555113624\n",
      "Optimization restart 5/10, f = -17.209050554936766\n",
      "Optimization restart 6/10, f = -17.209050553545353\n",
      "Optimization restart 7/10, f = -17.209050554851554\n",
      "Optimization restart 8/10, f = -17.209050497185483\n",
      "Optimization restart 9/10, f = -17.209050549864806\n",
      "Optimization restart 10/10, f = -17.2090505551629\n",
      "Optimization restart 1/10, f = 313.32881561224633\n",
      "Optimization restart 2/10, f = 380.40859117270367\n",
      "Optimization restart 3/10, f = 343.15573997357944\n",
      "Optimization restart 4/10, f = 313.3263575350059\n",
      "Optimization restart 5/10, f = 365.69524132610377\n",
      "Optimization restart 6/10, f = 365.69521905519554\n",
      "Optimization restart 7/10, f = 320.33719374895185\n",
      "Optimization restart 8/10, f = 367.5984685684847\n",
      "Optimization restart 9/10, f = 365.6952510756163\n",
      "Optimization restart 10/10, f = 365.695217280938\n"
     ]
    },
    {
     "data": {
      "application/vnd.jupyter.widget-view+json": {
       "model_id": "d17ba8252c38461cac51dfd8e689f9a0",
       "version_major": 2,
       "version_minor": 0
      },
      "text/plain": [
       "HBox(children=(HTML(value=''), FloatProgress(value=0.0, max=10000.0), HTML(value='')))"
      ]
     },
     "metadata": {},
     "output_type": "display_data"
    },
    {
     "name": "stdout",
     "output_type": "stream",
     "text": [
      "\n",
      "Optimization restart 1/10, f = -18.38926728004606\n",
      "Optimization restart 2/10, f = -18.367156239966103\n",
      "Optimization restart 3/10, f = -18.38972172505102\n",
      "Optimization restart 4/10, f = -18.38972172574818\n",
      "Optimization restart 5/10, f = -18.389721725781715\n",
      "Optimization restart 6/10, f = -18.38972172524822\n",
      "Optimization restart 7/10, f = -18.38972170214742\n",
      "Optimization restart 8/10, f = -18.38972169862775\n",
      "Optimization restart 9/10, f = -18.38972172520307\n",
      "Optimization restart 10/10, f = -18.38972172560726\n",
      "Optimization restart 1/10, f = 319.5758574478019\n",
      "Optimization restart 2/10, f = 383.3710363594202\n",
      "Optimization restart 3/10, f = 396.8692401696338\n",
      "Optimization restart 4/10, f = 371.32187084979256\n",
      "Optimization restart 5/10, f = 427.9300276535028\n",
      "Optimization restart 6/10, f = 371.32183456969676\n",
      "Optimization restart 7/10, f = 319.5594938506598\n",
      "Optimization restart 8/10, f = 326.5345520955566\n",
      "Optimization restart 9/10, f = 409.6303032843542\n",
      "Optimization restart 10/10, f = 359.77166875092274\n"
     ]
    },
    {
     "data": {
      "application/vnd.jupyter.widget-view+json": {
       "model_id": "e8a803b41f124453a37083b6f0b91fdb",
       "version_major": 2,
       "version_minor": 0
      },
      "text/plain": [
       "HBox(children=(HTML(value=''), FloatProgress(value=0.0, max=10000.0), HTML(value='')))"
      ]
     },
     "metadata": {},
     "output_type": "display_data"
    },
    {
     "name": "stdout",
     "output_type": "stream",
     "text": [
      "\n",
      "Optimization restart 1/10, f = -19.34691045001343\n",
      "Optimization restart 2/10, f = -19.346910449514894\n",
      "Optimization restart 3/10, f = -19.346910449487805\n",
      "Optimization restart 4/10, f = -19.346910449329684\n",
      "Optimization restart 5/10, f = -19.346910446815873\n",
      "Optimization restart 6/10, f = -19.346910449031707\n",
      "Optimization restart 7/10, f = -19.346910446124376\n",
      "Optimization restart 8/10, f = -19.346910449668087\n",
      "Optimization restart 9/10, f = -19.346910450089524\n",
      "Optimization restart 10/10, f = -19.34691045041936\n",
      "Optimization restart 1/10, f = 325.03912919485293\n",
      "Optimization restart 2/10, f = 325.03911621499407\n",
      "Optimization restart 3/10, f = 325.03911621502345\n",
      "Optimization restart 4/10, f = 325.0391164561354\n",
      "Optimization restart 5/10, f = 325.0391162152713\n",
      "Optimization restart 6/10, f = 389.5089720053771\n",
      "Optimization restart 7/10, f = 321.67385854706885\n",
      "Optimization restart 8/10, f = 377.1691636384606\n",
      "Optimization restart 9/10, f = 324.4713513746927\n",
      "Optimization restart 10/10, f = 386.42959396179356\n"
     ]
    },
    {
     "data": {
      "application/vnd.jupyter.widget-view+json": {
       "model_id": "c58e540cdaaa4ab88ba52c946f1544d9",
       "version_major": 2,
       "version_minor": 0
      },
      "text/plain": [
       "HBox(children=(HTML(value=''), FloatProgress(value=0.0, max=10000.0), HTML(value='')))"
      ]
     },
     "metadata": {},
     "output_type": "display_data"
    },
    {
     "name": "stdout",
     "output_type": "stream",
     "text": [
      "\n",
      "Optimization restart 1/10, f = -20.60823989054022\n",
      "Optimization restart 2/10, f = -20.608541850002045\n",
      "Optimization restart 3/10, f = -20.608541851421293\n",
      "Optimization restart 4/10, f = -20.608541851801117\n",
      "Optimization restart 5/10, f = -20.505689338537806\n",
      "Optimization restart 6/10, f = -20.60854185157268\n",
      "Optimization restart 7/10, f = -20.568816867107643\n",
      "Optimization restart 8/10, f = -20.608541807521433\n",
      "Optimization restart 9/10, f = -20.608541852541308\n",
      "Optimization restart 10/10, f = -20.60854184773335\n",
      "Optimization restart 1/10, f = 327.1382456248721\n",
      "Optimization restart 2/10, f = 382.7491514817191\n",
      "Optimization restart 3/10, f = 388.4362627678289\n",
      "Optimization restart 4/10, f = 402.29416244493825\n",
      "Optimization restart 5/10, f = 382.7492416792321\n",
      "Optimization restart 6/10, f = 330.4648730895623\n",
      "Optimization restart 7/10, f = 386.4931340931904\n",
      "Optimization restart 8/10, f = 382.7491658730214\n",
      "Optimization restart 9/10, f = 330.4648730902213\n",
      "Optimization restart 10/10, f = 382.749185518377\n"
     ]
    },
    {
     "data": {
      "application/vnd.jupyter.widget-view+json": {
       "model_id": "0c625cce8b1b451d9582fca9a9b3fb8f",
       "version_major": 2,
       "version_minor": 0
      },
      "text/plain": [
       "HBox(children=(HTML(value=''), FloatProgress(value=0.0, max=10000.0), HTML(value='')))"
      ]
     },
     "metadata": {},
     "output_type": "display_data"
    },
    {
     "name": "stdout",
     "output_type": "stream",
     "text": [
      "\n",
      "Optimization restart 1/10, f = -21.841382246139723\n",
      "Optimization restart 2/10, f = -21.844188278505683\n",
      "Optimization restart 3/10, f = -21.844188279444474\n",
      "Optimization restart 4/10, f = -21.84418827900499\n",
      "Optimization restart 5/10, f = -21.775155622091525\n",
      "Optimization restart 6/10, f = -21.844188279349048\n",
      "Optimization restart 7/10, f = -21.84418827857224\n",
      "Optimization restart 8/10, f = -21.844188278328353\n",
      "Optimization restart 9/10, f = -21.844188278584248\n",
      "Optimization restart 10/10, f = -21.84418826916798\n",
      "Optimization restart 1/10, f = 331.515585099502\n",
      "Optimization restart 2/10, f = 386.3538904547356\n",
      "Optimization restart 3/10, f = 390.43161152443383\n",
      "Optimization restart 4/10, f = 409.39859018397783\n",
      "Optimization restart 5/10, f = 377.17340570896175\n",
      "Optimization restart 6/10, f = 388.2534688038006\n",
      "Optimization restart 7/10, f = 333.6465728976346\n",
      "Optimization restart 8/10, f = 388.2533797342238\n",
      "Optimization restart 9/10, f = 333.64657297577537\n",
      "Optimization restart 10/10, f = 331.10931151529434\n"
     ]
    },
    {
     "data": {
      "application/vnd.jupyter.widget-view+json": {
       "model_id": "9c600d82ad104a3fa1dae22412138588",
       "version_major": 2,
       "version_minor": 0
      },
      "text/plain": [
       "HBox(children=(HTML(value=''), FloatProgress(value=0.0, max=10000.0), HTML(value='')))"
      ]
     },
     "metadata": {},
     "output_type": "display_data"
    },
    {
     "name": "stdout",
     "output_type": "stream",
     "text": [
      "\n",
      "Optimization restart 1/10, f = -22.992202978295822\n",
      "Optimization restart 2/10, f = -23.022346898663542\n",
      "Optimization restart 3/10, f = -23.02234689070938\n",
      "Optimization restart 4/10, f = -23.02234689639291\n",
      "Optimization restart 5/10, f = -23.022346898785578\n",
      "Optimization restart 6/10, f = -23.02234689558304\n",
      "Optimization restart 7/10, f = -23.022346898493375\n",
      "Optimization restart 8/10, f = -23.02234689867924\n",
      "Optimization restart 9/10, f = -23.022346898801928\n",
      "Optimization restart 10/10, f = -23.02234689174542\n",
      "Optimization restart 1/10, f = 335.4308944394107\n",
      "Optimization restart 2/10, f = 343.3128376743694\n",
      "Optimization restart 3/10, f = 417.27513946722405\n",
      "Optimization restart 4/10, f = 334.8092686812998\n",
      "Optimization restart 5/10, f = 397.99420058107404\n",
      "Warning - optimization restart 6/10 failed\n",
      "Optimization restart 7/10, f = 335.43089392623966\n"
     ]
    },
    {
     "name": "stderr",
     "output_type": "stream",
     "text": [
      " /home/gejinchen/anaconda3/lib/python3.7/site-packages/GPy/kern/src/stationary.py:568: RuntimeWarning:overflow encountered in multiply\n",
      " /home/gejinchen/anaconda3/lib/python3.7/site-packages/GPy/kern/src/stationary.py:568: RuntimeWarning:invalid value encountered in multiply\n"
     ]
    },
    {
     "name": "stdout",
     "output_type": "stream",
     "text": [
      "Optimization restart 8/10, f = 334.80926862489304\n",
      "Optimization restart 9/10, f = 334.80926863846975\n",
      "Optimization restart 10/10, f = 335.4308935880531\n"
     ]
    },
    {
     "data": {
      "application/vnd.jupyter.widget-view+json": {
       "model_id": "1e4b077ac154452e84678a28d9b1a3a2",
       "version_major": 2,
       "version_minor": 0
      },
      "text/plain": [
       "HBox(children=(HTML(value=''), FloatProgress(value=0.0, max=10000.0), HTML(value='')))"
      ]
     },
     "metadata": {},
     "output_type": "display_data"
    },
    {
     "name": "stdout",
     "output_type": "stream",
     "text": [
      "\n",
      "Optimization restart 1/10, f = -24.208360479574296\n",
      "Optimization restart 2/10, f = -24.23546267869937\n",
      "Optimization restart 3/10, f = -24.23546267948312\n",
      "Optimization restart 4/10, f = -24.235462679498696\n",
      "Optimization restart 5/10, f = -24.2354626789341\n",
      "Optimization restart 6/10, f = -24.23546267903039\n",
      "Optimization restart 7/10, f = -24.235462679032295\n",
      "Optimization restart 8/10, f = -24.235462679391127\n",
      "Optimization restart 9/10, f = -24.23546267629083\n",
      "Optimization restart 10/10, f = -24.23546267880453\n",
      "Optimization restart 1/10, f = 339.36974914835304\n",
      "Optimization restart 2/10, f = 399.75455423801645\n",
      "Optimization restart 3/10, f = 339.3633734402109\n",
      "Optimization restart 4/10, f = 436.1298325213601\n",
      "Optimization restart 5/10, f = 409.0886594519466\n",
      "Optimization restart 6/10, f = 420.9587434731602\n",
      "Optimization restart 7/10, f = 425.19551610410724\n",
      "Optimization restart 8/10, f = 399.21540832621156\n",
      "Optimization restart 9/10, f = 339.36337343801836\n",
      "Optimization restart 10/10, f = 512.3939013352447\n"
     ]
    },
    {
     "data": {
      "application/vnd.jupyter.widget-view+json": {
       "model_id": "e7a7d4510532419fa9f084cf549f35e4",
       "version_major": 2,
       "version_minor": 0
      },
      "text/plain": [
       "HBox(children=(HTML(value=''), FloatProgress(value=0.0, max=10000.0), HTML(value='')))"
      ]
     },
     "metadata": {},
     "output_type": "display_data"
    },
    {
     "name": "stdout",
     "output_type": "stream",
     "text": [
      "\n",
      "Optimization restart 1/10, f = -25.385865936793238\n",
      "Optimization restart 2/10, f = -25.385865936895065\n",
      "Optimization restart 3/10, f = -25.3858659366716\n",
      "Optimization restart 4/10, f = -25.385865936838222\n",
      "Optimization restart 5/10, f = -25.385865443354056\n",
      "Optimization restart 6/10, f = -25.38586593681474\n",
      "Optimization restart 7/10, f = -25.38586593661531\n",
      "Optimization restart 8/10, f = -25.385865936567114\n",
      "Optimization restart 9/10, f = -25.385865875088008\n",
      "Optimization restart 10/10, f = -25.3858659366759\n",
      "Optimization restart 1/10, f = 344.51271144582665\n",
      "Optimization restart 2/10, f = 344.51269414127233\n",
      "Optimization restart 3/10, f = 406.20766850010756\n",
      "Optimization restart 4/10, f = 346.14166975119514\n",
      "Optimization restart 5/10, f = 448.17632974236324\n",
      "Optimization restart 6/10, f = 428.6342172534863\n",
      "Optimization restart 7/10, f = 344.51269414111084\n",
      "Optimization restart 8/10, f = 448.53032343793757\n",
      "Optimization restart 9/10, f = 446.91797325301536\n",
      "Optimization restart 10/10, f = 440.02067344153255\n"
     ]
    },
    {
     "data": {
      "application/vnd.jupyter.widget-view+json": {
       "model_id": "c266ef1805f644c1aec241a0f6705eb2",
       "version_major": 2,
       "version_minor": 0
      },
      "text/plain": [
       "HBox(children=(HTML(value=''), FloatProgress(value=0.0, max=10000.0), HTML(value='')))"
      ]
     },
     "metadata": {},
     "output_type": "display_data"
    },
    {
     "name": "stdout",
     "output_type": "stream",
     "text": [
      "\n",
      "Optimization restart 1/10, f = -26.527829079216595\n",
      "Optimization restart 2/10, f = -26.527827252854934\n",
      "Optimization restart 3/10, f = -26.527829055229226\n",
      "Optimization restart 4/10, f = -26.527829078565098\n",
      "Optimization restart 5/10, f = -26.527829079295927\n",
      "Optimization restart 6/10, f = -26.527828966658987\n",
      "Optimization restart 7/10, f = -26.52782881588349\n",
      "Optimization restart 8/10, f = -26.527829078012886\n",
      "Optimization restart 9/10, f = -26.527829079450484\n",
      "Optimization restart 10/10, f = -26.527829078045514\n",
      "Optimization restart 1/10, f = 349.371064187824\n",
      "Optimization restart 2/10, f = 349.36323253843443\n",
      "Optimization restart 3/10, f = 349.36323254058516\n",
      "Optimization restart 4/10, f = 410.28662753478005\n",
      "Optimization restart 5/10, f = 408.37477588072096\n",
      "Optimization restart 6/10, f = 359.93048530838826\n",
      "Optimization restart 7/10, f = 410.2866431823307\n",
      "Optimization restart 8/10, f = 554.7484211743033\n",
      "Optimization restart 9/10, f = 410.28665621565466\n",
      "Optimization restart 10/10, f = 411.8230610999056\n"
     ]
    },
    {
     "data": {
      "application/vnd.jupyter.widget-view+json": {
       "model_id": "ac05d006446e490c94c413b3256c0b5b",
       "version_major": 2,
       "version_minor": 0
      },
      "text/plain": [
       "HBox(children=(HTML(value=''), FloatProgress(value=0.0, max=10000.0), HTML(value='')))"
      ]
     },
     "metadata": {},
     "output_type": "display_data"
    },
    {
     "name": "stdout",
     "output_type": "stream",
     "text": [
      "\n",
      "Optimization restart 1/10, f = -27.61750356355185\n",
      "Optimization restart 2/10, f = -27.617503563610498\n",
      "Optimization restart 3/10, f = -27.61750356333608\n",
      "Optimization restart 4/10, f = -27.617503563603734\n",
      "Optimization restart 5/10, f = -27.61750356246725\n",
      "Optimization restart 6/10, f = -27.617503562778282\n",
      "Optimization restart 7/10, f = -27.617503560896658\n",
      "Optimization restart 8/10, f = -27.617503562302318\n",
      "Optimization restart 9/10, f = -27.617503560159662\n",
      "Optimization restart 10/10, f = -27.617503563626478\n",
      "Optimization restart 1/10, f = 354.9148527137017\n",
      "Optimization restart 2/10, f = 418.9922753505173\n",
      "Optimization restart 3/10, f = 470.46235917630963\n",
      "Optimization restart 4/10, f = 354.8803625522108\n",
      "Optimization restart 5/10, f = 414.5115888739806\n",
      "Optimization restart 6/10, f = 432.5160862377382\n",
      "Optimization restart 7/10, f = 463.46970876168996\n",
      "Optimization restart 8/10, f = 568.8227760545038\n",
      "Optimization restart 9/10, f = 449.66041284274985\n",
      "Optimization restart 10/10, f = 416.302901010332\n"
     ]
    },
    {
     "data": {
      "application/vnd.jupyter.widget-view+json": {
       "model_id": "3147935fce7a406ca2411d74b82b5ced",
       "version_major": 2,
       "version_minor": 0
      },
      "text/plain": [
       "HBox(children=(HTML(value=''), FloatProgress(value=0.0, max=10000.0), HTML(value='')))"
      ]
     },
     "metadata": {},
     "output_type": "display_data"
    },
    {
     "name": "stdout",
     "output_type": "stream",
     "text": [
      "\n",
      "Optimization restart 1/10, f = -28.900949349335484\n",
      "Optimization restart 2/10, f = -28.903404912160752\n",
      "Optimization restart 3/10, f = -28.903404910758276\n",
      "Optimization restart 4/10, f = -28.90340488182943\n",
      "Optimization restart 5/10, f = -28.903404911521896\n",
      "Optimization restart 6/10, f = -28.9034049113167\n",
      "Optimization restart 7/10, f = -28.903404912017628\n",
      "Optimization restart 8/10, f = -28.90340491011689\n",
      "Optimization restart 9/10, f = -28.90340472937642\n",
      "Optimization restart 10/10, f = -28.903404911677434\n",
      "Optimization restart 1/10, f = 359.1397064448627\n",
      "Optimization restart 2/10, f = 419.20825529780694\n",
      "Optimization restart 3/10, f = 422.05522343243\n",
      "Optimization restart 4/10, f = 457.23319421194526\n",
      "Optimization restart 5/10, f = 358.20863355917356\n",
      "Optimization restart 6/10, f = 419.4193612426293\n",
      "Optimization restart 7/10, f = 359.1252819600286\n",
      "Optimization restart 8/10, f = 428.90117052828447\n",
      "Optimization restart 9/10, f = 360.26332906937233\n",
      "Optimization restart 10/10, f = 421.7764117287684\n"
     ]
    },
    {
     "data": {
      "application/vnd.jupyter.widget-view+json": {
       "model_id": "0760caac1c19439c8e91dd12fed61f4c",
       "version_major": 2,
       "version_minor": 0
      },
      "text/plain": [
       "HBox(children=(HTML(value=''), FloatProgress(value=0.0, max=10000.0), HTML(value='')))"
      ]
     },
     "metadata": {},
     "output_type": "display_data"
    },
    {
     "name": "stdout",
     "output_type": "stream",
     "text": [
      "\n",
      "Optimization restart 1/10, f = -30.27911755673378\n",
      "Optimization restart 2/10, f = -30.27911755927201\n",
      "Optimization restart 3/10, f = -30.279117559127684\n",
      "Optimization restart 4/10, f = -30.27911755903847\n",
      "Optimization restart 5/10, f = -30.27911755730159\n",
      "Optimization restart 6/10, f = -30.279117558974356\n",
      "Optimization restart 7/10, f = -30.279117559176072\n",
      "Optimization restart 8/10, f = -30.27911755902192\n",
      "Optimization restart 9/10, f = -30.27911674458273\n",
      "Optimization restart 10/10, f = -30.279117559132885\n",
      "Optimization restart 1/10, f = 362.5627446852527\n",
      "Optimization restart 2/10, f = 365.7592485754387\n",
      "Optimization restart 3/10, f = 466.90455321357257\n",
      "Optimization restart 4/10, f = 442.24300810035453\n",
      "Optimization restart 5/10, f = 459.9520129741899\n",
      "Optimization restart 6/10, f = 360.2081560159534\n",
      "Optimization restart 7/10, f = 360.20815600925766\n",
      "Optimization restart 8/10, f = 624.2360485051275\n",
      "Optimization restart 9/10, f = 365.94473780172086\n",
      "Optimization restart 10/10, f = 362.56271103970073\n"
     ]
    },
    {
     "data": {
      "application/vnd.jupyter.widget-view+json": {
       "model_id": "109ad1d63c7141bea982c2357b668dfc",
       "version_major": 2,
       "version_minor": 0
      },
      "text/plain": [
       "HBox(children=(HTML(value=''), FloatProgress(value=0.0, max=10000.0), HTML(value='')))"
      ]
     },
     "metadata": {},
     "output_type": "display_data"
    },
    {
     "name": "stdout",
     "output_type": "stream",
     "text": [
      "\n",
      "Optimization restart 1/10, f = -31.32314569481062\n",
      "Optimization restart 2/10, f = -31.323145672332856\n",
      "Optimization restart 3/10, f = -31.323145695125085\n",
      "Optimization restart 4/10, f = -31.323145694814322\n",
      "Optimization restart 5/10, f = -31.323145694907495\n",
      "Optimization restart 6/10, f = -31.32314569373733\n",
      "Optimization restart 7/10, f = -31.32314569452175\n",
      "Optimization restart 8/10, f = -31.323145694768755\n",
      "Optimization restart 9/10, f = -31.323145695081195\n",
      "Optimization restart 10/10, f = -31.323145695130158\n",
      "Optimization restart 1/10, f = 364.8437946405639\n",
      "Optimization restart 2/10, f = 432.75124854911274\n",
      "Optimization restart 3/10, f = 432.969065380427\n",
      "Optimization restart 4/10, f = 432.75124856081965\n",
      "Optimization restart 5/10, f = 527.3128572441057\n",
      "Optimization restart 6/10, f = 432.7512513763771\n",
      "Optimization restart 7/10, f = 364.8373909138145\n",
      "Optimization restart 8/10, f = 432.7512619650374\n",
      "Optimization restart 9/10, f = 436.3229511896481\n",
      "Optimization restart 10/10, f = 433.8292507347656\n"
     ]
    },
    {
     "data": {
      "application/vnd.jupyter.widget-view+json": {
       "model_id": "156410f8732b488aa57f8062c920a6a1",
       "version_major": 2,
       "version_minor": 0
      },
      "text/plain": [
       "HBox(children=(HTML(value=''), FloatProgress(value=0.0, max=10000.0), HTML(value='')))"
      ]
     },
     "metadata": {},
     "output_type": "display_data"
    },
    {
     "name": "stdout",
     "output_type": "stream",
     "text": [
      "\n",
      "Optimization restart 1/10, f = -32.77874352500804\n",
      "Optimization restart 2/10, f = -32.78056076725293\n",
      "Optimization restart 3/10, f = -32.780560767185214\n",
      "Optimization restart 4/10, f = -32.78056076716422\n",
      "Optimization restart 5/10, f = -32.78056076722667\n",
      "Optimization restart 6/10, f = -32.7805607669585\n",
      "Optimization restart 7/10, f = -32.78056076713696\n",
      "Optimization restart 8/10, f = -32.78056076695363\n",
      "Optimization restart 9/10, f = -32.78056076640026\n",
      "Optimization restart 10/10, f = -32.78056074860757\n",
      "Optimization restart 1/10, f = 368.8488194681533\n",
      "Optimization restart 2/10, f = 662.9056704678624\n",
      "Optimization restart 3/10, f = 438.18548118272395\n",
      "Optimization restart 4/10, f = 478.4680469355212\n",
      "Optimization restart 5/10, f = 486.40429539367835\n",
      "Optimization restart 6/10, f = 461.0993643583473\n",
      "Optimization restart 7/10, f = 486.301376575449\n",
      "Optimization restart 8/10, f = 370.97663965796835\n",
      "Optimization restart 9/10, f = 368.8455131773117\n",
      "Optimization restart 10/10, f = 542.1374552248448\n"
     ]
    },
    {
     "data": {
      "application/vnd.jupyter.widget-view+json": {
       "model_id": "34465d7a367941339b9209edc0309d5c",
       "version_major": 2,
       "version_minor": 0
      },
      "text/plain": [
       "HBox(children=(HTML(value=''), FloatProgress(value=0.0, max=10000.0), HTML(value='')))"
      ]
     },
     "metadata": {},
     "output_type": "display_data"
    },
    {
     "name": "stdout",
     "output_type": "stream",
     "text": [
      "\n",
      "Optimization restart 1/10, f = -34.10424362454661\n",
      "Optimization restart 2/10, f = -34.10440999776961\n",
      "Optimization restart 3/10, f = -34.104409988904145\n",
      "Optimization restart 4/10, f = -34.104409997914885\n",
      "Optimization restart 5/10, f = -34.10440998924223\n",
      "Optimization restart 6/10, f = -34.104409997657946\n",
      "Optimization restart 7/10, f = -34.104409997876026\n",
      "Optimization restart 8/10, f = -34.10440999805087\n",
      "Optimization restart 9/10, f = -34.104409983405425\n",
      "Optimization restart 10/10, f = -34.104409988934606\n",
      "Optimization restart 1/10, f = 372.6357237870745\n",
      "Optimization restart 2/10, f = 443.60792811934255\n",
      "Optimization restart 3/10, f = 372.6356820613963\n",
      "Optimization restart 4/10, f = 372.63568206299556\n",
      "Optimization restart 5/10, f = 439.3353766951538\n",
      "Optimization restart 6/10, f = 495.3543576914808\n",
      "Optimization restart 7/10, f = 377.7758948514868\n",
      "Optimization restart 8/10, f = 381.07854292470245\n",
      "Optimization restart 9/10, f = 440.7828498155716\n",
      "Optimization restart 10/10, f = 450.0462920576717\n"
     ]
    },
    {
     "data": {
      "application/vnd.jupyter.widget-view+json": {
       "model_id": "861c59bb40ee4d8ba9b7c42912e4331f",
       "version_major": 2,
       "version_minor": 0
      },
      "text/plain": [
       "HBox(children=(HTML(value=''), FloatProgress(value=0.0, max=10000.0), HTML(value='')))"
      ]
     },
     "metadata": {},
     "output_type": "display_data"
    },
    {
     "name": "stdout",
     "output_type": "stream",
     "text": [
      "\n",
      "Optimization restart 1/10, f = -35.29762341025491\n",
      "Optimization restart 2/10, f = -35.297623409056996\n",
      "Optimization restart 3/10, f = -35.29762337416134\n",
      "Optimization restart 4/10, f = -35.29762340999726\n",
      "Optimization restart 5/10, f = -35.297623409291795\n",
      "Optimization restart 6/10, f = -35.29762341037562\n",
      "Optimization restart 7/10, f = -35.297623409229494\n",
      "Optimization restart 8/10, f = -35.297623409782155\n",
      "Optimization restart 9/10, f = -35.297623410229576\n",
      "Optimization restart 10/10, f = -35.29762341038476\n",
      "Optimization restart 1/10, f = 380.35602927052867\n",
      "Optimization restart 2/10, f = 481.3224549358748\n",
      "Optimization restart 3/10, f = 454.11451188743814\n",
      "Optimization restart 4/10, f = 449.0767309370297\n",
      "Optimization restart 5/10, f = 449.03585286438323\n",
      "Optimization restart 6/10, f = 449.0358491915703\n",
      "Optimization restart 7/10, f = 379.3662686908918\n",
      "Optimization restart 8/10, f = 452.83327760813705\n",
      "Optimization restart 9/10, f = 489.4685115977902\n",
      "Optimization restart 10/10, f = 446.1552613653142\n"
     ]
    },
    {
     "data": {
      "application/vnd.jupyter.widget-view+json": {
       "model_id": "c448151f14d6429ea87d32f526be11cf",
       "version_major": 2,
       "version_minor": 0
      },
      "text/plain": [
       "HBox(children=(HTML(value=''), FloatProgress(value=0.0, max=10000.0), HTML(value='')))"
      ]
     },
     "metadata": {},
     "output_type": "display_data"
    },
    {
     "name": "stdout",
     "output_type": "stream",
     "text": [
      "\n",
      "Optimization restart 1/10, f = -36.61897069878697\n",
      "Optimization restart 2/10, f = -36.62394804774877\n",
      "Optimization restart 3/10, f = -36.623948047750844\n",
      "Optimization restart 4/10, f = -36.62394804763017\n",
      "Optimization restart 5/10, f = -36.623948047910126\n",
      "Optimization restart 6/10, f = -36.62394804719028\n",
      "Optimization restart 7/10, f = -36.62394804636686\n",
      "Optimization restart 8/10, f = -36.623948047664435\n",
      "Optimization restart 9/10, f = -36.623948047853034\n",
      "Optimization restart 10/10, f = -36.62394804786753\n",
      "Optimization restart 1/10, f = 384.0664080168884\n",
      "Optimization restart 2/10, f = 454.4775803201103\n",
      "Optimization restart 3/10, f = 454.47757886477666\n",
      "Optimization restart 4/10, f = 464.43167633354915\n",
      "Optimization restart 5/10, f = 473.720046905348\n",
      "Optimization restart 6/10, f = 541.0172109883813\n",
      "Optimization restart 7/10, f = 455.1044858310375\n",
      "Optimization restart 8/10, f = 382.35738863350247\n",
      "Optimization restart 9/10, f = 454.4776092512117\n",
      "Optimization restart 10/10, f = 384.42696938910956\n"
     ]
    },
    {
     "data": {
      "application/vnd.jupyter.widget-view+json": {
       "model_id": "b73dd881a2724e35afc1b34bec4fd4e6",
       "version_major": 2,
       "version_minor": 0
      },
      "text/plain": [
       "HBox(children=(HTML(value=''), FloatProgress(value=0.0, max=10000.0), HTML(value='')))"
      ]
     },
     "metadata": {},
     "output_type": "display_data"
    },
    {
     "name": "stdout",
     "output_type": "stream",
     "text": [
      "\n",
      "Optimization restart 1/10, f = -37.753244029458656\n",
      "Optimization restart 2/10, f = -37.753244024415324\n",
      "Optimization restart 3/10, f = -37.75324399641698\n",
      "Optimization restart 4/10, f = -37.75324402963682\n",
      "Optimization restart 5/10, f = -37.7532440293277\n",
      "Optimization restart 6/10, f = -37.75324402954154\n",
      "Optimization restart 7/10, f = -37.75324402927559\n",
      "Optimization restart 8/10, f = -37.753244029448375\n",
      "Optimization restart 9/10, f = -37.75324402955296\n",
      "Optimization restart 10/10, f = -37.75324402982449\n",
      "Optimization restart 1/10, f = 386.39940234156035\n",
      "Optimization restart 2/10, f = 459.8970904944921\n",
      "Optimization restart 3/10, f = 386.3973785331858\n",
      "Optimization restart 4/10, f = 459.8971356798156\n",
      "Optimization restart 5/10, f = 490.067373202362\n",
      "Optimization restart 6/10, f = 456.8713963425679\n",
      "Optimization restart 7/10, f = 556.5431878832529\n",
      "Optimization restart 8/10, f = 460.87354240174136\n",
      "Optimization restart 9/10, f = 386.39737853441994\n",
      "Optimization restart 10/10, f = 456.87136321238285\n"
     ]
    },
    {
     "data": {
      "application/vnd.jupyter.widget-view+json": {
       "model_id": "d8c037e3644e433f8e4f7ec459c24fa4",
       "version_major": 2,
       "version_minor": 0
      },
      "text/plain": [
       "HBox(children=(HTML(value=''), FloatProgress(value=0.0, max=10000.0), HTML(value='')))"
      ]
     },
     "metadata": {},
     "output_type": "display_data"
    },
    {
     "name": "stdout",
     "output_type": "stream",
     "text": [
      "\n",
      "Optimization restart 1/10, f = -38.657889463410456\n",
      "Optimization restart 2/10, f = -38.66150462595357\n",
      "Optimization restart 3/10, f = -38.66150462344503\n",
      "Optimization restart 4/10, f = -38.661504625797015\n",
      "Optimization restart 5/10, f = -38.66150462599132\n",
      "Optimization restart 6/10, f = -38.66150462646846\n",
      "Optimization restart 7/10, f = -38.6615046266125\n",
      "Optimization restart 8/10, f = -38.66150462641095\n",
      "Optimization restart 9/10, f = -38.661504626159186\n",
      "Optimization restart 10/10, f = -38.661504557126115\n",
      "Optimization restart 1/10, f = 388.5609584865807\n",
      "Optimization restart 2/10, f = 388.54455366491413\n",
      "Optimization restart 3/10, f = 388.5445536749834\n",
      "Optimization restart 4/10, f = 465.2911591084555\n",
      "Optimization restart 5/10, f = 392.46519274879796\n",
      "Optimization restart 6/10, f = 465.29119236097586\n",
      "Optimization restart 7/10, f = 388.5445536649532\n",
      "Optimization restart 8/10, f = 397.2159200246048\n",
      "Optimization restart 9/10, f = 388.5445536656565\n",
      "Optimization restart 10/10, f = 467.815243106219\n"
     ]
    },
    {
     "data": {
      "application/vnd.jupyter.widget-view+json": {
       "model_id": "2e4b66088fa7455ebbb411c33b64adaf",
       "version_major": 2,
       "version_minor": 0
      },
      "text/plain": [
       "HBox(children=(HTML(value=''), FloatProgress(value=0.0, max=10000.0), HTML(value='')))"
      ]
     },
     "metadata": {},
     "output_type": "display_data"
    },
    {
     "name": "stdout",
     "output_type": "stream",
     "text": [
      "\n",
      "Optimization restart 1/10, f = -39.93265402341166\n",
      "Optimization restart 2/10, f = -39.932769554753634\n",
      "Optimization restart 3/10, f = -39.93276960007445\n",
      "Optimization restart 4/10, f = -39.93276960775017\n",
      "Optimization restart 5/10, f = -39.932769526052915\n",
      "Optimization restart 6/10, f = -39.93276960597248\n",
      "Optimization restart 7/10, f = -39.69775687041792\n",
      "Optimization restart 8/10, f = -39.93276960770574\n",
      "Optimization restart 9/10, f = -39.93276960383428\n",
      "Optimization restart 10/10, f = -39.93276960644039\n",
      "Optimization restart 1/10, f = 393.07099075292456\n",
      "Optimization restart 2/10, f = 470.70800680237465\n",
      "Optimization restart 3/10, f = 403.68276222972924\n",
      "Optimization restart 4/10, f = 470.70802471670515\n",
      "Optimization restart 5/10, f = 470.70800829523347\n",
      "Optimization restart 6/10, f = 393.06837677741464\n",
      "Optimization restart 7/10, f = 467.62589813012744\n",
      "Optimization restart 8/10, f = 480.2015403471995\n",
      "Optimization restart 9/10, f = 396.83672063127335\n",
      "Optimization restart 10/10, f = 470.708024763102\n"
     ]
    },
    {
     "data": {
      "application/vnd.jupyter.widget-view+json": {
       "model_id": "e110f4a60e1b4aadb9076b9759d1e7d4",
       "version_major": 2,
       "version_minor": 0
      },
      "text/plain": [
       "HBox(children=(HTML(value=''), FloatProgress(value=0.0, max=10000.0), HTML(value='')))"
      ]
     },
     "metadata": {},
     "output_type": "display_data"
    },
    {
     "name": "stdout",
     "output_type": "stream",
     "text": [
      "\n",
      "Optimization restart 1/10, f = -41.42362911951028\n",
      "Optimization restart 2/10, f = -41.42398550634304\n",
      "Optimization restart 3/10, f = -41.42398551201545\n",
      "Optimization restart 4/10, f = -41.42398551072782\n",
      "Optimization restart 5/10, f = -41.423985509841145\n",
      "Optimization restart 6/10, f = -41.423985510213306\n",
      "Optimization restart 7/10, f = -41.423985511996165\n",
      "Optimization restart 8/10, f = -41.423985511884105\n",
      "Optimization restart 9/10, f = -41.42398551187166\n",
      "Optimization restart 10/10, f = -41.42398551183738\n",
      "Optimization restart 1/10, f = 396.81797029424274\n",
      "Optimization restart 2/10, f = 396.81574258404925\n",
      "Optimization restart 3/10, f = 499.10429697991856\n",
      "Optimization restart 4/10, f = 472.9801167371944\n",
      "Optimization restart 5/10, f = 812.8023482342919\n",
      "Optimization restart 6/10, f = 396.8157425966421\n",
      "Optimization restart 7/10, f = 406.0841241389073\n",
      "Optimization restart 8/10, f = 396.8157425848446\n",
      "Optimization restart 9/10, f = 396.8157425854174\n",
      "Optimization restart 10/10, f = 399.6539847793009\n"
     ]
    },
    {
     "data": {
      "application/vnd.jupyter.widget-view+json": {
       "model_id": "2e88b655879a4ea5bb755fd113eb3d50",
       "version_major": 2,
       "version_minor": 0
      },
      "text/plain": [
       "HBox(children=(HTML(value=''), FloatProgress(value=0.0, max=10000.0), HTML(value='')))"
      ]
     },
     "metadata": {},
     "output_type": "display_data"
    },
    {
     "name": "stdout",
     "output_type": "stream",
     "text": [
      "\n",
      "Optimization restart 1/10, f = -42.78875996252247\n",
      "Optimization restart 2/10, f = -42.78940541066613\n",
      "Optimization restart 3/10, f = -42.789405418940326\n",
      "Optimization restart 4/10, f = -42.789405418613214\n",
      "Optimization restart 5/10, f = -42.78940540311985\n",
      "Optimization restart 6/10, f = -42.789405418715525\n",
      "Optimization restart 7/10, f = -42.78940534727722\n",
      "Optimization restart 8/10, f = -42.78940541858797\n",
      "Optimization restart 9/10, f = -42.78940520878254\n",
      "Optimization restart 10/10, f = -42.78940541855209\n",
      "Optimization restart 1/10, f = 400.9370930854785\n",
      "Optimization restart 2/10, f = 413.7847809158952\n",
      "Optimization restart 3/10, f = 481.4843788665447\n",
      "Optimization restart 4/10, f = 481.4843306702261\n",
      "Optimization restart 5/10, f = 450.4641678251097\n",
      "Optimization restart 6/10, f = 409.8938136596857\n",
      "Optimization restart 7/10, f = 481.4901274590352\n",
      "Optimization restart 8/10, f = 478.31662026402597\n",
      "Optimization restart 9/10, f = 500.38035505866617\n",
      "Optimization restart 10/10, f = 470.90211442582125\n"
     ]
    },
    {
     "data": {
      "application/vnd.jupyter.widget-view+json": {
       "model_id": "23cb3401504543a8b3ae880e3352e77f",
       "version_major": 2,
       "version_minor": 0
      },
      "text/plain": [
       "HBox(children=(HTML(value=''), FloatProgress(value=0.0, max=10000.0), HTML(value='')))"
      ]
     },
     "metadata": {},
     "output_type": "display_data"
    },
    {
     "name": "stdout",
     "output_type": "stream",
     "text": [
      "\n",
      "Optimization restart 1/10, f = -44.055038042465085\n",
      "Optimization restart 2/10, f = -44.056094474418245\n",
      "Optimization restart 3/10, f = -44.0560944804538\n",
      "Optimization restart 4/10, f = -44.056094474635636\n",
      "Optimization restart 5/10, f = -44.05609447455965\n",
      "Optimization restart 6/10, f = -44.0560944802176\n",
      "Optimization restart 7/10, f = -44.056094469958\n",
      "Optimization restart 8/10, f = -44.05609448050067\n",
      "Optimization restart 9/10, f = -44.056094257946235\n",
      "Optimization restart 10/10, f = -44.05609448042761\n",
      "Optimization restart 1/10, f = 405.0377666930099\n",
      "Optimization restart 2/10, f = 483.92290366070654\n",
      "Optimization restart 3/10, f = 413.80306901968686\n",
      "Optimization restart 4/10, f = 486.9107941538275\n",
      "Optimization restart 5/10, f = 405.02882906103076\n",
      "Optimization restart 6/10, f = 486.9107421578208\n",
      "Optimization restart 7/10, f = 486.9107490911596\n",
      "Optimization restart 8/10, f = 475.1713227610655\n",
      "Optimization restart 9/10, f = 417.5245227903245\n",
      "Optimization restart 10/10, f = 420.22392502674495\n"
     ]
    },
    {
     "data": {
      "application/vnd.jupyter.widget-view+json": {
       "model_id": "bc553b46f85442029399cc78d2791518",
       "version_major": 2,
       "version_minor": 0
      },
      "text/plain": [
       "HBox(children=(HTML(value=''), FloatProgress(value=0.0, max=10000.0), HTML(value='')))"
      ]
     },
     "metadata": {},
     "output_type": "display_data"
    },
    {
     "name": "stdout",
     "output_type": "stream",
     "text": [
      "\n",
      "Optimization restart 1/10, f = -45.50904499949976\n",
      "Optimization restart 2/10, f = -45.509115051191486\n",
      "Optimization restart 3/10, f = -45.50911504515139\n",
      "Optimization restart 4/10, f = -45.50911503788848\n",
      "Optimization restart 5/10, f = -45.50911505096832\n",
      "Optimization restart 6/10, f = -45.509115050984754\n",
      "Optimization restart 7/10, f = -45.50911504489087\n",
      "Optimization restart 8/10, f = -45.50911505121177\n",
      "Optimization restart 9/10, f = -45.509115051217016\n",
      "Optimization restart 10/10, f = -45.509115029779196\n",
      "Optimization restart 1/10, f = 406.8689125924502\n",
      "Optimization restart 2/10, f = 492.27463758794477\n",
      "Optimization restart 3/10, f = 406.86494267445096\n",
      "Optimization restart 4/10, f = 492.9431007349657\n",
      "Optimization restart 5/10, f = 493.89037717981677\n",
      "Optimization restart 6/10, f = 507.52432915043914\n",
      "Optimization restart 7/10, f = 492.27469760378267\n",
      "Optimization restart 8/10, f = 492.35215782066143\n",
      "Optimization restart 9/10, f = 508.36137182847017\n",
      "Optimization restart 10/10, f = 406.8649426503998\n"
     ]
    },
    {
     "data": {
      "application/vnd.jupyter.widget-view+json": {
       "model_id": "c07ae5554f5440f4b87fd0fd70d07c79",
       "version_major": 2,
       "version_minor": 0
      },
      "text/plain": [
       "HBox(children=(HTML(value=''), FloatProgress(value=0.0, max=10000.0), HTML(value='')))"
      ]
     },
     "metadata": {},
     "output_type": "display_data"
    },
    {
     "name": "stdout",
     "output_type": "stream",
     "text": [
      "\n",
      "Optimization restart 1/10, f = -46.56145732183433\n",
      "Optimization restart 2/10, f = -46.56145732086163\n",
      "Optimization restart 3/10, f = -46.561457322156656\n",
      "Optimization restart 4/10, f = -46.56145730425679\n",
      "Optimization restart 5/10, f = -46.56145732241201\n",
      "Optimization restart 6/10, f = -46.561457322179535\n",
      "Optimization restart 7/10, f = -46.56145732254874\n",
      "Optimization restart 8/10, f = -46.561457322672744\n",
      "Optimization restart 9/10, f = -46.561457321770625\n",
      "Optimization restart 10/10, f = -46.56145731600689\n",
      "Optimization restart 1/10, f = 411.8929158119878\n",
      "Optimization restart 2/10, f = 424.34989560667293\n",
      "Optimization restart 3/10, f = 512.5515674122904\n",
      "Optimization restart 4/10, f = 411.888157209893\n",
      "Optimization restart 5/10, f = 411.8881572062539\n",
      "Optimization restart 6/10, f = 500.90751256000954\n",
      "Optimization restart 7/10, f = 411.88815720872657\n",
      "Optimization restart 8/10, f = 499.85908124417995\n",
      "Optimization restart 9/10, f = 411.8881572117315\n",
      "Optimization restart 10/10, f = 494.97594943981\n"
     ]
    },
    {
     "data": {
      "application/vnd.jupyter.widget-view+json": {
       "model_id": "6f18b2252626469984c465d5d7c9c08f",
       "version_major": 2,
       "version_minor": 0
      },
      "text/plain": [
       "HBox(children=(HTML(value=''), FloatProgress(value=0.0, max=10000.0), HTML(value='')))"
      ]
     },
     "metadata": {},
     "output_type": "display_data"
    },
    {
     "name": "stdout",
     "output_type": "stream",
     "text": [
      "\n",
      "Optimization restart 1/10, f = -47.59939978882587\n",
      "Optimization restart 2/10, f = -47.59939978852772\n",
      "Optimization restart 3/10, f = -47.59939978898148\n",
      "Optimization restart 4/10, f = -47.59939978937846\n",
      "Optimization restart 5/10, f = -47.59939978872165\n",
      "Optimization restart 6/10, f = -47.59939978869207\n",
      "Optimization restart 7/10, f = -47.599399788821586\n",
      "Optimization restart 8/10, f = -47.599399715419835\n",
      "Optimization restart 9/10, f = -47.59939978773013\n",
      "Optimization restart 10/10, f = -47.59939978574164\n",
      "Optimization restart 1/10, f = 416.6261612895333\n",
      "Optimization restart 2/10, f = 416.6237731942071\n",
      "Optimization restart 3/10, f = 520.6331045074522\n",
      "Optimization restart 4/10, f = 491.8149515243795\n",
      "Optimization restart 5/10, f = 530.9125292807031\n",
      "Optimization restart 6/10, f = 508.43616816981756\n",
      "Optimization restart 7/10, f = 504.1065084960573\n",
      "Optimization restart 8/10, f = 490.7943703283837\n",
      "Optimization restart 9/10, f = 500.3173807959561\n",
      "Optimization restart 10/10, f = 531.0209065250701\n"
     ]
    },
    {
     "data": {
      "application/vnd.jupyter.widget-view+json": {
       "model_id": "9676bc8edff3478c8ed8b1d933ab44a3",
       "version_major": 2,
       "version_minor": 0
      },
      "text/plain": [
       "HBox(children=(HTML(value=''), FloatProgress(value=0.0, max=10000.0), HTML(value='')))"
      ]
     },
     "metadata": {},
     "output_type": "display_data"
    },
    {
     "name": "stdout",
     "output_type": "stream",
     "text": [
      "\n",
      "Optimization restart 1/10, f = -48.90165274557151\n",
      "Optimization restart 2/10, f = -48.90170441756304\n",
      "Optimization restart 3/10, f = -48.90170440760836\n",
      "Optimization restart 4/10, f = -48.90170441766881\n",
      "Optimization restart 5/10, f = -48.90170412242762\n",
      "Optimization restart 6/10, f = -48.90170441627684\n",
      "Optimization restart 7/10, f = -48.90170441796765\n",
      "Optimization restart 8/10, f = -48.90170441731473\n",
      "Optimization restart 9/10, f = -48.90170441568539\n",
      "Optimization restart 10/10, f = -48.90170441731211\n",
      "Optimization restart 1/10, f = 418.6305968256099\n",
      "Optimization restart 2/10, f = 509.4660243173902\n",
      "Optimization restart 3/10, f = 509.4660248584463\n",
      "Optimization restart 4/10, f = 509.46597884806175\n",
      "Optimization restart 5/10, f = 418.6141678557198\n",
      "Optimization restart 6/10, f = 509.4659792581329\n",
      "Optimization restart 7/10, f = 530.8898933423719\n",
      "Optimization restart 8/10, f = 515.4461008984359\n",
      "Optimization restart 9/10, f = 590.0873808850495\n",
      "Optimization restart 10/10, f = 539.5192411897706\n"
     ]
    },
    {
     "data": {
      "application/vnd.jupyter.widget-view+json": {
       "model_id": "3a3dca6755d740db86fe78031e738c96",
       "version_major": 2,
       "version_minor": 0
      },
      "text/plain": [
       "HBox(children=(HTML(value=''), FloatProgress(value=0.0, max=10000.0), HTML(value='')))"
      ]
     },
     "metadata": {},
     "output_type": "display_data"
    },
    {
     "name": "stdout",
     "output_type": "stream",
     "text": [
      "\n",
      "Optimization restart 1/10, f = -50.22190400088294\n",
      "Optimization restart 2/10, f = -50.222410239941766\n",
      "Optimization restart 3/10, f = -50.22241024841324\n",
      "Optimization restart 4/10, f = -50.22241025097584\n",
      "Optimization restart 5/10, f = -50.22241025064688\n",
      "Optimization restart 6/10, f = -50.22241025065372\n",
      "Optimization restart 7/10, f = -50.22241013220034\n",
      "Optimization restart 8/10, f = -50.22241025099013\n",
      "Optimization restart 9/10, f = -50.222409856141624\n",
      "Optimization restart 10/10, f = -50.22241025018809\n",
      "Optimization restart 1/10, f = 423.19332508996894\n",
      "Optimization restart 2/10, f = 517.127343925854\n",
      "Optimization restart 3/10, f = 522.0651381901282\n",
      "Optimization restart 4/10, f = 517.3147822285669\n",
      "Optimization restart 5/10, f = 514.8407628354794\n",
      "Optimization restart 6/10, f = 511.000595862296\n",
      "Optimization restart 7/10, f = 423.1921557512318\n",
      "Optimization restart 8/10, f = 536.1398097667524\n",
      "Optimization restart 9/10, f = 514.840775848837\n",
      "Optimization restart 10/10, f = 514.8407636459107\n"
     ]
    },
    {
     "data": {
      "application/vnd.jupyter.widget-view+json": {
       "model_id": "c16488c842c046cdb22605d0b6b21b3b",
       "version_major": 2,
       "version_minor": 0
      },
      "text/plain": [
       "HBox(children=(HTML(value=''), FloatProgress(value=0.0, max=10000.0), HTML(value='')))"
      ]
     },
     "metadata": {},
     "output_type": "display_data"
    },
    {
     "name": "stdout",
     "output_type": "stream",
     "text": [
      "\n",
      "Optimization restart 1/10, f = -51.70337332904418\n",
      "Optimization restart 2/10, f = -51.70370404812024\n",
      "Optimization restart 3/10, f = -51.70370404624329\n",
      "Optimization restart 4/10, f = -51.70370404987971\n",
      "Optimization restart 5/10, f = -51.70370405060475\n",
      "Optimization restart 6/10, f = -51.703704046492746\n",
      "Optimization restart 7/10, f = -51.70370405083258\n",
      "Optimization restart 8/10, f = -51.703704045793614\n",
      "Optimization restart 9/10, f = -51.7037040452433\n",
      "Optimization restart 10/10, f = -51.703704050429856\n",
      "Optimization restart 1/10, f = 426.1043883110101\n",
      "Optimization restart 2/10, f = 426.1017773381838\n",
      "Optimization restart 3/10, f = 520.1884611835884\n",
      "Optimization restart 4/10, f = 520.1884616978646\n",
      "Optimization restart 5/10, f = 538.3080144889774\n",
      "Optimization restart 6/10, f = 426.10177734555054\n",
      "Optimization restart 7/10, f = 435.0639822171919\n",
      "Optimization restart 8/10, f = 520.1884980674854\n",
      "Optimization restart 9/10, f = 426.1017773420168\n",
      "Optimization restart 10/10, f = 543.7479574178128\n"
     ]
    },
    {
     "data": {
      "application/vnd.jupyter.widget-view+json": {
       "model_id": "4e12b2bbdbc842219fe0a899cfad2245",
       "version_major": 2,
       "version_minor": 0
      },
      "text/plain": [
       "HBox(children=(HTML(value=''), FloatProgress(value=0.0, max=10000.0), HTML(value='')))"
      ]
     },
     "metadata": {},
     "output_type": "display_data"
    },
    {
     "name": "stdout",
     "output_type": "stream",
     "text": [
      "\n",
      "Optimization restart 1/10, f = -53.23072099065589\n",
      "Optimization restart 2/10, f = -53.23178778662009\n",
      "Optimization restart 3/10, f = -53.231787707113014\n",
      "Optimization restart 4/10, f = -53.23178778670493\n",
      "Optimization restart 5/10, f = -53.231787786878\n",
      "Optimization restart 6/10, f = -53.23178778686338\n",
      "Optimization restart 7/10, f = -53.231782321419\n",
      "Optimization restart 8/10, f = -53.23178778704695\n",
      "Optimization restart 9/10, f = -53.23178778617471\n",
      "Optimization restart 10/10, f = -53.23178775746044\n",
      "Optimization restart 1/10, f = 426.94714159719837\n",
      "Optimization restart 2/10, f = 426.9462616039853\n",
      "Optimization restart 3/10, f = 537.4403426450779\n",
      "Optimization restart 4/10, f = 525.5307223947365\n",
      "Optimization restart 5/10, f = 426.9462616033665\n",
      "Optimization restart 6/10, f = 535.9924859268183\n",
      "Optimization restart 7/10, f = 426.9462615999952\n",
      "Optimization restart 8/10, f = 556.0209990147486\n",
      "Optimization restart 9/10, f = 525.6252233354787\n",
      "Optimization restart 10/10, f = 525.5307212994978\n"
     ]
    },
    {
     "data": {
      "application/vnd.jupyter.widget-view+json": {
       "model_id": "b0145796cbbf41789e25a9d7eac521f4",
       "version_major": 2,
       "version_minor": 0
      },
      "text/plain": [
       "HBox(children=(HTML(value=''), FloatProgress(value=0.0, max=10000.0), HTML(value='')))"
      ]
     },
     "metadata": {},
     "output_type": "display_data"
    },
    {
     "name": "stdout",
     "output_type": "stream",
     "text": [
      "\n",
      "Optimization restart 1/10, f = -54.77762618466714\n",
      "Optimization restart 2/10, f = -54.778708737236045\n",
      "Optimization restart 3/10, f = -54.77870865696326\n",
      "Optimization restart 4/10, f = -54.77870873640015\n",
      "Optimization restart 5/10, f = -54.778708730860615\n",
      "Optimization restart 6/10, f = -54.77870873720914\n",
      "Optimization restart 7/10, f = -54.77870873752509\n",
      "Optimization restart 8/10, f = -54.77870873707208\n",
      "Optimization restart 9/10, f = -54.778708733630154\n",
      "Optimization restart 10/10, f = -54.77870873392417\n",
      "Optimization restart 1/10, f = 428.4297926714856\n",
      "Optimization restart 2/10, f = 428.429561421911\n",
      "Optimization restart 3/10, f = 554.6808975394064\n",
      "Optimization restart 4/10, f = 428.4295614207825\n",
      "Optimization restart 5/10, f = 428.4295614852534\n",
      "Optimization restart 6/10, f = 428.42956142086314\n",
      "Optimization restart 7/10, f = 538.641535083025\n",
      "Optimization restart 8/10, f = 530.8671859128285\n",
      "Optimization restart 9/10, f = 527.0416986394004\n",
      "Optimization restart 10/10, f = 463.1519687287541\n"
     ]
    },
    {
     "data": {
      "application/vnd.jupyter.widget-view+json": {
       "model_id": "3ad710cba9374c66989f96c8a77f232e",
       "version_major": 2,
       "version_minor": 0
      },
      "text/plain": [
       "HBox(children=(HTML(value=''), FloatProgress(value=0.0, max=10000.0), HTML(value='')))"
      ]
     },
     "metadata": {},
     "output_type": "display_data"
    },
    {
     "name": "stdout",
     "output_type": "stream",
     "text": [
      "\n",
      "Optimization restart 1/10, f = -56.20659521874202\n",
      "Optimization restart 2/10, f = -56.206772079491216\n",
      "Optimization restart 3/10, f = -56.20677207936725\n",
      "Optimization restart 4/10, f = -56.206772079102784\n",
      "Optimization restart 5/10, f = -56.20677207929314\n",
      "Optimization restart 6/10, f = -56.20677208009107\n",
      "Optimization restart 7/10, f = -56.20677207923638\n",
      "Optimization restart 8/10, f = -56.206772079135696\n",
      "Optimization restart 9/10, f = -56.20677203508708\n",
      "Optimization restart 10/10, f = -56.20677207942495\n",
      "Optimization restart 1/10, f = 429.8789858947407\n",
      "Optimization restart 2/10, f = 536.1981847821468\n",
      "Optimization restart 3/10, f = 539.3470915352914\n",
      "Optimization restart 4/10, f = 429.87712656288755\n",
      "Optimization restart 5/10, f = 532.6290594755426\n",
      "Optimization restart 6/10, f = 536.1981876773631\n",
      "Optimization restart 7/10, f = 441.9016846395257\n",
      "Optimization restart 8/10, f = 429.8771265737165\n",
      "Optimization restart 9/10, f = 536.1982018459884\n",
      "Optimization restart 10/10, f = 536.1981905605045\n"
     ]
    },
    {
     "data": {
      "application/vnd.jupyter.widget-view+json": {
       "model_id": "2ad07de7869b4b0582f8adfcac3beb79",
       "version_major": 2,
       "version_minor": 0
      },
      "text/plain": [
       "HBox(children=(HTML(value=''), FloatProgress(value=0.0, max=10000.0), HTML(value='')))"
      ]
     },
     "metadata": {},
     "output_type": "display_data"
    },
    {
     "name": "stdout",
     "output_type": "stream",
     "text": [
      "\n",
      "Optimization restart 1/10, f = -57.74014189095149\n",
      "Optimization restart 2/10, f = -57.74106430411861\n",
      "Optimization restart 3/10, f = -57.741064304169875\n",
      "Optimization restart 4/10, f = -57.7410643047652\n",
      "Optimization restart 5/10, f = -57.74106430426742\n",
      "Optimization restart 6/10, f = -57.74106430472519\n",
      "Optimization restart 7/10, f = -57.741064304067514\n",
      "Optimization restart 8/10, f = -57.741064304767306\n",
      "Optimization restart 9/10, f = -57.741064302204\n",
      "Optimization restart 10/10, f = -57.74106430454317\n",
      "Optimization restart 1/10, f = 430.3683604461757\n",
      "Optimization restart 2/10, f = 558.1032849251538\n",
      "Optimization restart 3/10, f = 551.216894627502\n",
      "Optimization restart 4/10, f = 537.7118434718299\n",
      "Optimization restart 5/10, f = 568.3010938714398\n",
      "Optimization restart 6/10, f = 444.16124053382083\n",
      "Optimization restart 7/10, f = 541.5238101000496\n",
      "Optimization restart 8/10, f = 441.318213774489\n",
      "Optimization restart 9/10, f = 522.4453496065283\n",
      "Optimization restart 10/10, f = 442.43489192011236\n"
     ]
    },
    {
     "data": {
      "application/vnd.jupyter.widget-view+json": {
       "model_id": "36eab09f1669422a8461e071e883be98",
       "version_major": 2,
       "version_minor": 0
      },
      "text/plain": [
       "HBox(children=(HTML(value=''), FloatProgress(value=0.0, max=10000.0), HTML(value='')))"
      ]
     },
     "metadata": {},
     "output_type": "display_data"
    },
    {
     "name": "stdout",
     "output_type": "stream",
     "text": [
      "\n",
      "Optimization restart 1/10, f = -59.32197064670743\n",
      "Optimization restart 2/10, f = -59.32331909703555\n",
      "Optimization restart 3/10, f = -59.323319098211705\n",
      "Optimization restart 4/10, f = -59.32331909909391\n",
      "Optimization restart 5/10, f = -59.32331909506733\n",
      "Optimization restart 6/10, f = -59.32331909815919\n",
      "Optimization restart 7/10, f = -59.32331909890109\n",
      "Optimization restart 8/10, f = -59.32331909840177\n",
      "Optimization restart 9/10, f = -59.32331909872263\n",
      "Optimization restart 10/10, f = -59.32331909872822\n",
      "Optimization restart 1/10, f = 430.70469290319016\n",
      "Optimization restart 2/10, f = 430.7034348237537\n",
      "Optimization restart 3/10, f = 430.7034348155751\n",
      "Optimization restart 4/10, f = 430.70343479876755\n",
      "Optimization restart 5/10, f = 430.70343480197823\n",
      "Optimization restart 6/10, f = 546.8440310788945\n",
      "Optimization restart 7/10, f = 694.7114245821545\n",
      "Optimization restart 8/10, f = 457.96285041325814\n",
      "Optimization restart 9/10, f = 430.70343480686125\n",
      "Optimization restart 10/10, f = 546.8440664636139\n"
     ]
    },
    {
     "data": {
      "application/vnd.jupyter.widget-view+json": {
       "model_id": "d08c0c9eef624e7181b478410af50872",
       "version_major": 2,
       "version_minor": 0
      },
      "text/plain": [
       "HBox(children=(HTML(value=''), FloatProgress(value=0.0, max=10000.0), HTML(value='')))"
      ]
     },
     "metadata": {},
     "output_type": "display_data"
    },
    {
     "name": "stdout",
     "output_type": "stream",
     "text": [
      "\n",
      "Optimization restart 1/10, f = -60.84433519787185\n",
      "Optimization restart 2/10, f = -60.84510517872177\n",
      "Optimization restart 3/10, f = -60.84510516367367\n",
      "Optimization restart 4/10, f = -60.84510517876689\n",
      "Optimization restart 5/10, f = -60.845105178740816\n",
      "Optimization restart 6/10, f = -60.84510516982155\n",
      "Optimization restart 7/10, f = -60.8451051790558\n",
      "Optimization restart 8/10, f = -60.84510517897311\n",
      "Optimization restart 9/10, f = -60.8451051788294\n",
      "Optimization restart 10/10, f = -60.84510517816749\n",
      "Optimization restart 1/10, f = 434.15524905168496\n",
      "Optimization restart 2/10, f = 524.1133288653152\n",
      "Optimization restart 3/10, f = 554.4087772821734\n",
      "Optimization restart 4/10, f = 552.1650160110645\n",
      "Optimization restart 5/10, f = 434.151721854271\n",
      "Optimization restart 6/10, f = 578.5768879863447\n",
      "Optimization restart 7/10, f = 565.806292741128\n",
      "Optimization restart 8/10, f = 552.1649999892377\n",
      "Optimization restart 9/10, f = 548.4007783184262\n",
      "Optimization restart 10/10, f = 569.0938527942365\n"
     ]
    },
    {
     "data": {
      "application/vnd.jupyter.widget-view+json": {
       "model_id": "72017bffa92345e59696edcc11eb7fc3",
       "version_major": 2,
       "version_minor": 0
      },
      "text/plain": [
       "HBox(children=(HTML(value=''), FloatProgress(value=0.0, max=10000.0), HTML(value='')))"
      ]
     },
     "metadata": {},
     "output_type": "display_data"
    },
    {
     "name": "stdout",
     "output_type": "stream",
     "text": [
      "\n",
      "Optimization restart 1/10, f = -62.44287348021683\n",
      "Optimization restart 2/10, f = -56.85570270771727\n",
      "Optimization restart 3/10, f = -56.855702707916365\n",
      "Optimization restart 4/10, f = -56.85570270773525\n",
      "Optimization restart 5/10, f = -56.855702707842354\n",
      "Optimization restart 6/10, f = -56.85570270792465\n",
      "Optimization restart 7/10, f = -56.85570270730759\n",
      "Optimization restart 8/10, f = -56.855702707931755\n",
      "Optimization restart 9/10, f = -56.85570270793029\n",
      "Optimization restart 10/10, f = -56.85570270791494\n",
      "Optimization restart 1/10, f = 434.33883035376016\n",
      "Optimization restart 2/10, f = 434.3386709737932\n",
      "Optimization restart 3/10, f = 434.3386709744033\n",
      "Optimization restart 4/10, f = 557.4747418742782\n",
      "Optimization restart 5/10, f = 434.3386715584645\n",
      "Optimization restart 6/10, f = 597.6058242992391\n",
      "Optimization restart 7/10, f = 434.33867097463707\n",
      "Optimization restart 8/10, f = 557.4747207780019\n",
      "Optimization restart 9/10, f = 557.4747024908115\n",
      "Optimization restart 10/10, f = 585.3171275541466\n"
     ]
    },
    {
     "data": {
      "application/vnd.jupyter.widget-view+json": {
       "model_id": "0d16c9331a374642b81424f3a6b7d4ff",
       "version_major": 2,
       "version_minor": 0
      },
      "text/plain": [
       "HBox(children=(HTML(value=''), FloatProgress(value=0.0, max=10000.0), HTML(value='')))"
      ]
     },
     "metadata": {},
     "output_type": "display_data"
    },
    {
     "name": "stdout",
     "output_type": "stream",
     "text": [
      "\n",
      "Optimization restart 1/10, f = -64.04487905724093\n",
      "Optimization restart 2/10, f = -58.70232276731651\n",
      "Optimization restart 3/10, f = -58.70232274962922\n",
      "Optimization restart 4/10, f = -58.702322765579545\n",
      "Optimization restart 5/10, f = -64.04972707548264\n",
      "Optimization restart 6/10, f = -58.70232276730033\n",
      "Optimization restart 7/10, f = -58.70232276681474\n",
      "Optimization restart 8/10, f = -58.70232276695562\n",
      "Optimization restart 9/10, f = -58.70232276724443\n",
      "Optimization restart 10/10, f = -58.70232276722988\n",
      "Optimization restart 1/10, f = 437.00276781665633\n",
      "Optimization restart 2/10, f = 559.0237925616151\n",
      "Optimization restart 3/10, f = 562.7791372135083\n",
      "Optimization restart 4/10, f = 530.2300824885203\n",
      "Optimization restart 5/10, f = 562.7791676105808\n",
      "Optimization restart 6/10, f = 562.7791589881713\n",
      "Optimization restart 7/10, f = 436.92927779758014\n",
      "Optimization restart 8/10, f = 436.92927779284264\n",
      "Optimization restart 9/10, f = 436.92927781615407\n",
      "Optimization restart 10/10, f = 436.9292777891205\n"
     ]
    },
    {
     "data": {
      "application/vnd.jupyter.widget-view+json": {
       "model_id": "0aaee5c3497e47f4826318da154ac494",
       "version_major": 2,
       "version_minor": 0
      },
      "text/plain": [
       "HBox(children=(HTML(value=''), FloatProgress(value=0.0, max=10000.0), HTML(value='')))"
      ]
     },
     "metadata": {},
     "output_type": "display_data"
    },
    {
     "name": "stdout",
     "output_type": "stream",
     "text": [
      "\n",
      "Optimization restart 1/10, f = -65.61006285137744\n",
      "Optimization restart 2/10, f = -65.61088377517405\n",
      "Optimization restart 3/10, f = -65.61088377425747\n",
      "Optimization restart 4/10, f = -65.61088377514142\n",
      "Optimization restart 5/10, f = -65.61088222951892\n",
      "Optimization restart 6/10, f = -65.61088377101711\n",
      "Optimization restart 7/10, f = -65.61088377486507\n",
      "Optimization restart 8/10, f = -65.61088377517714\n",
      "Optimization restart 9/10, f = -65.61088377436246\n",
      "Optimization restart 10/10, f = -65.61088377374915\n",
      "Optimization restart 1/10, f = 440.9164919452762\n",
      "Optimization restart 2/10, f = 453.4688189635201\n",
      "Optimization restart 3/10, f = 568.0874416405038\n",
      "Optimization restart 4/10, f = 572.6925648945937\n",
      "Warning - optimization restart 5/10 failed\n",
      "Optimization restart 6/10, f = 574.3224608097815\n",
      "Optimization restart 7/10, f = 597.3955153200144\n",
      "Optimization restart 8/10, f = 570.2508860901567\n",
      "Optimization restart 9/10, f = 568.0874433993416\n",
      "Optimization restart 10/10, f = 451.4656709772165\n"
     ]
    },
    {
     "data": {
      "application/vnd.jupyter.widget-view+json": {
       "model_id": "6bb78035b5524b60ab796b0f2fe7403d",
       "version_major": 2,
       "version_minor": 0
      },
      "text/plain": [
       "HBox(children=(HTML(value=''), FloatProgress(value=0.0, max=10000.0), HTML(value='')))"
      ]
     },
     "metadata": {},
     "output_type": "display_data"
    },
    {
     "name": "stdout",
     "output_type": "stream",
     "text": [
      "\n",
      "Optimization restart 1/10, f = -67.18010452893455\n",
      "Optimization restart 2/10, f = -62.502636160189375\n",
      "Optimization restart 3/10, f = -62.50263616015\n",
      "Optimization restart 4/10, f = -67.18189753198865\n",
      "Optimization restart 5/10, f = -62.50263615980795\n",
      "Optimization restart 6/10, f = -62.50263615845377\n",
      "Optimization restart 7/10, f = -67.1818974538821\n",
      "Optimization restart 8/10, f = -62.50263616018468\n",
      "Optimization restart 9/10, f = -62.50263615981492\n",
      "Optimization restart 10/10, f = -62.50263614590004\n",
      "Optimization restart 1/10, f = 442.48575848098454\n",
      "Optimization restart 2/10, f = 573.3820488034944\n",
      "Optimization restart 3/10, f = 454.64327464616764\n",
      "Optimization restart 4/10, f = 442.47741195581216\n",
      "Optimization restart 5/10, f = 569.5972894373535\n",
      "Optimization restart 6/10, f = 648.4569409466335\n",
      "Optimization restart 7/10, f = 628.1859843409708\n",
      "Optimization restart 8/10, f = 594.442658453526\n",
      "Optimization restart 9/10, f = 583.4736956127604\n",
      "Optimization restart 10/10, f = 442.47741197517036\n"
     ]
    },
    {
     "data": {
      "application/vnd.jupyter.widget-view+json": {
       "model_id": "446389b974234f4aa598aef537b057ab",
       "version_major": 2,
       "version_minor": 0
      },
      "text/plain": [
       "HBox(children=(HTML(value=''), FloatProgress(value=0.0, max=10000.0), HTML(value='')))"
      ]
     },
     "metadata": {},
     "output_type": "display_data"
    },
    {
     "name": "stdout",
     "output_type": "stream",
     "text": [
      "\n",
      "Optimization restart 1/10, f = -68.79499482695063\n",
      "Optimization restart 2/10, f = -64.98163846108001\n",
      "Optimization restart 3/10, f = -64.98163846284594\n",
      "Optimization restart 4/10, f = -64.98163846294204\n",
      "Optimization restart 5/10, f = -64.98163846299478\n",
      "Optimization restart 6/10, f = -64.98163846295316\n",
      "Optimization restart 7/10, f = -64.98163846044064\n",
      "Optimization restart 8/10, f = -64.9816384629832\n",
      "Optimization restart 9/10, f = -64.98163846297719\n",
      "Optimization restart 10/10, f = -64.98163846298183\n",
      "Optimization restart 1/10, f = 442.96960602523507\n",
      "Optimization restart 2/10, f = 452.1802161982311\n",
      "Optimization restart 3/10, f = 614.8807929980317\n",
      "Optimization restart 4/10, f = 574.3819529143803\n",
      "Optimization restart 5/10, f = 598.9522406872794\n",
      "Optimization restart 6/10, f = 578.6713108665133\n",
      "Optimization restart 7/10, f = 455.6366006082572\n",
      "Optimization restart 8/10, f = 575.1537309448311\n",
      "Optimization restart 9/10, f = 591.5810970799031\n",
      "Optimization restart 10/10, f = 442.96950826702584\n"
     ]
    },
    {
     "data": {
      "application/vnd.jupyter.widget-view+json": {
       "model_id": "14591c8c5f0b450e93648fedfed410b0",
       "version_major": 2,
       "version_minor": 0
      },
      "text/plain": [
       "HBox(children=(HTML(value=''), FloatProgress(value=0.0, max=10000.0), HTML(value='')))"
      ]
     },
     "metadata": {},
     "output_type": "display_data"
    },
    {
     "name": "stdout",
     "output_type": "stream",
     "text": [
      "\n",
      "Optimization restart 1/10, f = -70.44343462893448\n",
      "Optimization restart 2/10, f = -67.56880649455945\n",
      "Optimization restart 3/10, f = -67.56880649406716\n",
      "Optimization restart 4/10, f = -67.56880649363826\n",
      "Optimization restart 5/10, f = -67.56880649456183\n",
      "Optimization restart 6/10, f = -67.56880649371512\n",
      "Optimization restart 7/10, f = -67.5688064944672\n",
      "Optimization restart 8/10, f = -67.56880648859611\n",
      "Optimization restart 9/10, f = -67.56880649461726\n",
      "Optimization restart 10/10, f = -67.56880649449141\n",
      "Optimization restart 1/10, f = 443.2392893254814\n",
      "Optimization restart 2/10, f = 443.2392021752064\n",
      "Optimization restart 3/10, f = 583.9555838108184\n",
      "Optimization restart 4/10, f = 583.9555614023925\n",
      "Optimization restart 5/10, f = 464.4163438598936\n",
      "Optimization restart 6/10, f = 604.3496933381331\n",
      "Optimization restart 7/10, f = 443.2392021761473\n",
      "Optimization restart 8/10, f = 583.9555851467527\n",
      "Optimization restart 9/10, f = 443.2392021751626\n",
      "Optimization restart 10/10, f = 583.9555699874863\n"
     ]
    },
    {
     "data": {
      "application/vnd.jupyter.widget-view+json": {
       "model_id": "f666108976a941daad901276a17d14c1",
       "version_major": 2,
       "version_minor": 0
      },
      "text/plain": [
       "HBox(children=(HTML(value=''), FloatProgress(value=0.0, max=10000.0), HTML(value='')))"
      ]
     },
     "metadata": {},
     "output_type": "display_data"
    },
    {
     "name": "stdout",
     "output_type": "stream",
     "text": [
      "\n",
      "Optimization restart 1/10, f = -71.46619844966847\n",
      "Optimization restart 2/10, f = -68.15709438113609\n",
      "Optimization restart 3/10, f = -71.46620573436768\n",
      "Optimization restart 4/10, f = -68.15709438125053\n",
      "Optimization restart 5/10, f = -68.1570943812151\n",
      "Optimization restart 6/10, f = -71.46620573914068\n",
      "Optimization restart 7/10, f = -68.15709438122282\n",
      "Optimization restart 8/10, f = -68.1570943812431\n",
      "Optimization restart 9/10, f = -68.15709437360701\n",
      "Optimization restart 10/10, f = -68.15709438107916\n",
      "Optimization restart 1/10, f = 448.2483032200603\n",
      "Optimization restart 2/10, f = 448.2476786537752\n",
      "Optimization restart 3/10, f = 448.24767865671333\n",
      "Optimization restart 4/10, f = 466.2464993927015\n",
      "Optimization restart 5/10, f = 576.1981890203125\n",
      "Optimization restart 6/10, f = 448.2476786587731\n",
      "Optimization restart 7/10, f = 592.9957823839112\n",
      "Optimization restart 8/10, f = 579.6944715056139\n",
      "Optimization restart 9/10, f = 590.4779188787272\n",
      "Optimization restart 10/10, f = 590.4779190873895\n"
     ]
    },
    {
     "data": {
      "application/vnd.jupyter.widget-view+json": {
       "model_id": "e5ec60ac6bff44d48f7324d634ccbb7a",
       "version_major": 2,
       "version_minor": 0
      },
      "text/plain": [
       "HBox(children=(HTML(value=''), FloatProgress(value=0.0, max=10000.0), HTML(value='')))"
      ]
     },
     "metadata": {},
     "output_type": "display_data"
    },
    {
     "name": "stdout",
     "output_type": "stream",
     "text": [
      "\n",
      "Optimization restart 1/10, f = -73.15910634041458\n",
      "Optimization restart 2/10, f = -70.87093089800376\n",
      "Optimization restart 3/10, f = -70.87093090491064\n",
      "Optimization restart 4/10, f = -70.87093090480089\n",
      "Optimization restart 5/10, f = -73.16079025410754\n",
      "Optimization restart 6/10, f = -70.8709309049009\n",
      "Optimization restart 7/10, f = -70.87093090488699\n",
      "Optimization restart 8/10, f = -70.87093090484804\n",
      "Optimization restart 9/10, f = -70.87093090406748\n",
      "Optimization restart 10/10, f = -70.87093090489887\n",
      "Optimization restart 1/10, f = 448.4017042567163\n",
      "Optimization restart 2/10, f = 621.9747067259615\n",
      "Optimization restart 3/10, f = 595.7645555447824\n",
      "Optimization restart 4/10, f = 448.4017041114589\n",
      "Optimization restart 5/10, f = 591.6130009089383\n",
      "Optimization restart 6/10, f = 448.4017041149432\n",
      "Optimization restart 7/10, f = 448.4017041182403\n",
      "Optimization restart 8/10, f = 620.5537685278325\n",
      "Optimization restart 9/10, f = 605.0364175942568\n",
      "Optimization restart 10/10, f = 632.8115157453507\n"
     ]
    },
    {
     "data": {
      "application/vnd.jupyter.widget-view+json": {
       "model_id": "aeec430a766b4531a9ac49edea513617",
       "version_major": 2,
       "version_minor": 0
      },
      "text/plain": [
       "HBox(children=(HTML(value=''), FloatProgress(value=0.0, max=10000.0), HTML(value='')))"
      ]
     },
     "metadata": {},
     "output_type": "display_data"
    },
    {
     "name": "stdout",
     "output_type": "stream",
     "text": [
      "\n",
      "Optimization restart 1/10, f = -74.49726934508902\n",
      "Optimization restart 2/10, f = -71.82032359533068\n",
      "Optimization restart 3/10, f = -71.82032359525721\n",
      "Optimization restart 4/10, f = -71.8203235952976\n",
      "Optimization restart 5/10, f = -71.8203235950655\n",
      "Optimization restart 6/10, f = -71.82032359351626\n",
      "Optimization restart 7/10, f = -71.82032359294462\n",
      "Optimization restart 8/10, f = -71.82032359156136\n",
      "Optimization restart 9/10, f = -71.82032359514301\n",
      "Optimization restart 10/10, f = -74.49886188384163\n",
      "Optimization restart 1/10, f = 453.5355033404685\n",
      "Optimization restart 2/10, f = 612.8353622327147\n",
      "Optimization restart 3/10, f = 473.1578314184204\n",
      "Optimization restart 4/10, f = 553.7101536300635\n",
      "Optimization restart 5/10, f = 467.3552527504054\n",
      "Optimization restart 6/10, f = 466.74052679242544\n",
      "Optimization restart 7/10, f = 602.1588093410787\n",
      "Optimization restart 8/10, f = 453.53516365918983\n",
      "Optimization restart 9/10, f = 602.6096991922747\n",
      "Optimization restart 10/10, f = 610.8519134238798\n"
     ]
    },
    {
     "data": {
      "application/vnd.jupyter.widget-view+json": {
       "model_id": "7707da47f96c448e83b714e4a5ed753d",
       "version_major": 2,
       "version_minor": 0
      },
      "text/plain": [
       "HBox(children=(HTML(value=''), FloatProgress(value=0.0, max=10000.0), HTML(value='')))"
      ]
     },
     "metadata": {},
     "output_type": "display_data"
    },
    {
     "name": "stdout",
     "output_type": "stream",
     "text": [
      "\n",
      "Optimization restart 1/10, f = -76.1500331135762\n",
      "Optimization restart 2/10, f = -74.51142464478595\n",
      "Optimization restart 3/10, f = -74.51142464499128\n",
      "Optimization restart 4/10, f = -74.51142463756392\n",
      "Optimization restart 5/10, f = -74.51142464483883\n",
      "Optimization restart 6/10, f = -74.51142464493718\n",
      "Optimization restart 7/10, f = -74.51142463920155\n",
      "Optimization restart 8/10, f = -74.51142464407437\n",
      "Optimization restart 9/10, f = -74.5114246449424\n",
      "Optimization restart 10/10, f = -74.51142464484283\n",
      "Optimization restart 1/10, f = 453.576763189467\n",
      "Optimization restart 2/10, f = 606.3234240073554\n",
      "Optimization restart 3/10, f = 618.2158479218213\n",
      "Optimization restart 4/10, f = 610.0328250495667\n",
      "Optimization restart 5/10, f = 628.864056968982\n",
      "Optimization restart 6/10, f = 608.5575689546354\n",
      "Optimization restart 7/10, f = 625.7456631862215\n",
      "Optimization restart 8/10, f = 606.3234248921083\n",
      "Optimization restart 9/10, f = 633.2640021689245\n",
      "Optimization restart 10/10, f = 453.5766935121281\n"
     ]
    },
    {
     "data": {
      "application/vnd.jupyter.widget-view+json": {
       "model_id": "ec82c3aaed1c41de80dd60321a07b318",
       "version_major": 2,
       "version_minor": 0
      },
      "text/plain": [
       "HBox(children=(HTML(value=''), FloatProgress(value=0.0, max=10000.0), HTML(value='')))"
      ]
     },
     "metadata": {},
     "output_type": "display_data"
    },
    {
     "name": "stdout",
     "output_type": "stream",
     "text": [
      "\n",
      "Optimization restart 1/10, f = -77.87662634629277\n",
      "Optimization restart 2/10, f = -77.2712151652775\n",
      "Optimization restart 3/10, f = -77.27121515775983\n",
      "Optimization restart 4/10, f = -77.27121516603941\n",
      "Optimization restart 5/10, f = -77.27121512044697\n",
      "Optimization restart 6/10, f = -77.27121516602392\n",
      "Optimization restart 7/10, f = -77.27121516592369\n",
      "Optimization restart 8/10, f = -77.2712151659118\n",
      "Optimization restart 9/10, f = -77.88551147740148\n",
      "Optimization restart 10/10, f = -77.27121516495164\n",
      "Optimization restart 1/10, f = 453.7300798425822\n",
      "Optimization restart 2/10, f = 611.5956368656709\n",
      "Optimization restart 3/10, f = 611.5956374148017\n",
      "Optimization restart 4/10, f = 555.8536633965741\n",
      "Optimization restart 5/10, f = 607.4524351998341\n",
      "Optimization restart 6/10, f = 453.73005666053024\n",
      "Optimization restart 7/10, f = 625.5266950698019\n",
      "Optimization restart 8/10, f = 621.3384661017752\n",
      "Optimization restart 9/10, f = 453.7300566557036\n",
      "Optimization restart 10/10, f = 624.4797721988107\n"
     ]
    },
    {
     "data": {
      "application/vnd.jupyter.widget-view+json": {
       "model_id": "d2e36cf682bf42fcb9d83d2109a39439",
       "version_major": 2,
       "version_minor": 0
      },
      "text/plain": [
       "HBox(children=(HTML(value=''), FloatProgress(value=0.0, max=10000.0), HTML(value='')))"
      ]
     },
     "metadata": {},
     "output_type": "display_data"
    },
    {
     "name": "stdout",
     "output_type": "stream",
     "text": [
      "\n",
      "Optimization restart 1/10, f = -79.5452281434612\n",
      "Optimization restart 2/10, f = -79.44439624616655\n",
      "Optimization restart 3/10, f = -79.44439624619426\n",
      "Optimization restart 4/10, f = -79.4443962339246\n",
      "Optimization restart 5/10, f = -79.44439624607347\n",
      "Optimization restart 6/10, f = -79.44439624611104\n",
      "Optimization restart 7/10, f = -79.44439624616444\n",
      "Optimization restart 8/10, f = -79.44439624624758\n",
      "Optimization restart 9/10, f = -79.44439624617388\n",
      "Optimization restart 10/10, f = -79.44439624206662\n",
      "Optimization restart 1/10, f = 457.1528467345652\n",
      "Optimization restart 2/10, f = 616.8654174321764\n",
      "Optimization restart 3/10, f = 561.1865359849031\n",
      "Optimization restart 4/10, f = 457.15215930883664\n",
      "Optimization restart 5/10, f = 457.1521593026958\n",
      "Optimization restart 6/10, f = 612.7023541878917\n",
      "Optimization restart 7/10, f = 620.5188446065907\n",
      "Optimization restart 8/10, f = 612.6819462900869\n",
      "Optimization restart 9/10, f = 616.8654171991965\n",
      "Optimization restart 10/10, f = 457.1521592995189\n"
     ]
    },
    {
     "data": {
      "application/vnd.jupyter.widget-view+json": {
       "model_id": "c3286ce996374e0b92d036eb80ed94ee",
       "version_major": 2,
       "version_minor": 0
      },
      "text/plain": [
       "HBox(children=(HTML(value=''), FloatProgress(value=0.0, max=10000.0), HTML(value='')))"
      ]
     },
     "metadata": {},
     "output_type": "display_data"
    },
    {
     "name": "stdout",
     "output_type": "stream",
     "text": [
      "\n",
      "Optimization restart 1/10, f = -80.97715427146359\n",
      "Optimization restart 2/10, f = -80.42435759774729\n",
      "Optimization restart 3/10, f = -80.42435759756528\n",
      "Optimization restart 4/10, f = -80.42435759754079\n",
      "Optimization restart 5/10, f = -80.42435759783432\n",
      "Optimization restart 6/10, f = -80.42435759780338\n",
      "Optimization restart 7/10, f = -80.42435759773402\n",
      "Optimization restart 8/10, f = -80.42435759778076\n",
      "Optimization restart 9/10, f = -80.42435759687595\n",
      "Optimization restart 10/10, f = -80.4243575972889\n",
      "Optimization restart 1/10, f = 460.56940712868357\n",
      "Optimization restart 2/10, f = 622.1296816976303\n",
      "Optimization restart 3/10, f = 460.56603307856113\n",
      "Optimization restart 4/10, f = 460.5660330778856\n",
      "Optimization restart 5/10, f = 797.5395555974364\n",
      "Optimization restart 6/10, f = 622.1296744531778\n",
      "Optimization restart 7/10, f = 477.1458670769525\n",
      "Optimization restart 8/10, f = 460.56603308126324\n",
      "Optimization restart 9/10, f = 496.9598767839276\n",
      "Optimization restart 10/10, f = 460.56603308840806\n"
     ]
    },
    {
     "data": {
      "application/vnd.jupyter.widget-view+json": {
       "model_id": "f34df8bfecaf437a8392c4d1dfe2bc3a",
       "version_major": 2,
       "version_minor": 0
      },
      "text/plain": [
       "HBox(children=(HTML(value=''), FloatProgress(value=0.0, max=10000.0), HTML(value='')))"
      ]
     },
     "metadata": {},
     "output_type": "display_data"
    },
    {
     "name": "stdout",
     "output_type": "stream",
     "text": [
      "\n",
      "Optimization restart 1/10, f = -82.72056112075182\n",
      "Optimization restart 2/10, f = -82.26510350516413\n",
      "Optimization restart 3/10, f = -82.2651034956619\n",
      "Optimization restart 4/10, f = -82.2651035052284\n",
      "Optimization restart 5/10, f = -82.265103505247\n",
      "Optimization restart 6/10, f = -82.26510350485904\n",
      "Optimization restart 7/10, f = -82.26510350525928\n",
      "Optimization restart 8/10, f = -82.26510350350712\n",
      "Optimization restart 9/10, f = -82.2651035049188\n",
      "Optimization restart 10/10, f = -82.26510350523668\n",
      "Optimization restart 1/10, f = 463.11352029418435\n",
      "Optimization restart 2/10, f = 639.3492283409504\n",
      "Optimization restart 3/10, f = 623.224721149503\n",
      "Optimization restart 4/10, f = 619.9047593514672\n",
      "Optimization restart 5/10, f = 498.4382031485401\n",
      "Optimization restart 6/10, f = 632.244016317289\n",
      "Optimization restart 7/10, f = 627.3884525703262\n",
      "Optimization restart 8/10, f = 463.1083379115905\n",
      "Optimization restart 9/10, f = 634.5612258219467\n",
      "Optimization restart 10/10, f = 627.3884460686327\n"
     ]
    },
    {
     "data": {
      "application/vnd.jupyter.widget-view+json": {
       "model_id": "caa0f4a763bf4743ae7e4906da85e47e",
       "version_major": 2,
       "version_minor": 0
      },
      "text/plain": [
       "HBox(children=(HTML(value=''), FloatProgress(value=0.0, max=10000.0), HTML(value='')))"
      ]
     },
     "metadata": {},
     "output_type": "display_data"
    },
    {
     "name": "stdout",
     "output_type": "stream",
     "text": [
      "\n",
      "Optimization restart 1/10, f = -84.51086087960013\n",
      "Optimization restart 2/10, f = -85.02533472322024\n",
      "Optimization restart 3/10, f = -85.02533465453396\n",
      "Optimization restart 4/10, f = -85.02533472362775\n",
      "Optimization restart 5/10, f = -85.02533472063766\n",
      "Optimization restart 6/10, f = -85.02533257998309\n",
      "Optimization restart 7/10, f = -85.02533472342157\n",
      "Optimization restart 8/10, f = -85.02533472346263\n",
      "Optimization restart 9/10, f = -85.02533472131032\n",
      "Optimization restart 10/10, f = -85.02533472356308\n",
      "Optimization restart 1/10, f = 463.3602565287999\n",
      "Optimization restart 2/10, f = 643.7377833653928\n",
      "Optimization restart 3/10, f = 463.3602529797752\n",
      "Optimization restart 4/10, f = 475.5355036296745\n",
      "Optimization restart 5/10, f = 632.6420972023035\n",
      "Optimization restart 6/10, f = 632.6420997052544\n",
      "Optimization restart 7/10, f = 632.6421274968941\n",
      "Optimization restart 8/10, f = 641.7478571933309\n",
      "Optimization restart 9/10, f = 517.8089138646659\n",
      "Optimization restart 10/10, f = 632.6421243216002\n"
     ]
    },
    {
     "data": {
      "application/vnd.jupyter.widget-view+json": {
       "model_id": "a82129fe441143b69e99ca4add093090",
       "version_major": 2,
       "version_minor": 0
      },
      "text/plain": [
       "HBox(children=(HTML(value=''), FloatProgress(value=0.0, max=10000.0), HTML(value='')))"
      ]
     },
     "metadata": {},
     "output_type": "display_data"
    },
    {
     "name": "stdout",
     "output_type": "stream",
     "text": [
      "\n",
      "Optimization restart 1/10, f = -86.05118024063646\n",
      "Optimization restart 2/10, f = -86.05118024080512\n",
      "Optimization restart 3/10, f = -86.05118024069024\n",
      "Optimization restart 4/10, f = -86.05118024053377\n",
      "Optimization restart 5/10, f = -86.05118024068047\n",
      "Optimization restart 6/10, f = -86.05118024036446\n",
      "Optimization restart 7/10, f = -86.0511802342129\n",
      "Optimization restart 8/10, f = -86.0511802407652\n",
      "Optimization restart 9/10, f = -86.05118024074869\n",
      "Optimization restart 10/10, f = -86.05118024065649\n",
      "Optimization restart 1/10, f = 467.8012650293427\n",
      "Optimization restart 2/10, f = 639.1821585888829\n",
      "Optimization restart 3/10, f = 467.8010886217827\n",
      "Optimization restart 4/10, f = 663.5007196741386\n",
      "Optimization restart 5/10, f = 637.9077059055754\n",
      "Optimization restart 6/10, f = 651.0489281956413\n",
      "Optimization restart 7/10, f = 637.9077135021896\n",
      "Optimization restart 8/10, f = 632.9754806004803\n",
      "Optimization restart 9/10, f = 486.78539762796623\n",
      "Optimization restart 10/10, f = 707.2144988671105\n"
     ]
    },
    {
     "data": {
      "application/vnd.jupyter.widget-view+json": {
       "model_id": "deb9e85f40794fcb9f68cba9b8dc0920",
       "version_major": 2,
       "version_minor": 0
      },
      "text/plain": [
       "HBox(children=(HTML(value=''), FloatProgress(value=0.0, max=10000.0), HTML(value='')))"
      ]
     },
     "metadata": {},
     "output_type": "display_data"
    },
    {
     "name": "stdout",
     "output_type": "stream",
     "text": [
      "\n",
      "Optimization restart 1/10, f = -84.85147517716302\n",
      "Optimization restart 2/10, f = -84.85147517882189\n",
      "Optimization restart 3/10, f = -84.85147517758489\n",
      "Optimization restart 4/10, f = -84.85147517746721\n",
      "Optimization restart 5/10, f = -84.85147517889149\n",
      "Optimization restart 6/10, f = -84.85147517816911\n",
      "Optimization restart 7/10, f = -84.85147517887718\n",
      "Optimization restart 8/10, f = -84.8514751787776\n",
      "Optimization restart 9/10, f = -84.85147517877795\n",
      "Optimization restart 10/10, f = -84.85147517874725\n",
      "Optimization restart 1/10, f = 473.2744271562988\n",
      "Optimization restart 2/10, f = 671.8661657070197\n",
      "Optimization restart 3/10, f = 473.2728633092316\n",
      "Optimization restart 4/10, f = 473.2728633220514\n",
      "Optimization restart 5/10, f = 664.6534136131937\n",
      "Optimization restart 6/10, f = 643.1523824330045\n",
      "Optimization restart 7/10, f = 480.4897909460393\n",
      "Optimization restart 8/10, f = 673.1962044371078\n",
      "Optimization restart 9/10, f = 473.27286331488415\n",
      "Optimization restart 10/10, f = 653.5986788211151\n"
     ]
    },
    {
     "data": {
      "application/vnd.jupyter.widget-view+json": {
       "model_id": "ccd0fe41e3664ba7b017dc2620ec0ca7",
       "version_major": 2,
       "version_minor": 0
      },
      "text/plain": [
       "HBox(children=(HTML(value=''), FloatProgress(value=0.0, max=10000.0), HTML(value='')))"
      ]
     },
     "metadata": {},
     "output_type": "display_data"
    },
    {
     "name": "stdout",
     "output_type": "stream",
     "text": [
      "\n",
      "Optimization restart 1/10, f = -85.57120994481832\n",
      "Optimization restart 2/10, f = -85.57120994708404\n",
      "Optimization restart 3/10, f = -85.57120994788563\n",
      "Optimization restart 4/10, f = -85.57120994782471\n",
      "Optimization restart 5/10, f = -85.5712099478501\n",
      "Optimization restart 6/10, f = -85.5712099479029\n",
      "Optimization restart 7/10, f = -85.57120994784904\n",
      "Optimization restart 8/10, f = -85.57120994777569\n",
      "Optimization restart 9/10, f = -85.57120994788158\n",
      "Optimization restart 10/10, f = -86.64499400855175\n",
      "Optimization restart 1/10, f = 478.19171429925524\n",
      "Optimization restart 2/10, f = 478.19169806276284\n",
      "Optimization restart 3/10, f = 678.9437177342735\n",
      "Optimization restart 4/10, f = 478.191698075206\n",
      "Optimization restart 5/10, f = 648.4353440977507\n",
      "Optimization restart 6/10, f = 658.3807177672267\n",
      "Optimization restart 7/10, f = 648.4353441097146\n",
      "Optimization restart 8/10, f = 679.9881220013408\n",
      "Optimization restart 9/10, f = 478.19169805738187\n",
      "Optimization restart 10/10, f = 478.19169805617855\n"
     ]
    },
    {
     "data": {
      "application/vnd.jupyter.widget-view+json": {
       "model_id": "27152a3474b648ac96904176e1f25f0f",
       "version_major": 2,
       "version_minor": 0
      },
      "text/plain": [
       "HBox(children=(HTML(value=''), FloatProgress(value=0.0, max=10000.0), HTML(value='')))"
      ]
     },
     "metadata": {},
     "output_type": "display_data"
    },
    {
     "name": "stdout",
     "output_type": "stream",
     "text": [
      "\n",
      "Optimization restart 1/10, f = -88.4698062988517\n",
      "Optimization restart 2/10, f = -88.32436165820899\n",
      "Optimization restart 3/10, f = -88.3243616597731\n",
      "Optimization restart 4/10, f = -88.32436165995585\n",
      "Optimization restart 5/10, f = -88.3243616599371\n",
      "Optimization restart 6/10, f = -88.47100905914812\n",
      "Optimization restart 7/10, f = -88.3243616598396\n",
      "Optimization restart 8/10, f = -88.3243616598285\n",
      "Optimization restart 9/10, f = -88.32436165772745\n",
      "Optimization restart 10/10, f = -88.47100906021147\n",
      "Optimization restart 1/10, f = 478.23938507178434\n",
      "Optimization restart 2/10, f = 654.3314672848866\n",
      "Optimization restart 3/10, f = 478.2392582352061\n",
      "Optimization restart 4/10, f = 653.6715341550594\n",
      "Optimization restart 5/10, f = 649.3787458639179\n",
      "Optimization restart 6/10, f = 672.4582373787243\n",
      "Optimization restart 7/10, f = 478.23925887034557\n",
      "Optimization restart 8/10, f = 588.6789856166668\n",
      "Optimization restart 9/10, f = 478.2392582513298\n",
      "Optimization restart 10/10, f = 668.5410505931123\n"
     ]
    },
    {
     "data": {
      "application/vnd.jupyter.widget-view+json": {
       "model_id": "dcea8e65563f4a4db4b08e9f96a6756a",
       "version_major": 2,
       "version_minor": 0
      },
      "text/plain": [
       "HBox(children=(HTML(value=''), FloatProgress(value=0.0, max=10000.0), HTML(value='')))"
      ]
     },
     "metadata": {},
     "output_type": "display_data"
    },
    {
     "name": "stdout",
     "output_type": "stream",
     "text": [
      "\n",
      "Optimization restart 1/10, f = -90.29292442429471\n",
      "Optimization restart 2/10, f = -90.86106282347659\n",
      "Optimization restart 3/10, f = -90.86106282338861\n",
      "Optimization restart 4/10, f = -90.8610628234921\n",
      "Optimization restart 5/10, f = -90.86106282352625\n",
      "Optimization restart 6/10, f = -90.86106282352723\n",
      "Optimization restart 7/10, f = -90.8610628234746\n",
      "Optimization restart 8/10, f = -90.86106281878725\n",
      "Optimization restart 9/10, f = -90.86106282352728\n",
      "Optimization restart 10/10, f = -90.86106282345604\n",
      "Optimization restart 1/10, f = 478.4913018726383\n",
      "Optimization restart 2/10, f = 658.9033392533609\n",
      "Optimization restart 3/10, f = 658.9033394987364\n",
      "Optimization restart 4/10, f = 658.9033393115515\n",
      "Optimization restart 5/10, f = 658.9033392677367\n",
      "Optimization restart 6/10, f = 654.61552392731\n",
      "Optimization restart 7/10, f = 662.1529448679851\n",
      "Optimization restart 8/10, f = 478.49093483217655\n",
      "Optimization restart 9/10, f = 658.9033395992365\n",
      "Optimization restart 10/10, f = 478.49093479380707\n"
     ]
    },
    {
     "data": {
      "application/vnd.jupyter.widget-view+json": {
       "model_id": "7f1503c71c6f417ebc6a1a6ea13352ea",
       "version_major": 2,
       "version_minor": 0
      },
      "text/plain": [
       "HBox(children=(HTML(value=''), FloatProgress(value=0.0, max=10000.0), HTML(value='')))"
      ]
     },
     "metadata": {},
     "output_type": "display_data"
    },
    {
     "name": "stdout",
     "output_type": "stream",
     "text": [
      "\n",
      "Optimization restart 1/10, f = -92.11991879019709\n",
      "Optimization restart 2/10, f = -92.11992559658736\n",
      "Optimization restart 3/10, f = -92.11992559660956\n",
      "Optimization restart 4/10, f = -92.11992559598252\n",
      "Optimization restart 5/10, f = -92.11992559662116\n",
      "Optimization restart 6/10, f = -92.11992559664904\n",
      "Optimization restart 7/10, f = -92.11992558698635\n",
      "Optimization restart 8/10, f = -92.11992559669577\n",
      "Optimization restart 9/10, f = -92.1199255933164\n",
      "Optimization restart 10/10, f = -92.11992559015519\n",
      "Optimization restart 1/10, f = 482.57306859186735\n",
      "Optimization restart 2/10, f = 659.8120661169726\n",
      "Optimization restart 3/10, f = 482.5724298041143\n",
      "Optimization restart 4/10, f = 595.0473466581973\n",
      "Optimization restart 5/10, f = 664.1398762855994\n",
      "Optimization restart 6/10, f = 482.5724297990523\n",
      "Optimization restart 7/10, f = 675.1427442349836\n",
      "Optimization restart 8/10, f = 664.1398718029894\n",
      "Optimization restart 9/10, f = 482.57242980398087\n",
      "Optimization restart 10/10, f = 665.1182976239854\n"
     ]
    },
    {
     "data": {
      "application/vnd.jupyter.widget-view+json": {
       "model_id": "349cb9c6b053400fb103eaf81de08669",
       "version_major": 2,
       "version_minor": 0
      },
      "text/plain": [
       "HBox(children=(HTML(value=''), FloatProgress(value=0.0, max=10000.0), HTML(value='')))"
      ]
     },
     "metadata": {},
     "output_type": "display_data"
    },
    {
     "name": "stdout",
     "output_type": "stream",
     "text": [
      "\n",
      "Optimization restart 1/10, f = -92.36929769256199\n",
      "Optimization restart 2/10, f = -92.36929769571914\n",
      "Optimization restart 3/10, f = -92.36929769570878\n",
      "Optimization restart 4/10, f = -92.36929768913268\n",
      "Optimization restart 5/10, f = -92.36929769333746\n",
      "Optimization restart 6/10, f = -92.36929769565909\n",
      "Optimization restart 7/10, f = -92.36929769565114\n",
      "Optimization restart 8/10, f = -92.3692976949844\n",
      "Optimization restart 9/10, f = -92.36929769573113\n",
      "Optimization restart 10/10, f = -92.36929769560354\n",
      "Optimization restart 1/10, f = 486.92732758824934\n",
      "Optimization restart 2/10, f = 678.0018209680013\n",
      "Optimization restart 3/10, f = 694.2302321298412\n",
      "Optimization restart 4/10, f = 804.4912552068712\n",
      "Optimization restart 5/10, f = 669.3883470954188\n",
      "Optimization restart 6/10, f = 689.3535826536228\n",
      "Optimization restart 7/10, f = 678.8187739086233\n",
      "Optimization restart 8/10, f = 664.8204130624604\n",
      "Optimization restart 9/10, f = 706.4472580761816\n",
      "Optimization restart 10/10, f = 486.92635916647293\n"
     ]
    },
    {
     "data": {
      "application/vnd.jupyter.widget-view+json": {
       "model_id": "b398202c8de6417192263ab602dab7b1",
       "version_major": 2,
       "version_minor": 0
      },
      "text/plain": [
       "HBox(children=(HTML(value=''), FloatProgress(value=0.0, max=10000.0), HTML(value='')))"
      ]
     },
     "metadata": {},
     "output_type": "display_data"
    },
    {
     "name": "stdout",
     "output_type": "stream",
     "text": [
      "\n",
      "Optimization restart 1/10, f = -90.93321223081566\n",
      "Optimization restart 2/10, f = -90.93321223084416\n",
      "Optimization restart 3/10, f = -90.93321222915456\n",
      "Optimization restart 4/10, f = -90.93321223078374\n",
      "Optimization restart 5/10, f = -93.83824348209885\n",
      "Optimization restart 6/10, f = -90.93321222297115\n",
      "Optimization restart 7/10, f = -90.93321223070711\n",
      "Optimization restart 8/10, f = -90.93321223078587\n",
      "Optimization restart 9/10, f = -90.93321223073583\n",
      "Optimization restart 10/10, f = -90.93321223071729\n",
      "Optimization restart 1/10, f = 491.3001902039935\n",
      "Optimization restart 2/10, f = 674.7557618630026\n",
      "Optimization restart 3/10, f = 491.2993463652088\n",
      "Optimization restart 4/10, f = 682.8343783700851\n",
      "Optimization restart 5/10, f = 674.7557482458342\n",
      "Optimization restart 6/10, f = 698.4711957967901\n",
      "Optimization restart 7/10, f = 491.2993463530216\n",
      "Optimization restart 8/10, f = 674.755748513671\n",
      "Optimization restart 9/10, f = 683.2813541325567\n",
      "Optimization restart 10/10, f = 532.7755932685063\n"
     ]
    },
    {
     "data": {
      "application/vnd.jupyter.widget-view+json": {
       "model_id": "abf8c349eb77497c94828b8452f8fe32",
       "version_major": 2,
       "version_minor": 0
      },
      "text/plain": [
       "HBox(children=(HTML(value=''), FloatProgress(value=0.0, max=10000.0), HTML(value='')))"
      ]
     },
     "metadata": {},
     "output_type": "display_data"
    },
    {
     "name": "stdout",
     "output_type": "stream",
     "text": [
      "\n",
      "Optimization restart 1/10, f = -95.70260761116867\n",
      "Optimization restart 2/10, f = -93.61263625956992\n",
      "Optimization restart 3/10, f = -93.61263627734209\n",
      "Optimization restart 4/10, f = -93.61263627498454\n",
      "Optimization restart 5/10, f = -93.61263627727905\n",
      "Optimization restart 6/10, f = -93.61263627657324\n",
      "Optimization restart 7/10, f = -93.61263627124328\n",
      "Optimization restart 8/10, f = -93.61263627744103\n",
      "Optimization restart 9/10, f = -93.61263627755281\n",
      "Optimization restart 10/10, f = -93.6126362774753\n",
      "Optimization restart 1/10, f = 491.96483264534777\n",
      "Optimization restart 2/10, f = 679.972099834788\n",
      "Optimization restart 3/10, f = 573.860098015965\n",
      "Optimization restart 4/10, f = 679.9721000129721\n",
      "Optimization restart 5/10, f = 700.097672137912\n",
      "Optimization restart 6/10, f = 499.56032059954657\n",
      "Optimization restart 7/10, f = 679.9721032060329\n",
      "Optimization restart 8/10, f = 491.96452313900596\n",
      "Optimization restart 9/10, f = 679.9721223546497\n",
      "Optimization restart 10/10, f = 526.341546252916\n"
     ]
    },
    {
     "data": {
      "application/vnd.jupyter.widget-view+json": {
       "model_id": "3c1cc3ce1b8f456ebe697ad3e48346b4",
       "version_major": 2,
       "version_minor": 0
      },
      "text/plain": [
       "HBox(children=(HTML(value=''), FloatProgress(value=0.0, max=10000.0), HTML(value='')))"
      ]
     },
     "metadata": {},
     "output_type": "display_data"
    },
    {
     "name": "stdout",
     "output_type": "stream",
     "text": [
      "\n",
      "Optimization restart 1/10, f = -97.55773081663071\n",
      "Optimization restart 2/10, f = -96.42532771956004\n",
      "Optimization restart 3/10, f = -96.42532770968015\n",
      "Optimization restart 4/10, f = -96.42532766163657\n",
      "Optimization restart 5/10, f = -96.42532771997989\n",
      "Optimization restart 6/10, f = -96.42532771973997\n",
      "Optimization restart 7/10, f = -96.42532771990909\n",
      "Optimization restart 8/10, f = -96.42532771975685\n",
      "Optimization restart 9/10, f = -96.42532771983616\n",
      "Optimization restart 10/10, f = -96.42532771988648\n",
      "Optimization restart 1/10, f = 491.87038402100245\n",
      "Optimization restart 2/10, f = 685.8745561826569\n",
      "Optimization restart 3/10, f = 491.8702079239992\n",
      "Optimization restart 4/10, f = 712.1561494578956\n",
      "Optimization restart 5/10, f = 491.8702078810903\n",
      "Optimization restart 6/10, f = 560.5820265547375\n",
      "Optimization restart 7/10, f = 491.8702078955799\n",
      "Optimization restart 8/10, f = 515.204334725616\n",
      "Optimization restart 9/10, f = 491.870207886921\n",
      "Optimization restart 10/10, f = 685.1840948149901\n"
     ]
    },
    {
     "data": {
      "application/vnd.jupyter.widget-view+json": {
       "model_id": "baa5b0268dfd46b0ac56b22fb9d82a06",
       "version_major": 2,
       "version_minor": 0
      },
      "text/plain": [
       "HBox(children=(HTML(value=''), FloatProgress(value=0.0, max=10000.0), HTML(value='')))"
      ]
     },
     "metadata": {},
     "output_type": "display_data"
    },
    {
     "name": "stdout",
     "output_type": "stream",
     "text": [
      "\n",
      "Optimization restart 1/10, f = -99.412892960567\n",
      "Optimization restart 2/10, f = -99.0790848064355\n",
      "Optimization restart 3/10, f = -99.07908483287147\n",
      "Optimization restart 4/10, f = -99.07908483053927\n",
      "Optimization restart 5/10, f = -99.07908483064216\n",
      "Optimization restart 6/10, f = -99.0790848326381\n",
      "Optimization restart 7/10, f = -99.0790848316029\n",
      "Optimization restart 8/10, f = -99.07908474958032\n",
      "Optimization restart 9/10, f = -99.07908483059126\n",
      "Optimization restart 10/10, f = -99.07908483256733\n",
      "Optimization restart 1/10, f = 491.89019967927777\n",
      "Optimization restart 2/10, f = 491.8901740605187\n",
      "Optimization restart 3/10, f = 717.6472728270822\n",
      "Optimization restart 4/10, f = 696.4087145367229\n",
      "Optimization restart 5/10, f = 692.7664458415124\n",
      "Optimization restart 6/10, f = 522.139170749346\n",
      "Optimization restart 7/10, f = 522.2212155057191\n",
      "Optimization restart 8/10, f = 491.89017405084144\n",
      "Optimization restart 9/10, f = 690.3919137269841\n",
      "Optimization restart 10/10, f = 700.8616744130663\n"
     ]
    },
    {
     "data": {
      "application/vnd.jupyter.widget-view+json": {
       "model_id": "560203daeeb547059d031b77881f38a0",
       "version_major": 2,
       "version_minor": 0
      },
      "text/plain": [
       "HBox(children=(HTML(value=''), FloatProgress(value=0.0, max=10000.0), HTML(value='')))"
      ]
     },
     "metadata": {},
     "output_type": "display_data"
    },
    {
     "name": "stdout",
     "output_type": "stream",
     "text": [
      "\n",
      "Optimization restart 1/10, f = -101.23346173806101\n",
      "Optimization restart 2/10, f = -101.16482124271623\n",
      "Optimization restart 3/10, f = -101.24189565811396\n",
      "Optimization restart 4/10, f = -101.16482124581648\n",
      "Optimization restart 5/10, f = -101.16482124578883\n",
      "Optimization restart 6/10, f = -101.16482124553396\n",
      "Optimization restart 7/10, f = -101.16482124558948\n",
      "Optimization restart 8/10, f = -101.1648212458274\n",
      "Optimization restart 9/10, f = -101.16482124581283\n",
      "Optimization restart 10/10, f = -101.1648212457337\n",
      "Optimization restart 1/10, f = 495.83600311609666\n",
      "Optimization restart 2/10, f = 619.9394188806649\n",
      "Optimization restart 3/10, f = 495.82549730305925\n",
      "Optimization restart 4/10, f = 695.6083057615836\n",
      "Optimization restart 5/10, f = 716.0878775054723\n",
      "Optimization restart 6/10, f = 495.8254973145588\n",
      "Optimization restart 7/10, f = 717.2241849823895\n",
      "Optimization restart 8/10, f = 518.009602205444\n",
      "Optimization restart 9/10, f = 804.8508991511128\n",
      "Optimization restart 10/10, f = 585.2556768616814\n"
     ]
    },
    {
     "data": {
      "application/vnd.jupyter.widget-view+json": {
       "model_id": "339724601db54ca4aaed2e1eff5dde44",
       "version_major": 2,
       "version_minor": 0
      },
      "text/plain": [
       "HBox(children=(HTML(value=''), FloatProgress(value=0.0, max=10000.0), HTML(value='')))"
      ]
     },
     "metadata": {},
     "output_type": "display_data"
    },
    {
     "name": "stdout",
     "output_type": "stream",
     "text": [
      "\n",
      "Optimization restart 1/10, f = -103.105815501158\n",
      "Optimization restart 2/10, f = -103.95470277063751\n",
      "Optimization restart 3/10, f = -103.95470277062907\n",
      "Optimization restart 4/10, f = -103.95470277045196\n",
      "Optimization restart 5/10, f = -103.95470277066201\n",
      "Optimization restart 6/10, f = -103.95470276768177\n",
      "Optimization restart 7/10, f = -103.95470277025137\n",
      "Optimization restart 8/10, f = -103.95470277063264\n",
      "Optimization restart 9/10, f = -103.95470277044221\n",
      "Optimization restart 10/10, f = -103.95470277058467\n",
      "Optimization restart 1/10, f = 501.3213287537525\n",
      "Optimization restart 2/10, f = 700.8104742194748\n",
      "Optimization restart 3/10, f = 501.23165365606656\n",
      "Optimization restart 4/10, f = 638.9818570985778\n",
      "Optimization restart 5/10, f = 702.2457657227003\n",
      "Optimization restart 6/10, f = 700.8671495805244\n",
      "Optimization restart 7/10, f = 728.5097436219902\n",
      "Optimization restart 8/10, f = 696.4992798074892\n",
      "Optimization restart 9/10, f = 713.7750977989127\n",
      "Optimization restart 10/10, f = 703.7398983990174\n"
     ]
    },
    {
     "data": {
      "application/vnd.jupyter.widget-view+json": {
       "model_id": "7ff691a3ece2437ea070c6bb1afa0ca6",
       "version_major": 2,
       "version_minor": 0
      },
      "text/plain": [
       "HBox(children=(HTML(value=''), FloatProgress(value=0.0, max=10000.0), HTML(value='')))"
      ]
     },
     "metadata": {},
     "output_type": "display_data"
    },
    {
     "name": "stdout",
     "output_type": "stream",
     "text": [
      "\n",
      "Optimization restart 1/10, f = -105.28942777848317\n",
      "Optimization restart 2/10, f = -105.28942777973728\n",
      "Optimization restart 3/10, f = -105.28942778044848\n",
      "Optimization restart 4/10, f = -105.2894277802717\n",
      "Optimization restart 5/10, f = -105.28942778024714\n",
      "Optimization restart 6/10, f = -105.28942778020584\n",
      "Optimization restart 7/10, f = -105.28942778045248\n",
      "Optimization restart 8/10, f = -105.2894277802682\n",
      "Optimization restart 9/10, f = -104.95211741160617\n",
      "Optimization restart 10/10, f = -105.28942778024121\n",
      "Optimization restart 1/10, f = 505.30281631057835\n",
      "Optimization restart 2/10, f = 522.6967078765153\n",
      "Optimization restart 3/10, f = 701.6309136250944\n",
      "Optimization restart 4/10, f = 714.84133924281\n",
      "Optimization restart 5/10, f = 505.30042888259726\n",
      "Optimization restart 6/10, f = 727.5914331333822\n",
      "Optimization restart 7/10, f = 505.3004288806231\n",
      "Optimization restart 8/10, f = 505.3004288968947\n",
      "Optimization restart 9/10, f = 725.9066863550402\n",
      "Optimization restart 10/10, f = 505.30042889299443\n"
     ]
    },
    {
     "data": {
      "application/vnd.jupyter.widget-view+json": {
       "model_id": "b581d71485784ef5806a7577bbb3c20a",
       "version_major": 2,
       "version_minor": 0
      },
      "text/plain": [
       "HBox(children=(HTML(value=''), FloatProgress(value=0.0, max=10000.0), HTML(value='')))"
      ]
     },
     "metadata": {},
     "output_type": "display_data"
    },
    {
     "name": "stdout",
     "output_type": "stream",
     "text": [
      "\n",
      "Optimization restart 1/10, f = -106.43164705050872\n",
      "Optimization restart 2/10, f = -106.43164705108691\n",
      "Optimization restart 3/10, f = -106.43164705134674\n",
      "Optimization restart 4/10, f = -106.43164705133782\n",
      "Optimization restart 5/10, f = -106.43164705118893\n",
      "Optimization restart 6/10, f = -106.43164704950306\n",
      "Optimization restart 7/10, f = -106.43164705137193\n",
      "Optimization restart 8/10, f = -106.43164705108238\n",
      "Optimization restart 9/10, f = -106.43164705128765\n",
      "Optimization restart 10/10, f = -106.43164705063634\n",
      "Optimization restart 1/10, f = 509.68502369456786\n",
      "Optimization restart 2/10, f = 528.6239381737754\n",
      "Optimization restart 3/10, f = 529.6854964874915\n",
      "Optimization restart 4/10, f = 712.0881462055593\n",
      "Optimization restart 5/10, f = 712.1695562504411\n",
      "Optimization restart 6/10, f = 527.6486621686939\n",
      "Optimization restart 7/10, f = 711.2890042224252\n",
      "Optimization restart 8/10, f = 509.6843224337354\n",
      "Optimization restart 9/10, f = 525.1445600576444\n",
      "Optimization restart 10/10, f = 634.7330532384158\n"
     ]
    },
    {
     "data": {
      "application/vnd.jupyter.widget-view+json": {
       "model_id": "de5b44bfa57f43ccb9e2f6071bdbcebb",
       "version_major": 2,
       "version_minor": 0
      },
      "text/plain": [
       "HBox(children=(HTML(value=''), FloatProgress(value=0.0, max=10000.0), HTML(value='')))"
      ]
     },
     "metadata": {},
     "output_type": "display_data"
    },
    {
     "name": "stdout",
     "output_type": "stream",
     "text": [
      "\n",
      "Optimization restart 1/10, f = -106.77395276582101\n",
      "Optimization restart 2/10, f = -106.77396663286677\n",
      "Optimization restart 3/10, f = -106.77396664503027\n",
      "Optimization restart 4/10, f = -106.77396663094166\n",
      "Optimization restart 5/10, f = -106.77396663041736\n",
      "Optimization restart 6/10, f = -106.77396664517958\n",
      "Optimization restart 7/10, f = -106.77396664083697\n",
      "Optimization restart 8/10, f = -106.77396664519925\n",
      "Optimization restart 9/10, f = -106.77396664528065\n",
      "Optimization restart 10/10, f = -106.7739666452964\n",
      "Optimization restart 1/10, f = 514.7900345864259\n",
      "Optimization restart 2/10, f = 514.7889467909579\n",
      "Optimization restart 3/10, f = 717.8579827465044\n",
      "Optimization restart 4/10, f = 717.8579834541499\n",
      "Optimization restart 5/10, f = 717.8579842863144\n",
      "Optimization restart 6/10, f = 754.9470213239865\n",
      "Optimization restart 7/10, f = 712.96992749315\n",
      "Optimization restart 8/10, f = 717.8579828586564\n",
      "Optimization restart 9/10, f = 719.1785349027106\n",
      "Optimization restart 10/10, f = 717.8579829336351\n"
     ]
    },
    {
     "data": {
      "application/vnd.jupyter.widget-view+json": {
       "model_id": "ce16d04193c84a77b34976fe304d1e2a",
       "version_major": 2,
       "version_minor": 0
      },
      "text/plain": [
       "HBox(children=(HTML(value=''), FloatProgress(value=0.0, max=10000.0), HTML(value='')))"
      ]
     },
     "metadata": {},
     "output_type": "display_data"
    },
    {
     "name": "stdout",
     "output_type": "stream",
     "text": [
      "\n",
      "Optimization restart 1/10, f = -108.46488341658677\n",
      "Optimization restart 2/10, f = -108.46488341556599\n",
      "Optimization restart 3/10, f = -108.46488341662152\n",
      "Optimization restart 4/10, f = -108.46488341689961\n",
      "Optimization restart 5/10, f = -108.46488341679299\n",
      "Optimization restart 6/10, f = -108.4648834156637\n",
      "Optimization restart 7/10, f = -108.46488341691565\n",
      "Optimization restart 8/10, f = -108.46488341693671\n",
      "Optimization restart 9/10, f = -108.46488341679284\n",
      "Optimization restart 10/10, f = -108.4648834110367\n",
      "Optimization restart 1/10, f = 519.1742202457683\n",
      "Optimization restart 2/10, f = 536.5633447018474\n",
      "Optimization restart 3/10, f = 519.1740922936765\n",
      "Optimization restart 4/10, f = 646.4853731940022\n",
      "Optimization restart 5/10, f = 723.0939894779842\n",
      "Optimization restart 6/10, f = 723.0939834962484\n",
      "Optimization restart 7/10, f = 715.9471003536369\n",
      "Optimization restart 8/10, f = 519.1740922856889\n",
      "Optimization restart 9/10, f = 732.7936642687351\n",
      "Optimization restart 10/10, f = 765.3291971112169\n"
     ]
    },
    {
     "data": {
      "application/vnd.jupyter.widget-view+json": {
       "model_id": "cfeb634d0f6040b88187ebed507c622f",
       "version_major": 2,
       "version_minor": 0
      },
      "text/plain": [
       "HBox(children=(HTML(value=''), FloatProgress(value=0.0, max=10000.0), HTML(value='')))"
      ]
     },
     "metadata": {},
     "output_type": "display_data"
    },
    {
     "name": "stdout",
     "output_type": "stream",
     "text": [
      "\n",
      "Optimization restart 1/10, f = -109.94031887653955\n",
      "Optimization restart 2/10, f = -109.94031887741286\n",
      "Optimization restart 3/10, f = -109.94031887647049\n",
      "Optimization restart 4/10, f = -109.94031887745842\n",
      "Optimization restart 5/10, f = -109.94031887735377\n",
      "Optimization restart 6/10, f = -109.94031887727978\n",
      "Optimization restart 7/10, f = -109.9403188769241\n",
      "Optimization restart 8/10, f = -109.94031887749114\n",
      "Optimization restart 9/10, f = -109.94031887744883\n",
      "Optimization restart 10/10, f = -109.94031864422274\n",
      "Optimization restart 1/10, f = 523.1029474287161\n",
      "Optimization restart 2/10, f = 728.2905749599711\n",
      "Optimization restart 3/10, f = 728.290576846837\n",
      "Optimization restart 4/10, f = 743.917560287098\n",
      "Optimization restart 5/10, f = 728.2905770859676\n",
      "Optimization restart 6/10, f = 729.3280374307857\n",
      "Optimization restart 7/10, f = 548.8630912264156\n",
      "Optimization restart 8/10, f = 687.330663519551\n",
      "Optimization restart 9/10, f = 723.3112420823699\n",
      "Optimization restart 10/10, f = 728.2905750120494\n"
     ]
    },
    {
     "data": {
      "application/vnd.jupyter.widget-view+json": {
       "model_id": "c5e2e13e91db44c1b4f8000195d69706",
       "version_major": 2,
       "version_minor": 0
      },
      "text/plain": [
       "HBox(children=(HTML(value=''), FloatProgress(value=0.0, max=10000.0), HTML(value='')))"
      ]
     },
     "metadata": {},
     "output_type": "display_data"
    },
    {
     "name": "stdout",
     "output_type": "stream",
     "text": [
      "\n",
      "Optimization restart 1/10, f = -111.71554236946206\n",
      "Optimization restart 2/10, f = -111.71554236999162\n",
      "Optimization restart 3/10, f = -111.71554237014882\n",
      "Optimization restart 4/10, f = -111.7155423702492\n",
      "Optimization restart 5/10, f = -111.7155423701156\n",
      "Optimization restart 6/10, f = -111.71554237034994\n",
      "Optimization restart 7/10, f = -111.71554236988328\n",
      "Optimization restart 8/10, f = -111.71554237000241\n",
      "Optimization restart 9/10, f = -111.71554237007305\n",
      "Optimization restart 10/10, f = -111.71554237038283\n",
      "Optimization restart 1/10, f = 525.991398325048\n",
      "Optimization restart 2/10, f = 733.4784849906304\n",
      "Optimization restart 3/10, f = 728.5058695137963\n",
      "Optimization restart 4/10, f = 734.1796884469732\n",
      "Optimization restart 5/10, f = 733.5756539305305\n",
      "Optimization restart 6/10, f = 749.1957696507795\n",
      "Optimization restart 7/10, f = 728.5059206451449\n",
      "Optimization restart 8/10, f = 728.5059533530044\n",
      "Optimization restart 9/10, f = 525.9860903638867\n",
      "Optimization restart 10/10, f = 525.9860904302855\n"
     ]
    },
    {
     "data": {
      "application/vnd.jupyter.widget-view+json": {
       "model_id": "8117dca61ef741e8a74b3c1cb12db0c5",
       "version_major": 2,
       "version_minor": 0
      },
      "text/plain": [
       "HBox(children=(HTML(value=''), FloatProgress(value=0.0, max=10000.0), HTML(value='')))"
      ]
     },
     "metadata": {},
     "output_type": "display_data"
    },
    {
     "name": "stdout",
     "output_type": "stream",
     "text": [
      "\n",
      "Optimization restart 1/10, f = -111.62635093050207\n",
      "Optimization restart 2/10, f = -111.62635100785883\n",
      "Optimization restart 3/10, f = -111.62635099595886\n",
      "Optimization restart 4/10, f = -111.6263510080654\n",
      "Optimization restart 5/10, f = -111.62635100770271\n",
      "Optimization restart 6/10, f = -111.62635100795458\n",
      "Optimization restart 7/10, f = -111.62635100729375\n",
      "Optimization restart 8/10, f = -111.62635100770949\n",
      "Optimization restart 9/10, f = -111.62635100787644\n",
      "Optimization restart 10/10, f = -111.62635100796612\n",
      "Optimization restart 1/10, f = 533.188597659687\n",
      "Optimization restart 2/10, f = 733.570899754487\n",
      "Optimization restart 3/10, f = 548.6654867500188\n",
      "Optimization restart 4/10, f = 739.8813012253637\n",
      "Optimization restart 5/10, f = 533.1784779829766\n",
      "Optimization restart 6/10, f = 741.5181827829038\n",
      "Optimization restart 7/10, f = 829.9638368613781\n",
      "Optimization restart 8/10, f = 554.3983850160162\n",
      "Optimization restart 9/10, f = 757.2387479558648\n",
      "Optimization restart 10/10, f = 1135.0742637534604\n"
     ]
    },
    {
     "data": {
      "application/vnd.jupyter.widget-view+json": {
       "model_id": "8ba426ccbe964a40b91337b11a783ee8",
       "version_major": 2,
       "version_minor": 0
      },
      "text/plain": [
       "HBox(children=(HTML(value=''), FloatProgress(value=0.0, max=10000.0), HTML(value='')))"
      ]
     },
     "metadata": {},
     "output_type": "display_data"
    },
    {
     "name": "stdout",
     "output_type": "stream",
     "text": [
      "\n",
      "Optimization restart 1/10, f = -112.22364088115899\n",
      "Optimization restart 2/10, f = -112.22364090584972\n",
      "Optimization restart 3/10, f = -112.22364090568749\n",
      "Optimization restart 4/10, f = -112.22364090571836\n",
      "Optimization restart 5/10, f = -112.22364090576252\n",
      "Optimization restart 6/10, f = -112.22364090592959\n",
      "Optimization restart 7/10, f = -112.22364090493127\n",
      "Optimization restart 8/10, f = -112.22364090517621\n",
      "Optimization restart 9/10, f = -112.2236409060553\n",
      "Optimization restart 10/10, f = -112.22364090404237\n",
      "Optimization restart 1/10, f = 537.9428775019412\n",
      "Optimization restart 2/10, f = 537.9428092219158\n",
      "Optimization restart 3/10, f = 765.0241009583472\n",
      "Optimization restart 4/10, f = 537.9428092214353\n",
      "Optimization restart 5/10, f = 556.1042582059488\n",
      "Optimization restart 6/10, f = 738.794459227962\n",
      "Optimization restart 7/10, f = 537.9428092748242\n",
      "Optimization restart 8/10, f = 560.2164755103461\n",
      "Optimization restart 9/10, f = 743.9050677684645\n",
      "Optimization restart 10/10, f = 577.1096847063682\n"
     ]
    },
    {
     "data": {
      "application/vnd.jupyter.widget-view+json": {
       "model_id": "2d16161c4ce04714a28a275a6e509bca",
       "version_major": 2,
       "version_minor": 0
      },
      "text/plain": [
       "HBox(children=(HTML(value=''), FloatProgress(value=0.0, max=10000.0), HTML(value='')))"
      ]
     },
     "metadata": {},
     "output_type": "display_data"
    },
    {
     "name": "stdout",
     "output_type": "stream",
     "text": [
      "\n",
      "Optimization restart 1/10, f = -113.1187132757036\n",
      "Optimization restart 2/10, f = -113.11871327560642\n",
      "Optimization restart 3/10, f = -113.11871323629255\n",
      "Optimization restart 4/10, f = -113.11871327547613\n",
      "Optimization restart 5/10, f = -113.1187132742502\n",
      "Optimization restart 6/10, f = -113.11871327601588\n",
      "Optimization restart 7/10, f = -113.11871327569803\n",
      "Optimization restart 8/10, f = -113.11871322729417\n",
      "Optimization restart 9/10, f = -113.11871327553847\n",
      "Optimization restart 10/10, f = -113.11871326949654\n",
      "Optimization restart 1/10, f = 542.3920906490563\n",
      "Optimization restart 2/10, f = 749.1077517133858\n",
      "Optimization restart 3/10, f = 749.1077365659842\n",
      "Optimization restart 4/10, f = 542.3918262196828\n",
      "Optimization restart 5/10, f = 743.927546616207\n",
      "Optimization restart 6/10, f = 749.1077469884822\n",
      "Optimization restart 7/10, f = 542.3918263001949\n",
      "Optimization restart 8/10, f = 757.1653037891908\n",
      "Optimization restart 9/10, f = 688.3974515597349\n",
      "Optimization restart 10/10, f = 754.7027843354774\n"
     ]
    },
    {
     "data": {
      "application/vnd.jupyter.widget-view+json": {
       "model_id": "e5cf37cfa2bd4211b49f23419bd135c7",
       "version_major": 2,
       "version_minor": 0
      },
      "text/plain": [
       "HBox(children=(HTML(value=''), FloatProgress(value=0.0, max=10000.0), HTML(value='')))"
      ]
     },
     "metadata": {},
     "output_type": "display_data"
    },
    {
     "name": "stdout",
     "output_type": "stream",
     "text": [
      "\n",
      "Optimization restart 1/10, f = -113.49102753371442\n",
      "Optimization restart 2/10, f = -113.49103581984431\n",
      "Optimization restart 3/10, f = -113.49103581980239\n",
      "Optimization restart 4/10, f = -113.49103581980489\n",
      "Optimization restart 5/10, f = -113.49103581932214\n",
      "Optimization restart 6/10, f = -113.49103581914676\n",
      "Optimization restart 7/10, f = -113.49103581976455\n",
      "Optimization restart 8/10, f = -113.49103580550403\n",
      "Optimization restart 9/10, f = -113.49103581091899\n",
      "Optimization restart 10/10, f = -113.49103582002117\n",
      "Optimization restart 1/10, f = 546.755878501332\n",
      "Optimization restart 2/10, f = 546.7555397126193\n",
      "Optimization restart 3/10, f = 572.9273294687409\n",
      "Optimization restart 4/10, f = 754.3151560861767\n",
      "Optimization restart 5/10, f = 546.7555395439231\n",
      "Optimization restart 6/10, f = 562.0921703554505\n",
      "Optimization restart 7/10, f = 546.7555395944229\n",
      "Optimization restart 8/10, f = 775.5545165406603\n",
      "Optimization restart 9/10, f = 754.3151627207625\n",
      "Optimization restart 10/10, f = 732.9147765182195\n"
     ]
    },
    {
     "data": {
      "application/vnd.jupyter.widget-view+json": {
       "model_id": "5cdf048ca350460ca5f041283f656a6f",
       "version_major": 2,
       "version_minor": 0
      },
      "text/plain": [
       "HBox(children=(HTML(value=''), FloatProgress(value=0.0, max=10000.0), HTML(value='')))"
      ]
     },
     "metadata": {},
     "output_type": "display_data"
    },
    {
     "name": "stdout",
     "output_type": "stream",
     "text": [
      "\n",
      "Optimization restart 1/10, f = -117.86383093677752\n",
      "Optimization restart 2/10, f = -117.8638309374698\n",
      "Optimization restart 3/10, f = -117.8638309352267\n",
      "Optimization restart 4/10, f = -117.86383078269088\n",
      "Optimization restart 5/10, f = -117.86383093783397\n",
      "Optimization restart 6/10, f = -117.86383092549815\n",
      "Optimization restart 7/10, f = -117.86383093684424\n",
      "Optimization restart 8/10, f = -117.86383093643838\n",
      "Optimization restart 9/10, f = -117.86383090918076\n",
      "Optimization restart 10/10, f = -117.86383093243424\n",
      "Optimization restart 1/10, f = 550.553996932449\n",
      "Optimization restart 2/10, f = 759.4849738129551\n",
      "Optimization restart 3/10, f = 573.9223205589714\n",
      "Optimization restart 4/10, f = 759.4849728005104\n",
      "Optimization restart 5/10, f = 763.5688514554017\n",
      "Optimization restart 6/10, f = 759.4849741577132\n",
      "Optimization restart 7/10, f = 759.8394894457413\n",
      "Optimization restart 8/10, f = 550.5512794578308\n",
      "Optimization restart 9/10, f = 759.4849727831185\n",
      "Optimization restart 10/10, f = 595.1999416846168\n"
     ]
    },
    {
     "data": {
      "application/vnd.jupyter.widget-view+json": {
       "model_id": "4963dd4fc3684bd4ab70d25415d52100",
       "version_major": 2,
       "version_minor": 0
      },
      "text/plain": [
       "HBox(children=(HTML(value=''), FloatProgress(value=0.0, max=10000.0), HTML(value='')))"
      ]
     },
     "metadata": {},
     "output_type": "display_data"
    },
    {
     "name": "stdout",
     "output_type": "stream",
     "text": [
      "\n",
      "Optimization restart 1/10, f = -119.77803410905184\n",
      "Optimization restart 2/10, f = -119.77843278806131\n",
      "Optimization restart 3/10, f = -119.7784327923997\n",
      "Optimization restart 4/10, f = -119.77843277507823\n",
      "Optimization restart 5/10, f = -119.7784327921905\n",
      "Optimization restart 6/10, f = -119.7784327927238\n",
      "Optimization restart 7/10, f = -119.77843278891855\n",
      "Optimization restart 8/10, f = -119.77843279231362\n",
      "Optimization restart 9/10, f = -119.77843278087019\n",
      "Optimization restart 10/10, f = -119.77843278380978\n",
      "Optimization restart 1/10, f = 560.6409426713047\n",
      "Optimization restart 2/10, f = 800.434724984701\n",
      "Optimization restart 3/10, f = 560.4162095359219\n",
      "Optimization restart 4/10, f = 560.4162095020869\n",
      "Optimization restart 5/10, f = 560.4162094935183\n",
      "Optimization restart 6/10, f = 607.8949317933155\n",
      "Optimization restart 7/10, f = 764.6789078785156\n",
      "Optimization restart 8/10, f = 560.4162095045863\n",
      "Optimization restart 9/10, f = 560.41621000208\n",
      "Optimization restart 10/10, f = 764.678906662588\n"
     ]
    },
    {
     "data": {
      "application/vnd.jupyter.widget-view+json": {
       "model_id": "cfb034df5bad4fc1a86fc79102c9dff3",
       "version_major": 2,
       "version_minor": 0
      },
      "text/plain": [
       "HBox(children=(HTML(value=''), FloatProgress(value=0.0, max=10000.0), HTML(value='')))"
      ]
     },
     "metadata": {},
     "output_type": "display_data"
    },
    {
     "name": "stdout",
     "output_type": "stream",
     "text": [
      "\n",
      "Optimization restart 1/10, f = -121.67963190376547\n",
      "Optimization restart 2/10, f = -119.43040395359284\n",
      "Optimization restart 3/10, f = -119.43040395415906\n",
      "Optimization restart 4/10, f = -119.43040395165659\n",
      "Optimization restart 5/10, f = -119.43040395207102\n",
      "Optimization restart 6/10, f = -121.6796772374746\n",
      "Optimization restart 7/10, f = -119.43040395405353\n",
      "Optimization restart 8/10, f = -119.43040395281669\n",
      "Optimization restart 9/10, f = -119.4304039525689\n",
      "Optimization restart 10/10, f = -119.43040395359614\n",
      "Optimization restart 1/10, f = 563.7781837461592\n",
      "Optimization restart 2/10, f = 563.7713544892356\n",
      "Optimization restart 3/10, f = 764.4988551683687\n",
      "Optimization restart 4/10, f = 576.8995383817434\n",
      "Optimization restart 5/10, f = 769.8444523273932\n",
      "Optimization restart 6/10, f = 693.5904391630083\n",
      "Optimization restart 7/10, f = 563.7713544911796\n",
      "Optimization restart 8/10, f = 769.8444528049125\n",
      "Optimization restart 9/10, f = 563.7713544989213\n",
      "Optimization restart 10/10, f = 760.5125423203967\n"
     ]
    },
    {
     "data": {
      "application/vnd.jupyter.widget-view+json": {
       "model_id": "0ef055ef2cf74b43bdd6f7bcc1f698cd",
       "version_major": 2,
       "version_minor": 0
      },
      "text/plain": [
       "HBox(children=(HTML(value=''), FloatProgress(value=0.0, max=10000.0), HTML(value='')))"
      ]
     },
     "metadata": {},
     "output_type": "display_data"
    },
    {
     "name": "stdout",
     "output_type": "stream",
     "text": [
      "\n",
      "Optimization restart 1/10, f = -123.66332334733976\n",
      "Optimization restart 2/10, f = -121.96243247423826\n",
      "Optimization restart 3/10, f = -121.96243233733392\n",
      "Optimization restart 4/10, f = -121.96243247426077\n",
      "Optimization restart 5/10, f = -123.66360389278738\n",
      "Optimization restart 6/10, f = -121.96243247434357\n",
      "Optimization restart 7/10, f = -121.96243247038905\n",
      "Optimization restart 8/10, f = -121.96243247439607\n",
      "Optimization restart 9/10, f = -121.96243247440111\n",
      "Optimization restart 10/10, f = -121.9624324745092\n",
      "Optimization restart 1/10, f = 582.8515767044428\n",
      "Optimization restart 2/10, f = 775.0258488270688\n",
      "Optimization restart 3/10, f = 775.339115426988\n",
      "Optimization restart 4/10, f = 582.7170466414805\n",
      "Optimization restart 5/10, f = 582.7170466589341\n",
      "Optimization restart 6/10, f = 775.0258486122198\n",
      "Optimization restart 7/10, f = 785.262551177523\n",
      "Optimization restart 8/10, f = 582.7170466298151\n",
      "Optimization restart 9/10, f = 775.0258551500815\n",
      "Optimization restart 10/10, f = 582.7170466444909\n"
     ]
    },
    {
     "data": {
      "application/vnd.jupyter.widget-view+json": {
       "model_id": "88905d58d64646728291c34e26b77b11",
       "version_major": 2,
       "version_minor": 0
      },
      "text/plain": [
       "HBox(children=(HTML(value=''), FloatProgress(value=0.0, max=10000.0), HTML(value='')))"
      ]
     },
     "metadata": {},
     "output_type": "display_data"
    },
    {
     "name": "stdout",
     "output_type": "stream",
     "text": [
      "\n",
      "Optimization restart 1/10, f = -125.3793806473787\n",
      "Optimization restart 2/10, f = -124.20031181354993\n",
      "Optimization restart 3/10, f = -124.20031181390064\n",
      "Optimization restart 4/10, f = -124.20031181288029\n",
      "Optimization restart 5/10, f = -125.38124643359008\n",
      "Optimization restart 6/10, f = -124.2003118129725\n",
      "Optimization restart 7/10, f = -124.20031181360699\n",
      "Optimization restart 8/10, f = -124.20031180509758\n",
      "Optimization restart 9/10, f = -124.20031181386435\n",
      "Optimization restart 10/10, f = -124.20031181381044\n",
      "Optimization restart 1/10, f = 590.9189521416389\n",
      "Optimization restart 2/10, f = 791.9056479683404\n",
      "Optimization restart 3/10, f = 590.3522011519906\n",
      "Optimization restart 4/10, f = 780.2204147885357\n",
      "Optimization restart 5/10, f = 615.4649298833988\n",
      "Optimization restart 6/10, f = 780.2204141003833\n",
      "Optimization restart 7/10, f = 774.7250234077801\n",
      "Optimization restart 8/10, f = 769.2767141218563\n",
      "Optimization restart 9/10, f = 590.3522011077891\n",
      "Optimization restart 10/10, f = 775.2130466997213\n"
     ]
    },
    {
     "data": {
      "application/vnd.jupyter.widget-view+json": {
       "model_id": "77f99d48260741c68dff10e0adb5cd3e",
       "version_major": 2,
       "version_minor": 0
      },
      "text/plain": [
       "HBox(children=(HTML(value=''), FloatProgress(value=0.0, max=10000.0), HTML(value='')))"
      ]
     },
     "metadata": {},
     "output_type": "display_data"
    },
    {
     "name": "stdout",
     "output_type": "stream",
     "text": [
      "\n",
      "Optimization restart 1/10, f = -126.99545855897239\n",
      "Optimization restart 2/10, f = -125.69275725254376\n",
      "Optimization restart 3/10, f = -125.6927572822896\n",
      "Optimization restart 4/10, f = -125.69275723634533\n",
      "Optimization restart 5/10, f = -125.69275728273927\n",
      "Optimization restart 6/10, f = -125.69275728195913\n",
      "Optimization restart 7/10, f = -125.69275728546432\n",
      "Optimization restart 8/10, f = -125.69275724376666\n",
      "Optimization restart 9/10, f = -125.69275728521637\n",
      "Optimization restart 10/10, f = -125.69275728547102\n",
      "Optimization restart 1/10, f = 594.824297242018\n",
      "Optimization restart 2/10, f = 785.5870352469263\n",
      "Optimization restart 3/10, f = 785.5870352142197\n",
      "Optimization restart 4/10, f = 786.4031639454984\n",
      "Optimization restart 5/10, f = 803.9396752304018\n",
      "Optimization restart 6/10, f = 774.3747251743719\n",
      "Optimization restart 7/10, f = 594.8221415685948\n",
      "Optimization restart 8/10, f = 594.8221415978453\n",
      "Optimization restart 9/10, f = 797.6466316490777\n",
      "Optimization restart 10/10, f = 796.5267512634825\n"
     ]
    },
    {
     "data": {
      "application/vnd.jupyter.widget-view+json": {
       "model_id": "638283c1e25d4a0ca941e1800e211a77",
       "version_major": 2,
       "version_minor": 0
      },
      "text/plain": [
       "HBox(children=(HTML(value=''), FloatProgress(value=0.0, max=10000.0), HTML(value='')))"
      ]
     },
     "metadata": {},
     "output_type": "display_data"
    },
    {
     "name": "stdout",
     "output_type": "stream",
     "text": [
      "\n",
      "Optimization restart 1/10, f = -128.44916186286798\n",
      "Optimization restart 2/10, f = -127.40129109047416\n",
      "Optimization restart 3/10, f = -127.40129093967275\n",
      "Optimization restart 4/10, f = -127.40129108504958\n",
      "Optimization restart 5/10, f = -127.40129109116933\n",
      "Optimization restart 6/10, f = -127.40129109189724\n",
      "Optimization restart 7/10, f = -127.4012910921563\n",
      "Optimization restart 8/10, f = -128.4493363245208\n",
      "Optimization restart 9/10, f = -127.40129109179652\n",
      "Optimization restart 10/10, f = -127.4012910914417\n",
      "Optimization restart 1/10, f = 599.2939074100162\n",
      "Optimization restart 2/10, f = 798.3532215206029\n",
      "Optimization restart 3/10, f = 599.2892128395831\n",
      "Optimization restart 4/10, f = 790.8815069581805\n",
      "Optimization restart 5/10, f = 605.9721957328833\n",
      "Optimization restart 6/10, f = 807.0961066900372\n",
      "Optimization restart 7/10, f = 599.2892127557182\n",
      "Optimization restart 8/10, f = 790.8815070527029\n",
      "Optimization restart 9/10, f = 599.2892127609394\n",
      "Optimization restart 10/10, f = 599.2892133354865\n"
     ]
    },
    {
     "data": {
      "application/vnd.jupyter.widget-view+json": {
       "model_id": "98ece3b638e84b95bffb269f10f6f83c",
       "version_major": 2,
       "version_minor": 0
      },
      "text/plain": [
       "HBox(children=(HTML(value=''), FloatProgress(value=0.0, max=10000.0), HTML(value='')))"
      ]
     },
     "metadata": {},
     "output_type": "display_data"
    },
    {
     "name": "stdout",
     "output_type": "stream",
     "text": [
      "\n",
      "Optimization restart 1/10, f = -130.30036657586143\n",
      "Optimization restart 2/10, f = -129.33939289700496\n",
      "Optimization restart 3/10, f = -129.33939299096642\n",
      "Optimization restart 4/10, f = -129.33939298943324\n",
      "Optimization restart 5/10, f = -129.3393929951268\n",
      "Optimization restart 6/10, f = -129.33939299507435\n",
      "Optimization restart 7/10, f = -129.33939298672183\n",
      "Optimization restart 8/10, f = -129.3393929947607\n",
      "Optimization restart 9/10, f = -129.33939298732446\n",
      "Optimization restart 10/10, f = -129.33939297580613\n",
      "Optimization restart 1/10, f = 603.6977122050248\n",
      "Optimization restart 2/10, f = 796.1495429205671\n",
      "Optimization restart 3/10, f = 796.1495410607063\n",
      "Optimization restart 4/10, f = 790.15156753801\n",
      "Optimization restart 5/10, f = 796.149540916796\n",
      "Optimization restart 6/10, f = 815.2323191590385\n",
      "Optimization restart 7/10, f = 808.8643875473476\n",
      "Optimization restart 8/10, f = 785.2329621991203\n",
      "Optimization restart 9/10, f = 844.7677176832932\n",
      "Optimization restart 10/10, f = 599.811442012604\n"
     ]
    },
    {
     "data": {
      "application/vnd.jupyter.widget-view+json": {
       "model_id": "72af2633a45145a49b80970ecb8d6b0f",
       "version_major": 2,
       "version_minor": 0
      },
      "text/plain": [
       "HBox(children=(HTML(value=''), FloatProgress(value=0.0, max=10000.0), HTML(value='')))"
      ]
     },
     "metadata": {},
     "output_type": "display_data"
    },
    {
     "name": "stdout",
     "output_type": "stream",
     "text": [
      "\n",
      "Optimization restart 1/10, f = -132.36513452098256\n",
      "Optimization restart 2/10, f = -131.7459208920971\n",
      "Optimization restart 3/10, f = -131.74592088994277\n",
      "Optimization restart 4/10, f = -132.36524280075494\n",
      "Optimization restart 5/10, f = -131.74592089625241\n",
      "Optimization restart 6/10, f = -131.74592089572192\n",
      "Optimization restart 7/10, f = -131.74592089584084\n",
      "Optimization restart 8/10, f = -131.7459208956657\n",
      "Optimization restart 9/10, f = -131.74592089573514\n",
      "Optimization restart 10/10, f = -131.74592089618045\n",
      "Optimization restart 1/10, f = 602.2061337463267\n",
      "Optimization restart 2/10, f = 602.2038090012933\n",
      "Optimization restart 3/10, f = 819.7931029006056\n",
      "Optimization restart 4/10, f = 803.1619773250811\n",
      "Optimization restart 5/10, f = 602.2038083734169\n",
      "Optimization restart 6/10, f = 801.2947839792566\n",
      "Optimization restart 7/10, f = 809.4396977688164\n",
      "Optimization restart 8/10, f = 795.3110312230158\n",
      "Optimization restart 9/10, f = 801.2947883172998\n",
      "Optimization restart 10/10, f = 602.2038083380536\n"
     ]
    },
    {
     "data": {
      "application/vnd.jupyter.widget-view+json": {
       "model_id": "0806c725a1a64993861533a1d567efc2",
       "version_major": 2,
       "version_minor": 0
      },
      "text/plain": [
       "HBox(children=(HTML(value=''), FloatProgress(value=0.0, max=10000.0), HTML(value='')))"
      ]
     },
     "metadata": {},
     "output_type": "display_data"
    },
    {
     "name": "stdout",
     "output_type": "stream",
     "text": [
      "\n",
      "Optimization restart 1/10, f = -134.44705069287903\n",
      "Optimization restart 2/10, f = -134.07445611593113\n",
      "Optimization restart 3/10, f = -134.07445611627736\n",
      "Optimization restart 4/10, f = -134.07445608488268\n",
      "Optimization restart 5/10, f = -134.0744561164612\n",
      "Optimization restart 6/10, f = -134.0744561161652\n",
      "Optimization restart 7/10, f = -134.07445611584814\n",
      "Optimization restart 8/10, f = -134.0744561165309\n",
      "Optimization restart 9/10, f = -134.07445611589478\n",
      "Optimization restart 10/10, f = -134.0744561056638\n",
      "Optimization restart 1/10, f = 604.9675182272683\n",
      "Optimization restart 2/10, f = 806.4373390865812\n",
      "Optimization restart 3/10, f = 604.966467263908\n",
      "Optimization restart 4/10, f = 810.9408972216903\n",
      "Optimization restart 5/10, f = 620.336852130616\n",
      "Optimization restart 6/10, f = 806.4373325853496\n",
      "Optimization restart 7/10, f = 806.4373350764207\n",
      "Optimization restart 8/10, f = 825.5600115250572\n",
      "Optimization restart 9/10, f = 604.9664672736395\n",
      "Optimization restart 10/10, f = 604.9664676662221\n"
     ]
    },
    {
     "data": {
      "application/vnd.jupyter.widget-view+json": {
       "model_id": "3a0813db53c14e779ea514a2a4e6ca72",
       "version_major": 2,
       "version_minor": 0
      },
      "text/plain": [
       "HBox(children=(HTML(value=''), FloatProgress(value=0.0, max=10000.0), HTML(value='')))"
      ]
     },
     "metadata": {},
     "output_type": "display_data"
    },
    {
     "name": "stdout",
     "output_type": "stream",
     "text": [
      "\n",
      "Optimization restart 1/10, f = -136.5598188157124\n",
      "Optimization restart 2/10, f = -136.643248379482\n",
      "Optimization restart 3/10, f = -136.64324838526844\n",
      "Optimization restart 4/10, f = -136.64324838520213\n",
      "Optimization restart 5/10, f = -136.64324838587876\n",
      "Optimization restart 6/10, f = -136.6432483846981\n",
      "Optimization restart 7/10, f = -136.6432483726049\n",
      "Optimization restart 8/10, f = -136.6432483765234\n",
      "Optimization restart 9/10, f = -136.64324838155153\n",
      "Optimization restart 10/10, f = -136.6432483844805\n",
      "Optimization restart 1/10, f = 606.8940187666021\n",
      "Optimization restart 2/10, f = 606.8920233473334\n",
      "Optimization restart 3/10, f = 882.2727851139515\n",
      "Optimization restart 4/10, f = 811.575582566039\n",
      "Optimization restart 5/10, f = 606.8920233589895\n",
      "Optimization restart 6/10, f = 811.5755825479127\n",
      "Optimization restart 7/10, f = 823.6102794061896\n",
      "Optimization restart 8/10, f = 606.8920233306269\n",
      "Optimization restart 9/10, f = 606.892023384819\n",
      "Optimization restart 10/10, f = 908.5319454276852\n"
     ]
    },
    {
     "data": {
      "application/vnd.jupyter.widget-view+json": {
       "model_id": "3e52168a1df847a5860b852ad7a1d5e6",
       "version_major": 2,
       "version_minor": 0
      },
      "text/plain": [
       "HBox(children=(HTML(value=''), FloatProgress(value=0.0, max=10000.0), HTML(value='')))"
      ]
     },
     "metadata": {},
     "output_type": "display_data"
    },
    {
     "name": "stdout",
     "output_type": "stream",
     "text": [
      "\n",
      "Optimization restart 1/10, f = -137.6568687344691\n",
      "Optimization restart 2/10, f = -137.65686873646868\n",
      "Optimization restart 3/10, f = -137.6568687355225\n",
      "Optimization restart 4/10, f = -137.65686873452236\n",
      "Optimization restart 5/10, f = -137.65686872949055\n",
      "Optimization restart 6/10, f = -137.656868736981\n",
      "Optimization restart 7/10, f = -137.65686873662222\n",
      "Optimization restart 8/10, f = -137.6568687362314\n",
      "Optimization restart 9/10, f = -137.6568687360592\n",
      "Optimization restart 10/10, f = -137.65686873651126\n",
      "Optimization restart 1/10, f = 611.739642688\n",
      "Optimization restart 2/10, f = 816.9814365845435\n",
      "Optimization restart 3/10, f = 896.4948331812368\n",
      "Optimization restart 4/10, f = 823.2969516738801\n",
      "Optimization restart 5/10, f = 810.8167541590869\n",
      "Optimization restart 6/10, f = 611.7395287590351\n",
      "Optimization restart 7/10, f = 611.7395288866919\n",
      "Optimization restart 8/10, f = 816.9814353998534\n",
      "Optimization restart 9/10, f = 816.9814346953964\n",
      "Optimization restart 10/10, f = 611.7395287153184\n"
     ]
    },
    {
     "data": {
      "application/vnd.jupyter.widget-view+json": {
       "model_id": "78591aff114a43abb9a26c7c96df4b5a",
       "version_major": 2,
       "version_minor": 0
      },
      "text/plain": [
       "HBox(children=(HTML(value=''), FloatProgress(value=0.0, max=10000.0), HTML(value='')))"
      ]
     },
     "metadata": {},
     "output_type": "display_data"
    },
    {
     "name": "stdout",
     "output_type": "stream",
     "text": [
      "\n",
      "Optimization restart 1/10, f = -140.31643257438373\n",
      "Optimization restart 2/10, f = -140.31643268064053\n",
      "Optimization restart 3/10, f = -140.31643268161565\n",
      "Optimization restart 4/10, f = -140.316432676643\n",
      "Optimization restart 5/10, f = -140.31643267848668\n",
      "Optimization restart 6/10, f = -140.3164326793377\n",
      "Optimization restart 7/10, f = -140.3164326815807\n",
      "Optimization restart 8/10, f = -140.31643268027568\n",
      "Optimization restart 9/10, f = -140.31643268216214\n",
      "Optimization restart 10/10, f = -140.31643267781328\n",
      "Optimization restart 1/10, f = 613.593400852655\n",
      "Optimization restart 2/10, f = 613.5922930460723\n",
      "Optimization restart 3/10, f = 822.1146191280181\n",
      "Optimization restart 4/10, f = 822.215217987678\n",
      "Optimization restart 5/10, f = 822.1146205740541\n",
      "Optimization restart 6/10, f = 822.1146211970698\n",
      "Optimization restart 7/10, f = 613.5922930142723\n",
      "Optimization restart 8/10, f = 822.5280840448893\n",
      "Optimization restart 9/10, f = 822.1146193766672\n",
      "Optimization restart 10/10, f = 613.5922930151587\n"
     ]
    },
    {
     "data": {
      "application/vnd.jupyter.widget-view+json": {
       "model_id": "2d81ca594c684d97a96e9b8d9c7b70e7",
       "version_major": 2,
       "version_minor": 0
      },
      "text/plain": [
       "HBox(children=(HTML(value=''), FloatProgress(value=0.0, max=10000.0), HTML(value='')))"
      ]
     },
     "metadata": {},
     "output_type": "display_data"
    },
    {
     "name": "stdout",
     "output_type": "stream",
     "text": [
      "\n",
      "Optimization restart 1/10, f = -141.73790169254758\n",
      "Optimization restart 2/10, f = -141.73790169282404\n",
      "Optimization restart 3/10, f = -141.73790168610634\n",
      "Optimization restart 4/10, f = -141.73790169266948\n",
      "Optimization restart 5/10, f = -141.73790169292332\n",
      "Optimization restart 6/10, f = -141.7379016925924\n",
      "Optimization restart 7/10, f = -141.73790165749867\n",
      "Optimization restart 8/10, f = -141.7379016902014\n",
      "Optimization restart 9/10, f = -141.73790169276674\n",
      "Optimization restart 10/10, f = -141.73790169271504\n",
      "Optimization restart 1/10, f = 617.2606330592369\n",
      "Optimization restart 2/10, f = 827.2889061300892\n",
      "Optimization restart 3/10, f = 617.2586819007065\n",
      "Optimization restart 4/10, f = 908.7188208177033\n",
      "Optimization restart 5/10, f = 617.2586818919578\n",
      "Optimization restart 6/10, f = 617.2586819155965\n",
      "Optimization restart 7/10, f = 617.2586818964578\n",
      "Optimization restart 8/10, f = 829.0546075823095\n",
      "Optimization restart 9/10, f = 827.2889059099949\n",
      "Optimization restart 10/10, f = 827.2889055924295\n"
     ]
    },
    {
     "data": {
      "application/vnd.jupyter.widget-view+json": {
       "model_id": "c0de1fc8d2444646b051cbe79ca0da34",
       "version_major": 2,
       "version_minor": 0
      },
      "text/plain": [
       "HBox(children=(HTML(value=''), FloatProgress(value=0.0, max=10000.0), HTML(value='')))"
      ]
     },
     "metadata": {},
     "output_type": "display_data"
    },
    {
     "name": "stdout",
     "output_type": "stream",
     "text": [
      "\n",
      "Optimization restart 1/10, f = -143.49742887798885\n",
      "Optimization restart 2/10, f = -143.49743297498748\n",
      "Optimization restart 3/10, f = -143.49743296968694\n",
      "Optimization restart 4/10, f = -143.49743297457294\n",
      "Optimization restart 5/10, f = -143.4974329749657\n",
      "Optimization restart 6/10, f = -143.4974329745787\n",
      "Optimization restart 7/10, f = -143.4974329744176\n",
      "Optimization restart 8/10, f = -143.49743297501217\n",
      "Optimization restart 9/10, f = -143.4974329749914\n",
      "Optimization restart 10/10, f = -143.49743297277092\n",
      "Optimization restart 1/10, f = 620.718479114172\n",
      "Optimization restart 2/10, f = 845.275790982485\n",
      "Optimization restart 3/10, f = 826.2147875572327\n",
      "Optimization restart 4/10, f = 832.4205342874086\n",
      "Optimization restart 5/10, f = 620.7169472375972\n",
      "Optimization restart 6/10, f = 832.4205371810654\n",
      "Optimization restart 7/10, f = 620.7169471906789\n",
      "Optimization restart 8/10, f = 620.7169470687554\n",
      "Optimization restart 9/10, f = 620.7169470997175\n",
      "Optimization restart 10/10, f = 620.7169562116345\n"
     ]
    },
    {
     "data": {
      "application/vnd.jupyter.widget-view+json": {
       "model_id": "501e3e7e0e4547feb31a4e6c4febc7ef",
       "version_major": 2,
       "version_minor": 0
      },
      "text/plain": [
       "HBox(children=(HTML(value=''), FloatProgress(value=0.0, max=10000.0), HTML(value='')))"
      ]
     },
     "metadata": {},
     "output_type": "display_data"
    },
    {
     "name": "stdout",
     "output_type": "stream",
     "text": [
      "\n",
      "Optimization restart 1/10, f = -143.47606377417765\n",
      "Optimization restart 2/10, f = -143.47606377423912\n",
      "Optimization restart 3/10, f = -143.47606377245066\n",
      "Optimization restart 4/10, f = -143.4760637745033\n",
      "Optimization restart 5/10, f = -143.47606377442818\n",
      "Optimization restart 6/10, f = -143.47606376765492\n",
      "Optimization restart 7/10, f = -143.47606377454562\n",
      "Optimization restart 8/10, f = -143.4760637744912\n",
      "Optimization restart 9/10, f = -143.47606377444137\n",
      "Optimization restart 10/10, f = -143.47606377431313\n",
      "Optimization restart 1/10, f = 625.3513739726548\n",
      "Optimization restart 2/10, f = 844.8244569529622\n",
      "Optimization restart 3/10, f = 759.4883030744302\n",
      "Optimization restart 4/10, f = 838.1151725459765\n",
      "Optimization restart 5/10, f = 877.365942260593\n",
      "Optimization restart 6/10, f = 838.1151725089466\n",
      "Optimization restart 7/10, f = 838.1151724614213\n",
      "Optimization restart 8/10, f = 838.1151750772304\n",
      "Optimization restart 9/10, f = 644.9316098881377\n",
      "Optimization restart 10/10, f = 625.351330442225\n"
     ]
    },
    {
     "data": {
      "application/vnd.jupyter.widget-view+json": {
       "model_id": "2b991f33bb1d4609935b48225987ef88",
       "version_major": 2,
       "version_minor": 0
      },
      "text/plain": [
       "HBox(children=(HTML(value=''), FloatProgress(value=0.0, max=10000.0), HTML(value='')))"
      ]
     },
     "metadata": {},
     "output_type": "display_data"
    },
    {
     "name": "stdout",
     "output_type": "stream",
     "text": [
      "\n",
      "Optimization restart 1/10, f = -145.61415208474398\n",
      "Optimization restart 2/10, f = -145.61415209433798\n",
      "Optimization restart 3/10, f = -145.61415209503525\n",
      "Optimization restart 4/10, f = -145.61415208275312\n",
      "Optimization restart 5/10, f = -145.61415209483744\n",
      "Optimization restart 6/10, f = -145.61415209500814\n",
      "Optimization restart 7/10, f = -145.61415209544072\n",
      "Optimization restart 8/10, f = -145.61415209546072\n",
      "Optimization restart 9/10, f = -145.6141520934965\n",
      "Optimization restart 10/10, f = -145.6141520951768\n",
      "Optimization restart 1/10, f = 627.3962576851828\n",
      "Optimization restart 2/10, f = 843.239503765908\n",
      "Optimization restart 3/10, f = 851.5608783537425\n",
      "Optimization restart 4/10, f = 645.7437678955142\n",
      "Optimization restart 5/10, f = 836.7555232983707\n",
      "Optimization restart 6/10, f = 627.3960658244567\n",
      "Optimization restart 7/10, f = 865.2231304367983\n",
      "Optimization restart 8/10, f = 627.3960653719007\n",
      "Optimization restart 9/10, f = 627.396065403097\n",
      "Optimization restart 10/10, f = 627.3960669268996\n"
     ]
    }
   ],
   "source": [
    "from emukit.core.optimization import GradientAcquisitionOptimizer\n",
    "optimizer = GradientAcquisitionOptimizer(space)\n",
    "X = X_init\n",
    "Y = Y_init\n",
    "Yc = Yc_init\n",
    "iterations = n_total_points - n_initial_points\n",
    "for i in range(iterations):\n",
    "    ei_acquisition.update_parameters()\n",
    "    pof_acquisition.update_parameters()\n",
    "    composite_acquisition = ei_acquisition*pof_acquisition\n",
    "    x_new, _ = optimizer.optimize(composite_acquisition)\n",
    "    X = np.append(X, x_new, axis=0)\n",
    "    \n",
    "    # May be a very small neg number\n",
    "    x_new = np.clip(x_new, 0, 10)\n",
    "    y_new, yc_new = composite_f(x_new)\n",
    "    \n",
    "#     y_new = target_function(x_new)\n",
    "    Y = np.append(Y, y_new, axis=0)\n",
    "    f_model.set_data(X, Y)\n",
    "    f_model.optimize()\n",
    "    \n",
    "#     yc_new = constraint(x_new)\n",
    "    Yc = np.append(Yc, yc_new, axis=0)\n",
    "    con_model.set_data(X, Yc)\n",
    "    con_model.optimize()"
   ]
  },
  {
   "cell_type": "code",
   "execution_count": null,
   "metadata": {},
   "outputs": [],
   "source": [
    "# # Only for 3D\n",
    "# plot_3d(X[:,0].squeeze(), X[:,1].squeeze(), X[:,2].squeeze())"
   ]
  },
  {
   "cell_type": "code",
   "execution_count": 16,
   "metadata": {},
   "outputs": [
    {
     "data": {
      "application/javascript": [
       "/* Put everything inside the global mpl namespace */\n",
       "/* global mpl */\n",
       "window.mpl = {};\n",
       "\n",
       "mpl.get_websocket_type = function () {\n",
       "    if (typeof WebSocket !== 'undefined') {\n",
       "        return WebSocket;\n",
       "    } else if (typeof MozWebSocket !== 'undefined') {\n",
       "        return MozWebSocket;\n",
       "    } else {\n",
       "        alert(\n",
       "            'Your browser does not have WebSocket support. ' +\n",
       "                'Please try Chrome, Safari or Firefox ≥ 6. ' +\n",
       "                'Firefox 4 and 5 are also supported but you ' +\n",
       "                'have to enable WebSockets in about:config.'\n",
       "        );\n",
       "    }\n",
       "};\n",
       "\n",
       "mpl.figure = function (figure_id, websocket, ondownload, parent_element) {\n",
       "    this.id = figure_id;\n",
       "\n",
       "    this.ws = websocket;\n",
       "\n",
       "    this.supports_binary = this.ws.binaryType !== undefined;\n",
       "\n",
       "    if (!this.supports_binary) {\n",
       "        var warnings = document.getElementById('mpl-warnings');\n",
       "        if (warnings) {\n",
       "            warnings.style.display = 'block';\n",
       "            warnings.textContent =\n",
       "                'This browser does not support binary websocket messages. ' +\n",
       "                'Performance may be slow.';\n",
       "        }\n",
       "    }\n",
       "\n",
       "    this.imageObj = new Image();\n",
       "\n",
       "    this.context = undefined;\n",
       "    this.message = undefined;\n",
       "    this.canvas = undefined;\n",
       "    this.rubberband_canvas = undefined;\n",
       "    this.rubberband_context = undefined;\n",
       "    this.format_dropdown = undefined;\n",
       "\n",
       "    this.image_mode = 'full';\n",
       "\n",
       "    this.root = document.createElement('div');\n",
       "    this.root.setAttribute('style', 'display: inline-block');\n",
       "    this._root_extra_style(this.root);\n",
       "\n",
       "    parent_element.appendChild(this.root);\n",
       "\n",
       "    this._init_header(this);\n",
       "    this._init_canvas(this);\n",
       "    this._init_toolbar(this);\n",
       "\n",
       "    var fig = this;\n",
       "\n",
       "    this.waiting = false;\n",
       "\n",
       "    this.ws.onopen = function () {\n",
       "        fig.send_message('supports_binary', { value: fig.supports_binary });\n",
       "        fig.send_message('send_image_mode', {});\n",
       "        if (fig.ratio !== 1) {\n",
       "            fig.send_message('set_dpi_ratio', { dpi_ratio: fig.ratio });\n",
       "        }\n",
       "        fig.send_message('refresh', {});\n",
       "    };\n",
       "\n",
       "    this.imageObj.onload = function () {\n",
       "        if (fig.image_mode === 'full') {\n",
       "            // Full images could contain transparency (where diff images\n",
       "            // almost always do), so we need to clear the canvas so that\n",
       "            // there is no ghosting.\n",
       "            fig.context.clearRect(0, 0, fig.canvas.width, fig.canvas.height);\n",
       "        }\n",
       "        fig.context.drawImage(fig.imageObj, 0, 0);\n",
       "    };\n",
       "\n",
       "    this.imageObj.onunload = function () {\n",
       "        fig.ws.close();\n",
       "    };\n",
       "\n",
       "    this.ws.onmessage = this._make_on_message_function(this);\n",
       "\n",
       "    this.ondownload = ondownload;\n",
       "};\n",
       "\n",
       "mpl.figure.prototype._init_header = function () {\n",
       "    var titlebar = document.createElement('div');\n",
       "    titlebar.classList =\n",
       "        'ui-dialog-titlebar ui-widget-header ui-corner-all ui-helper-clearfix';\n",
       "    var titletext = document.createElement('div');\n",
       "    titletext.classList = 'ui-dialog-title';\n",
       "    titletext.setAttribute(\n",
       "        'style',\n",
       "        'width: 100%; text-align: center; padding: 3px;'\n",
       "    );\n",
       "    titlebar.appendChild(titletext);\n",
       "    this.root.appendChild(titlebar);\n",
       "    this.header = titletext;\n",
       "};\n",
       "\n",
       "mpl.figure.prototype._canvas_extra_style = function (_canvas_div) {};\n",
       "\n",
       "mpl.figure.prototype._root_extra_style = function (_canvas_div) {};\n",
       "\n",
       "mpl.figure.prototype._init_canvas = function () {\n",
       "    var fig = this;\n",
       "\n",
       "    var canvas_div = (this.canvas_div = document.createElement('div'));\n",
       "    canvas_div.setAttribute(\n",
       "        'style',\n",
       "        'border: 1px solid #ddd;' +\n",
       "            'box-sizing: content-box;' +\n",
       "            'clear: both;' +\n",
       "            'min-height: 1px;' +\n",
       "            'min-width: 1px;' +\n",
       "            'outline: 0;' +\n",
       "            'overflow: hidden;' +\n",
       "            'position: relative;' +\n",
       "            'resize: both;'\n",
       "    );\n",
       "\n",
       "    function on_keyboard_event_closure(name) {\n",
       "        return function (event) {\n",
       "            return fig.key_event(event, name);\n",
       "        };\n",
       "    }\n",
       "\n",
       "    canvas_div.addEventListener(\n",
       "        'keydown',\n",
       "        on_keyboard_event_closure('key_press')\n",
       "    );\n",
       "    canvas_div.addEventListener(\n",
       "        'keyup',\n",
       "        on_keyboard_event_closure('key_release')\n",
       "    );\n",
       "\n",
       "    this._canvas_extra_style(canvas_div);\n",
       "    this.root.appendChild(canvas_div);\n",
       "\n",
       "    var canvas = (this.canvas = document.createElement('canvas'));\n",
       "    canvas.classList.add('mpl-canvas');\n",
       "    canvas.setAttribute('style', 'box-sizing: content-box;');\n",
       "\n",
       "    this.context = canvas.getContext('2d');\n",
       "\n",
       "    var backingStore =\n",
       "        this.context.backingStorePixelRatio ||\n",
       "        this.context.webkitBackingStorePixelRatio ||\n",
       "        this.context.mozBackingStorePixelRatio ||\n",
       "        this.context.msBackingStorePixelRatio ||\n",
       "        this.context.oBackingStorePixelRatio ||\n",
       "        this.context.backingStorePixelRatio ||\n",
       "        1;\n",
       "\n",
       "    this.ratio = (window.devicePixelRatio || 1) / backingStore;\n",
       "    if (this.ratio !== 1) {\n",
       "        fig.send_message('set_dpi_ratio', { dpi_ratio: this.ratio });\n",
       "    }\n",
       "\n",
       "    var rubberband_canvas = (this.rubberband_canvas = document.createElement(\n",
       "        'canvas'\n",
       "    ));\n",
       "    rubberband_canvas.setAttribute(\n",
       "        'style',\n",
       "        'box-sizing: content-box; position: absolute; left: 0; top: 0; z-index: 1;'\n",
       "    );\n",
       "\n",
       "    var resizeObserver = new ResizeObserver(function (entries) {\n",
       "        var nentries = entries.length;\n",
       "        for (var i = 0; i < nentries; i++) {\n",
       "            var entry = entries[i];\n",
       "            var width, height;\n",
       "            if (entry.contentBoxSize) {\n",
       "                if (entry.contentBoxSize instanceof Array) {\n",
       "                    // Chrome 84 implements new version of spec.\n",
       "                    width = entry.contentBoxSize[0].inlineSize;\n",
       "                    height = entry.contentBoxSize[0].blockSize;\n",
       "                } else {\n",
       "                    // Firefox implements old version of spec.\n",
       "                    width = entry.contentBoxSize.inlineSize;\n",
       "                    height = entry.contentBoxSize.blockSize;\n",
       "                }\n",
       "            } else {\n",
       "                // Chrome <84 implements even older version of spec.\n",
       "                width = entry.contentRect.width;\n",
       "                height = entry.contentRect.height;\n",
       "            }\n",
       "\n",
       "            // Keep the size of the canvas and rubber band canvas in sync with\n",
       "            // the canvas container.\n",
       "            if (entry.devicePixelContentBoxSize) {\n",
       "                // Chrome 84 implements new version of spec.\n",
       "                canvas.setAttribute(\n",
       "                    'width',\n",
       "                    entry.devicePixelContentBoxSize[0].inlineSize\n",
       "                );\n",
       "                canvas.setAttribute(\n",
       "                    'height',\n",
       "                    entry.devicePixelContentBoxSize[0].blockSize\n",
       "                );\n",
       "            } else {\n",
       "                canvas.setAttribute('width', width * fig.ratio);\n",
       "                canvas.setAttribute('height', height * fig.ratio);\n",
       "            }\n",
       "            canvas.setAttribute(\n",
       "                'style',\n",
       "                'width: ' + width + 'px; height: ' + height + 'px;'\n",
       "            );\n",
       "\n",
       "            rubberband_canvas.setAttribute('width', width);\n",
       "            rubberband_canvas.setAttribute('height', height);\n",
       "\n",
       "            // And update the size in Python. We ignore the initial 0/0 size\n",
       "            // that occurs as the element is placed into the DOM, which should\n",
       "            // otherwise not happen due to the minimum size styling.\n",
       "            if (width != 0 && height != 0) {\n",
       "                fig.request_resize(width, height);\n",
       "            }\n",
       "        }\n",
       "    });\n",
       "    resizeObserver.observe(canvas_div);\n",
       "\n",
       "    function on_mouse_event_closure(name) {\n",
       "        return function (event) {\n",
       "            return fig.mouse_event(event, name);\n",
       "        };\n",
       "    }\n",
       "\n",
       "    rubberband_canvas.addEventListener(\n",
       "        'mousedown',\n",
       "        on_mouse_event_closure('button_press')\n",
       "    );\n",
       "    rubberband_canvas.addEventListener(\n",
       "        'mouseup',\n",
       "        on_mouse_event_closure('button_release')\n",
       "    );\n",
       "    // Throttle sequential mouse events to 1 every 20ms.\n",
       "    rubberband_canvas.addEventListener(\n",
       "        'mousemove',\n",
       "        on_mouse_event_closure('motion_notify')\n",
       "    );\n",
       "\n",
       "    rubberband_canvas.addEventListener(\n",
       "        'mouseenter',\n",
       "        on_mouse_event_closure('figure_enter')\n",
       "    );\n",
       "    rubberband_canvas.addEventListener(\n",
       "        'mouseleave',\n",
       "        on_mouse_event_closure('figure_leave')\n",
       "    );\n",
       "\n",
       "    canvas_div.addEventListener('wheel', function (event) {\n",
       "        if (event.deltaY < 0) {\n",
       "            event.step = 1;\n",
       "        } else {\n",
       "            event.step = -1;\n",
       "        }\n",
       "        on_mouse_event_closure('scroll')(event);\n",
       "    });\n",
       "\n",
       "    canvas_div.appendChild(canvas);\n",
       "    canvas_div.appendChild(rubberband_canvas);\n",
       "\n",
       "    this.rubberband_context = rubberband_canvas.getContext('2d');\n",
       "    this.rubberband_context.strokeStyle = '#000000';\n",
       "\n",
       "    this._resize_canvas = function (width, height, forward) {\n",
       "        if (forward) {\n",
       "            canvas_div.style.width = width + 'px';\n",
       "            canvas_div.style.height = height + 'px';\n",
       "        }\n",
       "    };\n",
       "\n",
       "    // Disable right mouse context menu.\n",
       "    this.rubberband_canvas.addEventListener('contextmenu', function (_e) {\n",
       "        event.preventDefault();\n",
       "        return false;\n",
       "    });\n",
       "\n",
       "    function set_focus() {\n",
       "        canvas.focus();\n",
       "        canvas_div.focus();\n",
       "    }\n",
       "\n",
       "    window.setTimeout(set_focus, 100);\n",
       "};\n",
       "\n",
       "mpl.figure.prototype._init_toolbar = function () {\n",
       "    var fig = this;\n",
       "\n",
       "    var toolbar = document.createElement('div');\n",
       "    toolbar.classList = 'mpl-toolbar';\n",
       "    this.root.appendChild(toolbar);\n",
       "\n",
       "    function on_click_closure(name) {\n",
       "        return function (_event) {\n",
       "            return fig.toolbar_button_onclick(name);\n",
       "        };\n",
       "    }\n",
       "\n",
       "    function on_mouseover_closure(tooltip) {\n",
       "        return function (event) {\n",
       "            if (!event.currentTarget.disabled) {\n",
       "                return fig.toolbar_button_onmouseover(tooltip);\n",
       "            }\n",
       "        };\n",
       "    }\n",
       "\n",
       "    fig.buttons = {};\n",
       "    var buttonGroup = document.createElement('div');\n",
       "    buttonGroup.classList = 'mpl-button-group';\n",
       "    for (var toolbar_ind in mpl.toolbar_items) {\n",
       "        var name = mpl.toolbar_items[toolbar_ind][0];\n",
       "        var tooltip = mpl.toolbar_items[toolbar_ind][1];\n",
       "        var image = mpl.toolbar_items[toolbar_ind][2];\n",
       "        var method_name = mpl.toolbar_items[toolbar_ind][3];\n",
       "\n",
       "        if (!name) {\n",
       "            /* Instead of a spacer, we start a new button group. */\n",
       "            if (buttonGroup.hasChildNodes()) {\n",
       "                toolbar.appendChild(buttonGroup);\n",
       "            }\n",
       "            buttonGroup = document.createElement('div');\n",
       "            buttonGroup.classList = 'mpl-button-group';\n",
       "            continue;\n",
       "        }\n",
       "\n",
       "        var button = (fig.buttons[name] = document.createElement('button'));\n",
       "        button.classList = 'mpl-widget';\n",
       "        button.setAttribute('role', 'button');\n",
       "        button.setAttribute('aria-disabled', 'false');\n",
       "        button.addEventListener('click', on_click_closure(method_name));\n",
       "        button.addEventListener('mouseover', on_mouseover_closure(tooltip));\n",
       "\n",
       "        var icon_img = document.createElement('img');\n",
       "        icon_img.src = '_images/' + image + '.png';\n",
       "        icon_img.srcset = '_images/' + image + '_large.png 2x';\n",
       "        icon_img.alt = tooltip;\n",
       "        button.appendChild(icon_img);\n",
       "\n",
       "        buttonGroup.appendChild(button);\n",
       "    }\n",
       "\n",
       "    if (buttonGroup.hasChildNodes()) {\n",
       "        toolbar.appendChild(buttonGroup);\n",
       "    }\n",
       "\n",
       "    var fmt_picker = document.createElement('select');\n",
       "    fmt_picker.classList = 'mpl-widget';\n",
       "    toolbar.appendChild(fmt_picker);\n",
       "    this.format_dropdown = fmt_picker;\n",
       "\n",
       "    for (var ind in mpl.extensions) {\n",
       "        var fmt = mpl.extensions[ind];\n",
       "        var option = document.createElement('option');\n",
       "        option.selected = fmt === mpl.default_extension;\n",
       "        option.innerHTML = fmt;\n",
       "        fmt_picker.appendChild(option);\n",
       "    }\n",
       "\n",
       "    var status_bar = document.createElement('span');\n",
       "    status_bar.classList = 'mpl-message';\n",
       "    toolbar.appendChild(status_bar);\n",
       "    this.message = status_bar;\n",
       "};\n",
       "\n",
       "mpl.figure.prototype.request_resize = function (x_pixels, y_pixels) {\n",
       "    // Request matplotlib to resize the figure. Matplotlib will then trigger a resize in the client,\n",
       "    // which will in turn request a refresh of the image.\n",
       "    this.send_message('resize', { width: x_pixels, height: y_pixels });\n",
       "};\n",
       "\n",
       "mpl.figure.prototype.send_message = function (type, properties) {\n",
       "    properties['type'] = type;\n",
       "    properties['figure_id'] = this.id;\n",
       "    this.ws.send(JSON.stringify(properties));\n",
       "};\n",
       "\n",
       "mpl.figure.prototype.send_draw_message = function () {\n",
       "    if (!this.waiting) {\n",
       "        this.waiting = true;\n",
       "        this.ws.send(JSON.stringify({ type: 'draw', figure_id: this.id }));\n",
       "    }\n",
       "};\n",
       "\n",
       "mpl.figure.prototype.handle_save = function (fig, _msg) {\n",
       "    var format_dropdown = fig.format_dropdown;\n",
       "    var format = format_dropdown.options[format_dropdown.selectedIndex].value;\n",
       "    fig.ondownload(fig, format);\n",
       "};\n",
       "\n",
       "mpl.figure.prototype.handle_resize = function (fig, msg) {\n",
       "    var size = msg['size'];\n",
       "    if (size[0] !== fig.canvas.width || size[1] !== fig.canvas.height) {\n",
       "        fig._resize_canvas(size[0], size[1], msg['forward']);\n",
       "        fig.send_message('refresh', {});\n",
       "    }\n",
       "};\n",
       "\n",
       "mpl.figure.prototype.handle_rubberband = function (fig, msg) {\n",
       "    var x0 = msg['x0'] / fig.ratio;\n",
       "    var y0 = (fig.canvas.height - msg['y0']) / fig.ratio;\n",
       "    var x1 = msg['x1'] / fig.ratio;\n",
       "    var y1 = (fig.canvas.height - msg['y1']) / fig.ratio;\n",
       "    x0 = Math.floor(x0) + 0.5;\n",
       "    y0 = Math.floor(y0) + 0.5;\n",
       "    x1 = Math.floor(x1) + 0.5;\n",
       "    y1 = Math.floor(y1) + 0.5;\n",
       "    var min_x = Math.min(x0, x1);\n",
       "    var min_y = Math.min(y0, y1);\n",
       "    var width = Math.abs(x1 - x0);\n",
       "    var height = Math.abs(y1 - y0);\n",
       "\n",
       "    fig.rubberband_context.clearRect(\n",
       "        0,\n",
       "        0,\n",
       "        fig.canvas.width / fig.ratio,\n",
       "        fig.canvas.height / fig.ratio\n",
       "    );\n",
       "\n",
       "    fig.rubberband_context.strokeRect(min_x, min_y, width, height);\n",
       "};\n",
       "\n",
       "mpl.figure.prototype.handle_figure_label = function (fig, msg) {\n",
       "    // Updates the figure title.\n",
       "    fig.header.textContent = msg['label'];\n",
       "};\n",
       "\n",
       "mpl.figure.prototype.handle_cursor = function (fig, msg) {\n",
       "    var cursor = msg['cursor'];\n",
       "    switch (cursor) {\n",
       "        case 0:\n",
       "            cursor = 'pointer';\n",
       "            break;\n",
       "        case 1:\n",
       "            cursor = 'default';\n",
       "            break;\n",
       "        case 2:\n",
       "            cursor = 'crosshair';\n",
       "            break;\n",
       "        case 3:\n",
       "            cursor = 'move';\n",
       "            break;\n",
       "    }\n",
       "    fig.rubberband_canvas.style.cursor = cursor;\n",
       "};\n",
       "\n",
       "mpl.figure.prototype.handle_message = function (fig, msg) {\n",
       "    fig.message.textContent = msg['message'];\n",
       "};\n",
       "\n",
       "mpl.figure.prototype.handle_draw = function (fig, _msg) {\n",
       "    // Request the server to send over a new figure.\n",
       "    fig.send_draw_message();\n",
       "};\n",
       "\n",
       "mpl.figure.prototype.handle_image_mode = function (fig, msg) {\n",
       "    fig.image_mode = msg['mode'];\n",
       "};\n",
       "\n",
       "mpl.figure.prototype.handle_history_buttons = function (fig, msg) {\n",
       "    for (var key in msg) {\n",
       "        if (!(key in fig.buttons)) {\n",
       "            continue;\n",
       "        }\n",
       "        fig.buttons[key].disabled = !msg[key];\n",
       "        fig.buttons[key].setAttribute('aria-disabled', !msg[key]);\n",
       "    }\n",
       "};\n",
       "\n",
       "mpl.figure.prototype.handle_navigate_mode = function (fig, msg) {\n",
       "    if (msg['mode'] === 'PAN') {\n",
       "        fig.buttons['Pan'].classList.add('active');\n",
       "        fig.buttons['Zoom'].classList.remove('active');\n",
       "    } else if (msg['mode'] === 'ZOOM') {\n",
       "        fig.buttons['Pan'].classList.remove('active');\n",
       "        fig.buttons['Zoom'].classList.add('active');\n",
       "    } else {\n",
       "        fig.buttons['Pan'].classList.remove('active');\n",
       "        fig.buttons['Zoom'].classList.remove('active');\n",
       "    }\n",
       "};\n",
       "\n",
       "mpl.figure.prototype.updated_canvas_event = function () {\n",
       "    // Called whenever the canvas gets updated.\n",
       "    this.send_message('ack', {});\n",
       "};\n",
       "\n",
       "// A function to construct a web socket function for onmessage handling.\n",
       "// Called in the figure constructor.\n",
       "mpl.figure.prototype._make_on_message_function = function (fig) {\n",
       "    return function socket_on_message(evt) {\n",
       "        if (evt.data instanceof Blob) {\n",
       "            /* FIXME: We get \"Resource interpreted as Image but\n",
       "             * transferred with MIME type text/plain:\" errors on\n",
       "             * Chrome.  But how to set the MIME type?  It doesn't seem\n",
       "             * to be part of the websocket stream */\n",
       "            evt.data.type = 'image/png';\n",
       "\n",
       "            /* Free the memory for the previous frames */\n",
       "            if (fig.imageObj.src) {\n",
       "                (window.URL || window.webkitURL).revokeObjectURL(\n",
       "                    fig.imageObj.src\n",
       "                );\n",
       "            }\n",
       "\n",
       "            fig.imageObj.src = (window.URL || window.webkitURL).createObjectURL(\n",
       "                evt.data\n",
       "            );\n",
       "            fig.updated_canvas_event();\n",
       "            fig.waiting = false;\n",
       "            return;\n",
       "        } else if (\n",
       "            typeof evt.data === 'string' &&\n",
       "            evt.data.slice(0, 21) === 'data:image/png;base64'\n",
       "        ) {\n",
       "            fig.imageObj.src = evt.data;\n",
       "            fig.updated_canvas_event();\n",
       "            fig.waiting = false;\n",
       "            return;\n",
       "        }\n",
       "\n",
       "        var msg = JSON.parse(evt.data);\n",
       "        var msg_type = msg['type'];\n",
       "\n",
       "        // Call the  \"handle_{type}\" callback, which takes\n",
       "        // the figure and JSON message as its only arguments.\n",
       "        try {\n",
       "            var callback = fig['handle_' + msg_type];\n",
       "        } catch (e) {\n",
       "            console.log(\n",
       "                \"No handler for the '\" + msg_type + \"' message type: \",\n",
       "                msg\n",
       "            );\n",
       "            return;\n",
       "        }\n",
       "\n",
       "        if (callback) {\n",
       "            try {\n",
       "                // console.log(\"Handling '\" + msg_type + \"' message: \", msg);\n",
       "                callback(fig, msg);\n",
       "            } catch (e) {\n",
       "                console.log(\n",
       "                    \"Exception inside the 'handler_\" + msg_type + \"' callback:\",\n",
       "                    e,\n",
       "                    e.stack,\n",
       "                    msg\n",
       "                );\n",
       "            }\n",
       "        }\n",
       "    };\n",
       "};\n",
       "\n",
       "// from http://stackoverflow.com/questions/1114465/getting-mouse-location-in-canvas\n",
       "mpl.findpos = function (e) {\n",
       "    //this section is from http://www.quirksmode.org/js/events_properties.html\n",
       "    var targ;\n",
       "    if (!e) {\n",
       "        e = window.event;\n",
       "    }\n",
       "    if (e.target) {\n",
       "        targ = e.target;\n",
       "    } else if (e.srcElement) {\n",
       "        targ = e.srcElement;\n",
       "    }\n",
       "    if (targ.nodeType === 3) {\n",
       "        // defeat Safari bug\n",
       "        targ = targ.parentNode;\n",
       "    }\n",
       "\n",
       "    // pageX,Y are the mouse positions relative to the document\n",
       "    var boundingRect = targ.getBoundingClientRect();\n",
       "    var x = e.pageX - (boundingRect.left + document.body.scrollLeft);\n",
       "    var y = e.pageY - (boundingRect.top + document.body.scrollTop);\n",
       "\n",
       "    return { x: x, y: y };\n",
       "};\n",
       "\n",
       "/*\n",
       " * return a copy of an object with only non-object keys\n",
       " * we need this to avoid circular references\n",
       " * http://stackoverflow.com/a/24161582/3208463\n",
       " */\n",
       "function simpleKeys(original) {\n",
       "    return Object.keys(original).reduce(function (obj, key) {\n",
       "        if (typeof original[key] !== 'object') {\n",
       "            obj[key] = original[key];\n",
       "        }\n",
       "        return obj;\n",
       "    }, {});\n",
       "}\n",
       "\n",
       "mpl.figure.prototype.mouse_event = function (event, name) {\n",
       "    var canvas_pos = mpl.findpos(event);\n",
       "\n",
       "    if (name === 'button_press') {\n",
       "        this.canvas.focus();\n",
       "        this.canvas_div.focus();\n",
       "    }\n",
       "\n",
       "    var x = canvas_pos.x * this.ratio;\n",
       "    var y = canvas_pos.y * this.ratio;\n",
       "\n",
       "    this.send_message(name, {\n",
       "        x: x,\n",
       "        y: y,\n",
       "        button: event.button,\n",
       "        step: event.step,\n",
       "        guiEvent: simpleKeys(event),\n",
       "    });\n",
       "\n",
       "    /* This prevents the web browser from automatically changing to\n",
       "     * the text insertion cursor when the button is pressed.  We want\n",
       "     * to control all of the cursor setting manually through the\n",
       "     * 'cursor' event from matplotlib */\n",
       "    event.preventDefault();\n",
       "    return false;\n",
       "};\n",
       "\n",
       "mpl.figure.prototype._key_event_extra = function (_event, _name) {\n",
       "    // Handle any extra behaviour associated with a key event\n",
       "};\n",
       "\n",
       "mpl.figure.prototype.key_event = function (event, name) {\n",
       "    // Prevent repeat events\n",
       "    if (name === 'key_press') {\n",
       "        if (event.which === this._key) {\n",
       "            return;\n",
       "        } else {\n",
       "            this._key = event.which;\n",
       "        }\n",
       "    }\n",
       "    if (name === 'key_release') {\n",
       "        this._key = null;\n",
       "    }\n",
       "\n",
       "    var value = '';\n",
       "    if (event.ctrlKey && event.which !== 17) {\n",
       "        value += 'ctrl+';\n",
       "    }\n",
       "    if (event.altKey && event.which !== 18) {\n",
       "        value += 'alt+';\n",
       "    }\n",
       "    if (event.shiftKey && event.which !== 16) {\n",
       "        value += 'shift+';\n",
       "    }\n",
       "\n",
       "    value += 'k';\n",
       "    value += event.which.toString();\n",
       "\n",
       "    this._key_event_extra(event, name);\n",
       "\n",
       "    this.send_message(name, { key: value, guiEvent: simpleKeys(event) });\n",
       "    return false;\n",
       "};\n",
       "\n",
       "mpl.figure.prototype.toolbar_button_onclick = function (name) {\n",
       "    if (name === 'download') {\n",
       "        this.handle_save(this, null);\n",
       "    } else {\n",
       "        this.send_message('toolbar_button', { name: name });\n",
       "    }\n",
       "};\n",
       "\n",
       "mpl.figure.prototype.toolbar_button_onmouseover = function (tooltip) {\n",
       "    this.message.textContent = tooltip;\n",
       "};\n",
       "mpl.toolbar_items = [[\"Home\", \"Reset original view\", \"fa fa-home icon-home\", \"home\"], [\"Back\", \"Back to previous view\", \"fa fa-arrow-left icon-arrow-left\", \"back\"], [\"Forward\", \"Forward to next view\", \"fa fa-arrow-right icon-arrow-right\", \"forward\"], [\"\", \"\", \"\", \"\"], [\"Pan\", \"Left button pans, Right button zooms\\nx/y fixes axis, CTRL fixes aspect\", \"fa fa-arrows icon-move\", \"pan\"], [\"Zoom\", \"Zoom to rectangle\\nx/y fixes axis, CTRL fixes aspect\", \"fa fa-square-o icon-check-empty\", \"zoom\"], [\"\", \"\", \"\", \"\"], [\"Download\", \"Download plot\", \"fa fa-floppy-o icon-save\", \"download\"]];\n",
       "\n",
       "mpl.extensions = [\"eps\", \"jpeg\", \"pdf\", \"png\", \"ps\", \"raw\", \"svg\", \"tif\"];\n",
       "\n",
       "mpl.default_extension = \"png\";/* global mpl */\n",
       "\n",
       "var comm_websocket_adapter = function (comm) {\n",
       "    // Create a \"websocket\"-like object which calls the given IPython comm\n",
       "    // object with the appropriate methods. Currently this is a non binary\n",
       "    // socket, so there is still some room for performance tuning.\n",
       "    var ws = {};\n",
       "\n",
       "    ws.close = function () {\n",
       "        comm.close();\n",
       "    };\n",
       "    ws.send = function (m) {\n",
       "        //console.log('sending', m);\n",
       "        comm.send(m);\n",
       "    };\n",
       "    // Register the callback with on_msg.\n",
       "    comm.on_msg(function (msg) {\n",
       "        //console.log('receiving', msg['content']['data'], msg);\n",
       "        // Pass the mpl event to the overridden (by mpl) onmessage function.\n",
       "        ws.onmessage(msg['content']['data']);\n",
       "    });\n",
       "    return ws;\n",
       "};\n",
       "\n",
       "mpl.mpl_figure_comm = function (comm, msg) {\n",
       "    // This is the function which gets called when the mpl process\n",
       "    // starts-up an IPython Comm through the \"matplotlib\" channel.\n",
       "\n",
       "    var id = msg.content.data.id;\n",
       "    // Get hold of the div created by the display call when the Comm\n",
       "    // socket was opened in Python.\n",
       "    var element = document.getElementById(id);\n",
       "    var ws_proxy = comm_websocket_adapter(comm);\n",
       "\n",
       "    function ondownload(figure, _format) {\n",
       "        window.open(figure.canvas.toDataURL());\n",
       "    }\n",
       "\n",
       "    var fig = new mpl.figure(id, ws_proxy, ondownload, element);\n",
       "\n",
       "    // Call onopen now - mpl needs it, as it is assuming we've passed it a real\n",
       "    // web socket which is closed, not our websocket->open comm proxy.\n",
       "    ws_proxy.onopen();\n",
       "\n",
       "    fig.parent_element = element;\n",
       "    fig.cell_info = mpl.find_output_cell(\"<div id='\" + id + \"'></div>\");\n",
       "    if (!fig.cell_info) {\n",
       "        console.error('Failed to find cell for figure', id, fig);\n",
       "        return;\n",
       "    }\n",
       "    fig.cell_info[0].output_area.element.one(\n",
       "        'cleared',\n",
       "        { fig: fig },\n",
       "        fig._remove_fig_handler\n",
       "    );\n",
       "};\n",
       "\n",
       "mpl.figure.prototype.handle_close = function (fig, msg) {\n",
       "    var width = fig.canvas.width / fig.ratio;\n",
       "    fig.cell_info[0].output_area.element.off(\n",
       "        'cleared',\n",
       "        fig._remove_fig_handler\n",
       "    );\n",
       "\n",
       "    // Update the output cell to use the data from the current canvas.\n",
       "    fig.push_to_output();\n",
       "    var dataURL = fig.canvas.toDataURL();\n",
       "    // Re-enable the keyboard manager in IPython - without this line, in FF,\n",
       "    // the notebook keyboard shortcuts fail.\n",
       "    IPython.keyboard_manager.enable();\n",
       "    fig.parent_element.innerHTML =\n",
       "        '<img src=\"' + dataURL + '\" width=\"' + width + '\">';\n",
       "    fig.close_ws(fig, msg);\n",
       "};\n",
       "\n",
       "mpl.figure.prototype.close_ws = function (fig, msg) {\n",
       "    fig.send_message('closing', msg);\n",
       "    // fig.ws.close()\n",
       "};\n",
       "\n",
       "mpl.figure.prototype.push_to_output = function (_remove_interactive) {\n",
       "    // Turn the data on the canvas into data in the output cell.\n",
       "    var width = this.canvas.width / this.ratio;\n",
       "    var dataURL = this.canvas.toDataURL();\n",
       "    this.cell_info[1]['text/html'] =\n",
       "        '<img src=\"' + dataURL + '\" width=\"' + width + '\">';\n",
       "};\n",
       "\n",
       "mpl.figure.prototype.updated_canvas_event = function () {\n",
       "    // Tell IPython that the notebook contents must change.\n",
       "    IPython.notebook.set_dirty(true);\n",
       "    this.send_message('ack', {});\n",
       "    var fig = this;\n",
       "    // Wait a second, then push the new image to the DOM so\n",
       "    // that it is saved nicely (might be nice to debounce this).\n",
       "    setTimeout(function () {\n",
       "        fig.push_to_output();\n",
       "    }, 1000);\n",
       "};\n",
       "\n",
       "mpl.figure.prototype._init_toolbar = function () {\n",
       "    var fig = this;\n",
       "\n",
       "    var toolbar = document.createElement('div');\n",
       "    toolbar.classList = 'btn-toolbar';\n",
       "    this.root.appendChild(toolbar);\n",
       "\n",
       "    function on_click_closure(name) {\n",
       "        return function (_event) {\n",
       "            return fig.toolbar_button_onclick(name);\n",
       "        };\n",
       "    }\n",
       "\n",
       "    function on_mouseover_closure(tooltip) {\n",
       "        return function (event) {\n",
       "            if (!event.currentTarget.disabled) {\n",
       "                return fig.toolbar_button_onmouseover(tooltip);\n",
       "            }\n",
       "        };\n",
       "    }\n",
       "\n",
       "    fig.buttons = {};\n",
       "    var buttonGroup = document.createElement('div');\n",
       "    buttonGroup.classList = 'btn-group';\n",
       "    var button;\n",
       "    for (var toolbar_ind in mpl.toolbar_items) {\n",
       "        var name = mpl.toolbar_items[toolbar_ind][0];\n",
       "        var tooltip = mpl.toolbar_items[toolbar_ind][1];\n",
       "        var image = mpl.toolbar_items[toolbar_ind][2];\n",
       "        var method_name = mpl.toolbar_items[toolbar_ind][3];\n",
       "\n",
       "        if (!name) {\n",
       "            /* Instead of a spacer, we start a new button group. */\n",
       "            if (buttonGroup.hasChildNodes()) {\n",
       "                toolbar.appendChild(buttonGroup);\n",
       "            }\n",
       "            buttonGroup = document.createElement('div');\n",
       "            buttonGroup.classList = 'btn-group';\n",
       "            continue;\n",
       "        }\n",
       "\n",
       "        button = fig.buttons[name] = document.createElement('button');\n",
       "        button.classList = 'btn btn-default';\n",
       "        button.href = '#';\n",
       "        button.title = name;\n",
       "        button.innerHTML = '<i class=\"fa ' + image + ' fa-lg\"></i>';\n",
       "        button.addEventListener('click', on_click_closure(method_name));\n",
       "        button.addEventListener('mouseover', on_mouseover_closure(tooltip));\n",
       "        buttonGroup.appendChild(button);\n",
       "    }\n",
       "\n",
       "    if (buttonGroup.hasChildNodes()) {\n",
       "        toolbar.appendChild(buttonGroup);\n",
       "    }\n",
       "\n",
       "    // Add the status bar.\n",
       "    var status_bar = document.createElement('span');\n",
       "    status_bar.classList = 'mpl-message pull-right';\n",
       "    toolbar.appendChild(status_bar);\n",
       "    this.message = status_bar;\n",
       "\n",
       "    // Add the close button to the window.\n",
       "    var buttongrp = document.createElement('div');\n",
       "    buttongrp.classList = 'btn-group inline pull-right';\n",
       "    button = document.createElement('button');\n",
       "    button.classList = 'btn btn-mini btn-primary';\n",
       "    button.href = '#';\n",
       "    button.title = 'Stop Interaction';\n",
       "    button.innerHTML = '<i class=\"fa fa-power-off icon-remove icon-large\"></i>';\n",
       "    button.addEventListener('click', function (_evt) {\n",
       "        fig.handle_close(fig, {});\n",
       "    });\n",
       "    button.addEventListener(\n",
       "        'mouseover',\n",
       "        on_mouseover_closure('Stop Interaction')\n",
       "    );\n",
       "    buttongrp.appendChild(button);\n",
       "    var titlebar = this.root.querySelector('.ui-dialog-titlebar');\n",
       "    titlebar.insertBefore(buttongrp, titlebar.firstChild);\n",
       "};\n",
       "\n",
       "mpl.figure.prototype._remove_fig_handler = function (event) {\n",
       "    var fig = event.data.fig;\n",
       "    fig.close_ws(fig, {});\n",
       "};\n",
       "\n",
       "mpl.figure.prototype._root_extra_style = function (el) {\n",
       "    el.style.boxSizing = 'content-box'; // override notebook setting of border-box.\n",
       "};\n",
       "\n",
       "mpl.figure.prototype._canvas_extra_style = function (el) {\n",
       "    // this is important to make the div 'focusable\n",
       "    el.setAttribute('tabindex', 0);\n",
       "    // reach out to IPython and tell the keyboard manager to turn it's self\n",
       "    // off when our div gets focus\n",
       "\n",
       "    // location in version 3\n",
       "    if (IPython.notebook.keyboard_manager) {\n",
       "        IPython.notebook.keyboard_manager.register_events(el);\n",
       "    } else {\n",
       "        // location in version 2\n",
       "        IPython.keyboard_manager.register_events(el);\n",
       "    }\n",
       "};\n",
       "\n",
       "mpl.figure.prototype._key_event_extra = function (event, _name) {\n",
       "    var manager = IPython.notebook.keyboard_manager;\n",
       "    if (!manager) {\n",
       "        manager = IPython.keyboard_manager;\n",
       "    }\n",
       "\n",
       "    // Check for shift+enter\n",
       "    if (event.shiftKey && event.which === 13) {\n",
       "        this.canvas_div.blur();\n",
       "        // select the cell after this one\n",
       "        var index = IPython.notebook.find_cell_index(this.cell_info[0]);\n",
       "        IPython.notebook.select(index + 1);\n",
       "    }\n",
       "};\n",
       "\n",
       "mpl.figure.prototype.handle_save = function (fig, _msg) {\n",
       "    fig.ondownload(fig, null);\n",
       "};\n",
       "\n",
       "mpl.find_output_cell = function (html_output) {\n",
       "    // Return the cell and output element which can be found *uniquely* in the notebook.\n",
       "    // Note - this is a bit hacky, but it is done because the \"notebook_saving.Notebook\"\n",
       "    // IPython event is triggered only after the cells have been serialised, which for\n",
       "    // our purposes (turning an active figure into a static one), is too late.\n",
       "    var cells = IPython.notebook.get_cells();\n",
       "    var ncells = cells.length;\n",
       "    for (var i = 0; i < ncells; i++) {\n",
       "        var cell = cells[i];\n",
       "        if (cell.cell_type === 'code') {\n",
       "            for (var j = 0; j < cell.output_area.outputs.length; j++) {\n",
       "                var data = cell.output_area.outputs[j];\n",
       "                if (data.data) {\n",
       "                    // IPython >= 3 moved mimebundle to data attribute of output\n",
       "                    data = data.data;\n",
       "                }\n",
       "                if (data['text/html'] === html_output) {\n",
       "                    return [cell, data, j];\n",
       "                }\n",
       "            }\n",
       "        }\n",
       "    }\n",
       "};\n",
       "\n",
       "// Register the function which deals with the matplotlib target/channel.\n",
       "// The kernel may be null if the page has been refreshed.\n",
       "if (IPython.notebook.kernel !== null) {\n",
       "    IPython.notebook.kernel.comm_manager.register_target(\n",
       "        'matplotlib',\n",
       "        mpl.mpl_figure_comm\n",
       "    );\n",
       "}\n"
      ],
      "text/plain": [
       "<IPython.core.display.Javascript object>"
      ]
     },
     "metadata": {},
     "output_type": "display_data"
    },
    {
     "data": {
      "text/html": [
       "<img src=\"data:image/png;base64,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\" width=\"864\">"
      ],
      "text/plain": [
       "<IPython.core.display.HTML object>"
      ]
     },
     "metadata": {},
     "output_type": "display_data"
    },
    {
     "data": {
      "application/javascript": [
       "/* Put everything inside the global mpl namespace */\n",
       "/* global mpl */\n",
       "window.mpl = {};\n",
       "\n",
       "mpl.get_websocket_type = function () {\n",
       "    if (typeof WebSocket !== 'undefined') {\n",
       "        return WebSocket;\n",
       "    } else if (typeof MozWebSocket !== 'undefined') {\n",
       "        return MozWebSocket;\n",
       "    } else {\n",
       "        alert(\n",
       "            'Your browser does not have WebSocket support. ' +\n",
       "                'Please try Chrome, Safari or Firefox ≥ 6. ' +\n",
       "                'Firefox 4 and 5 are also supported but you ' +\n",
       "                'have to enable WebSockets in about:config.'\n",
       "        );\n",
       "    }\n",
       "};\n",
       "\n",
       "mpl.figure = function (figure_id, websocket, ondownload, parent_element) {\n",
       "    this.id = figure_id;\n",
       "\n",
       "    this.ws = websocket;\n",
       "\n",
       "    this.supports_binary = this.ws.binaryType !== undefined;\n",
       "\n",
       "    if (!this.supports_binary) {\n",
       "        var warnings = document.getElementById('mpl-warnings');\n",
       "        if (warnings) {\n",
       "            warnings.style.display = 'block';\n",
       "            warnings.textContent =\n",
       "                'This browser does not support binary websocket messages. ' +\n",
       "                'Performance may be slow.';\n",
       "        }\n",
       "    }\n",
       "\n",
       "    this.imageObj = new Image();\n",
       "\n",
       "    this.context = undefined;\n",
       "    this.message = undefined;\n",
       "    this.canvas = undefined;\n",
       "    this.rubberband_canvas = undefined;\n",
       "    this.rubberband_context = undefined;\n",
       "    this.format_dropdown = undefined;\n",
       "\n",
       "    this.image_mode = 'full';\n",
       "\n",
       "    this.root = document.createElement('div');\n",
       "    this.root.setAttribute('style', 'display: inline-block');\n",
       "    this._root_extra_style(this.root);\n",
       "\n",
       "    parent_element.appendChild(this.root);\n",
       "\n",
       "    this._init_header(this);\n",
       "    this._init_canvas(this);\n",
       "    this._init_toolbar(this);\n",
       "\n",
       "    var fig = this;\n",
       "\n",
       "    this.waiting = false;\n",
       "\n",
       "    this.ws.onopen = function () {\n",
       "        fig.send_message('supports_binary', { value: fig.supports_binary });\n",
       "        fig.send_message('send_image_mode', {});\n",
       "        if (fig.ratio !== 1) {\n",
       "            fig.send_message('set_dpi_ratio', { dpi_ratio: fig.ratio });\n",
       "        }\n",
       "        fig.send_message('refresh', {});\n",
       "    };\n",
       "\n",
       "    this.imageObj.onload = function () {\n",
       "        if (fig.image_mode === 'full') {\n",
       "            // Full images could contain transparency (where diff images\n",
       "            // almost always do), so we need to clear the canvas so that\n",
       "            // there is no ghosting.\n",
       "            fig.context.clearRect(0, 0, fig.canvas.width, fig.canvas.height);\n",
       "        }\n",
       "        fig.context.drawImage(fig.imageObj, 0, 0);\n",
       "    };\n",
       "\n",
       "    this.imageObj.onunload = function () {\n",
       "        fig.ws.close();\n",
       "    };\n",
       "\n",
       "    this.ws.onmessage = this._make_on_message_function(this);\n",
       "\n",
       "    this.ondownload = ondownload;\n",
       "};\n",
       "\n",
       "mpl.figure.prototype._init_header = function () {\n",
       "    var titlebar = document.createElement('div');\n",
       "    titlebar.classList =\n",
       "        'ui-dialog-titlebar ui-widget-header ui-corner-all ui-helper-clearfix';\n",
       "    var titletext = document.createElement('div');\n",
       "    titletext.classList = 'ui-dialog-title';\n",
       "    titletext.setAttribute(\n",
       "        'style',\n",
       "        'width: 100%; text-align: center; padding: 3px;'\n",
       "    );\n",
       "    titlebar.appendChild(titletext);\n",
       "    this.root.appendChild(titlebar);\n",
       "    this.header = titletext;\n",
       "};\n",
       "\n",
       "mpl.figure.prototype._canvas_extra_style = function (_canvas_div) {};\n",
       "\n",
       "mpl.figure.prototype._root_extra_style = function (_canvas_div) {};\n",
       "\n",
       "mpl.figure.prototype._init_canvas = function () {\n",
       "    var fig = this;\n",
       "\n",
       "    var canvas_div = (this.canvas_div = document.createElement('div'));\n",
       "    canvas_div.setAttribute(\n",
       "        'style',\n",
       "        'border: 1px solid #ddd;' +\n",
       "            'box-sizing: content-box;' +\n",
       "            'clear: both;' +\n",
       "            'min-height: 1px;' +\n",
       "            'min-width: 1px;' +\n",
       "            'outline: 0;' +\n",
       "            'overflow: hidden;' +\n",
       "            'position: relative;' +\n",
       "            'resize: both;'\n",
       "    );\n",
       "\n",
       "    function on_keyboard_event_closure(name) {\n",
       "        return function (event) {\n",
       "            return fig.key_event(event, name);\n",
       "        };\n",
       "    }\n",
       "\n",
       "    canvas_div.addEventListener(\n",
       "        'keydown',\n",
       "        on_keyboard_event_closure('key_press')\n",
       "    );\n",
       "    canvas_div.addEventListener(\n",
       "        'keyup',\n",
       "        on_keyboard_event_closure('key_release')\n",
       "    );\n",
       "\n",
       "    this._canvas_extra_style(canvas_div);\n",
       "    this.root.appendChild(canvas_div);\n",
       "\n",
       "    var canvas = (this.canvas = document.createElement('canvas'));\n",
       "    canvas.classList.add('mpl-canvas');\n",
       "    canvas.setAttribute('style', 'box-sizing: content-box;');\n",
       "\n",
       "    this.context = canvas.getContext('2d');\n",
       "\n",
       "    var backingStore =\n",
       "        this.context.backingStorePixelRatio ||\n",
       "        this.context.webkitBackingStorePixelRatio ||\n",
       "        this.context.mozBackingStorePixelRatio ||\n",
       "        this.context.msBackingStorePixelRatio ||\n",
       "        this.context.oBackingStorePixelRatio ||\n",
       "        this.context.backingStorePixelRatio ||\n",
       "        1;\n",
       "\n",
       "    this.ratio = (window.devicePixelRatio || 1) / backingStore;\n",
       "    if (this.ratio !== 1) {\n",
       "        fig.send_message('set_dpi_ratio', { dpi_ratio: this.ratio });\n",
       "    }\n",
       "\n",
       "    var rubberband_canvas = (this.rubberband_canvas = document.createElement(\n",
       "        'canvas'\n",
       "    ));\n",
       "    rubberband_canvas.setAttribute(\n",
       "        'style',\n",
       "        'box-sizing: content-box; position: absolute; left: 0; top: 0; z-index: 1;'\n",
       "    );\n",
       "\n",
       "    var resizeObserver = new ResizeObserver(function (entries) {\n",
       "        var nentries = entries.length;\n",
       "        for (var i = 0; i < nentries; i++) {\n",
       "            var entry = entries[i];\n",
       "            var width, height;\n",
       "            if (entry.contentBoxSize) {\n",
       "                if (entry.contentBoxSize instanceof Array) {\n",
       "                    // Chrome 84 implements new version of spec.\n",
       "                    width = entry.contentBoxSize[0].inlineSize;\n",
       "                    height = entry.contentBoxSize[0].blockSize;\n",
       "                } else {\n",
       "                    // Firefox implements old version of spec.\n",
       "                    width = entry.contentBoxSize.inlineSize;\n",
       "                    height = entry.contentBoxSize.blockSize;\n",
       "                }\n",
       "            } else {\n",
       "                // Chrome <84 implements even older version of spec.\n",
       "                width = entry.contentRect.width;\n",
       "                height = entry.contentRect.height;\n",
       "            }\n",
       "\n",
       "            // Keep the size of the canvas and rubber band canvas in sync with\n",
       "            // the canvas container.\n",
       "            if (entry.devicePixelContentBoxSize) {\n",
       "                // Chrome 84 implements new version of spec.\n",
       "                canvas.setAttribute(\n",
       "                    'width',\n",
       "                    entry.devicePixelContentBoxSize[0].inlineSize\n",
       "                );\n",
       "                canvas.setAttribute(\n",
       "                    'height',\n",
       "                    entry.devicePixelContentBoxSize[0].blockSize\n",
       "                );\n",
       "            } else {\n",
       "                canvas.setAttribute('width', width * fig.ratio);\n",
       "                canvas.setAttribute('height', height * fig.ratio);\n",
       "            }\n",
       "            canvas.setAttribute(\n",
       "                'style',\n",
       "                'width: ' + width + 'px; height: ' + height + 'px;'\n",
       "            );\n",
       "\n",
       "            rubberband_canvas.setAttribute('width', width);\n",
       "            rubberband_canvas.setAttribute('height', height);\n",
       "\n",
       "            // And update the size in Python. We ignore the initial 0/0 size\n",
       "            // that occurs as the element is placed into the DOM, which should\n",
       "            // otherwise not happen due to the minimum size styling.\n",
       "            if (width != 0 && height != 0) {\n",
       "                fig.request_resize(width, height);\n",
       "            }\n",
       "        }\n",
       "    });\n",
       "    resizeObserver.observe(canvas_div);\n",
       "\n",
       "    function on_mouse_event_closure(name) {\n",
       "        return function (event) {\n",
       "            return fig.mouse_event(event, name);\n",
       "        };\n",
       "    }\n",
       "\n",
       "    rubberband_canvas.addEventListener(\n",
       "        'mousedown',\n",
       "        on_mouse_event_closure('button_press')\n",
       "    );\n",
       "    rubberband_canvas.addEventListener(\n",
       "        'mouseup',\n",
       "        on_mouse_event_closure('button_release')\n",
       "    );\n",
       "    // Throttle sequential mouse events to 1 every 20ms.\n",
       "    rubberband_canvas.addEventListener(\n",
       "        'mousemove',\n",
       "        on_mouse_event_closure('motion_notify')\n",
       "    );\n",
       "\n",
       "    rubberband_canvas.addEventListener(\n",
       "        'mouseenter',\n",
       "        on_mouse_event_closure('figure_enter')\n",
       "    );\n",
       "    rubberband_canvas.addEventListener(\n",
       "        'mouseleave',\n",
       "        on_mouse_event_closure('figure_leave')\n",
       "    );\n",
       "\n",
       "    canvas_div.addEventListener('wheel', function (event) {\n",
       "        if (event.deltaY < 0) {\n",
       "            event.step = 1;\n",
       "        } else {\n",
       "            event.step = -1;\n",
       "        }\n",
       "        on_mouse_event_closure('scroll')(event);\n",
       "    });\n",
       "\n",
       "    canvas_div.appendChild(canvas);\n",
       "    canvas_div.appendChild(rubberband_canvas);\n",
       "\n",
       "    this.rubberband_context = rubberband_canvas.getContext('2d');\n",
       "    this.rubberband_context.strokeStyle = '#000000';\n",
       "\n",
       "    this._resize_canvas = function (width, height, forward) {\n",
       "        if (forward) {\n",
       "            canvas_div.style.width = width + 'px';\n",
       "            canvas_div.style.height = height + 'px';\n",
       "        }\n",
       "    };\n",
       "\n",
       "    // Disable right mouse context menu.\n",
       "    this.rubberband_canvas.addEventListener('contextmenu', function (_e) {\n",
       "        event.preventDefault();\n",
       "        return false;\n",
       "    });\n",
       "\n",
       "    function set_focus() {\n",
       "        canvas.focus();\n",
       "        canvas_div.focus();\n",
       "    }\n",
       "\n",
       "    window.setTimeout(set_focus, 100);\n",
       "};\n",
       "\n",
       "mpl.figure.prototype._init_toolbar = function () {\n",
       "    var fig = this;\n",
       "\n",
       "    var toolbar = document.createElement('div');\n",
       "    toolbar.classList = 'mpl-toolbar';\n",
       "    this.root.appendChild(toolbar);\n",
       "\n",
       "    function on_click_closure(name) {\n",
       "        return function (_event) {\n",
       "            return fig.toolbar_button_onclick(name);\n",
       "        };\n",
       "    }\n",
       "\n",
       "    function on_mouseover_closure(tooltip) {\n",
       "        return function (event) {\n",
       "            if (!event.currentTarget.disabled) {\n",
       "                return fig.toolbar_button_onmouseover(tooltip);\n",
       "            }\n",
       "        };\n",
       "    }\n",
       "\n",
       "    fig.buttons = {};\n",
       "    var buttonGroup = document.createElement('div');\n",
       "    buttonGroup.classList = 'mpl-button-group';\n",
       "    for (var toolbar_ind in mpl.toolbar_items) {\n",
       "        var name = mpl.toolbar_items[toolbar_ind][0];\n",
       "        var tooltip = mpl.toolbar_items[toolbar_ind][1];\n",
       "        var image = mpl.toolbar_items[toolbar_ind][2];\n",
       "        var method_name = mpl.toolbar_items[toolbar_ind][3];\n",
       "\n",
       "        if (!name) {\n",
       "            /* Instead of a spacer, we start a new button group. */\n",
       "            if (buttonGroup.hasChildNodes()) {\n",
       "                toolbar.appendChild(buttonGroup);\n",
       "            }\n",
       "            buttonGroup = document.createElement('div');\n",
       "            buttonGroup.classList = 'mpl-button-group';\n",
       "            continue;\n",
       "        }\n",
       "\n",
       "        var button = (fig.buttons[name] = document.createElement('button'));\n",
       "        button.classList = 'mpl-widget';\n",
       "        button.setAttribute('role', 'button');\n",
       "        button.setAttribute('aria-disabled', 'false');\n",
       "        button.addEventListener('click', on_click_closure(method_name));\n",
       "        button.addEventListener('mouseover', on_mouseover_closure(tooltip));\n",
       "\n",
       "        var icon_img = document.createElement('img');\n",
       "        icon_img.src = '_images/' + image + '.png';\n",
       "        icon_img.srcset = '_images/' + image + '_large.png 2x';\n",
       "        icon_img.alt = tooltip;\n",
       "        button.appendChild(icon_img);\n",
       "\n",
       "        buttonGroup.appendChild(button);\n",
       "    }\n",
       "\n",
       "    if (buttonGroup.hasChildNodes()) {\n",
       "        toolbar.appendChild(buttonGroup);\n",
       "    }\n",
       "\n",
       "    var fmt_picker = document.createElement('select');\n",
       "    fmt_picker.classList = 'mpl-widget';\n",
       "    toolbar.appendChild(fmt_picker);\n",
       "    this.format_dropdown = fmt_picker;\n",
       "\n",
       "    for (var ind in mpl.extensions) {\n",
       "        var fmt = mpl.extensions[ind];\n",
       "        var option = document.createElement('option');\n",
       "        option.selected = fmt === mpl.default_extension;\n",
       "        option.innerHTML = fmt;\n",
       "        fmt_picker.appendChild(option);\n",
       "    }\n",
       "\n",
       "    var status_bar = document.createElement('span');\n",
       "    status_bar.classList = 'mpl-message';\n",
       "    toolbar.appendChild(status_bar);\n",
       "    this.message = status_bar;\n",
       "};\n",
       "\n",
       "mpl.figure.prototype.request_resize = function (x_pixels, y_pixels) {\n",
       "    // Request matplotlib to resize the figure. Matplotlib will then trigger a resize in the client,\n",
       "    // which will in turn request a refresh of the image.\n",
       "    this.send_message('resize', { width: x_pixels, height: y_pixels });\n",
       "};\n",
       "\n",
       "mpl.figure.prototype.send_message = function (type, properties) {\n",
       "    properties['type'] = type;\n",
       "    properties['figure_id'] = this.id;\n",
       "    this.ws.send(JSON.stringify(properties));\n",
       "};\n",
       "\n",
       "mpl.figure.prototype.send_draw_message = function () {\n",
       "    if (!this.waiting) {\n",
       "        this.waiting = true;\n",
       "        this.ws.send(JSON.stringify({ type: 'draw', figure_id: this.id }));\n",
       "    }\n",
       "};\n",
       "\n",
       "mpl.figure.prototype.handle_save = function (fig, _msg) {\n",
       "    var format_dropdown = fig.format_dropdown;\n",
       "    var format = format_dropdown.options[format_dropdown.selectedIndex].value;\n",
       "    fig.ondownload(fig, format);\n",
       "};\n",
       "\n",
       "mpl.figure.prototype.handle_resize = function (fig, msg) {\n",
       "    var size = msg['size'];\n",
       "    if (size[0] !== fig.canvas.width || size[1] !== fig.canvas.height) {\n",
       "        fig._resize_canvas(size[0], size[1], msg['forward']);\n",
       "        fig.send_message('refresh', {});\n",
       "    }\n",
       "};\n",
       "\n",
       "mpl.figure.prototype.handle_rubberband = function (fig, msg) {\n",
       "    var x0 = msg['x0'] / fig.ratio;\n",
       "    var y0 = (fig.canvas.height - msg['y0']) / fig.ratio;\n",
       "    var x1 = msg['x1'] / fig.ratio;\n",
       "    var y1 = (fig.canvas.height - msg['y1']) / fig.ratio;\n",
       "    x0 = Math.floor(x0) + 0.5;\n",
       "    y0 = Math.floor(y0) + 0.5;\n",
       "    x1 = Math.floor(x1) + 0.5;\n",
       "    y1 = Math.floor(y1) + 0.5;\n",
       "    var min_x = Math.min(x0, x1);\n",
       "    var min_y = Math.min(y0, y1);\n",
       "    var width = Math.abs(x1 - x0);\n",
       "    var height = Math.abs(y1 - y0);\n",
       "\n",
       "    fig.rubberband_context.clearRect(\n",
       "        0,\n",
       "        0,\n",
       "        fig.canvas.width / fig.ratio,\n",
       "        fig.canvas.height / fig.ratio\n",
       "    );\n",
       "\n",
       "    fig.rubberband_context.strokeRect(min_x, min_y, width, height);\n",
       "};\n",
       "\n",
       "mpl.figure.prototype.handle_figure_label = function (fig, msg) {\n",
       "    // Updates the figure title.\n",
       "    fig.header.textContent = msg['label'];\n",
       "};\n",
       "\n",
       "mpl.figure.prototype.handle_cursor = function (fig, msg) {\n",
       "    var cursor = msg['cursor'];\n",
       "    switch (cursor) {\n",
       "        case 0:\n",
       "            cursor = 'pointer';\n",
       "            break;\n",
       "        case 1:\n",
       "            cursor = 'default';\n",
       "            break;\n",
       "        case 2:\n",
       "            cursor = 'crosshair';\n",
       "            break;\n",
       "        case 3:\n",
       "            cursor = 'move';\n",
       "            break;\n",
       "    }\n",
       "    fig.rubberband_canvas.style.cursor = cursor;\n",
       "};\n",
       "\n",
       "mpl.figure.prototype.handle_message = function (fig, msg) {\n",
       "    fig.message.textContent = msg['message'];\n",
       "};\n",
       "\n",
       "mpl.figure.prototype.handle_draw = function (fig, _msg) {\n",
       "    // Request the server to send over a new figure.\n",
       "    fig.send_draw_message();\n",
       "};\n",
       "\n",
       "mpl.figure.prototype.handle_image_mode = function (fig, msg) {\n",
       "    fig.image_mode = msg['mode'];\n",
       "};\n",
       "\n",
       "mpl.figure.prototype.handle_history_buttons = function (fig, msg) {\n",
       "    for (var key in msg) {\n",
       "        if (!(key in fig.buttons)) {\n",
       "            continue;\n",
       "        }\n",
       "        fig.buttons[key].disabled = !msg[key];\n",
       "        fig.buttons[key].setAttribute('aria-disabled', !msg[key]);\n",
       "    }\n",
       "};\n",
       "\n",
       "mpl.figure.prototype.handle_navigate_mode = function (fig, msg) {\n",
       "    if (msg['mode'] === 'PAN') {\n",
       "        fig.buttons['Pan'].classList.add('active');\n",
       "        fig.buttons['Zoom'].classList.remove('active');\n",
       "    } else if (msg['mode'] === 'ZOOM') {\n",
       "        fig.buttons['Pan'].classList.remove('active');\n",
       "        fig.buttons['Zoom'].classList.add('active');\n",
       "    } else {\n",
       "        fig.buttons['Pan'].classList.remove('active');\n",
       "        fig.buttons['Zoom'].classList.remove('active');\n",
       "    }\n",
       "};\n",
       "\n",
       "mpl.figure.prototype.updated_canvas_event = function () {\n",
       "    // Called whenever the canvas gets updated.\n",
       "    this.send_message('ack', {});\n",
       "};\n",
       "\n",
       "// A function to construct a web socket function for onmessage handling.\n",
       "// Called in the figure constructor.\n",
       "mpl.figure.prototype._make_on_message_function = function (fig) {\n",
       "    return function socket_on_message(evt) {\n",
       "        if (evt.data instanceof Blob) {\n",
       "            /* FIXME: We get \"Resource interpreted as Image but\n",
       "             * transferred with MIME type text/plain:\" errors on\n",
       "             * Chrome.  But how to set the MIME type?  It doesn't seem\n",
       "             * to be part of the websocket stream */\n",
       "            evt.data.type = 'image/png';\n",
       "\n",
       "            /* Free the memory for the previous frames */\n",
       "            if (fig.imageObj.src) {\n",
       "                (window.URL || window.webkitURL).revokeObjectURL(\n",
       "                    fig.imageObj.src\n",
       "                );\n",
       "            }\n",
       "\n",
       "            fig.imageObj.src = (window.URL || window.webkitURL).createObjectURL(\n",
       "                evt.data\n",
       "            );\n",
       "            fig.updated_canvas_event();\n",
       "            fig.waiting = false;\n",
       "            return;\n",
       "        } else if (\n",
       "            typeof evt.data === 'string' &&\n",
       "            evt.data.slice(0, 21) === 'data:image/png;base64'\n",
       "        ) {\n",
       "            fig.imageObj.src = evt.data;\n",
       "            fig.updated_canvas_event();\n",
       "            fig.waiting = false;\n",
       "            return;\n",
       "        }\n",
       "\n",
       "        var msg = JSON.parse(evt.data);\n",
       "        var msg_type = msg['type'];\n",
       "\n",
       "        // Call the  \"handle_{type}\" callback, which takes\n",
       "        // the figure and JSON message as its only arguments.\n",
       "        try {\n",
       "            var callback = fig['handle_' + msg_type];\n",
       "        } catch (e) {\n",
       "            console.log(\n",
       "                \"No handler for the '\" + msg_type + \"' message type: \",\n",
       "                msg\n",
       "            );\n",
       "            return;\n",
       "        }\n",
       "\n",
       "        if (callback) {\n",
       "            try {\n",
       "                // console.log(\"Handling '\" + msg_type + \"' message: \", msg);\n",
       "                callback(fig, msg);\n",
       "            } catch (e) {\n",
       "                console.log(\n",
       "                    \"Exception inside the 'handler_\" + msg_type + \"' callback:\",\n",
       "                    e,\n",
       "                    e.stack,\n",
       "                    msg\n",
       "                );\n",
       "            }\n",
       "        }\n",
       "    };\n",
       "};\n",
       "\n",
       "// from http://stackoverflow.com/questions/1114465/getting-mouse-location-in-canvas\n",
       "mpl.findpos = function (e) {\n",
       "    //this section is from http://www.quirksmode.org/js/events_properties.html\n",
       "    var targ;\n",
       "    if (!e) {\n",
       "        e = window.event;\n",
       "    }\n",
       "    if (e.target) {\n",
       "        targ = e.target;\n",
       "    } else if (e.srcElement) {\n",
       "        targ = e.srcElement;\n",
       "    }\n",
       "    if (targ.nodeType === 3) {\n",
       "        // defeat Safari bug\n",
       "        targ = targ.parentNode;\n",
       "    }\n",
       "\n",
       "    // pageX,Y are the mouse positions relative to the document\n",
       "    var boundingRect = targ.getBoundingClientRect();\n",
       "    var x = e.pageX - (boundingRect.left + document.body.scrollLeft);\n",
       "    var y = e.pageY - (boundingRect.top + document.body.scrollTop);\n",
       "\n",
       "    return { x: x, y: y };\n",
       "};\n",
       "\n",
       "/*\n",
       " * return a copy of an object with only non-object keys\n",
       " * we need this to avoid circular references\n",
       " * http://stackoverflow.com/a/24161582/3208463\n",
       " */\n",
       "function simpleKeys(original) {\n",
       "    return Object.keys(original).reduce(function (obj, key) {\n",
       "        if (typeof original[key] !== 'object') {\n",
       "            obj[key] = original[key];\n",
       "        }\n",
       "        return obj;\n",
       "    }, {});\n",
       "}\n",
       "\n",
       "mpl.figure.prototype.mouse_event = function (event, name) {\n",
       "    var canvas_pos = mpl.findpos(event);\n",
       "\n",
       "    if (name === 'button_press') {\n",
       "        this.canvas.focus();\n",
       "        this.canvas_div.focus();\n",
       "    }\n",
       "\n",
       "    var x = canvas_pos.x * this.ratio;\n",
       "    var y = canvas_pos.y * this.ratio;\n",
       "\n",
       "    this.send_message(name, {\n",
       "        x: x,\n",
       "        y: y,\n",
       "        button: event.button,\n",
       "        step: event.step,\n",
       "        guiEvent: simpleKeys(event),\n",
       "    });\n",
       "\n",
       "    /* This prevents the web browser from automatically changing to\n",
       "     * the text insertion cursor when the button is pressed.  We want\n",
       "     * to control all of the cursor setting manually through the\n",
       "     * 'cursor' event from matplotlib */\n",
       "    event.preventDefault();\n",
       "    return false;\n",
       "};\n",
       "\n",
       "mpl.figure.prototype._key_event_extra = function (_event, _name) {\n",
       "    // Handle any extra behaviour associated with a key event\n",
       "};\n",
       "\n",
       "mpl.figure.prototype.key_event = function (event, name) {\n",
       "    // Prevent repeat events\n",
       "    if (name === 'key_press') {\n",
       "        if (event.which === this._key) {\n",
       "            return;\n",
       "        } else {\n",
       "            this._key = event.which;\n",
       "        }\n",
       "    }\n",
       "    if (name === 'key_release') {\n",
       "        this._key = null;\n",
       "    }\n",
       "\n",
       "    var value = '';\n",
       "    if (event.ctrlKey && event.which !== 17) {\n",
       "        value += 'ctrl+';\n",
       "    }\n",
       "    if (event.altKey && event.which !== 18) {\n",
       "        value += 'alt+';\n",
       "    }\n",
       "    if (event.shiftKey && event.which !== 16) {\n",
       "        value += 'shift+';\n",
       "    }\n",
       "\n",
       "    value += 'k';\n",
       "    value += event.which.toString();\n",
       "\n",
       "    this._key_event_extra(event, name);\n",
       "\n",
       "    this.send_message(name, { key: value, guiEvent: simpleKeys(event) });\n",
       "    return false;\n",
       "};\n",
       "\n",
       "mpl.figure.prototype.toolbar_button_onclick = function (name) {\n",
       "    if (name === 'download') {\n",
       "        this.handle_save(this, null);\n",
       "    } else {\n",
       "        this.send_message('toolbar_button', { name: name });\n",
       "    }\n",
       "};\n",
       "\n",
       "mpl.figure.prototype.toolbar_button_onmouseover = function (tooltip) {\n",
       "    this.message.textContent = tooltip;\n",
       "};\n",
       "mpl.toolbar_items = [[\"Home\", \"Reset original view\", \"fa fa-home icon-home\", \"home\"], [\"Back\", \"Back to previous view\", \"fa fa-arrow-left icon-arrow-left\", \"back\"], [\"Forward\", \"Forward to next view\", \"fa fa-arrow-right icon-arrow-right\", \"forward\"], [\"\", \"\", \"\", \"\"], [\"Pan\", \"Left button pans, Right button zooms\\nx/y fixes axis, CTRL fixes aspect\", \"fa fa-arrows icon-move\", \"pan\"], [\"Zoom\", \"Zoom to rectangle\\nx/y fixes axis, CTRL fixes aspect\", \"fa fa-square-o icon-check-empty\", \"zoom\"], [\"\", \"\", \"\", \"\"], [\"Download\", \"Download plot\", \"fa fa-floppy-o icon-save\", \"download\"]];\n",
       "\n",
       "mpl.extensions = [\"eps\", \"jpeg\", \"pdf\", \"png\", \"ps\", \"raw\", \"svg\", \"tif\"];\n",
       "\n",
       "mpl.default_extension = \"png\";/* global mpl */\n",
       "\n",
       "var comm_websocket_adapter = function (comm) {\n",
       "    // Create a \"websocket\"-like object which calls the given IPython comm\n",
       "    // object with the appropriate methods. Currently this is a non binary\n",
       "    // socket, so there is still some room for performance tuning.\n",
       "    var ws = {};\n",
       "\n",
       "    ws.close = function () {\n",
       "        comm.close();\n",
       "    };\n",
       "    ws.send = function (m) {\n",
       "        //console.log('sending', m);\n",
       "        comm.send(m);\n",
       "    };\n",
       "    // Register the callback with on_msg.\n",
       "    comm.on_msg(function (msg) {\n",
       "        //console.log('receiving', msg['content']['data'], msg);\n",
       "        // Pass the mpl event to the overridden (by mpl) onmessage function.\n",
       "        ws.onmessage(msg['content']['data']);\n",
       "    });\n",
       "    return ws;\n",
       "};\n",
       "\n",
       "mpl.mpl_figure_comm = function (comm, msg) {\n",
       "    // This is the function which gets called when the mpl process\n",
       "    // starts-up an IPython Comm through the \"matplotlib\" channel.\n",
       "\n",
       "    var id = msg.content.data.id;\n",
       "    // Get hold of the div created by the display call when the Comm\n",
       "    // socket was opened in Python.\n",
       "    var element = document.getElementById(id);\n",
       "    var ws_proxy = comm_websocket_adapter(comm);\n",
       "\n",
       "    function ondownload(figure, _format) {\n",
       "        window.open(figure.canvas.toDataURL());\n",
       "    }\n",
       "\n",
       "    var fig = new mpl.figure(id, ws_proxy, ondownload, element);\n",
       "\n",
       "    // Call onopen now - mpl needs it, as it is assuming we've passed it a real\n",
       "    // web socket which is closed, not our websocket->open comm proxy.\n",
       "    ws_proxy.onopen();\n",
       "\n",
       "    fig.parent_element = element;\n",
       "    fig.cell_info = mpl.find_output_cell(\"<div id='\" + id + \"'></div>\");\n",
       "    if (!fig.cell_info) {\n",
       "        console.error('Failed to find cell for figure', id, fig);\n",
       "        return;\n",
       "    }\n",
       "    fig.cell_info[0].output_area.element.one(\n",
       "        'cleared',\n",
       "        { fig: fig },\n",
       "        fig._remove_fig_handler\n",
       "    );\n",
       "};\n",
       "\n",
       "mpl.figure.prototype.handle_close = function (fig, msg) {\n",
       "    var width = fig.canvas.width / fig.ratio;\n",
       "    fig.cell_info[0].output_area.element.off(\n",
       "        'cleared',\n",
       "        fig._remove_fig_handler\n",
       "    );\n",
       "\n",
       "    // Update the output cell to use the data from the current canvas.\n",
       "    fig.push_to_output();\n",
       "    var dataURL = fig.canvas.toDataURL();\n",
       "    // Re-enable the keyboard manager in IPython - without this line, in FF,\n",
       "    // the notebook keyboard shortcuts fail.\n",
       "    IPython.keyboard_manager.enable();\n",
       "    fig.parent_element.innerHTML =\n",
       "        '<img src=\"' + dataURL + '\" width=\"' + width + '\">';\n",
       "    fig.close_ws(fig, msg);\n",
       "};\n",
       "\n",
       "mpl.figure.prototype.close_ws = function (fig, msg) {\n",
       "    fig.send_message('closing', msg);\n",
       "    // fig.ws.close()\n",
       "};\n",
       "\n",
       "mpl.figure.prototype.push_to_output = function (_remove_interactive) {\n",
       "    // Turn the data on the canvas into data in the output cell.\n",
       "    var width = this.canvas.width / this.ratio;\n",
       "    var dataURL = this.canvas.toDataURL();\n",
       "    this.cell_info[1]['text/html'] =\n",
       "        '<img src=\"' + dataURL + '\" width=\"' + width + '\">';\n",
       "};\n",
       "\n",
       "mpl.figure.prototype.updated_canvas_event = function () {\n",
       "    // Tell IPython that the notebook contents must change.\n",
       "    IPython.notebook.set_dirty(true);\n",
       "    this.send_message('ack', {});\n",
       "    var fig = this;\n",
       "    // Wait a second, then push the new image to the DOM so\n",
       "    // that it is saved nicely (might be nice to debounce this).\n",
       "    setTimeout(function () {\n",
       "        fig.push_to_output();\n",
       "    }, 1000);\n",
       "};\n",
       "\n",
       "mpl.figure.prototype._init_toolbar = function () {\n",
       "    var fig = this;\n",
       "\n",
       "    var toolbar = document.createElement('div');\n",
       "    toolbar.classList = 'btn-toolbar';\n",
       "    this.root.appendChild(toolbar);\n",
       "\n",
       "    function on_click_closure(name) {\n",
       "        return function (_event) {\n",
       "            return fig.toolbar_button_onclick(name);\n",
       "        };\n",
       "    }\n",
       "\n",
       "    function on_mouseover_closure(tooltip) {\n",
       "        return function (event) {\n",
       "            if (!event.currentTarget.disabled) {\n",
       "                return fig.toolbar_button_onmouseover(tooltip);\n",
       "            }\n",
       "        };\n",
       "    }\n",
       "\n",
       "    fig.buttons = {};\n",
       "    var buttonGroup = document.createElement('div');\n",
       "    buttonGroup.classList = 'btn-group';\n",
       "    var button;\n",
       "    for (var toolbar_ind in mpl.toolbar_items) {\n",
       "        var name = mpl.toolbar_items[toolbar_ind][0];\n",
       "        var tooltip = mpl.toolbar_items[toolbar_ind][1];\n",
       "        var image = mpl.toolbar_items[toolbar_ind][2];\n",
       "        var method_name = mpl.toolbar_items[toolbar_ind][3];\n",
       "\n",
       "        if (!name) {\n",
       "            /* Instead of a spacer, we start a new button group. */\n",
       "            if (buttonGroup.hasChildNodes()) {\n",
       "                toolbar.appendChild(buttonGroup);\n",
       "            }\n",
       "            buttonGroup = document.createElement('div');\n",
       "            buttonGroup.classList = 'btn-group';\n",
       "            continue;\n",
       "        }\n",
       "\n",
       "        button = fig.buttons[name] = document.createElement('button');\n",
       "        button.classList = 'btn btn-default';\n",
       "        button.href = '#';\n",
       "        button.title = name;\n",
       "        button.innerHTML = '<i class=\"fa ' + image + ' fa-lg\"></i>';\n",
       "        button.addEventListener('click', on_click_closure(method_name));\n",
       "        button.addEventListener('mouseover', on_mouseover_closure(tooltip));\n",
       "        buttonGroup.appendChild(button);\n",
       "    }\n",
       "\n",
       "    if (buttonGroup.hasChildNodes()) {\n",
       "        toolbar.appendChild(buttonGroup);\n",
       "    }\n",
       "\n",
       "    // Add the status bar.\n",
       "    var status_bar = document.createElement('span');\n",
       "    status_bar.classList = 'mpl-message pull-right';\n",
       "    toolbar.appendChild(status_bar);\n",
       "    this.message = status_bar;\n",
       "\n",
       "    // Add the close button to the window.\n",
       "    var buttongrp = document.createElement('div');\n",
       "    buttongrp.classList = 'btn-group inline pull-right';\n",
       "    button = document.createElement('button');\n",
       "    button.classList = 'btn btn-mini btn-primary';\n",
       "    button.href = '#';\n",
       "    button.title = 'Stop Interaction';\n",
       "    button.innerHTML = '<i class=\"fa fa-power-off icon-remove icon-large\"></i>';\n",
       "    button.addEventListener('click', function (_evt) {\n",
       "        fig.handle_close(fig, {});\n",
       "    });\n",
       "    button.addEventListener(\n",
       "        'mouseover',\n",
       "        on_mouseover_closure('Stop Interaction')\n",
       "    );\n",
       "    buttongrp.appendChild(button);\n",
       "    var titlebar = this.root.querySelector('.ui-dialog-titlebar');\n",
       "    titlebar.insertBefore(buttongrp, titlebar.firstChild);\n",
       "};\n",
       "\n",
       "mpl.figure.prototype._remove_fig_handler = function (event) {\n",
       "    var fig = event.data.fig;\n",
       "    fig.close_ws(fig, {});\n",
       "};\n",
       "\n",
       "mpl.figure.prototype._root_extra_style = function (el) {\n",
       "    el.style.boxSizing = 'content-box'; // override notebook setting of border-box.\n",
       "};\n",
       "\n",
       "mpl.figure.prototype._canvas_extra_style = function (el) {\n",
       "    // this is important to make the div 'focusable\n",
       "    el.setAttribute('tabindex', 0);\n",
       "    // reach out to IPython and tell the keyboard manager to turn it's self\n",
       "    // off when our div gets focus\n",
       "\n",
       "    // location in version 3\n",
       "    if (IPython.notebook.keyboard_manager) {\n",
       "        IPython.notebook.keyboard_manager.register_events(el);\n",
       "    } else {\n",
       "        // location in version 2\n",
       "        IPython.keyboard_manager.register_events(el);\n",
       "    }\n",
       "};\n",
       "\n",
       "mpl.figure.prototype._key_event_extra = function (event, _name) {\n",
       "    var manager = IPython.notebook.keyboard_manager;\n",
       "    if (!manager) {\n",
       "        manager = IPython.keyboard_manager;\n",
       "    }\n",
       "\n",
       "    // Check for shift+enter\n",
       "    if (event.shiftKey && event.which === 13) {\n",
       "        this.canvas_div.blur();\n",
       "        // select the cell after this one\n",
       "        var index = IPython.notebook.find_cell_index(this.cell_info[0]);\n",
       "        IPython.notebook.select(index + 1);\n",
       "    }\n",
       "};\n",
       "\n",
       "mpl.figure.prototype.handle_save = function (fig, _msg) {\n",
       "    fig.ondownload(fig, null);\n",
       "};\n",
       "\n",
       "mpl.find_output_cell = function (html_output) {\n",
       "    // Return the cell and output element which can be found *uniquely* in the notebook.\n",
       "    // Note - this is a bit hacky, but it is done because the \"notebook_saving.Notebook\"\n",
       "    // IPython event is triggered only after the cells have been serialised, which for\n",
       "    // our purposes (turning an active figure into a static one), is too late.\n",
       "    var cells = IPython.notebook.get_cells();\n",
       "    var ncells = cells.length;\n",
       "    for (var i = 0; i < ncells; i++) {\n",
       "        var cell = cells[i];\n",
       "        if (cell.cell_type === 'code') {\n",
       "            for (var j = 0; j < cell.output_area.outputs.length; j++) {\n",
       "                var data = cell.output_area.outputs[j];\n",
       "                if (data.data) {\n",
       "                    // IPython >= 3 moved mimebundle to data attribute of output\n",
       "                    data = data.data;\n",
       "                }\n",
       "                if (data['text/html'] === html_output) {\n",
       "                    return [cell, data, j];\n",
       "                }\n",
       "            }\n",
       "        }\n",
       "    }\n",
       "};\n",
       "\n",
       "// Register the function which deals with the matplotlib target/channel.\n",
       "// The kernel may be null if the page has been refreshed.\n",
       "if (IPython.notebook.kernel !== null) {\n",
       "    IPython.notebook.kernel.comm_manager.register_target(\n",
       "        'matplotlib',\n",
       "        mpl.mpl_figure_comm\n",
       "    );\n",
       "}\n"
      ],
      "text/plain": [
       "<IPython.core.display.Javascript object>"
      ]
     },
     "metadata": {},
     "output_type": "display_data"
    },
    {
     "data": {
      "text/html": [
       "<img src=\"data:image/png;base64,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\" width=\"864\">"
      ],
      "text/plain": [
       "<IPython.core.display.HTML object>"
      ]
     },
     "metadata": {},
     "output_type": "display_data"
    },
    {
     "data": {
      "application/javascript": [
       "/* Put everything inside the global mpl namespace */\n",
       "/* global mpl */\n",
       "window.mpl = {};\n",
       "\n",
       "mpl.get_websocket_type = function () {\n",
       "    if (typeof WebSocket !== 'undefined') {\n",
       "        return WebSocket;\n",
       "    } else if (typeof MozWebSocket !== 'undefined') {\n",
       "        return MozWebSocket;\n",
       "    } else {\n",
       "        alert(\n",
       "            'Your browser does not have WebSocket support. ' +\n",
       "                'Please try Chrome, Safari or Firefox ≥ 6. ' +\n",
       "                'Firefox 4 and 5 are also supported but you ' +\n",
       "                'have to enable WebSockets in about:config.'\n",
       "        );\n",
       "    }\n",
       "};\n",
       "\n",
       "mpl.figure = function (figure_id, websocket, ondownload, parent_element) {\n",
       "    this.id = figure_id;\n",
       "\n",
       "    this.ws = websocket;\n",
       "\n",
       "    this.supports_binary = this.ws.binaryType !== undefined;\n",
       "\n",
       "    if (!this.supports_binary) {\n",
       "        var warnings = document.getElementById('mpl-warnings');\n",
       "        if (warnings) {\n",
       "            warnings.style.display = 'block';\n",
       "            warnings.textContent =\n",
       "                'This browser does not support binary websocket messages. ' +\n",
       "                'Performance may be slow.';\n",
       "        }\n",
       "    }\n",
       "\n",
       "    this.imageObj = new Image();\n",
       "\n",
       "    this.context = undefined;\n",
       "    this.message = undefined;\n",
       "    this.canvas = undefined;\n",
       "    this.rubberband_canvas = undefined;\n",
       "    this.rubberband_context = undefined;\n",
       "    this.format_dropdown = undefined;\n",
       "\n",
       "    this.image_mode = 'full';\n",
       "\n",
       "    this.root = document.createElement('div');\n",
       "    this.root.setAttribute('style', 'display: inline-block');\n",
       "    this._root_extra_style(this.root);\n",
       "\n",
       "    parent_element.appendChild(this.root);\n",
       "\n",
       "    this._init_header(this);\n",
       "    this._init_canvas(this);\n",
       "    this._init_toolbar(this);\n",
       "\n",
       "    var fig = this;\n",
       "\n",
       "    this.waiting = false;\n",
       "\n",
       "    this.ws.onopen = function () {\n",
       "        fig.send_message('supports_binary', { value: fig.supports_binary });\n",
       "        fig.send_message('send_image_mode', {});\n",
       "        if (fig.ratio !== 1) {\n",
       "            fig.send_message('set_dpi_ratio', { dpi_ratio: fig.ratio });\n",
       "        }\n",
       "        fig.send_message('refresh', {});\n",
       "    };\n",
       "\n",
       "    this.imageObj.onload = function () {\n",
       "        if (fig.image_mode === 'full') {\n",
       "            // Full images could contain transparency (where diff images\n",
       "            // almost always do), so we need to clear the canvas so that\n",
       "            // there is no ghosting.\n",
       "            fig.context.clearRect(0, 0, fig.canvas.width, fig.canvas.height);\n",
       "        }\n",
       "        fig.context.drawImage(fig.imageObj, 0, 0);\n",
       "    };\n",
       "\n",
       "    this.imageObj.onunload = function () {\n",
       "        fig.ws.close();\n",
       "    };\n",
       "\n",
       "    this.ws.onmessage = this._make_on_message_function(this);\n",
       "\n",
       "    this.ondownload = ondownload;\n",
       "};\n",
       "\n",
       "mpl.figure.prototype._init_header = function () {\n",
       "    var titlebar = document.createElement('div');\n",
       "    titlebar.classList =\n",
       "        'ui-dialog-titlebar ui-widget-header ui-corner-all ui-helper-clearfix';\n",
       "    var titletext = document.createElement('div');\n",
       "    titletext.classList = 'ui-dialog-title';\n",
       "    titletext.setAttribute(\n",
       "        'style',\n",
       "        'width: 100%; text-align: center; padding: 3px;'\n",
       "    );\n",
       "    titlebar.appendChild(titletext);\n",
       "    this.root.appendChild(titlebar);\n",
       "    this.header = titletext;\n",
       "};\n",
       "\n",
       "mpl.figure.prototype._canvas_extra_style = function (_canvas_div) {};\n",
       "\n",
       "mpl.figure.prototype._root_extra_style = function (_canvas_div) {};\n",
       "\n",
       "mpl.figure.prototype._init_canvas = function () {\n",
       "    var fig = this;\n",
       "\n",
       "    var canvas_div = (this.canvas_div = document.createElement('div'));\n",
       "    canvas_div.setAttribute(\n",
       "        'style',\n",
       "        'border: 1px solid #ddd;' +\n",
       "            'box-sizing: content-box;' +\n",
       "            'clear: both;' +\n",
       "            'min-height: 1px;' +\n",
       "            'min-width: 1px;' +\n",
       "            'outline: 0;' +\n",
       "            'overflow: hidden;' +\n",
       "            'position: relative;' +\n",
       "            'resize: both;'\n",
       "    );\n",
       "\n",
       "    function on_keyboard_event_closure(name) {\n",
       "        return function (event) {\n",
       "            return fig.key_event(event, name);\n",
       "        };\n",
       "    }\n",
       "\n",
       "    canvas_div.addEventListener(\n",
       "        'keydown',\n",
       "        on_keyboard_event_closure('key_press')\n",
       "    );\n",
       "    canvas_div.addEventListener(\n",
       "        'keyup',\n",
       "        on_keyboard_event_closure('key_release')\n",
       "    );\n",
       "\n",
       "    this._canvas_extra_style(canvas_div);\n",
       "    this.root.appendChild(canvas_div);\n",
       "\n",
       "    var canvas = (this.canvas = document.createElement('canvas'));\n",
       "    canvas.classList.add('mpl-canvas');\n",
       "    canvas.setAttribute('style', 'box-sizing: content-box;');\n",
       "\n",
       "    this.context = canvas.getContext('2d');\n",
       "\n",
       "    var backingStore =\n",
       "        this.context.backingStorePixelRatio ||\n",
       "        this.context.webkitBackingStorePixelRatio ||\n",
       "        this.context.mozBackingStorePixelRatio ||\n",
       "        this.context.msBackingStorePixelRatio ||\n",
       "        this.context.oBackingStorePixelRatio ||\n",
       "        this.context.backingStorePixelRatio ||\n",
       "        1;\n",
       "\n",
       "    this.ratio = (window.devicePixelRatio || 1) / backingStore;\n",
       "    if (this.ratio !== 1) {\n",
       "        fig.send_message('set_dpi_ratio', { dpi_ratio: this.ratio });\n",
       "    }\n",
       "\n",
       "    var rubberband_canvas = (this.rubberband_canvas = document.createElement(\n",
       "        'canvas'\n",
       "    ));\n",
       "    rubberband_canvas.setAttribute(\n",
       "        'style',\n",
       "        'box-sizing: content-box; position: absolute; left: 0; top: 0; z-index: 1;'\n",
       "    );\n",
       "\n",
       "    var resizeObserver = new ResizeObserver(function (entries) {\n",
       "        var nentries = entries.length;\n",
       "        for (var i = 0; i < nentries; i++) {\n",
       "            var entry = entries[i];\n",
       "            var width, height;\n",
       "            if (entry.contentBoxSize) {\n",
       "                if (entry.contentBoxSize instanceof Array) {\n",
       "                    // Chrome 84 implements new version of spec.\n",
       "                    width = entry.contentBoxSize[0].inlineSize;\n",
       "                    height = entry.contentBoxSize[0].blockSize;\n",
       "                } else {\n",
       "                    // Firefox implements old version of spec.\n",
       "                    width = entry.contentBoxSize.inlineSize;\n",
       "                    height = entry.contentBoxSize.blockSize;\n",
       "                }\n",
       "            } else {\n",
       "                // Chrome <84 implements even older version of spec.\n",
       "                width = entry.contentRect.width;\n",
       "                height = entry.contentRect.height;\n",
       "            }\n",
       "\n",
       "            // Keep the size of the canvas and rubber band canvas in sync with\n",
       "            // the canvas container.\n",
       "            if (entry.devicePixelContentBoxSize) {\n",
       "                // Chrome 84 implements new version of spec.\n",
       "                canvas.setAttribute(\n",
       "                    'width',\n",
       "                    entry.devicePixelContentBoxSize[0].inlineSize\n",
       "                );\n",
       "                canvas.setAttribute(\n",
       "                    'height',\n",
       "                    entry.devicePixelContentBoxSize[0].blockSize\n",
       "                );\n",
       "            } else {\n",
       "                canvas.setAttribute('width', width * fig.ratio);\n",
       "                canvas.setAttribute('height', height * fig.ratio);\n",
       "            }\n",
       "            canvas.setAttribute(\n",
       "                'style',\n",
       "                'width: ' + width + 'px; height: ' + height + 'px;'\n",
       "            );\n",
       "\n",
       "            rubberband_canvas.setAttribute('width', width);\n",
       "            rubberband_canvas.setAttribute('height', height);\n",
       "\n",
       "            // And update the size in Python. We ignore the initial 0/0 size\n",
       "            // that occurs as the element is placed into the DOM, which should\n",
       "            // otherwise not happen due to the minimum size styling.\n",
       "            if (width != 0 && height != 0) {\n",
       "                fig.request_resize(width, height);\n",
       "            }\n",
       "        }\n",
       "    });\n",
       "    resizeObserver.observe(canvas_div);\n",
       "\n",
       "    function on_mouse_event_closure(name) {\n",
       "        return function (event) {\n",
       "            return fig.mouse_event(event, name);\n",
       "        };\n",
       "    }\n",
       "\n",
       "    rubberband_canvas.addEventListener(\n",
       "        'mousedown',\n",
       "        on_mouse_event_closure('button_press')\n",
       "    );\n",
       "    rubberband_canvas.addEventListener(\n",
       "        'mouseup',\n",
       "        on_mouse_event_closure('button_release')\n",
       "    );\n",
       "    // Throttle sequential mouse events to 1 every 20ms.\n",
       "    rubberband_canvas.addEventListener(\n",
       "        'mousemove',\n",
       "        on_mouse_event_closure('motion_notify')\n",
       "    );\n",
       "\n",
       "    rubberband_canvas.addEventListener(\n",
       "        'mouseenter',\n",
       "        on_mouse_event_closure('figure_enter')\n",
       "    );\n",
       "    rubberband_canvas.addEventListener(\n",
       "        'mouseleave',\n",
       "        on_mouse_event_closure('figure_leave')\n",
       "    );\n",
       "\n",
       "    canvas_div.addEventListener('wheel', function (event) {\n",
       "        if (event.deltaY < 0) {\n",
       "            event.step = 1;\n",
       "        } else {\n",
       "            event.step = -1;\n",
       "        }\n",
       "        on_mouse_event_closure('scroll')(event);\n",
       "    });\n",
       "\n",
       "    canvas_div.appendChild(canvas);\n",
       "    canvas_div.appendChild(rubberband_canvas);\n",
       "\n",
       "    this.rubberband_context = rubberband_canvas.getContext('2d');\n",
       "    this.rubberband_context.strokeStyle = '#000000';\n",
       "\n",
       "    this._resize_canvas = function (width, height, forward) {\n",
       "        if (forward) {\n",
       "            canvas_div.style.width = width + 'px';\n",
       "            canvas_div.style.height = height + 'px';\n",
       "        }\n",
       "    };\n",
       "\n",
       "    // Disable right mouse context menu.\n",
       "    this.rubberband_canvas.addEventListener('contextmenu', function (_e) {\n",
       "        event.preventDefault();\n",
       "        return false;\n",
       "    });\n",
       "\n",
       "    function set_focus() {\n",
       "        canvas.focus();\n",
       "        canvas_div.focus();\n",
       "    }\n",
       "\n",
       "    window.setTimeout(set_focus, 100);\n",
       "};\n",
       "\n",
       "mpl.figure.prototype._init_toolbar = function () {\n",
       "    var fig = this;\n",
       "\n",
       "    var toolbar = document.createElement('div');\n",
       "    toolbar.classList = 'mpl-toolbar';\n",
       "    this.root.appendChild(toolbar);\n",
       "\n",
       "    function on_click_closure(name) {\n",
       "        return function (_event) {\n",
       "            return fig.toolbar_button_onclick(name);\n",
       "        };\n",
       "    }\n",
       "\n",
       "    function on_mouseover_closure(tooltip) {\n",
       "        return function (event) {\n",
       "            if (!event.currentTarget.disabled) {\n",
       "                return fig.toolbar_button_onmouseover(tooltip);\n",
       "            }\n",
       "        };\n",
       "    }\n",
       "\n",
       "    fig.buttons = {};\n",
       "    var buttonGroup = document.createElement('div');\n",
       "    buttonGroup.classList = 'mpl-button-group';\n",
       "    for (var toolbar_ind in mpl.toolbar_items) {\n",
       "        var name = mpl.toolbar_items[toolbar_ind][0];\n",
       "        var tooltip = mpl.toolbar_items[toolbar_ind][1];\n",
       "        var image = mpl.toolbar_items[toolbar_ind][2];\n",
       "        var method_name = mpl.toolbar_items[toolbar_ind][3];\n",
       "\n",
       "        if (!name) {\n",
       "            /* Instead of a spacer, we start a new button group. */\n",
       "            if (buttonGroup.hasChildNodes()) {\n",
       "                toolbar.appendChild(buttonGroup);\n",
       "            }\n",
       "            buttonGroup = document.createElement('div');\n",
       "            buttonGroup.classList = 'mpl-button-group';\n",
       "            continue;\n",
       "        }\n",
       "\n",
       "        var button = (fig.buttons[name] = document.createElement('button'));\n",
       "        button.classList = 'mpl-widget';\n",
       "        button.setAttribute('role', 'button');\n",
       "        button.setAttribute('aria-disabled', 'false');\n",
       "        button.addEventListener('click', on_click_closure(method_name));\n",
       "        button.addEventListener('mouseover', on_mouseover_closure(tooltip));\n",
       "\n",
       "        var icon_img = document.createElement('img');\n",
       "        icon_img.src = '_images/' + image + '.png';\n",
       "        icon_img.srcset = '_images/' + image + '_large.png 2x';\n",
       "        icon_img.alt = tooltip;\n",
       "        button.appendChild(icon_img);\n",
       "\n",
       "        buttonGroup.appendChild(button);\n",
       "    }\n",
       "\n",
       "    if (buttonGroup.hasChildNodes()) {\n",
       "        toolbar.appendChild(buttonGroup);\n",
       "    }\n",
       "\n",
       "    var fmt_picker = document.createElement('select');\n",
       "    fmt_picker.classList = 'mpl-widget';\n",
       "    toolbar.appendChild(fmt_picker);\n",
       "    this.format_dropdown = fmt_picker;\n",
       "\n",
       "    for (var ind in mpl.extensions) {\n",
       "        var fmt = mpl.extensions[ind];\n",
       "        var option = document.createElement('option');\n",
       "        option.selected = fmt === mpl.default_extension;\n",
       "        option.innerHTML = fmt;\n",
       "        fmt_picker.appendChild(option);\n",
       "    }\n",
       "\n",
       "    var status_bar = document.createElement('span');\n",
       "    status_bar.classList = 'mpl-message';\n",
       "    toolbar.appendChild(status_bar);\n",
       "    this.message = status_bar;\n",
       "};\n",
       "\n",
       "mpl.figure.prototype.request_resize = function (x_pixels, y_pixels) {\n",
       "    // Request matplotlib to resize the figure. Matplotlib will then trigger a resize in the client,\n",
       "    // which will in turn request a refresh of the image.\n",
       "    this.send_message('resize', { width: x_pixels, height: y_pixels });\n",
       "};\n",
       "\n",
       "mpl.figure.prototype.send_message = function (type, properties) {\n",
       "    properties['type'] = type;\n",
       "    properties['figure_id'] = this.id;\n",
       "    this.ws.send(JSON.stringify(properties));\n",
       "};\n",
       "\n",
       "mpl.figure.prototype.send_draw_message = function () {\n",
       "    if (!this.waiting) {\n",
       "        this.waiting = true;\n",
       "        this.ws.send(JSON.stringify({ type: 'draw', figure_id: this.id }));\n",
       "    }\n",
       "};\n",
       "\n",
       "mpl.figure.prototype.handle_save = function (fig, _msg) {\n",
       "    var format_dropdown = fig.format_dropdown;\n",
       "    var format = format_dropdown.options[format_dropdown.selectedIndex].value;\n",
       "    fig.ondownload(fig, format);\n",
       "};\n",
       "\n",
       "mpl.figure.prototype.handle_resize = function (fig, msg) {\n",
       "    var size = msg['size'];\n",
       "    if (size[0] !== fig.canvas.width || size[1] !== fig.canvas.height) {\n",
       "        fig._resize_canvas(size[0], size[1], msg['forward']);\n",
       "        fig.send_message('refresh', {});\n",
       "    }\n",
       "};\n",
       "\n",
       "mpl.figure.prototype.handle_rubberband = function (fig, msg) {\n",
       "    var x0 = msg['x0'] / fig.ratio;\n",
       "    var y0 = (fig.canvas.height - msg['y0']) / fig.ratio;\n",
       "    var x1 = msg['x1'] / fig.ratio;\n",
       "    var y1 = (fig.canvas.height - msg['y1']) / fig.ratio;\n",
       "    x0 = Math.floor(x0) + 0.5;\n",
       "    y0 = Math.floor(y0) + 0.5;\n",
       "    x1 = Math.floor(x1) + 0.5;\n",
       "    y1 = Math.floor(y1) + 0.5;\n",
       "    var min_x = Math.min(x0, x1);\n",
       "    var min_y = Math.min(y0, y1);\n",
       "    var width = Math.abs(x1 - x0);\n",
       "    var height = Math.abs(y1 - y0);\n",
       "\n",
       "    fig.rubberband_context.clearRect(\n",
       "        0,\n",
       "        0,\n",
       "        fig.canvas.width / fig.ratio,\n",
       "        fig.canvas.height / fig.ratio\n",
       "    );\n",
       "\n",
       "    fig.rubberband_context.strokeRect(min_x, min_y, width, height);\n",
       "};\n",
       "\n",
       "mpl.figure.prototype.handle_figure_label = function (fig, msg) {\n",
       "    // Updates the figure title.\n",
       "    fig.header.textContent = msg['label'];\n",
       "};\n",
       "\n",
       "mpl.figure.prototype.handle_cursor = function (fig, msg) {\n",
       "    var cursor = msg['cursor'];\n",
       "    switch (cursor) {\n",
       "        case 0:\n",
       "            cursor = 'pointer';\n",
       "            break;\n",
       "        case 1:\n",
       "            cursor = 'default';\n",
       "            break;\n",
       "        case 2:\n",
       "            cursor = 'crosshair';\n",
       "            break;\n",
       "        case 3:\n",
       "            cursor = 'move';\n",
       "            break;\n",
       "    }\n",
       "    fig.rubberband_canvas.style.cursor = cursor;\n",
       "};\n",
       "\n",
       "mpl.figure.prototype.handle_message = function (fig, msg) {\n",
       "    fig.message.textContent = msg['message'];\n",
       "};\n",
       "\n",
       "mpl.figure.prototype.handle_draw = function (fig, _msg) {\n",
       "    // Request the server to send over a new figure.\n",
       "    fig.send_draw_message();\n",
       "};\n",
       "\n",
       "mpl.figure.prototype.handle_image_mode = function (fig, msg) {\n",
       "    fig.image_mode = msg['mode'];\n",
       "};\n",
       "\n",
       "mpl.figure.prototype.handle_history_buttons = function (fig, msg) {\n",
       "    for (var key in msg) {\n",
       "        if (!(key in fig.buttons)) {\n",
       "            continue;\n",
       "        }\n",
       "        fig.buttons[key].disabled = !msg[key];\n",
       "        fig.buttons[key].setAttribute('aria-disabled', !msg[key]);\n",
       "    }\n",
       "};\n",
       "\n",
       "mpl.figure.prototype.handle_navigate_mode = function (fig, msg) {\n",
       "    if (msg['mode'] === 'PAN') {\n",
       "        fig.buttons['Pan'].classList.add('active');\n",
       "        fig.buttons['Zoom'].classList.remove('active');\n",
       "    } else if (msg['mode'] === 'ZOOM') {\n",
       "        fig.buttons['Pan'].classList.remove('active');\n",
       "        fig.buttons['Zoom'].classList.add('active');\n",
       "    } else {\n",
       "        fig.buttons['Pan'].classList.remove('active');\n",
       "        fig.buttons['Zoom'].classList.remove('active');\n",
       "    }\n",
       "};\n",
       "\n",
       "mpl.figure.prototype.updated_canvas_event = function () {\n",
       "    // Called whenever the canvas gets updated.\n",
       "    this.send_message('ack', {});\n",
       "};\n",
       "\n",
       "// A function to construct a web socket function for onmessage handling.\n",
       "// Called in the figure constructor.\n",
       "mpl.figure.prototype._make_on_message_function = function (fig) {\n",
       "    return function socket_on_message(evt) {\n",
       "        if (evt.data instanceof Blob) {\n",
       "            /* FIXME: We get \"Resource interpreted as Image but\n",
       "             * transferred with MIME type text/plain:\" errors on\n",
       "             * Chrome.  But how to set the MIME type?  It doesn't seem\n",
       "             * to be part of the websocket stream */\n",
       "            evt.data.type = 'image/png';\n",
       "\n",
       "            /* Free the memory for the previous frames */\n",
       "            if (fig.imageObj.src) {\n",
       "                (window.URL || window.webkitURL).revokeObjectURL(\n",
       "                    fig.imageObj.src\n",
       "                );\n",
       "            }\n",
       "\n",
       "            fig.imageObj.src = (window.URL || window.webkitURL).createObjectURL(\n",
       "                evt.data\n",
       "            );\n",
       "            fig.updated_canvas_event();\n",
       "            fig.waiting = false;\n",
       "            return;\n",
       "        } else if (\n",
       "            typeof evt.data === 'string' &&\n",
       "            evt.data.slice(0, 21) === 'data:image/png;base64'\n",
       "        ) {\n",
       "            fig.imageObj.src = evt.data;\n",
       "            fig.updated_canvas_event();\n",
       "            fig.waiting = false;\n",
       "            return;\n",
       "        }\n",
       "\n",
       "        var msg = JSON.parse(evt.data);\n",
       "        var msg_type = msg['type'];\n",
       "\n",
       "        // Call the  \"handle_{type}\" callback, which takes\n",
       "        // the figure and JSON message as its only arguments.\n",
       "        try {\n",
       "            var callback = fig['handle_' + msg_type];\n",
       "        } catch (e) {\n",
       "            console.log(\n",
       "                \"No handler for the '\" + msg_type + \"' message type: \",\n",
       "                msg\n",
       "            );\n",
       "            return;\n",
       "        }\n",
       "\n",
       "        if (callback) {\n",
       "            try {\n",
       "                // console.log(\"Handling '\" + msg_type + \"' message: \", msg);\n",
       "                callback(fig, msg);\n",
       "            } catch (e) {\n",
       "                console.log(\n",
       "                    \"Exception inside the 'handler_\" + msg_type + \"' callback:\",\n",
       "                    e,\n",
       "                    e.stack,\n",
       "                    msg\n",
       "                );\n",
       "            }\n",
       "        }\n",
       "    };\n",
       "};\n",
       "\n",
       "// from http://stackoverflow.com/questions/1114465/getting-mouse-location-in-canvas\n",
       "mpl.findpos = function (e) {\n",
       "    //this section is from http://www.quirksmode.org/js/events_properties.html\n",
       "    var targ;\n",
       "    if (!e) {\n",
       "        e = window.event;\n",
       "    }\n",
       "    if (e.target) {\n",
       "        targ = e.target;\n",
       "    } else if (e.srcElement) {\n",
       "        targ = e.srcElement;\n",
       "    }\n",
       "    if (targ.nodeType === 3) {\n",
       "        // defeat Safari bug\n",
       "        targ = targ.parentNode;\n",
       "    }\n",
       "\n",
       "    // pageX,Y are the mouse positions relative to the document\n",
       "    var boundingRect = targ.getBoundingClientRect();\n",
       "    var x = e.pageX - (boundingRect.left + document.body.scrollLeft);\n",
       "    var y = e.pageY - (boundingRect.top + document.body.scrollTop);\n",
       "\n",
       "    return { x: x, y: y };\n",
       "};\n",
       "\n",
       "/*\n",
       " * return a copy of an object with only non-object keys\n",
       " * we need this to avoid circular references\n",
       " * http://stackoverflow.com/a/24161582/3208463\n",
       " */\n",
       "function simpleKeys(original) {\n",
       "    return Object.keys(original).reduce(function (obj, key) {\n",
       "        if (typeof original[key] !== 'object') {\n",
       "            obj[key] = original[key];\n",
       "        }\n",
       "        return obj;\n",
       "    }, {});\n",
       "}\n",
       "\n",
       "mpl.figure.prototype.mouse_event = function (event, name) {\n",
       "    var canvas_pos = mpl.findpos(event);\n",
       "\n",
       "    if (name === 'button_press') {\n",
       "        this.canvas.focus();\n",
       "        this.canvas_div.focus();\n",
       "    }\n",
       "\n",
       "    var x = canvas_pos.x * this.ratio;\n",
       "    var y = canvas_pos.y * this.ratio;\n",
       "\n",
       "    this.send_message(name, {\n",
       "        x: x,\n",
       "        y: y,\n",
       "        button: event.button,\n",
       "        step: event.step,\n",
       "        guiEvent: simpleKeys(event),\n",
       "    });\n",
       "\n",
       "    /* This prevents the web browser from automatically changing to\n",
       "     * the text insertion cursor when the button is pressed.  We want\n",
       "     * to control all of the cursor setting manually through the\n",
       "     * 'cursor' event from matplotlib */\n",
       "    event.preventDefault();\n",
       "    return false;\n",
       "};\n",
       "\n",
       "mpl.figure.prototype._key_event_extra = function (_event, _name) {\n",
       "    // Handle any extra behaviour associated with a key event\n",
       "};\n",
       "\n",
       "mpl.figure.prototype.key_event = function (event, name) {\n",
       "    // Prevent repeat events\n",
       "    if (name === 'key_press') {\n",
       "        if (event.which === this._key) {\n",
       "            return;\n",
       "        } else {\n",
       "            this._key = event.which;\n",
       "        }\n",
       "    }\n",
       "    if (name === 'key_release') {\n",
       "        this._key = null;\n",
       "    }\n",
       "\n",
       "    var value = '';\n",
       "    if (event.ctrlKey && event.which !== 17) {\n",
       "        value += 'ctrl+';\n",
       "    }\n",
       "    if (event.altKey && event.which !== 18) {\n",
       "        value += 'alt+';\n",
       "    }\n",
       "    if (event.shiftKey && event.which !== 16) {\n",
       "        value += 'shift+';\n",
       "    }\n",
       "\n",
       "    value += 'k';\n",
       "    value += event.which.toString();\n",
       "\n",
       "    this._key_event_extra(event, name);\n",
       "\n",
       "    this.send_message(name, { key: value, guiEvent: simpleKeys(event) });\n",
       "    return false;\n",
       "};\n",
       "\n",
       "mpl.figure.prototype.toolbar_button_onclick = function (name) {\n",
       "    if (name === 'download') {\n",
       "        this.handle_save(this, null);\n",
       "    } else {\n",
       "        this.send_message('toolbar_button', { name: name });\n",
       "    }\n",
       "};\n",
       "\n",
       "mpl.figure.prototype.toolbar_button_onmouseover = function (tooltip) {\n",
       "    this.message.textContent = tooltip;\n",
       "};\n",
       "mpl.toolbar_items = [[\"Home\", \"Reset original view\", \"fa fa-home icon-home\", \"home\"], [\"Back\", \"Back to previous view\", \"fa fa-arrow-left icon-arrow-left\", \"back\"], [\"Forward\", \"Forward to next view\", \"fa fa-arrow-right icon-arrow-right\", \"forward\"], [\"\", \"\", \"\", \"\"], [\"Pan\", \"Left button pans, Right button zooms\\nx/y fixes axis, CTRL fixes aspect\", \"fa fa-arrows icon-move\", \"pan\"], [\"Zoom\", \"Zoom to rectangle\\nx/y fixes axis, CTRL fixes aspect\", \"fa fa-square-o icon-check-empty\", \"zoom\"], [\"\", \"\", \"\", \"\"], [\"Download\", \"Download plot\", \"fa fa-floppy-o icon-save\", \"download\"]];\n",
       "\n",
       "mpl.extensions = [\"eps\", \"jpeg\", \"pdf\", \"png\", \"ps\", \"raw\", \"svg\", \"tif\"];\n",
       "\n",
       "mpl.default_extension = \"png\";/* global mpl */\n",
       "\n",
       "var comm_websocket_adapter = function (comm) {\n",
       "    // Create a \"websocket\"-like object which calls the given IPython comm\n",
       "    // object with the appropriate methods. Currently this is a non binary\n",
       "    // socket, so there is still some room for performance tuning.\n",
       "    var ws = {};\n",
       "\n",
       "    ws.close = function () {\n",
       "        comm.close();\n",
       "    };\n",
       "    ws.send = function (m) {\n",
       "        //console.log('sending', m);\n",
       "        comm.send(m);\n",
       "    };\n",
       "    // Register the callback with on_msg.\n",
       "    comm.on_msg(function (msg) {\n",
       "        //console.log('receiving', msg['content']['data'], msg);\n",
       "        // Pass the mpl event to the overridden (by mpl) onmessage function.\n",
       "        ws.onmessage(msg['content']['data']);\n",
       "    });\n",
       "    return ws;\n",
       "};\n",
       "\n",
       "mpl.mpl_figure_comm = function (comm, msg) {\n",
       "    // This is the function which gets called when the mpl process\n",
       "    // starts-up an IPython Comm through the \"matplotlib\" channel.\n",
       "\n",
       "    var id = msg.content.data.id;\n",
       "    // Get hold of the div created by the display call when the Comm\n",
       "    // socket was opened in Python.\n",
       "    var element = document.getElementById(id);\n",
       "    var ws_proxy = comm_websocket_adapter(comm);\n",
       "\n",
       "    function ondownload(figure, _format) {\n",
       "        window.open(figure.canvas.toDataURL());\n",
       "    }\n",
       "\n",
       "    var fig = new mpl.figure(id, ws_proxy, ondownload, element);\n",
       "\n",
       "    // Call onopen now - mpl needs it, as it is assuming we've passed it a real\n",
       "    // web socket which is closed, not our websocket->open comm proxy.\n",
       "    ws_proxy.onopen();\n",
       "\n",
       "    fig.parent_element = element;\n",
       "    fig.cell_info = mpl.find_output_cell(\"<div id='\" + id + \"'></div>\");\n",
       "    if (!fig.cell_info) {\n",
       "        console.error('Failed to find cell for figure', id, fig);\n",
       "        return;\n",
       "    }\n",
       "    fig.cell_info[0].output_area.element.one(\n",
       "        'cleared',\n",
       "        { fig: fig },\n",
       "        fig._remove_fig_handler\n",
       "    );\n",
       "};\n",
       "\n",
       "mpl.figure.prototype.handle_close = function (fig, msg) {\n",
       "    var width = fig.canvas.width / fig.ratio;\n",
       "    fig.cell_info[0].output_area.element.off(\n",
       "        'cleared',\n",
       "        fig._remove_fig_handler\n",
       "    );\n",
       "\n",
       "    // Update the output cell to use the data from the current canvas.\n",
       "    fig.push_to_output();\n",
       "    var dataURL = fig.canvas.toDataURL();\n",
       "    // Re-enable the keyboard manager in IPython - without this line, in FF,\n",
       "    // the notebook keyboard shortcuts fail.\n",
       "    IPython.keyboard_manager.enable();\n",
       "    fig.parent_element.innerHTML =\n",
       "        '<img src=\"' + dataURL + '\" width=\"' + width + '\">';\n",
       "    fig.close_ws(fig, msg);\n",
       "};\n",
       "\n",
       "mpl.figure.prototype.close_ws = function (fig, msg) {\n",
       "    fig.send_message('closing', msg);\n",
       "    // fig.ws.close()\n",
       "};\n",
       "\n",
       "mpl.figure.prototype.push_to_output = function (_remove_interactive) {\n",
       "    // Turn the data on the canvas into data in the output cell.\n",
       "    var width = this.canvas.width / this.ratio;\n",
       "    var dataURL = this.canvas.toDataURL();\n",
       "    this.cell_info[1]['text/html'] =\n",
       "        '<img src=\"' + dataURL + '\" width=\"' + width + '\">';\n",
       "};\n",
       "\n",
       "mpl.figure.prototype.updated_canvas_event = function () {\n",
       "    // Tell IPython that the notebook contents must change.\n",
       "    IPython.notebook.set_dirty(true);\n",
       "    this.send_message('ack', {});\n",
       "    var fig = this;\n",
       "    // Wait a second, then push the new image to the DOM so\n",
       "    // that it is saved nicely (might be nice to debounce this).\n",
       "    setTimeout(function () {\n",
       "        fig.push_to_output();\n",
       "    }, 1000);\n",
       "};\n",
       "\n",
       "mpl.figure.prototype._init_toolbar = function () {\n",
       "    var fig = this;\n",
       "\n",
       "    var toolbar = document.createElement('div');\n",
       "    toolbar.classList = 'btn-toolbar';\n",
       "    this.root.appendChild(toolbar);\n",
       "\n",
       "    function on_click_closure(name) {\n",
       "        return function (_event) {\n",
       "            return fig.toolbar_button_onclick(name);\n",
       "        };\n",
       "    }\n",
       "\n",
       "    function on_mouseover_closure(tooltip) {\n",
       "        return function (event) {\n",
       "            if (!event.currentTarget.disabled) {\n",
       "                return fig.toolbar_button_onmouseover(tooltip);\n",
       "            }\n",
       "        };\n",
       "    }\n",
       "\n",
       "    fig.buttons = {};\n",
       "    var buttonGroup = document.createElement('div');\n",
       "    buttonGroup.classList = 'btn-group';\n",
       "    var button;\n",
       "    for (var toolbar_ind in mpl.toolbar_items) {\n",
       "        var name = mpl.toolbar_items[toolbar_ind][0];\n",
       "        var tooltip = mpl.toolbar_items[toolbar_ind][1];\n",
       "        var image = mpl.toolbar_items[toolbar_ind][2];\n",
       "        var method_name = mpl.toolbar_items[toolbar_ind][3];\n",
       "\n",
       "        if (!name) {\n",
       "            /* Instead of a spacer, we start a new button group. */\n",
       "            if (buttonGroup.hasChildNodes()) {\n",
       "                toolbar.appendChild(buttonGroup);\n",
       "            }\n",
       "            buttonGroup = document.createElement('div');\n",
       "            buttonGroup.classList = 'btn-group';\n",
       "            continue;\n",
       "        }\n",
       "\n",
       "        button = fig.buttons[name] = document.createElement('button');\n",
       "        button.classList = 'btn btn-default';\n",
       "        button.href = '#';\n",
       "        button.title = name;\n",
       "        button.innerHTML = '<i class=\"fa ' + image + ' fa-lg\"></i>';\n",
       "        button.addEventListener('click', on_click_closure(method_name));\n",
       "        button.addEventListener('mouseover', on_mouseover_closure(tooltip));\n",
       "        buttonGroup.appendChild(button);\n",
       "    }\n",
       "\n",
       "    if (buttonGroup.hasChildNodes()) {\n",
       "        toolbar.appendChild(buttonGroup);\n",
       "    }\n",
       "\n",
       "    // Add the status bar.\n",
       "    var status_bar = document.createElement('span');\n",
       "    status_bar.classList = 'mpl-message pull-right';\n",
       "    toolbar.appendChild(status_bar);\n",
       "    this.message = status_bar;\n",
       "\n",
       "    // Add the close button to the window.\n",
       "    var buttongrp = document.createElement('div');\n",
       "    buttongrp.classList = 'btn-group inline pull-right';\n",
       "    button = document.createElement('button');\n",
       "    button.classList = 'btn btn-mini btn-primary';\n",
       "    button.href = '#';\n",
       "    button.title = 'Stop Interaction';\n",
       "    button.innerHTML = '<i class=\"fa fa-power-off icon-remove icon-large\"></i>';\n",
       "    button.addEventListener('click', function (_evt) {\n",
       "        fig.handle_close(fig, {});\n",
       "    });\n",
       "    button.addEventListener(\n",
       "        'mouseover',\n",
       "        on_mouseover_closure('Stop Interaction')\n",
       "    );\n",
       "    buttongrp.appendChild(button);\n",
       "    var titlebar = this.root.querySelector('.ui-dialog-titlebar');\n",
       "    titlebar.insertBefore(buttongrp, titlebar.firstChild);\n",
       "};\n",
       "\n",
       "mpl.figure.prototype._remove_fig_handler = function (event) {\n",
       "    var fig = event.data.fig;\n",
       "    fig.close_ws(fig, {});\n",
       "};\n",
       "\n",
       "mpl.figure.prototype._root_extra_style = function (el) {\n",
       "    el.style.boxSizing = 'content-box'; // override notebook setting of border-box.\n",
       "};\n",
       "\n",
       "mpl.figure.prototype._canvas_extra_style = function (el) {\n",
       "    // this is important to make the div 'focusable\n",
       "    el.setAttribute('tabindex', 0);\n",
       "    // reach out to IPython and tell the keyboard manager to turn it's self\n",
       "    // off when our div gets focus\n",
       "\n",
       "    // location in version 3\n",
       "    if (IPython.notebook.keyboard_manager) {\n",
       "        IPython.notebook.keyboard_manager.register_events(el);\n",
       "    } else {\n",
       "        // location in version 2\n",
       "        IPython.keyboard_manager.register_events(el);\n",
       "    }\n",
       "};\n",
       "\n",
       "mpl.figure.prototype._key_event_extra = function (event, _name) {\n",
       "    var manager = IPython.notebook.keyboard_manager;\n",
       "    if (!manager) {\n",
       "        manager = IPython.keyboard_manager;\n",
       "    }\n",
       "\n",
       "    // Check for shift+enter\n",
       "    if (event.shiftKey && event.which === 13) {\n",
       "        this.canvas_div.blur();\n",
       "        // select the cell after this one\n",
       "        var index = IPython.notebook.find_cell_index(this.cell_info[0]);\n",
       "        IPython.notebook.select(index + 1);\n",
       "    }\n",
       "};\n",
       "\n",
       "mpl.figure.prototype.handle_save = function (fig, _msg) {\n",
       "    fig.ondownload(fig, null);\n",
       "};\n",
       "\n",
       "mpl.find_output_cell = function (html_output) {\n",
       "    // Return the cell and output element which can be found *uniquely* in the notebook.\n",
       "    // Note - this is a bit hacky, but it is done because the \"notebook_saving.Notebook\"\n",
       "    // IPython event is triggered only after the cells have been serialised, which for\n",
       "    // our purposes (turning an active figure into a static one), is too late.\n",
       "    var cells = IPython.notebook.get_cells();\n",
       "    var ncells = cells.length;\n",
       "    for (var i = 0; i < ncells; i++) {\n",
       "        var cell = cells[i];\n",
       "        if (cell.cell_type === 'code') {\n",
       "            for (var j = 0; j < cell.output_area.outputs.length; j++) {\n",
       "                var data = cell.output_area.outputs[j];\n",
       "                if (data.data) {\n",
       "                    // IPython >= 3 moved mimebundle to data attribute of output\n",
       "                    data = data.data;\n",
       "                }\n",
       "                if (data['text/html'] === html_output) {\n",
       "                    return [cell, data, j];\n",
       "                }\n",
       "            }\n",
       "        }\n",
       "    }\n",
       "};\n",
       "\n",
       "// Register the function which deals with the matplotlib target/channel.\n",
       "// The kernel may be null if the page has been refreshed.\n",
       "if (IPython.notebook.kernel !== null) {\n",
       "    IPython.notebook.kernel.comm_manager.register_target(\n",
       "        'matplotlib',\n",
       "        mpl.mpl_figure_comm\n",
       "    );\n",
       "}\n"
      ],
      "text/plain": [
       "<IPython.core.display.Javascript object>"
      ]
     },
     "metadata": {},
     "output_type": "display_data"
    },
    {
     "data": {
      "text/html": [
       "<img src=\"data:image/png;base64,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\" width=\"864\">"
      ],
      "text/plain": [
       "<IPython.core.display.HTML object>"
      ]
     },
     "metadata": {},
     "output_type": "display_data"
    }
   ],
   "source": [
    "ei_plot = ei_acquisition.evaluate(x_plot_eval)\n",
    "pof_plot = pof_acquisition.evaluate(x_plot_eval)\n",
    "composite_plot = composite_acquisition.evaluate(x_plot_eval)\n",
    "plot_acquisition(X[:,dim_to_plot[0]].squeeze(), X[:,dim_to_plot[1]].squeeze(), \n",
    "                 x_plot, ei_plot.squeeze(), pof_plot.squeeze(), composite_plot.squeeze())"
   ]
  },
  {
   "cell_type": "code",
   "execution_count": null,
   "metadata": {},
   "outputs": [],
   "source": [
    "# # Only for 3D\n",
    "# pof_plot_3d = pof_acquisition.evaluate(x_plot_3d)\n",
    "# plot_pof_3d(X[:,0].squeeze(), X[:,1].squeeze(), X[:,2].squeeze(), x_plot_3d, pof_plot_3d.squeeze())"
   ]
  },
  {
   "cell_type": "code",
   "execution_count": 20,
   "metadata": {},
   "outputs": [
    {
     "name": "stdout",
     "output_type": "stream",
     "text": [
      "104\n",
      "[1.01454103]\n",
      "[4.00000000e+00 5.00000000e+00 2.74636433e-03 0.00000000e+00\n",
      " 1.92950028e-01 3.86207042e-01 1.36365272e-01 1.00000000e+00]\n",
      "[-0.7529077]\n"
     ]
    }
   ],
   "source": [
    "min_idx = 0\n",
    "# Note that inf is not a good idea\n",
    "min_val = float('inf')\n",
    "min_val_list = []\n",
    "for idx, val in enumerate(Y):\n",
    "    # Could allow a little overspend by changing 0 to the value\n",
    "    if val < min_val and Yc[idx] < 0:\n",
    "        min_idx = idx\n",
    "        min_val = val\n",
    "    min_val_list.append(min_val)\n",
    "print (min_idx)\n",
    "print (Y[min_idx])\n",
    "print (X[min_idx])\n",
    "print (Yc[min_idx])"
   ]
  },
  {
   "cell_type": "code",
   "execution_count": 21,
   "metadata": {},
   "outputs": [
    {
     "data": {
      "application/javascript": [
       "/* Put everything inside the global mpl namespace */\n",
       "/* global mpl */\n",
       "window.mpl = {};\n",
       "\n",
       "mpl.get_websocket_type = function () {\n",
       "    if (typeof WebSocket !== 'undefined') {\n",
       "        return WebSocket;\n",
       "    } else if (typeof MozWebSocket !== 'undefined') {\n",
       "        return MozWebSocket;\n",
       "    } else {\n",
       "        alert(\n",
       "            'Your browser does not have WebSocket support. ' +\n",
       "                'Please try Chrome, Safari or Firefox ≥ 6. ' +\n",
       "                'Firefox 4 and 5 are also supported but you ' +\n",
       "                'have to enable WebSockets in about:config.'\n",
       "        );\n",
       "    }\n",
       "};\n",
       "\n",
       "mpl.figure = function (figure_id, websocket, ondownload, parent_element) {\n",
       "    this.id = figure_id;\n",
       "\n",
       "    this.ws = websocket;\n",
       "\n",
       "    this.supports_binary = this.ws.binaryType !== undefined;\n",
       "\n",
       "    if (!this.supports_binary) {\n",
       "        var warnings = document.getElementById('mpl-warnings');\n",
       "        if (warnings) {\n",
       "            warnings.style.display = 'block';\n",
       "            warnings.textContent =\n",
       "                'This browser does not support binary websocket messages. ' +\n",
       "                'Performance may be slow.';\n",
       "        }\n",
       "    }\n",
       "\n",
       "    this.imageObj = new Image();\n",
       "\n",
       "    this.context = undefined;\n",
       "    this.message = undefined;\n",
       "    this.canvas = undefined;\n",
       "    this.rubberband_canvas = undefined;\n",
       "    this.rubberband_context = undefined;\n",
       "    this.format_dropdown = undefined;\n",
       "\n",
       "    this.image_mode = 'full';\n",
       "\n",
       "    this.root = document.createElement('div');\n",
       "    this.root.setAttribute('style', 'display: inline-block');\n",
       "    this._root_extra_style(this.root);\n",
       "\n",
       "    parent_element.appendChild(this.root);\n",
       "\n",
       "    this._init_header(this);\n",
       "    this._init_canvas(this);\n",
       "    this._init_toolbar(this);\n",
       "\n",
       "    var fig = this;\n",
       "\n",
       "    this.waiting = false;\n",
       "\n",
       "    this.ws.onopen = function () {\n",
       "        fig.send_message('supports_binary', { value: fig.supports_binary });\n",
       "        fig.send_message('send_image_mode', {});\n",
       "        if (fig.ratio !== 1) {\n",
       "            fig.send_message('set_dpi_ratio', { dpi_ratio: fig.ratio });\n",
       "        }\n",
       "        fig.send_message('refresh', {});\n",
       "    };\n",
       "\n",
       "    this.imageObj.onload = function () {\n",
       "        if (fig.image_mode === 'full') {\n",
       "            // Full images could contain transparency (where diff images\n",
       "            // almost always do), so we need to clear the canvas so that\n",
       "            // there is no ghosting.\n",
       "            fig.context.clearRect(0, 0, fig.canvas.width, fig.canvas.height);\n",
       "        }\n",
       "        fig.context.drawImage(fig.imageObj, 0, 0);\n",
       "    };\n",
       "\n",
       "    this.imageObj.onunload = function () {\n",
       "        fig.ws.close();\n",
       "    };\n",
       "\n",
       "    this.ws.onmessage = this._make_on_message_function(this);\n",
       "\n",
       "    this.ondownload = ondownload;\n",
       "};\n",
       "\n",
       "mpl.figure.prototype._init_header = function () {\n",
       "    var titlebar = document.createElement('div');\n",
       "    titlebar.classList =\n",
       "        'ui-dialog-titlebar ui-widget-header ui-corner-all ui-helper-clearfix';\n",
       "    var titletext = document.createElement('div');\n",
       "    titletext.classList = 'ui-dialog-title';\n",
       "    titletext.setAttribute(\n",
       "        'style',\n",
       "        'width: 100%; text-align: center; padding: 3px;'\n",
       "    );\n",
       "    titlebar.appendChild(titletext);\n",
       "    this.root.appendChild(titlebar);\n",
       "    this.header = titletext;\n",
       "};\n",
       "\n",
       "mpl.figure.prototype._canvas_extra_style = function (_canvas_div) {};\n",
       "\n",
       "mpl.figure.prototype._root_extra_style = function (_canvas_div) {};\n",
       "\n",
       "mpl.figure.prototype._init_canvas = function () {\n",
       "    var fig = this;\n",
       "\n",
       "    var canvas_div = (this.canvas_div = document.createElement('div'));\n",
       "    canvas_div.setAttribute(\n",
       "        'style',\n",
       "        'border: 1px solid #ddd;' +\n",
       "            'box-sizing: content-box;' +\n",
       "            'clear: both;' +\n",
       "            'min-height: 1px;' +\n",
       "            'min-width: 1px;' +\n",
       "            'outline: 0;' +\n",
       "            'overflow: hidden;' +\n",
       "            'position: relative;' +\n",
       "            'resize: both;'\n",
       "    );\n",
       "\n",
       "    function on_keyboard_event_closure(name) {\n",
       "        return function (event) {\n",
       "            return fig.key_event(event, name);\n",
       "        };\n",
       "    }\n",
       "\n",
       "    canvas_div.addEventListener(\n",
       "        'keydown',\n",
       "        on_keyboard_event_closure('key_press')\n",
       "    );\n",
       "    canvas_div.addEventListener(\n",
       "        'keyup',\n",
       "        on_keyboard_event_closure('key_release')\n",
       "    );\n",
       "\n",
       "    this._canvas_extra_style(canvas_div);\n",
       "    this.root.appendChild(canvas_div);\n",
       "\n",
       "    var canvas = (this.canvas = document.createElement('canvas'));\n",
       "    canvas.classList.add('mpl-canvas');\n",
       "    canvas.setAttribute('style', 'box-sizing: content-box;');\n",
       "\n",
       "    this.context = canvas.getContext('2d');\n",
       "\n",
       "    var backingStore =\n",
       "        this.context.backingStorePixelRatio ||\n",
       "        this.context.webkitBackingStorePixelRatio ||\n",
       "        this.context.mozBackingStorePixelRatio ||\n",
       "        this.context.msBackingStorePixelRatio ||\n",
       "        this.context.oBackingStorePixelRatio ||\n",
       "        this.context.backingStorePixelRatio ||\n",
       "        1;\n",
       "\n",
       "    this.ratio = (window.devicePixelRatio || 1) / backingStore;\n",
       "    if (this.ratio !== 1) {\n",
       "        fig.send_message('set_dpi_ratio', { dpi_ratio: this.ratio });\n",
       "    }\n",
       "\n",
       "    var rubberband_canvas = (this.rubberband_canvas = document.createElement(\n",
       "        'canvas'\n",
       "    ));\n",
       "    rubberband_canvas.setAttribute(\n",
       "        'style',\n",
       "        'box-sizing: content-box; position: absolute; left: 0; top: 0; z-index: 1;'\n",
       "    );\n",
       "\n",
       "    var resizeObserver = new ResizeObserver(function (entries) {\n",
       "        var nentries = entries.length;\n",
       "        for (var i = 0; i < nentries; i++) {\n",
       "            var entry = entries[i];\n",
       "            var width, height;\n",
       "            if (entry.contentBoxSize) {\n",
       "                if (entry.contentBoxSize instanceof Array) {\n",
       "                    // Chrome 84 implements new version of spec.\n",
       "                    width = entry.contentBoxSize[0].inlineSize;\n",
       "                    height = entry.contentBoxSize[0].blockSize;\n",
       "                } else {\n",
       "                    // Firefox implements old version of spec.\n",
       "                    width = entry.contentBoxSize.inlineSize;\n",
       "                    height = entry.contentBoxSize.blockSize;\n",
       "                }\n",
       "            } else {\n",
       "                // Chrome <84 implements even older version of spec.\n",
       "                width = entry.contentRect.width;\n",
       "                height = entry.contentRect.height;\n",
       "            }\n",
       "\n",
       "            // Keep the size of the canvas and rubber band canvas in sync with\n",
       "            // the canvas container.\n",
       "            if (entry.devicePixelContentBoxSize) {\n",
       "                // Chrome 84 implements new version of spec.\n",
       "                canvas.setAttribute(\n",
       "                    'width',\n",
       "                    entry.devicePixelContentBoxSize[0].inlineSize\n",
       "                );\n",
       "                canvas.setAttribute(\n",
       "                    'height',\n",
       "                    entry.devicePixelContentBoxSize[0].blockSize\n",
       "                );\n",
       "            } else {\n",
       "                canvas.setAttribute('width', width * fig.ratio);\n",
       "                canvas.setAttribute('height', height * fig.ratio);\n",
       "            }\n",
       "            canvas.setAttribute(\n",
       "                'style',\n",
       "                'width: ' + width + 'px; height: ' + height + 'px;'\n",
       "            );\n",
       "\n",
       "            rubberband_canvas.setAttribute('width', width);\n",
       "            rubberband_canvas.setAttribute('height', height);\n",
       "\n",
       "            // And update the size in Python. We ignore the initial 0/0 size\n",
       "            // that occurs as the element is placed into the DOM, which should\n",
       "            // otherwise not happen due to the minimum size styling.\n",
       "            if (width != 0 && height != 0) {\n",
       "                fig.request_resize(width, height);\n",
       "            }\n",
       "        }\n",
       "    });\n",
       "    resizeObserver.observe(canvas_div);\n",
       "\n",
       "    function on_mouse_event_closure(name) {\n",
       "        return function (event) {\n",
       "            return fig.mouse_event(event, name);\n",
       "        };\n",
       "    }\n",
       "\n",
       "    rubberband_canvas.addEventListener(\n",
       "        'mousedown',\n",
       "        on_mouse_event_closure('button_press')\n",
       "    );\n",
       "    rubberband_canvas.addEventListener(\n",
       "        'mouseup',\n",
       "        on_mouse_event_closure('button_release')\n",
       "    );\n",
       "    // Throttle sequential mouse events to 1 every 20ms.\n",
       "    rubberband_canvas.addEventListener(\n",
       "        'mousemove',\n",
       "        on_mouse_event_closure('motion_notify')\n",
       "    );\n",
       "\n",
       "    rubberband_canvas.addEventListener(\n",
       "        'mouseenter',\n",
       "        on_mouse_event_closure('figure_enter')\n",
       "    );\n",
       "    rubberband_canvas.addEventListener(\n",
       "        'mouseleave',\n",
       "        on_mouse_event_closure('figure_leave')\n",
       "    );\n",
       "\n",
       "    canvas_div.addEventListener('wheel', function (event) {\n",
       "        if (event.deltaY < 0) {\n",
       "            event.step = 1;\n",
       "        } else {\n",
       "            event.step = -1;\n",
       "        }\n",
       "        on_mouse_event_closure('scroll')(event);\n",
       "    });\n",
       "\n",
       "    canvas_div.appendChild(canvas);\n",
       "    canvas_div.appendChild(rubberband_canvas);\n",
       "\n",
       "    this.rubberband_context = rubberband_canvas.getContext('2d');\n",
       "    this.rubberband_context.strokeStyle = '#000000';\n",
       "\n",
       "    this._resize_canvas = function (width, height, forward) {\n",
       "        if (forward) {\n",
       "            canvas_div.style.width = width + 'px';\n",
       "            canvas_div.style.height = height + 'px';\n",
       "        }\n",
       "    };\n",
       "\n",
       "    // Disable right mouse context menu.\n",
       "    this.rubberband_canvas.addEventListener('contextmenu', function (_e) {\n",
       "        event.preventDefault();\n",
       "        return false;\n",
       "    });\n",
       "\n",
       "    function set_focus() {\n",
       "        canvas.focus();\n",
       "        canvas_div.focus();\n",
       "    }\n",
       "\n",
       "    window.setTimeout(set_focus, 100);\n",
       "};\n",
       "\n",
       "mpl.figure.prototype._init_toolbar = function () {\n",
       "    var fig = this;\n",
       "\n",
       "    var toolbar = document.createElement('div');\n",
       "    toolbar.classList = 'mpl-toolbar';\n",
       "    this.root.appendChild(toolbar);\n",
       "\n",
       "    function on_click_closure(name) {\n",
       "        return function (_event) {\n",
       "            return fig.toolbar_button_onclick(name);\n",
       "        };\n",
       "    }\n",
       "\n",
       "    function on_mouseover_closure(tooltip) {\n",
       "        return function (event) {\n",
       "            if (!event.currentTarget.disabled) {\n",
       "                return fig.toolbar_button_onmouseover(tooltip);\n",
       "            }\n",
       "        };\n",
       "    }\n",
       "\n",
       "    fig.buttons = {};\n",
       "    var buttonGroup = document.createElement('div');\n",
       "    buttonGroup.classList = 'mpl-button-group';\n",
       "    for (var toolbar_ind in mpl.toolbar_items) {\n",
       "        var name = mpl.toolbar_items[toolbar_ind][0];\n",
       "        var tooltip = mpl.toolbar_items[toolbar_ind][1];\n",
       "        var image = mpl.toolbar_items[toolbar_ind][2];\n",
       "        var method_name = mpl.toolbar_items[toolbar_ind][3];\n",
       "\n",
       "        if (!name) {\n",
       "            /* Instead of a spacer, we start a new button group. */\n",
       "            if (buttonGroup.hasChildNodes()) {\n",
       "                toolbar.appendChild(buttonGroup);\n",
       "            }\n",
       "            buttonGroup = document.createElement('div');\n",
       "            buttonGroup.classList = 'mpl-button-group';\n",
       "            continue;\n",
       "        }\n",
       "\n",
       "        var button = (fig.buttons[name] = document.createElement('button'));\n",
       "        button.classList = 'mpl-widget';\n",
       "        button.setAttribute('role', 'button');\n",
       "        button.setAttribute('aria-disabled', 'false');\n",
       "        button.addEventListener('click', on_click_closure(method_name));\n",
       "        button.addEventListener('mouseover', on_mouseover_closure(tooltip));\n",
       "\n",
       "        var icon_img = document.createElement('img');\n",
       "        icon_img.src = '_images/' + image + '.png';\n",
       "        icon_img.srcset = '_images/' + image + '_large.png 2x';\n",
       "        icon_img.alt = tooltip;\n",
       "        button.appendChild(icon_img);\n",
       "\n",
       "        buttonGroup.appendChild(button);\n",
       "    }\n",
       "\n",
       "    if (buttonGroup.hasChildNodes()) {\n",
       "        toolbar.appendChild(buttonGroup);\n",
       "    }\n",
       "\n",
       "    var fmt_picker = document.createElement('select');\n",
       "    fmt_picker.classList = 'mpl-widget';\n",
       "    toolbar.appendChild(fmt_picker);\n",
       "    this.format_dropdown = fmt_picker;\n",
       "\n",
       "    for (var ind in mpl.extensions) {\n",
       "        var fmt = mpl.extensions[ind];\n",
       "        var option = document.createElement('option');\n",
       "        option.selected = fmt === mpl.default_extension;\n",
       "        option.innerHTML = fmt;\n",
       "        fmt_picker.appendChild(option);\n",
       "    }\n",
       "\n",
       "    var status_bar = document.createElement('span');\n",
       "    status_bar.classList = 'mpl-message';\n",
       "    toolbar.appendChild(status_bar);\n",
       "    this.message = status_bar;\n",
       "};\n",
       "\n",
       "mpl.figure.prototype.request_resize = function (x_pixels, y_pixels) {\n",
       "    // Request matplotlib to resize the figure. Matplotlib will then trigger a resize in the client,\n",
       "    // which will in turn request a refresh of the image.\n",
       "    this.send_message('resize', { width: x_pixels, height: y_pixels });\n",
       "};\n",
       "\n",
       "mpl.figure.prototype.send_message = function (type, properties) {\n",
       "    properties['type'] = type;\n",
       "    properties['figure_id'] = this.id;\n",
       "    this.ws.send(JSON.stringify(properties));\n",
       "};\n",
       "\n",
       "mpl.figure.prototype.send_draw_message = function () {\n",
       "    if (!this.waiting) {\n",
       "        this.waiting = true;\n",
       "        this.ws.send(JSON.stringify({ type: 'draw', figure_id: this.id }));\n",
       "    }\n",
       "};\n",
       "\n",
       "mpl.figure.prototype.handle_save = function (fig, _msg) {\n",
       "    var format_dropdown = fig.format_dropdown;\n",
       "    var format = format_dropdown.options[format_dropdown.selectedIndex].value;\n",
       "    fig.ondownload(fig, format);\n",
       "};\n",
       "\n",
       "mpl.figure.prototype.handle_resize = function (fig, msg) {\n",
       "    var size = msg['size'];\n",
       "    if (size[0] !== fig.canvas.width || size[1] !== fig.canvas.height) {\n",
       "        fig._resize_canvas(size[0], size[1], msg['forward']);\n",
       "        fig.send_message('refresh', {});\n",
       "    }\n",
       "};\n",
       "\n",
       "mpl.figure.prototype.handle_rubberband = function (fig, msg) {\n",
       "    var x0 = msg['x0'] / fig.ratio;\n",
       "    var y0 = (fig.canvas.height - msg['y0']) / fig.ratio;\n",
       "    var x1 = msg['x1'] / fig.ratio;\n",
       "    var y1 = (fig.canvas.height - msg['y1']) / fig.ratio;\n",
       "    x0 = Math.floor(x0) + 0.5;\n",
       "    y0 = Math.floor(y0) + 0.5;\n",
       "    x1 = Math.floor(x1) + 0.5;\n",
       "    y1 = Math.floor(y1) + 0.5;\n",
       "    var min_x = Math.min(x0, x1);\n",
       "    var min_y = Math.min(y0, y1);\n",
       "    var width = Math.abs(x1 - x0);\n",
       "    var height = Math.abs(y1 - y0);\n",
       "\n",
       "    fig.rubberband_context.clearRect(\n",
       "        0,\n",
       "        0,\n",
       "        fig.canvas.width / fig.ratio,\n",
       "        fig.canvas.height / fig.ratio\n",
       "    );\n",
       "\n",
       "    fig.rubberband_context.strokeRect(min_x, min_y, width, height);\n",
       "};\n",
       "\n",
       "mpl.figure.prototype.handle_figure_label = function (fig, msg) {\n",
       "    // Updates the figure title.\n",
       "    fig.header.textContent = msg['label'];\n",
       "};\n",
       "\n",
       "mpl.figure.prototype.handle_cursor = function (fig, msg) {\n",
       "    var cursor = msg['cursor'];\n",
       "    switch (cursor) {\n",
       "        case 0:\n",
       "            cursor = 'pointer';\n",
       "            break;\n",
       "        case 1:\n",
       "            cursor = 'default';\n",
       "            break;\n",
       "        case 2:\n",
       "            cursor = 'crosshair';\n",
       "            break;\n",
       "        case 3:\n",
       "            cursor = 'move';\n",
       "            break;\n",
       "    }\n",
       "    fig.rubberband_canvas.style.cursor = cursor;\n",
       "};\n",
       "\n",
       "mpl.figure.prototype.handle_message = function (fig, msg) {\n",
       "    fig.message.textContent = msg['message'];\n",
       "};\n",
       "\n",
       "mpl.figure.prototype.handle_draw = function (fig, _msg) {\n",
       "    // Request the server to send over a new figure.\n",
       "    fig.send_draw_message();\n",
       "};\n",
       "\n",
       "mpl.figure.prototype.handle_image_mode = function (fig, msg) {\n",
       "    fig.image_mode = msg['mode'];\n",
       "};\n",
       "\n",
       "mpl.figure.prototype.handle_history_buttons = function (fig, msg) {\n",
       "    for (var key in msg) {\n",
       "        if (!(key in fig.buttons)) {\n",
       "            continue;\n",
       "        }\n",
       "        fig.buttons[key].disabled = !msg[key];\n",
       "        fig.buttons[key].setAttribute('aria-disabled', !msg[key]);\n",
       "    }\n",
       "};\n",
       "\n",
       "mpl.figure.prototype.handle_navigate_mode = function (fig, msg) {\n",
       "    if (msg['mode'] === 'PAN') {\n",
       "        fig.buttons['Pan'].classList.add('active');\n",
       "        fig.buttons['Zoom'].classList.remove('active');\n",
       "    } else if (msg['mode'] === 'ZOOM') {\n",
       "        fig.buttons['Pan'].classList.remove('active');\n",
       "        fig.buttons['Zoom'].classList.add('active');\n",
       "    } else {\n",
       "        fig.buttons['Pan'].classList.remove('active');\n",
       "        fig.buttons['Zoom'].classList.remove('active');\n",
       "    }\n",
       "};\n",
       "\n",
       "mpl.figure.prototype.updated_canvas_event = function () {\n",
       "    // Called whenever the canvas gets updated.\n",
       "    this.send_message('ack', {});\n",
       "};\n",
       "\n",
       "// A function to construct a web socket function for onmessage handling.\n",
       "// Called in the figure constructor.\n",
       "mpl.figure.prototype._make_on_message_function = function (fig) {\n",
       "    return function socket_on_message(evt) {\n",
       "        if (evt.data instanceof Blob) {\n",
       "            /* FIXME: We get \"Resource interpreted as Image but\n",
       "             * transferred with MIME type text/plain:\" errors on\n",
       "             * Chrome.  But how to set the MIME type?  It doesn't seem\n",
       "             * to be part of the websocket stream */\n",
       "            evt.data.type = 'image/png';\n",
       "\n",
       "            /* Free the memory for the previous frames */\n",
       "            if (fig.imageObj.src) {\n",
       "                (window.URL || window.webkitURL).revokeObjectURL(\n",
       "                    fig.imageObj.src\n",
       "                );\n",
       "            }\n",
       "\n",
       "            fig.imageObj.src = (window.URL || window.webkitURL).createObjectURL(\n",
       "                evt.data\n",
       "            );\n",
       "            fig.updated_canvas_event();\n",
       "            fig.waiting = false;\n",
       "            return;\n",
       "        } else if (\n",
       "            typeof evt.data === 'string' &&\n",
       "            evt.data.slice(0, 21) === 'data:image/png;base64'\n",
       "        ) {\n",
       "            fig.imageObj.src = evt.data;\n",
       "            fig.updated_canvas_event();\n",
       "            fig.waiting = false;\n",
       "            return;\n",
       "        }\n",
       "\n",
       "        var msg = JSON.parse(evt.data);\n",
       "        var msg_type = msg['type'];\n",
       "\n",
       "        // Call the  \"handle_{type}\" callback, which takes\n",
       "        // the figure and JSON message as its only arguments.\n",
       "        try {\n",
       "            var callback = fig['handle_' + msg_type];\n",
       "        } catch (e) {\n",
       "            console.log(\n",
       "                \"No handler for the '\" + msg_type + \"' message type: \",\n",
       "                msg\n",
       "            );\n",
       "            return;\n",
       "        }\n",
       "\n",
       "        if (callback) {\n",
       "            try {\n",
       "                // console.log(\"Handling '\" + msg_type + \"' message: \", msg);\n",
       "                callback(fig, msg);\n",
       "            } catch (e) {\n",
       "                console.log(\n",
       "                    \"Exception inside the 'handler_\" + msg_type + \"' callback:\",\n",
       "                    e,\n",
       "                    e.stack,\n",
       "                    msg\n",
       "                );\n",
       "            }\n",
       "        }\n",
       "    };\n",
       "};\n",
       "\n",
       "// from http://stackoverflow.com/questions/1114465/getting-mouse-location-in-canvas\n",
       "mpl.findpos = function (e) {\n",
       "    //this section is from http://www.quirksmode.org/js/events_properties.html\n",
       "    var targ;\n",
       "    if (!e) {\n",
       "        e = window.event;\n",
       "    }\n",
       "    if (e.target) {\n",
       "        targ = e.target;\n",
       "    } else if (e.srcElement) {\n",
       "        targ = e.srcElement;\n",
       "    }\n",
       "    if (targ.nodeType === 3) {\n",
       "        // defeat Safari bug\n",
       "        targ = targ.parentNode;\n",
       "    }\n",
       "\n",
       "    // pageX,Y are the mouse positions relative to the document\n",
       "    var boundingRect = targ.getBoundingClientRect();\n",
       "    var x = e.pageX - (boundingRect.left + document.body.scrollLeft);\n",
       "    var y = e.pageY - (boundingRect.top + document.body.scrollTop);\n",
       "\n",
       "    return { x: x, y: y };\n",
       "};\n",
       "\n",
       "/*\n",
       " * return a copy of an object with only non-object keys\n",
       " * we need this to avoid circular references\n",
       " * http://stackoverflow.com/a/24161582/3208463\n",
       " */\n",
       "function simpleKeys(original) {\n",
       "    return Object.keys(original).reduce(function (obj, key) {\n",
       "        if (typeof original[key] !== 'object') {\n",
       "            obj[key] = original[key];\n",
       "        }\n",
       "        return obj;\n",
       "    }, {});\n",
       "}\n",
       "\n",
       "mpl.figure.prototype.mouse_event = function (event, name) {\n",
       "    var canvas_pos = mpl.findpos(event);\n",
       "\n",
       "    if (name === 'button_press') {\n",
       "        this.canvas.focus();\n",
       "        this.canvas_div.focus();\n",
       "    }\n",
       "\n",
       "    var x = canvas_pos.x * this.ratio;\n",
       "    var y = canvas_pos.y * this.ratio;\n",
       "\n",
       "    this.send_message(name, {\n",
       "        x: x,\n",
       "        y: y,\n",
       "        button: event.button,\n",
       "        step: event.step,\n",
       "        guiEvent: simpleKeys(event),\n",
       "    });\n",
       "\n",
       "    /* This prevents the web browser from automatically changing to\n",
       "     * the text insertion cursor when the button is pressed.  We want\n",
       "     * to control all of the cursor setting manually through the\n",
       "     * 'cursor' event from matplotlib */\n",
       "    event.preventDefault();\n",
       "    return false;\n",
       "};\n",
       "\n",
       "mpl.figure.prototype._key_event_extra = function (_event, _name) {\n",
       "    // Handle any extra behaviour associated with a key event\n",
       "};\n",
       "\n",
       "mpl.figure.prototype.key_event = function (event, name) {\n",
       "    // Prevent repeat events\n",
       "    if (name === 'key_press') {\n",
       "        if (event.which === this._key) {\n",
       "            return;\n",
       "        } else {\n",
       "            this._key = event.which;\n",
       "        }\n",
       "    }\n",
       "    if (name === 'key_release') {\n",
       "        this._key = null;\n",
       "    }\n",
       "\n",
       "    var value = '';\n",
       "    if (event.ctrlKey && event.which !== 17) {\n",
       "        value += 'ctrl+';\n",
       "    }\n",
       "    if (event.altKey && event.which !== 18) {\n",
       "        value += 'alt+';\n",
       "    }\n",
       "    if (event.shiftKey && event.which !== 16) {\n",
       "        value += 'shift+';\n",
       "    }\n",
       "\n",
       "    value += 'k';\n",
       "    value += event.which.toString();\n",
       "\n",
       "    this._key_event_extra(event, name);\n",
       "\n",
       "    this.send_message(name, { key: value, guiEvent: simpleKeys(event) });\n",
       "    return false;\n",
       "};\n",
       "\n",
       "mpl.figure.prototype.toolbar_button_onclick = function (name) {\n",
       "    if (name === 'download') {\n",
       "        this.handle_save(this, null);\n",
       "    } else {\n",
       "        this.send_message('toolbar_button', { name: name });\n",
       "    }\n",
       "};\n",
       "\n",
       "mpl.figure.prototype.toolbar_button_onmouseover = function (tooltip) {\n",
       "    this.message.textContent = tooltip;\n",
       "};\n",
       "mpl.toolbar_items = [[\"Home\", \"Reset original view\", \"fa fa-home icon-home\", \"home\"], [\"Back\", \"Back to previous view\", \"fa fa-arrow-left icon-arrow-left\", \"back\"], [\"Forward\", \"Forward to next view\", \"fa fa-arrow-right icon-arrow-right\", \"forward\"], [\"\", \"\", \"\", \"\"], [\"Pan\", \"Left button pans, Right button zooms\\nx/y fixes axis, CTRL fixes aspect\", \"fa fa-arrows icon-move\", \"pan\"], [\"Zoom\", \"Zoom to rectangle\\nx/y fixes axis, CTRL fixes aspect\", \"fa fa-square-o icon-check-empty\", \"zoom\"], [\"\", \"\", \"\", \"\"], [\"Download\", \"Download plot\", \"fa fa-floppy-o icon-save\", \"download\"]];\n",
       "\n",
       "mpl.extensions = [\"eps\", \"jpeg\", \"pdf\", \"png\", \"ps\", \"raw\", \"svg\", \"tif\"];\n",
       "\n",
       "mpl.default_extension = \"png\";/* global mpl */\n",
       "\n",
       "var comm_websocket_adapter = function (comm) {\n",
       "    // Create a \"websocket\"-like object which calls the given IPython comm\n",
       "    // object with the appropriate methods. Currently this is a non binary\n",
       "    // socket, so there is still some room for performance tuning.\n",
       "    var ws = {};\n",
       "\n",
       "    ws.close = function () {\n",
       "        comm.close();\n",
       "    };\n",
       "    ws.send = function (m) {\n",
       "        //console.log('sending', m);\n",
       "        comm.send(m);\n",
       "    };\n",
       "    // Register the callback with on_msg.\n",
       "    comm.on_msg(function (msg) {\n",
       "        //console.log('receiving', msg['content']['data'], msg);\n",
       "        // Pass the mpl event to the overridden (by mpl) onmessage function.\n",
       "        ws.onmessage(msg['content']['data']);\n",
       "    });\n",
       "    return ws;\n",
       "};\n",
       "\n",
       "mpl.mpl_figure_comm = function (comm, msg) {\n",
       "    // This is the function which gets called when the mpl process\n",
       "    // starts-up an IPython Comm through the \"matplotlib\" channel.\n",
       "\n",
       "    var id = msg.content.data.id;\n",
       "    // Get hold of the div created by the display call when the Comm\n",
       "    // socket was opened in Python.\n",
       "    var element = document.getElementById(id);\n",
       "    var ws_proxy = comm_websocket_adapter(comm);\n",
       "\n",
       "    function ondownload(figure, _format) {\n",
       "        window.open(figure.canvas.toDataURL());\n",
       "    }\n",
       "\n",
       "    var fig = new mpl.figure(id, ws_proxy, ondownload, element);\n",
       "\n",
       "    // Call onopen now - mpl needs it, as it is assuming we've passed it a real\n",
       "    // web socket which is closed, not our websocket->open comm proxy.\n",
       "    ws_proxy.onopen();\n",
       "\n",
       "    fig.parent_element = element;\n",
       "    fig.cell_info = mpl.find_output_cell(\"<div id='\" + id + \"'></div>\");\n",
       "    if (!fig.cell_info) {\n",
       "        console.error('Failed to find cell for figure', id, fig);\n",
       "        return;\n",
       "    }\n",
       "    fig.cell_info[0].output_area.element.one(\n",
       "        'cleared',\n",
       "        { fig: fig },\n",
       "        fig._remove_fig_handler\n",
       "    );\n",
       "};\n",
       "\n",
       "mpl.figure.prototype.handle_close = function (fig, msg) {\n",
       "    var width = fig.canvas.width / fig.ratio;\n",
       "    fig.cell_info[0].output_area.element.off(\n",
       "        'cleared',\n",
       "        fig._remove_fig_handler\n",
       "    );\n",
       "\n",
       "    // Update the output cell to use the data from the current canvas.\n",
       "    fig.push_to_output();\n",
       "    var dataURL = fig.canvas.toDataURL();\n",
       "    // Re-enable the keyboard manager in IPython - without this line, in FF,\n",
       "    // the notebook keyboard shortcuts fail.\n",
       "    IPython.keyboard_manager.enable();\n",
       "    fig.parent_element.innerHTML =\n",
       "        '<img src=\"' + dataURL + '\" width=\"' + width + '\">';\n",
       "    fig.close_ws(fig, msg);\n",
       "};\n",
       "\n",
       "mpl.figure.prototype.close_ws = function (fig, msg) {\n",
       "    fig.send_message('closing', msg);\n",
       "    // fig.ws.close()\n",
       "};\n",
       "\n",
       "mpl.figure.prototype.push_to_output = function (_remove_interactive) {\n",
       "    // Turn the data on the canvas into data in the output cell.\n",
       "    var width = this.canvas.width / this.ratio;\n",
       "    var dataURL = this.canvas.toDataURL();\n",
       "    this.cell_info[1]['text/html'] =\n",
       "        '<img src=\"' + dataURL + '\" width=\"' + width + '\">';\n",
       "};\n",
       "\n",
       "mpl.figure.prototype.updated_canvas_event = function () {\n",
       "    // Tell IPython that the notebook contents must change.\n",
       "    IPython.notebook.set_dirty(true);\n",
       "    this.send_message('ack', {});\n",
       "    var fig = this;\n",
       "    // Wait a second, then push the new image to the DOM so\n",
       "    // that it is saved nicely (might be nice to debounce this).\n",
       "    setTimeout(function () {\n",
       "        fig.push_to_output();\n",
       "    }, 1000);\n",
       "};\n",
       "\n",
       "mpl.figure.prototype._init_toolbar = function () {\n",
       "    var fig = this;\n",
       "\n",
       "    var toolbar = document.createElement('div');\n",
       "    toolbar.classList = 'btn-toolbar';\n",
       "    this.root.appendChild(toolbar);\n",
       "\n",
       "    function on_click_closure(name) {\n",
       "        return function (_event) {\n",
       "            return fig.toolbar_button_onclick(name);\n",
       "        };\n",
       "    }\n",
       "\n",
       "    function on_mouseover_closure(tooltip) {\n",
       "        return function (event) {\n",
       "            if (!event.currentTarget.disabled) {\n",
       "                return fig.toolbar_button_onmouseover(tooltip);\n",
       "            }\n",
       "        };\n",
       "    }\n",
       "\n",
       "    fig.buttons = {};\n",
       "    var buttonGroup = document.createElement('div');\n",
       "    buttonGroup.classList = 'btn-group';\n",
       "    var button;\n",
       "    for (var toolbar_ind in mpl.toolbar_items) {\n",
       "        var name = mpl.toolbar_items[toolbar_ind][0];\n",
       "        var tooltip = mpl.toolbar_items[toolbar_ind][1];\n",
       "        var image = mpl.toolbar_items[toolbar_ind][2];\n",
       "        var method_name = mpl.toolbar_items[toolbar_ind][3];\n",
       "\n",
       "        if (!name) {\n",
       "            /* Instead of a spacer, we start a new button group. */\n",
       "            if (buttonGroup.hasChildNodes()) {\n",
       "                toolbar.appendChild(buttonGroup);\n",
       "            }\n",
       "            buttonGroup = document.createElement('div');\n",
       "            buttonGroup.classList = 'btn-group';\n",
       "            continue;\n",
       "        }\n",
       "\n",
       "        button = fig.buttons[name] = document.createElement('button');\n",
       "        button.classList = 'btn btn-default';\n",
       "        button.href = '#';\n",
       "        button.title = name;\n",
       "        button.innerHTML = '<i class=\"fa ' + image + ' fa-lg\"></i>';\n",
       "        button.addEventListener('click', on_click_closure(method_name));\n",
       "        button.addEventListener('mouseover', on_mouseover_closure(tooltip));\n",
       "        buttonGroup.appendChild(button);\n",
       "    }\n",
       "\n",
       "    if (buttonGroup.hasChildNodes()) {\n",
       "        toolbar.appendChild(buttonGroup);\n",
       "    }\n",
       "\n",
       "    // Add the status bar.\n",
       "    var status_bar = document.createElement('span');\n",
       "    status_bar.classList = 'mpl-message pull-right';\n",
       "    toolbar.appendChild(status_bar);\n",
       "    this.message = status_bar;\n",
       "\n",
       "    // Add the close button to the window.\n",
       "    var buttongrp = document.createElement('div');\n",
       "    buttongrp.classList = 'btn-group inline pull-right';\n",
       "    button = document.createElement('button');\n",
       "    button.classList = 'btn btn-mini btn-primary';\n",
       "    button.href = '#';\n",
       "    button.title = 'Stop Interaction';\n",
       "    button.innerHTML = '<i class=\"fa fa-power-off icon-remove icon-large\"></i>';\n",
       "    button.addEventListener('click', function (_evt) {\n",
       "        fig.handle_close(fig, {});\n",
       "    });\n",
       "    button.addEventListener(\n",
       "        'mouseover',\n",
       "        on_mouseover_closure('Stop Interaction')\n",
       "    );\n",
       "    buttongrp.appendChild(button);\n",
       "    var titlebar = this.root.querySelector('.ui-dialog-titlebar');\n",
       "    titlebar.insertBefore(buttongrp, titlebar.firstChild);\n",
       "};\n",
       "\n",
       "mpl.figure.prototype._remove_fig_handler = function (event) {\n",
       "    var fig = event.data.fig;\n",
       "    fig.close_ws(fig, {});\n",
       "};\n",
       "\n",
       "mpl.figure.prototype._root_extra_style = function (el) {\n",
       "    el.style.boxSizing = 'content-box'; // override notebook setting of border-box.\n",
       "};\n",
       "\n",
       "mpl.figure.prototype._canvas_extra_style = function (el) {\n",
       "    // this is important to make the div 'focusable\n",
       "    el.setAttribute('tabindex', 0);\n",
       "    // reach out to IPython and tell the keyboard manager to turn it's self\n",
       "    // off when our div gets focus\n",
       "\n",
       "    // location in version 3\n",
       "    if (IPython.notebook.keyboard_manager) {\n",
       "        IPython.notebook.keyboard_manager.register_events(el);\n",
       "    } else {\n",
       "        // location in version 2\n",
       "        IPython.keyboard_manager.register_events(el);\n",
       "    }\n",
       "};\n",
       "\n",
       "mpl.figure.prototype._key_event_extra = function (event, _name) {\n",
       "    var manager = IPython.notebook.keyboard_manager;\n",
       "    if (!manager) {\n",
       "        manager = IPython.keyboard_manager;\n",
       "    }\n",
       "\n",
       "    // Check for shift+enter\n",
       "    if (event.shiftKey && event.which === 13) {\n",
       "        this.canvas_div.blur();\n",
       "        // select the cell after this one\n",
       "        var index = IPython.notebook.find_cell_index(this.cell_info[0]);\n",
       "        IPython.notebook.select(index + 1);\n",
       "    }\n",
       "};\n",
       "\n",
       "mpl.figure.prototype.handle_save = function (fig, _msg) {\n",
       "    fig.ondownload(fig, null);\n",
       "};\n",
       "\n",
       "mpl.find_output_cell = function (html_output) {\n",
       "    // Return the cell and output element which can be found *uniquely* in the notebook.\n",
       "    // Note - this is a bit hacky, but it is done because the \"notebook_saving.Notebook\"\n",
       "    // IPython event is triggered only after the cells have been serialised, which for\n",
       "    // our purposes (turning an active figure into a static one), is too late.\n",
       "    var cells = IPython.notebook.get_cells();\n",
       "    var ncells = cells.length;\n",
       "    for (var i = 0; i < ncells; i++) {\n",
       "        var cell = cells[i];\n",
       "        if (cell.cell_type === 'code') {\n",
       "            for (var j = 0; j < cell.output_area.outputs.length; j++) {\n",
       "                var data = cell.output_area.outputs[j];\n",
       "                if (data.data) {\n",
       "                    // IPython >= 3 moved mimebundle to data attribute of output\n",
       "                    data = data.data;\n",
       "                }\n",
       "                if (data['text/html'] === html_output) {\n",
       "                    return [cell, data, j];\n",
       "                }\n",
       "            }\n",
       "        }\n",
       "    }\n",
       "};\n",
       "\n",
       "// Register the function which deals with the matplotlib target/channel.\n",
       "// The kernel may be null if the page has been refreshed.\n",
       "if (IPython.notebook.kernel !== null) {\n",
       "    IPython.notebook.kernel.comm_manager.register_target(\n",
       "        'matplotlib',\n",
       "        mpl.mpl_figure_comm\n",
       "    );\n",
       "}\n"
      ],
      "text/plain": [
       "<IPython.core.display.Javascript object>"
      ]
     },
     "metadata": {},
     "output_type": "display_data"
    },
    {
     "data": {
      "text/html": [
       "<img src=\"data:image/png;base64,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\" width=\"720\">"
      ],
      "text/plain": [
       "<IPython.core.display.HTML object>"
      ]
     },
     "metadata": {},
     "output_type": "display_data"
    }
   ],
   "source": [
    "f, axes = plt.subplots(1, 1, figsize=(10, 8))\n",
    "axes.plot(np.arange(0, Y[n_initial_points:].shape[0]), min_val_list[n_initial_points:])\n",
    "axes.set_ylabel('Effective R')\n",
    "axes.set_xlabel('Number of evaluated points');"
   ]
  },
  {
   "cell_type": "code",
   "execution_count": 22,
   "metadata": {},
   "outputs": [
    {
     "data": {
      "application/vnd.jupyter.widget-view+json": {
       "model_id": "9041f5f596fd49b88e954ae011d73f1f",
       "version_major": 2,
       "version_minor": 0
      },
      "text/plain": [
       "HBox(children=(HTML(value=''), FloatProgress(value=0.0, max=10000.0), HTML(value='')))"
      ]
     },
     "metadata": {},
     "output_type": "display_data"
    },
    {
     "name": "stdout",
     "output_type": "stream",
     "text": [
      "\n",
      "(array([[0.99257623]]), array([[-0.14132605]]))\n"
     ]
    }
   ],
   "source": [
    "print (composite_f(np.array([[4, 5, 0.13263884, 0, 0.29269327, 0.38945, 0.15488649, 1]])))"
   ]
  },
  {
   "cell_type": "code",
   "execution_count": 23,
   "metadata": {},
   "outputs": [
    {
     "name": "stdout",
     "output_type": "stream",
     "text": [
      "20\n",
      "[1.146704]\n",
      "[5.      3.      0.96875 0.78125 0.15625 0.21875 0.15625 0.96875]\n",
      "[-13.02829983]\n"
     ]
    }
   ],
   "source": [
    "# Compare to random sampling\n",
    "\n",
    "min_idx = 0\n",
    "# Note that inf is not a good idea\n",
    "min_val = float('inf')\n",
    "min_val_list = []\n",
    "for idx, val in enumerate(Y_rand):\n",
    "    # Could allow a little overspend by changing 0 to the value\n",
    "    if val < min_val and Yc_rand[idx] < 0:\n",
    "        min_idx = idx\n",
    "        min_val = val\n",
    "    min_val_list.append(min_val)\n",
    "print (min_idx)\n",
    "print (Y_rand[min_idx])\n",
    "print (X_rand[min_idx])\n",
    "print (Yc_rand[min_idx])"
   ]
  },
  {
   "cell_type": "code",
   "execution_count": 24,
   "metadata": {},
   "outputs": [
    {
     "data": {
      "application/javascript": [
       "/* Put everything inside the global mpl namespace */\n",
       "/* global mpl */\n",
       "window.mpl = {};\n",
       "\n",
       "mpl.get_websocket_type = function () {\n",
       "    if (typeof WebSocket !== 'undefined') {\n",
       "        return WebSocket;\n",
       "    } else if (typeof MozWebSocket !== 'undefined') {\n",
       "        return MozWebSocket;\n",
       "    } else {\n",
       "        alert(\n",
       "            'Your browser does not have WebSocket support. ' +\n",
       "                'Please try Chrome, Safari or Firefox ≥ 6. ' +\n",
       "                'Firefox 4 and 5 are also supported but you ' +\n",
       "                'have to enable WebSockets in about:config.'\n",
       "        );\n",
       "    }\n",
       "};\n",
       "\n",
       "mpl.figure = function (figure_id, websocket, ondownload, parent_element) {\n",
       "    this.id = figure_id;\n",
       "\n",
       "    this.ws = websocket;\n",
       "\n",
       "    this.supports_binary = this.ws.binaryType !== undefined;\n",
       "\n",
       "    if (!this.supports_binary) {\n",
       "        var warnings = document.getElementById('mpl-warnings');\n",
       "        if (warnings) {\n",
       "            warnings.style.display = 'block';\n",
       "            warnings.textContent =\n",
       "                'This browser does not support binary websocket messages. ' +\n",
       "                'Performance may be slow.';\n",
       "        }\n",
       "    }\n",
       "\n",
       "    this.imageObj = new Image();\n",
       "\n",
       "    this.context = undefined;\n",
       "    this.message = undefined;\n",
       "    this.canvas = undefined;\n",
       "    this.rubberband_canvas = undefined;\n",
       "    this.rubberband_context = undefined;\n",
       "    this.format_dropdown = undefined;\n",
       "\n",
       "    this.image_mode = 'full';\n",
       "\n",
       "    this.root = document.createElement('div');\n",
       "    this.root.setAttribute('style', 'display: inline-block');\n",
       "    this._root_extra_style(this.root);\n",
       "\n",
       "    parent_element.appendChild(this.root);\n",
       "\n",
       "    this._init_header(this);\n",
       "    this._init_canvas(this);\n",
       "    this._init_toolbar(this);\n",
       "\n",
       "    var fig = this;\n",
       "\n",
       "    this.waiting = false;\n",
       "\n",
       "    this.ws.onopen = function () {\n",
       "        fig.send_message('supports_binary', { value: fig.supports_binary });\n",
       "        fig.send_message('send_image_mode', {});\n",
       "        if (fig.ratio !== 1) {\n",
       "            fig.send_message('set_dpi_ratio', { dpi_ratio: fig.ratio });\n",
       "        }\n",
       "        fig.send_message('refresh', {});\n",
       "    };\n",
       "\n",
       "    this.imageObj.onload = function () {\n",
       "        if (fig.image_mode === 'full') {\n",
       "            // Full images could contain transparency (where diff images\n",
       "            // almost always do), so we need to clear the canvas so that\n",
       "            // there is no ghosting.\n",
       "            fig.context.clearRect(0, 0, fig.canvas.width, fig.canvas.height);\n",
       "        }\n",
       "        fig.context.drawImage(fig.imageObj, 0, 0);\n",
       "    };\n",
       "\n",
       "    this.imageObj.onunload = function () {\n",
       "        fig.ws.close();\n",
       "    };\n",
       "\n",
       "    this.ws.onmessage = this._make_on_message_function(this);\n",
       "\n",
       "    this.ondownload = ondownload;\n",
       "};\n",
       "\n",
       "mpl.figure.prototype._init_header = function () {\n",
       "    var titlebar = document.createElement('div');\n",
       "    titlebar.classList =\n",
       "        'ui-dialog-titlebar ui-widget-header ui-corner-all ui-helper-clearfix';\n",
       "    var titletext = document.createElement('div');\n",
       "    titletext.classList = 'ui-dialog-title';\n",
       "    titletext.setAttribute(\n",
       "        'style',\n",
       "        'width: 100%; text-align: center; padding: 3px;'\n",
       "    );\n",
       "    titlebar.appendChild(titletext);\n",
       "    this.root.appendChild(titlebar);\n",
       "    this.header = titletext;\n",
       "};\n",
       "\n",
       "mpl.figure.prototype._canvas_extra_style = function (_canvas_div) {};\n",
       "\n",
       "mpl.figure.prototype._root_extra_style = function (_canvas_div) {};\n",
       "\n",
       "mpl.figure.prototype._init_canvas = function () {\n",
       "    var fig = this;\n",
       "\n",
       "    var canvas_div = (this.canvas_div = document.createElement('div'));\n",
       "    canvas_div.setAttribute(\n",
       "        'style',\n",
       "        'border: 1px solid #ddd;' +\n",
       "            'box-sizing: content-box;' +\n",
       "            'clear: both;' +\n",
       "            'min-height: 1px;' +\n",
       "            'min-width: 1px;' +\n",
       "            'outline: 0;' +\n",
       "            'overflow: hidden;' +\n",
       "            'position: relative;' +\n",
       "            'resize: both;'\n",
       "    );\n",
       "\n",
       "    function on_keyboard_event_closure(name) {\n",
       "        return function (event) {\n",
       "            return fig.key_event(event, name);\n",
       "        };\n",
       "    }\n",
       "\n",
       "    canvas_div.addEventListener(\n",
       "        'keydown',\n",
       "        on_keyboard_event_closure('key_press')\n",
       "    );\n",
       "    canvas_div.addEventListener(\n",
       "        'keyup',\n",
       "        on_keyboard_event_closure('key_release')\n",
       "    );\n",
       "\n",
       "    this._canvas_extra_style(canvas_div);\n",
       "    this.root.appendChild(canvas_div);\n",
       "\n",
       "    var canvas = (this.canvas = document.createElement('canvas'));\n",
       "    canvas.classList.add('mpl-canvas');\n",
       "    canvas.setAttribute('style', 'box-sizing: content-box;');\n",
       "\n",
       "    this.context = canvas.getContext('2d');\n",
       "\n",
       "    var backingStore =\n",
       "        this.context.backingStorePixelRatio ||\n",
       "        this.context.webkitBackingStorePixelRatio ||\n",
       "        this.context.mozBackingStorePixelRatio ||\n",
       "        this.context.msBackingStorePixelRatio ||\n",
       "        this.context.oBackingStorePixelRatio ||\n",
       "        this.context.backingStorePixelRatio ||\n",
       "        1;\n",
       "\n",
       "    this.ratio = (window.devicePixelRatio || 1) / backingStore;\n",
       "    if (this.ratio !== 1) {\n",
       "        fig.send_message('set_dpi_ratio', { dpi_ratio: this.ratio });\n",
       "    }\n",
       "\n",
       "    var rubberband_canvas = (this.rubberband_canvas = document.createElement(\n",
       "        'canvas'\n",
       "    ));\n",
       "    rubberband_canvas.setAttribute(\n",
       "        'style',\n",
       "        'box-sizing: content-box; position: absolute; left: 0; top: 0; z-index: 1;'\n",
       "    );\n",
       "\n",
       "    var resizeObserver = new ResizeObserver(function (entries) {\n",
       "        var nentries = entries.length;\n",
       "        for (var i = 0; i < nentries; i++) {\n",
       "            var entry = entries[i];\n",
       "            var width, height;\n",
       "            if (entry.contentBoxSize) {\n",
       "                if (entry.contentBoxSize instanceof Array) {\n",
       "                    // Chrome 84 implements new version of spec.\n",
       "                    width = entry.contentBoxSize[0].inlineSize;\n",
       "                    height = entry.contentBoxSize[0].blockSize;\n",
       "                } else {\n",
       "                    // Firefox implements old version of spec.\n",
       "                    width = entry.contentBoxSize.inlineSize;\n",
       "                    height = entry.contentBoxSize.blockSize;\n",
       "                }\n",
       "            } else {\n",
       "                // Chrome <84 implements even older version of spec.\n",
       "                width = entry.contentRect.width;\n",
       "                height = entry.contentRect.height;\n",
       "            }\n",
       "\n",
       "            // Keep the size of the canvas and rubber band canvas in sync with\n",
       "            // the canvas container.\n",
       "            if (entry.devicePixelContentBoxSize) {\n",
       "                // Chrome 84 implements new version of spec.\n",
       "                canvas.setAttribute(\n",
       "                    'width',\n",
       "                    entry.devicePixelContentBoxSize[0].inlineSize\n",
       "                );\n",
       "                canvas.setAttribute(\n",
       "                    'height',\n",
       "                    entry.devicePixelContentBoxSize[0].blockSize\n",
       "                );\n",
       "            } else {\n",
       "                canvas.setAttribute('width', width * fig.ratio);\n",
       "                canvas.setAttribute('height', height * fig.ratio);\n",
       "            }\n",
       "            canvas.setAttribute(\n",
       "                'style',\n",
       "                'width: ' + width + 'px; height: ' + height + 'px;'\n",
       "            );\n",
       "\n",
       "            rubberband_canvas.setAttribute('width', width);\n",
       "            rubberband_canvas.setAttribute('height', height);\n",
       "\n",
       "            // And update the size in Python. We ignore the initial 0/0 size\n",
       "            // that occurs as the element is placed into the DOM, which should\n",
       "            // otherwise not happen due to the minimum size styling.\n",
       "            if (width != 0 && height != 0) {\n",
       "                fig.request_resize(width, height);\n",
       "            }\n",
       "        }\n",
       "    });\n",
       "    resizeObserver.observe(canvas_div);\n",
       "\n",
       "    function on_mouse_event_closure(name) {\n",
       "        return function (event) {\n",
       "            return fig.mouse_event(event, name);\n",
       "        };\n",
       "    }\n",
       "\n",
       "    rubberband_canvas.addEventListener(\n",
       "        'mousedown',\n",
       "        on_mouse_event_closure('button_press')\n",
       "    );\n",
       "    rubberband_canvas.addEventListener(\n",
       "        'mouseup',\n",
       "        on_mouse_event_closure('button_release')\n",
       "    );\n",
       "    // Throttle sequential mouse events to 1 every 20ms.\n",
       "    rubberband_canvas.addEventListener(\n",
       "        'mousemove',\n",
       "        on_mouse_event_closure('motion_notify')\n",
       "    );\n",
       "\n",
       "    rubberband_canvas.addEventListener(\n",
       "        'mouseenter',\n",
       "        on_mouse_event_closure('figure_enter')\n",
       "    );\n",
       "    rubberband_canvas.addEventListener(\n",
       "        'mouseleave',\n",
       "        on_mouse_event_closure('figure_leave')\n",
       "    );\n",
       "\n",
       "    canvas_div.addEventListener('wheel', function (event) {\n",
       "        if (event.deltaY < 0) {\n",
       "            event.step = 1;\n",
       "        } else {\n",
       "            event.step = -1;\n",
       "        }\n",
       "        on_mouse_event_closure('scroll')(event);\n",
       "    });\n",
       "\n",
       "    canvas_div.appendChild(canvas);\n",
       "    canvas_div.appendChild(rubberband_canvas);\n",
       "\n",
       "    this.rubberband_context = rubberband_canvas.getContext('2d');\n",
       "    this.rubberband_context.strokeStyle = '#000000';\n",
       "\n",
       "    this._resize_canvas = function (width, height, forward) {\n",
       "        if (forward) {\n",
       "            canvas_div.style.width = width + 'px';\n",
       "            canvas_div.style.height = height + 'px';\n",
       "        }\n",
       "    };\n",
       "\n",
       "    // Disable right mouse context menu.\n",
       "    this.rubberband_canvas.addEventListener('contextmenu', function (_e) {\n",
       "        event.preventDefault();\n",
       "        return false;\n",
       "    });\n",
       "\n",
       "    function set_focus() {\n",
       "        canvas.focus();\n",
       "        canvas_div.focus();\n",
       "    }\n",
       "\n",
       "    window.setTimeout(set_focus, 100);\n",
       "};\n",
       "\n",
       "mpl.figure.prototype._init_toolbar = function () {\n",
       "    var fig = this;\n",
       "\n",
       "    var toolbar = document.createElement('div');\n",
       "    toolbar.classList = 'mpl-toolbar';\n",
       "    this.root.appendChild(toolbar);\n",
       "\n",
       "    function on_click_closure(name) {\n",
       "        return function (_event) {\n",
       "            return fig.toolbar_button_onclick(name);\n",
       "        };\n",
       "    }\n",
       "\n",
       "    function on_mouseover_closure(tooltip) {\n",
       "        return function (event) {\n",
       "            if (!event.currentTarget.disabled) {\n",
       "                return fig.toolbar_button_onmouseover(tooltip);\n",
       "            }\n",
       "        };\n",
       "    }\n",
       "\n",
       "    fig.buttons = {};\n",
       "    var buttonGroup = document.createElement('div');\n",
       "    buttonGroup.classList = 'mpl-button-group';\n",
       "    for (var toolbar_ind in mpl.toolbar_items) {\n",
       "        var name = mpl.toolbar_items[toolbar_ind][0];\n",
       "        var tooltip = mpl.toolbar_items[toolbar_ind][1];\n",
       "        var image = mpl.toolbar_items[toolbar_ind][2];\n",
       "        var method_name = mpl.toolbar_items[toolbar_ind][3];\n",
       "\n",
       "        if (!name) {\n",
       "            /* Instead of a spacer, we start a new button group. */\n",
       "            if (buttonGroup.hasChildNodes()) {\n",
       "                toolbar.appendChild(buttonGroup);\n",
       "            }\n",
       "            buttonGroup = document.createElement('div');\n",
       "            buttonGroup.classList = 'mpl-button-group';\n",
       "            continue;\n",
       "        }\n",
       "\n",
       "        var button = (fig.buttons[name] = document.createElement('button'));\n",
       "        button.classList = 'mpl-widget';\n",
       "        button.setAttribute('role', 'button');\n",
       "        button.setAttribute('aria-disabled', 'false');\n",
       "        button.addEventListener('click', on_click_closure(method_name));\n",
       "        button.addEventListener('mouseover', on_mouseover_closure(tooltip));\n",
       "\n",
       "        var icon_img = document.createElement('img');\n",
       "        icon_img.src = '_images/' + image + '.png';\n",
       "        icon_img.srcset = '_images/' + image + '_large.png 2x';\n",
       "        icon_img.alt = tooltip;\n",
       "        button.appendChild(icon_img);\n",
       "\n",
       "        buttonGroup.appendChild(button);\n",
       "    }\n",
       "\n",
       "    if (buttonGroup.hasChildNodes()) {\n",
       "        toolbar.appendChild(buttonGroup);\n",
       "    }\n",
       "\n",
       "    var fmt_picker = document.createElement('select');\n",
       "    fmt_picker.classList = 'mpl-widget';\n",
       "    toolbar.appendChild(fmt_picker);\n",
       "    this.format_dropdown = fmt_picker;\n",
       "\n",
       "    for (var ind in mpl.extensions) {\n",
       "        var fmt = mpl.extensions[ind];\n",
       "        var option = document.createElement('option');\n",
       "        option.selected = fmt === mpl.default_extension;\n",
       "        option.innerHTML = fmt;\n",
       "        fmt_picker.appendChild(option);\n",
       "    }\n",
       "\n",
       "    var status_bar = document.createElement('span');\n",
       "    status_bar.classList = 'mpl-message';\n",
       "    toolbar.appendChild(status_bar);\n",
       "    this.message = status_bar;\n",
       "};\n",
       "\n",
       "mpl.figure.prototype.request_resize = function (x_pixels, y_pixels) {\n",
       "    // Request matplotlib to resize the figure. Matplotlib will then trigger a resize in the client,\n",
       "    // which will in turn request a refresh of the image.\n",
       "    this.send_message('resize', { width: x_pixels, height: y_pixels });\n",
       "};\n",
       "\n",
       "mpl.figure.prototype.send_message = function (type, properties) {\n",
       "    properties['type'] = type;\n",
       "    properties['figure_id'] = this.id;\n",
       "    this.ws.send(JSON.stringify(properties));\n",
       "};\n",
       "\n",
       "mpl.figure.prototype.send_draw_message = function () {\n",
       "    if (!this.waiting) {\n",
       "        this.waiting = true;\n",
       "        this.ws.send(JSON.stringify({ type: 'draw', figure_id: this.id }));\n",
       "    }\n",
       "};\n",
       "\n",
       "mpl.figure.prototype.handle_save = function (fig, _msg) {\n",
       "    var format_dropdown = fig.format_dropdown;\n",
       "    var format = format_dropdown.options[format_dropdown.selectedIndex].value;\n",
       "    fig.ondownload(fig, format);\n",
       "};\n",
       "\n",
       "mpl.figure.prototype.handle_resize = function (fig, msg) {\n",
       "    var size = msg['size'];\n",
       "    if (size[0] !== fig.canvas.width || size[1] !== fig.canvas.height) {\n",
       "        fig._resize_canvas(size[0], size[1], msg['forward']);\n",
       "        fig.send_message('refresh', {});\n",
       "    }\n",
       "};\n",
       "\n",
       "mpl.figure.prototype.handle_rubberband = function (fig, msg) {\n",
       "    var x0 = msg['x0'] / fig.ratio;\n",
       "    var y0 = (fig.canvas.height - msg['y0']) / fig.ratio;\n",
       "    var x1 = msg['x1'] / fig.ratio;\n",
       "    var y1 = (fig.canvas.height - msg['y1']) / fig.ratio;\n",
       "    x0 = Math.floor(x0) + 0.5;\n",
       "    y0 = Math.floor(y0) + 0.5;\n",
       "    x1 = Math.floor(x1) + 0.5;\n",
       "    y1 = Math.floor(y1) + 0.5;\n",
       "    var min_x = Math.min(x0, x1);\n",
       "    var min_y = Math.min(y0, y1);\n",
       "    var width = Math.abs(x1 - x0);\n",
       "    var height = Math.abs(y1 - y0);\n",
       "\n",
       "    fig.rubberband_context.clearRect(\n",
       "        0,\n",
       "        0,\n",
       "        fig.canvas.width / fig.ratio,\n",
       "        fig.canvas.height / fig.ratio\n",
       "    );\n",
       "\n",
       "    fig.rubberband_context.strokeRect(min_x, min_y, width, height);\n",
       "};\n",
       "\n",
       "mpl.figure.prototype.handle_figure_label = function (fig, msg) {\n",
       "    // Updates the figure title.\n",
       "    fig.header.textContent = msg['label'];\n",
       "};\n",
       "\n",
       "mpl.figure.prototype.handle_cursor = function (fig, msg) {\n",
       "    var cursor = msg['cursor'];\n",
       "    switch (cursor) {\n",
       "        case 0:\n",
       "            cursor = 'pointer';\n",
       "            break;\n",
       "        case 1:\n",
       "            cursor = 'default';\n",
       "            break;\n",
       "        case 2:\n",
       "            cursor = 'crosshair';\n",
       "            break;\n",
       "        case 3:\n",
       "            cursor = 'move';\n",
       "            break;\n",
       "    }\n",
       "    fig.rubberband_canvas.style.cursor = cursor;\n",
       "};\n",
       "\n",
       "mpl.figure.prototype.handle_message = function (fig, msg) {\n",
       "    fig.message.textContent = msg['message'];\n",
       "};\n",
       "\n",
       "mpl.figure.prototype.handle_draw = function (fig, _msg) {\n",
       "    // Request the server to send over a new figure.\n",
       "    fig.send_draw_message();\n",
       "};\n",
       "\n",
       "mpl.figure.prototype.handle_image_mode = function (fig, msg) {\n",
       "    fig.image_mode = msg['mode'];\n",
       "};\n",
       "\n",
       "mpl.figure.prototype.handle_history_buttons = function (fig, msg) {\n",
       "    for (var key in msg) {\n",
       "        if (!(key in fig.buttons)) {\n",
       "            continue;\n",
       "        }\n",
       "        fig.buttons[key].disabled = !msg[key];\n",
       "        fig.buttons[key].setAttribute('aria-disabled', !msg[key]);\n",
       "    }\n",
       "};\n",
       "\n",
       "mpl.figure.prototype.handle_navigate_mode = function (fig, msg) {\n",
       "    if (msg['mode'] === 'PAN') {\n",
       "        fig.buttons['Pan'].classList.add('active');\n",
       "        fig.buttons['Zoom'].classList.remove('active');\n",
       "    } else if (msg['mode'] === 'ZOOM') {\n",
       "        fig.buttons['Pan'].classList.remove('active');\n",
       "        fig.buttons['Zoom'].classList.add('active');\n",
       "    } else {\n",
       "        fig.buttons['Pan'].classList.remove('active');\n",
       "        fig.buttons['Zoom'].classList.remove('active');\n",
       "    }\n",
       "};\n",
       "\n",
       "mpl.figure.prototype.updated_canvas_event = function () {\n",
       "    // Called whenever the canvas gets updated.\n",
       "    this.send_message('ack', {});\n",
       "};\n",
       "\n",
       "// A function to construct a web socket function for onmessage handling.\n",
       "// Called in the figure constructor.\n",
       "mpl.figure.prototype._make_on_message_function = function (fig) {\n",
       "    return function socket_on_message(evt) {\n",
       "        if (evt.data instanceof Blob) {\n",
       "            /* FIXME: We get \"Resource interpreted as Image but\n",
       "             * transferred with MIME type text/plain:\" errors on\n",
       "             * Chrome.  But how to set the MIME type?  It doesn't seem\n",
       "             * to be part of the websocket stream */\n",
       "            evt.data.type = 'image/png';\n",
       "\n",
       "            /* Free the memory for the previous frames */\n",
       "            if (fig.imageObj.src) {\n",
       "                (window.URL || window.webkitURL).revokeObjectURL(\n",
       "                    fig.imageObj.src\n",
       "                );\n",
       "            }\n",
       "\n",
       "            fig.imageObj.src = (window.URL || window.webkitURL).createObjectURL(\n",
       "                evt.data\n",
       "            );\n",
       "            fig.updated_canvas_event();\n",
       "            fig.waiting = false;\n",
       "            return;\n",
       "        } else if (\n",
       "            typeof evt.data === 'string' &&\n",
       "            evt.data.slice(0, 21) === 'data:image/png;base64'\n",
       "        ) {\n",
       "            fig.imageObj.src = evt.data;\n",
       "            fig.updated_canvas_event();\n",
       "            fig.waiting = false;\n",
       "            return;\n",
       "        }\n",
       "\n",
       "        var msg = JSON.parse(evt.data);\n",
       "        var msg_type = msg['type'];\n",
       "\n",
       "        // Call the  \"handle_{type}\" callback, which takes\n",
       "        // the figure and JSON message as its only arguments.\n",
       "        try {\n",
       "            var callback = fig['handle_' + msg_type];\n",
       "        } catch (e) {\n",
       "            console.log(\n",
       "                \"No handler for the '\" + msg_type + \"' message type: \",\n",
       "                msg\n",
       "            );\n",
       "            return;\n",
       "        }\n",
       "\n",
       "        if (callback) {\n",
       "            try {\n",
       "                // console.log(\"Handling '\" + msg_type + \"' message: \", msg);\n",
       "                callback(fig, msg);\n",
       "            } catch (e) {\n",
       "                console.log(\n",
       "                    \"Exception inside the 'handler_\" + msg_type + \"' callback:\",\n",
       "                    e,\n",
       "                    e.stack,\n",
       "                    msg\n",
       "                );\n",
       "            }\n",
       "        }\n",
       "    };\n",
       "};\n",
       "\n",
       "// from http://stackoverflow.com/questions/1114465/getting-mouse-location-in-canvas\n",
       "mpl.findpos = function (e) {\n",
       "    //this section is from http://www.quirksmode.org/js/events_properties.html\n",
       "    var targ;\n",
       "    if (!e) {\n",
       "        e = window.event;\n",
       "    }\n",
       "    if (e.target) {\n",
       "        targ = e.target;\n",
       "    } else if (e.srcElement) {\n",
       "        targ = e.srcElement;\n",
       "    }\n",
       "    if (targ.nodeType === 3) {\n",
       "        // defeat Safari bug\n",
       "        targ = targ.parentNode;\n",
       "    }\n",
       "\n",
       "    // pageX,Y are the mouse positions relative to the document\n",
       "    var boundingRect = targ.getBoundingClientRect();\n",
       "    var x = e.pageX - (boundingRect.left + document.body.scrollLeft);\n",
       "    var y = e.pageY - (boundingRect.top + document.body.scrollTop);\n",
       "\n",
       "    return { x: x, y: y };\n",
       "};\n",
       "\n",
       "/*\n",
       " * return a copy of an object with only non-object keys\n",
       " * we need this to avoid circular references\n",
       " * http://stackoverflow.com/a/24161582/3208463\n",
       " */\n",
       "function simpleKeys(original) {\n",
       "    return Object.keys(original).reduce(function (obj, key) {\n",
       "        if (typeof original[key] !== 'object') {\n",
       "            obj[key] = original[key];\n",
       "        }\n",
       "        return obj;\n",
       "    }, {});\n",
       "}\n",
       "\n",
       "mpl.figure.prototype.mouse_event = function (event, name) {\n",
       "    var canvas_pos = mpl.findpos(event);\n",
       "\n",
       "    if (name === 'button_press') {\n",
       "        this.canvas.focus();\n",
       "        this.canvas_div.focus();\n",
       "    }\n",
       "\n",
       "    var x = canvas_pos.x * this.ratio;\n",
       "    var y = canvas_pos.y * this.ratio;\n",
       "\n",
       "    this.send_message(name, {\n",
       "        x: x,\n",
       "        y: y,\n",
       "        button: event.button,\n",
       "        step: event.step,\n",
       "        guiEvent: simpleKeys(event),\n",
       "    });\n",
       "\n",
       "    /* This prevents the web browser from automatically changing to\n",
       "     * the text insertion cursor when the button is pressed.  We want\n",
       "     * to control all of the cursor setting manually through the\n",
       "     * 'cursor' event from matplotlib */\n",
       "    event.preventDefault();\n",
       "    return false;\n",
       "};\n",
       "\n",
       "mpl.figure.prototype._key_event_extra = function (_event, _name) {\n",
       "    // Handle any extra behaviour associated with a key event\n",
       "};\n",
       "\n",
       "mpl.figure.prototype.key_event = function (event, name) {\n",
       "    // Prevent repeat events\n",
       "    if (name === 'key_press') {\n",
       "        if (event.which === this._key) {\n",
       "            return;\n",
       "        } else {\n",
       "            this._key = event.which;\n",
       "        }\n",
       "    }\n",
       "    if (name === 'key_release') {\n",
       "        this._key = null;\n",
       "    }\n",
       "\n",
       "    var value = '';\n",
       "    if (event.ctrlKey && event.which !== 17) {\n",
       "        value += 'ctrl+';\n",
       "    }\n",
       "    if (event.altKey && event.which !== 18) {\n",
       "        value += 'alt+';\n",
       "    }\n",
       "    if (event.shiftKey && event.which !== 16) {\n",
       "        value += 'shift+';\n",
       "    }\n",
       "\n",
       "    value += 'k';\n",
       "    value += event.which.toString();\n",
       "\n",
       "    this._key_event_extra(event, name);\n",
       "\n",
       "    this.send_message(name, { key: value, guiEvent: simpleKeys(event) });\n",
       "    return false;\n",
       "};\n",
       "\n",
       "mpl.figure.prototype.toolbar_button_onclick = function (name) {\n",
       "    if (name === 'download') {\n",
       "        this.handle_save(this, null);\n",
       "    } else {\n",
       "        this.send_message('toolbar_button', { name: name });\n",
       "    }\n",
       "};\n",
       "\n",
       "mpl.figure.prototype.toolbar_button_onmouseover = function (tooltip) {\n",
       "    this.message.textContent = tooltip;\n",
       "};\n",
       "mpl.toolbar_items = [[\"Home\", \"Reset original view\", \"fa fa-home icon-home\", \"home\"], [\"Back\", \"Back to previous view\", \"fa fa-arrow-left icon-arrow-left\", \"back\"], [\"Forward\", \"Forward to next view\", \"fa fa-arrow-right icon-arrow-right\", \"forward\"], [\"\", \"\", \"\", \"\"], [\"Pan\", \"Left button pans, Right button zooms\\nx/y fixes axis, CTRL fixes aspect\", \"fa fa-arrows icon-move\", \"pan\"], [\"Zoom\", \"Zoom to rectangle\\nx/y fixes axis, CTRL fixes aspect\", \"fa fa-square-o icon-check-empty\", \"zoom\"], [\"\", \"\", \"\", \"\"], [\"Download\", \"Download plot\", \"fa fa-floppy-o icon-save\", \"download\"]];\n",
       "\n",
       "mpl.extensions = [\"eps\", \"jpeg\", \"pdf\", \"png\", \"ps\", \"raw\", \"svg\", \"tif\"];\n",
       "\n",
       "mpl.default_extension = \"png\";/* global mpl */\n",
       "\n",
       "var comm_websocket_adapter = function (comm) {\n",
       "    // Create a \"websocket\"-like object which calls the given IPython comm\n",
       "    // object with the appropriate methods. Currently this is a non binary\n",
       "    // socket, so there is still some room for performance tuning.\n",
       "    var ws = {};\n",
       "\n",
       "    ws.close = function () {\n",
       "        comm.close();\n",
       "    };\n",
       "    ws.send = function (m) {\n",
       "        //console.log('sending', m);\n",
       "        comm.send(m);\n",
       "    };\n",
       "    // Register the callback with on_msg.\n",
       "    comm.on_msg(function (msg) {\n",
       "        //console.log('receiving', msg['content']['data'], msg);\n",
       "        // Pass the mpl event to the overridden (by mpl) onmessage function.\n",
       "        ws.onmessage(msg['content']['data']);\n",
       "    });\n",
       "    return ws;\n",
       "};\n",
       "\n",
       "mpl.mpl_figure_comm = function (comm, msg) {\n",
       "    // This is the function which gets called when the mpl process\n",
       "    // starts-up an IPython Comm through the \"matplotlib\" channel.\n",
       "\n",
       "    var id = msg.content.data.id;\n",
       "    // Get hold of the div created by the display call when the Comm\n",
       "    // socket was opened in Python.\n",
       "    var element = document.getElementById(id);\n",
       "    var ws_proxy = comm_websocket_adapter(comm);\n",
       "\n",
       "    function ondownload(figure, _format) {\n",
       "        window.open(figure.canvas.toDataURL());\n",
       "    }\n",
       "\n",
       "    var fig = new mpl.figure(id, ws_proxy, ondownload, element);\n",
       "\n",
       "    // Call onopen now - mpl needs it, as it is assuming we've passed it a real\n",
       "    // web socket which is closed, not our websocket->open comm proxy.\n",
       "    ws_proxy.onopen();\n",
       "\n",
       "    fig.parent_element = element;\n",
       "    fig.cell_info = mpl.find_output_cell(\"<div id='\" + id + \"'></div>\");\n",
       "    if (!fig.cell_info) {\n",
       "        console.error('Failed to find cell for figure', id, fig);\n",
       "        return;\n",
       "    }\n",
       "    fig.cell_info[0].output_area.element.one(\n",
       "        'cleared',\n",
       "        { fig: fig },\n",
       "        fig._remove_fig_handler\n",
       "    );\n",
       "};\n",
       "\n",
       "mpl.figure.prototype.handle_close = function (fig, msg) {\n",
       "    var width = fig.canvas.width / fig.ratio;\n",
       "    fig.cell_info[0].output_area.element.off(\n",
       "        'cleared',\n",
       "        fig._remove_fig_handler\n",
       "    );\n",
       "\n",
       "    // Update the output cell to use the data from the current canvas.\n",
       "    fig.push_to_output();\n",
       "    var dataURL = fig.canvas.toDataURL();\n",
       "    // Re-enable the keyboard manager in IPython - without this line, in FF,\n",
       "    // the notebook keyboard shortcuts fail.\n",
       "    IPython.keyboard_manager.enable();\n",
       "    fig.parent_element.innerHTML =\n",
       "        '<img src=\"' + dataURL + '\" width=\"' + width + '\">';\n",
       "    fig.close_ws(fig, msg);\n",
       "};\n",
       "\n",
       "mpl.figure.prototype.close_ws = function (fig, msg) {\n",
       "    fig.send_message('closing', msg);\n",
       "    // fig.ws.close()\n",
       "};\n",
       "\n",
       "mpl.figure.prototype.push_to_output = function (_remove_interactive) {\n",
       "    // Turn the data on the canvas into data in the output cell.\n",
       "    var width = this.canvas.width / this.ratio;\n",
       "    var dataURL = this.canvas.toDataURL();\n",
       "    this.cell_info[1]['text/html'] =\n",
       "        '<img src=\"' + dataURL + '\" width=\"' + width + '\">';\n",
       "};\n",
       "\n",
       "mpl.figure.prototype.updated_canvas_event = function () {\n",
       "    // Tell IPython that the notebook contents must change.\n",
       "    IPython.notebook.set_dirty(true);\n",
       "    this.send_message('ack', {});\n",
       "    var fig = this;\n",
       "    // Wait a second, then push the new image to the DOM so\n",
       "    // that it is saved nicely (might be nice to debounce this).\n",
       "    setTimeout(function () {\n",
       "        fig.push_to_output();\n",
       "    }, 1000);\n",
       "};\n",
       "\n",
       "mpl.figure.prototype._init_toolbar = function () {\n",
       "    var fig = this;\n",
       "\n",
       "    var toolbar = document.createElement('div');\n",
       "    toolbar.classList = 'btn-toolbar';\n",
       "    this.root.appendChild(toolbar);\n",
       "\n",
       "    function on_click_closure(name) {\n",
       "        return function (_event) {\n",
       "            return fig.toolbar_button_onclick(name);\n",
       "        };\n",
       "    }\n",
       "\n",
       "    function on_mouseover_closure(tooltip) {\n",
       "        return function (event) {\n",
       "            if (!event.currentTarget.disabled) {\n",
       "                return fig.toolbar_button_onmouseover(tooltip);\n",
       "            }\n",
       "        };\n",
       "    }\n",
       "\n",
       "    fig.buttons = {};\n",
       "    var buttonGroup = document.createElement('div');\n",
       "    buttonGroup.classList = 'btn-group';\n",
       "    var button;\n",
       "    for (var toolbar_ind in mpl.toolbar_items) {\n",
       "        var name = mpl.toolbar_items[toolbar_ind][0];\n",
       "        var tooltip = mpl.toolbar_items[toolbar_ind][1];\n",
       "        var image = mpl.toolbar_items[toolbar_ind][2];\n",
       "        var method_name = mpl.toolbar_items[toolbar_ind][3];\n",
       "\n",
       "        if (!name) {\n",
       "            /* Instead of a spacer, we start a new button group. */\n",
       "            if (buttonGroup.hasChildNodes()) {\n",
       "                toolbar.appendChild(buttonGroup);\n",
       "            }\n",
       "            buttonGroup = document.createElement('div');\n",
       "            buttonGroup.classList = 'btn-group';\n",
       "            continue;\n",
       "        }\n",
       "\n",
       "        button = fig.buttons[name] = document.createElement('button');\n",
       "        button.classList = 'btn btn-default';\n",
       "        button.href = '#';\n",
       "        button.title = name;\n",
       "        button.innerHTML = '<i class=\"fa ' + image + ' fa-lg\"></i>';\n",
       "        button.addEventListener('click', on_click_closure(method_name));\n",
       "        button.addEventListener('mouseover', on_mouseover_closure(tooltip));\n",
       "        buttonGroup.appendChild(button);\n",
       "    }\n",
       "\n",
       "    if (buttonGroup.hasChildNodes()) {\n",
       "        toolbar.appendChild(buttonGroup);\n",
       "    }\n",
       "\n",
       "    // Add the status bar.\n",
       "    var status_bar = document.createElement('span');\n",
       "    status_bar.classList = 'mpl-message pull-right';\n",
       "    toolbar.appendChild(status_bar);\n",
       "    this.message = status_bar;\n",
       "\n",
       "    // Add the close button to the window.\n",
       "    var buttongrp = document.createElement('div');\n",
       "    buttongrp.classList = 'btn-group inline pull-right';\n",
       "    button = document.createElement('button');\n",
       "    button.classList = 'btn btn-mini btn-primary';\n",
       "    button.href = '#';\n",
       "    button.title = 'Stop Interaction';\n",
       "    button.innerHTML = '<i class=\"fa fa-power-off icon-remove icon-large\"></i>';\n",
       "    button.addEventListener('click', function (_evt) {\n",
       "        fig.handle_close(fig, {});\n",
       "    });\n",
       "    button.addEventListener(\n",
       "        'mouseover',\n",
       "        on_mouseover_closure('Stop Interaction')\n",
       "    );\n",
       "    buttongrp.appendChild(button);\n",
       "    var titlebar = this.root.querySelector('.ui-dialog-titlebar');\n",
       "    titlebar.insertBefore(buttongrp, titlebar.firstChild);\n",
       "};\n",
       "\n",
       "mpl.figure.prototype._remove_fig_handler = function (event) {\n",
       "    var fig = event.data.fig;\n",
       "    fig.close_ws(fig, {});\n",
       "};\n",
       "\n",
       "mpl.figure.prototype._root_extra_style = function (el) {\n",
       "    el.style.boxSizing = 'content-box'; // override notebook setting of border-box.\n",
       "};\n",
       "\n",
       "mpl.figure.prototype._canvas_extra_style = function (el) {\n",
       "    // this is important to make the div 'focusable\n",
       "    el.setAttribute('tabindex', 0);\n",
       "    // reach out to IPython and tell the keyboard manager to turn it's self\n",
       "    // off when our div gets focus\n",
       "\n",
       "    // location in version 3\n",
       "    if (IPython.notebook.keyboard_manager) {\n",
       "        IPython.notebook.keyboard_manager.register_events(el);\n",
       "    } else {\n",
       "        // location in version 2\n",
       "        IPython.keyboard_manager.register_events(el);\n",
       "    }\n",
       "};\n",
       "\n",
       "mpl.figure.prototype._key_event_extra = function (event, _name) {\n",
       "    var manager = IPython.notebook.keyboard_manager;\n",
       "    if (!manager) {\n",
       "        manager = IPython.keyboard_manager;\n",
       "    }\n",
       "\n",
       "    // Check for shift+enter\n",
       "    if (event.shiftKey && event.which === 13) {\n",
       "        this.canvas_div.blur();\n",
       "        // select the cell after this one\n",
       "        var index = IPython.notebook.find_cell_index(this.cell_info[0]);\n",
       "        IPython.notebook.select(index + 1);\n",
       "    }\n",
       "};\n",
       "\n",
       "mpl.figure.prototype.handle_save = function (fig, _msg) {\n",
       "    fig.ondownload(fig, null);\n",
       "};\n",
       "\n",
       "mpl.find_output_cell = function (html_output) {\n",
       "    // Return the cell and output element which can be found *uniquely* in the notebook.\n",
       "    // Note - this is a bit hacky, but it is done because the \"notebook_saving.Notebook\"\n",
       "    // IPython event is triggered only after the cells have been serialised, which for\n",
       "    // our purposes (turning an active figure into a static one), is too late.\n",
       "    var cells = IPython.notebook.get_cells();\n",
       "    var ncells = cells.length;\n",
       "    for (var i = 0; i < ncells; i++) {\n",
       "        var cell = cells[i];\n",
       "        if (cell.cell_type === 'code') {\n",
       "            for (var j = 0; j < cell.output_area.outputs.length; j++) {\n",
       "                var data = cell.output_area.outputs[j];\n",
       "                if (data.data) {\n",
       "                    // IPython >= 3 moved mimebundle to data attribute of output\n",
       "                    data = data.data;\n",
       "                }\n",
       "                if (data['text/html'] === html_output) {\n",
       "                    return [cell, data, j];\n",
       "                }\n",
       "            }\n",
       "        }\n",
       "    }\n",
       "};\n",
       "\n",
       "// Register the function which deals with the matplotlib target/channel.\n",
       "// The kernel may be null if the page has been refreshed.\n",
       "if (IPython.notebook.kernel !== null) {\n",
       "    IPython.notebook.kernel.comm_manager.register_target(\n",
       "        'matplotlib',\n",
       "        mpl.mpl_figure_comm\n",
       "    );\n",
       "}\n"
      ],
      "text/plain": [
       "<IPython.core.display.Javascript object>"
      ]
     },
     "metadata": {},
     "output_type": "display_data"
    },
    {
     "data": {
      "text/html": [
       "<img src=\"data:image/png;base64,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\" width=\"720\">"
      ],
      "text/plain": [
       "<IPython.core.display.HTML object>"
      ]
     },
     "metadata": {},
     "output_type": "display_data"
    }
   ],
   "source": [
    "f, axes = plt.subplots(1, 1, figsize=(10, 8))\n",
    "axes.plot(np.arange(0, Y_rand[n_initial_points:].shape[0]), min_val_list[n_initial_points:])\n",
    "axes.set_ylabel('Effective R')\n",
    "axes.set_xlabel('Number of evaluated points');"
   ]
  },
  {
   "cell_type": "code",
   "execution_count": null,
   "metadata": {},
   "outputs": [],
   "source": []
  },
  {
   "cell_type": "code",
   "execution_count": null,
   "metadata": {},
   "outputs": [],
   "source": []
  }
 ],
 "metadata": {
  "kernelspec": {
   "display_name": "Python 3",
   "language": "python",
   "name": "python3"
  },
  "language_info": {
   "codemirror_mode": {
    "name": "ipython",
    "version": 3
   },
   "file_extension": ".py",
   "mimetype": "text/x-python",
   "name": "python",
   "nbconvert_exporter": "python",
   "pygments_lexer": "ipython3",
   "version": "3.7.3"
  }
 },
 "nbformat": 4,
 "nbformat_minor": 2
}
