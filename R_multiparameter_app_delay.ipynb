{
 "cells": [
  {
   "cell_type": "markdown",
   "metadata": {},
   "source": [
    "# Multiparameter TTI Bayesian Optimization - Minimizing R and the money lost for variable values of the probability of going to school, the testing delay, and the app trace delay"
   ]
  },
  {
   "cell_type": "code",
   "execution_count": null,
   "metadata": {},
   "outputs": [],
   "source": [
    "%cd tti-explorer"
   ]
  },
  {
   "cell_type": "code",
   "execution_count": null,
   "metadata": {
    "collapsed": true
   },
   "outputs": [],
   "source": [
    "import GPy\n",
    "import GPyOpt\n",
    "from numpy.random import seed\n",
    "import matplotlib\n",
    "import numpy as np\n",
    "import math\n",
    "import pandas as pd\n",
    "import os\n",
    "from tqdm.notebook import trange\n",
    "from tti_explorer import config, utils\n",
    "from tti_explorer.case import simulate_case, CaseFactors\n",
    "from tti_explorer.contacts import EmpiricalContactsSimulator\n",
    "from tti_explorer.strategies import TTIFlowModel, RETURN_KEYS\n",
    "from tti_explorer.strategies import TTIFlowModel\n",
    "\n",
    "def load_csv(pth):\n",
    "    return np.loadtxt(pth, dtype=int, skiprows=1, delimiter=\",\")\n",
    "\n",
    "path_to_bbc_data = os.path.join(\"data\", \"bbc-pandemic\")\n",
    "over18 = load_csv(os.path.join(path_to_bbc_data, \"contact_distributions_o18.csv\"))\n",
    "under18 = load_csv(os.path.join(path_to_bbc_data, \"contact_distributions_u18.csv\"))\n",
    "\n",
    "rng = np.random.RandomState(0)"
   ]
  },
  {
   "cell_type": "markdown",
   "metadata": {},
   "source": [
    "# Hyperparameters"
   ]
  },
  {
   "cell_type": "code",
   "execution_count": null,
   "metadata": {
    "collapsed": true
   },
   "outputs": [],
   "source": [
    "\"\"\"\n",
    "\n",
    "defining global constants\n",
    "\n",
    "\"\"\"\n",
    "\n",
    "# other\n",
    "N_CASES = 10000\n",
    "LOST_DAILY_WAGE = 115\n",
    "QUARANTINE_LENGTH = 10\n",
    "TOTAL_TTI_COST = 22_000_000_000/365*10\n",
    "UK_POPULATION = 69_000_000\n",
    "TTI_COST = TOTAL_TTI_COST/UK_POPULATION * N_CASES\n",
    "DAILY_MONEY_LOST_NO_SCHOOL = 1000\n",
    "\n",
    "# probabilities\n",
    "P_UNDER18 = 0.2\n",
    "P_SYMPTOMATIC = 0.002\n",
    "P_WORK_FROM_HOME = 0.3\n",
    "P_INFECTED = 0.001\n",
    "P_COMPLIANCE = 0.8\n",
    "\n",
    "# bounds\n",
    "MAX_R = 4\n",
    "MAX_CONTACTS = 20\n",
    "MAX_CASES = N_CASES*MAX_CONTACTS\n",
    "MAX_TESTING_DELAY = 5\n",
    "MAX_MONEY = LOST_DAILY_WAGE * MAX_QUARANTINE_LENGTH * N_CASES + TTI_COST*1.3 + P_UNDER18*N_CASES*1000\n",
    "MAX_COMPLIANCE = 0.8\n",
    "MAX_QUARANTINE_LENGTH = 14\n",
    "\n",
    "\n",
    "MIN_CASES = 0\n",
    "MIN_MONEY = 0\n",
    "MIN_R = 0"
   ]
  },
  {
   "cell_type": "markdown",
   "metadata": {},
   "source": [
    "# Defining a Simulation Function"
   ]
  },
  {
   "cell_type": "markdown",
   "metadata": {},
   "source": [
    "The first step is to define the \"simulation\" function, which is going to run the covid-19 simulation given some parameter vector $\\theta$. It will return a dictionary containing some useful information which is going to help us determine how successful the simulation was, i.e. it will directly affect the cost which we will assign later on when doing the Bayesian Optimization over $\\theta$.  "
   ]
  },
  {
   "cell_type": "code",
   "execution_count": 2,
   "metadata": {
    "collapsed": true
   },
   "outputs": [],
   "source": [
    "def simulation(theta, config_details):\n",
    "    \n",
    "    \"\"\"\n",
    "    \n",
    "        theta: list in R^d where d is the number of parameters\n",
    "        config_details: dictionary where config_details[i] contains the associated\n",
    "                        to the config file in configs and the name associated to theta (for changing the config)\n",
    "                        \n",
    "    \"\"\"\n",
    "    \n",
    "    for i, val in enumerate(theta):\n",
    "        config_type = config_details[i][\"config\"]\n",
    "        config_name = config_details[i][\"name\"]\n",
    "        configs[config_type][config_name] = val\n",
    "\n",
    "    \n",
    "    factor_config = utils.get_sub_dictionary(configs[\"policy_config\"], config.DELVE_CASE_FACTOR_KEYS)\n",
    "    strategy_config = utils.get_sub_dictionary(configs[\"policy_config\"], config.DELVE_STRATEGY_FACTOR_KEYS)\n",
    "    \n",
    "    rng = np.random.RandomState(42)\n",
    "    simulate_contacts = EmpiricalContactsSimulator(over18, under18, rng)\n",
    "    tti_model = TTIFlowModel(rng, **strategy_config)\n",
    "    \n",
    "    outputs = list()\n",
    "\n",
    "    for _ in trange(N_CASES):\n",
    "        case = simulate_case(rng, **configs[\"case_config\"])\n",
    "        case_factors = CaseFactors.simulate_from(rng, case, **factor_config)\n",
    "        contacts = simulate_contacts(case, **configs[\"contacts_config\"])\n",
    "        res = tti_model(case, contacts, case_factors)\n",
    "        outputs.append(res)\n",
    "        \n",
    "    to_show = [\n",
    "        RETURN_KEYS.base_r,\n",
    "        RETURN_KEYS.reduced_r,\n",
    "        RETURN_KEYS.man_trace,\n",
    "        RETURN_KEYS.app_trace,\n",
    "        RETURN_KEYS.tests,\n",
    "        RETURN_KEYS.cases_prevented_symptom_isolating,\n",
    "        RETURN_KEYS.cases_prevented_social_distancing,\n",
    "        RETURN_KEYS.cases_prevented_contact_tracing\n",
    "    ]\n",
    "    \n",
    "    nppl = case_config['infection_proportions']['nppl']\n",
    "    scales = [1, 1, nppl, nppl, nppl, nppl, nppl, nppl]\n",
    "\n",
    "    return dict(pd.DataFrame(outputs).mean(0).loc[to_show].mul(scales))   "
   ]
  },
  {
   "cell_type": "markdown",
   "metadata": {},
   "source": [
    "# Defining the Parameter Space to Optimize Over"
   ]
  },
  {
   "cell_type": "markdown",
   "metadata": {},
   "source": [
    "For this optimization, we consider $\\theta \\in \\mathbb{R}^3$. The three parameters that we are considering are:\n",
    "- The probability of going to school\n",
    "- The testing delay\n",
    "- the app trace delay"
   ]
  },
  {
   "cell_type": "code",
   "execution_count": null,
   "metadata": {
    "collapsed": true
   },
   "outputs": [],
   "source": [
    "types = {\"go_to_school_prob\" : \"continuous\",\n",
    "         \"testing_delay\"     : \"discrete\",\n",
    "         \"app_trace_delay\"   : \"discrete\"}\n",
    "\n",
    "bounds =[{'name': 'go_to_school_prob', 'type': types['go_to_school_prob'], 'domain': (0, 1)},\n",
    "         {'name': 'testing_delay', 'type': types['testing_delay'], 'domain': (0, 5)},\n",
    "         {'name': 'app_trace_delay', 'type': types['app_trace_delay'], 'domain': (0, 5)}]\n",
    "\n",
    "config_details = {0:  {\"name\": \"go_to_school_prob\", \"config\": \"policy_config\"}, \n",
    "                  1:  {\"name\": \"testing_delay\", \"config\": \"policy_config\"},\n",
    "                  2:  {\"name\": \"app_trace_delay\", \"config\": \"policy_config\"}}"
   ]
  },
  {
   "cell_type": "markdown",
   "metadata": {},
   "source": [
    "# Key Performance Indicators / Cost"
   ]
  },
  {
   "cell_type": "markdown",
   "metadata": {},
   "source": [
    "To optimize over some parameter space, we first need to define some cost function. In this case, we will consider both $R$ as well as the money lost from people being forced into quarantine. In addition, we also define a function that gives us the number of cases prevented, another value that we could optimize (perhaps in a later cost function). "
   ]
  },
  {
   "cell_type": "code",
   "execution_count": null,
   "metadata": {
    "collapsed": true
   },
   "outputs": [],
   "source": [
    "def cases_prevented(x, output_dict):\n",
    "    \n",
    "    \"\"\"\n",
    "    \n",
    "    returns the total number of cases prevented given the results of a simulation\n",
    "    \n",
    "    \"\"\"\n",
    "    \n",
    "    cases_prevented = output_dict['# Secondary Infections Prevented by Contact Tracing'] \\\n",
    "                    + output_dict['# Secondary Infections Prevented by Social Distancing'] \\\n",
    "                    + output_dict['# Secondary Infections Prevented by Isolating Cases with Symptoms'] \n",
    "\n",
    "    return (cases_prevented-MIN_CASES)/(MAX_CASES-MIN_CASES)"
   ]
  },
  {
   "cell_type": "code",
   "execution_count": null,
   "metadata": {
    "collapsed": true
   },
   "outputs": [],
   "source": [
    "def R(x, output_dict):\n",
    "    \n",
    "    \"\"\"\n",
    "    \n",
    "    returns the effective R from the measures taken in the simulation\n",
    "    \n",
    "    \"\"\"\n",
    "    \n",
    "    return (output_dict[\"Effective R\"] - MIN_R)/(MAX_R-MIN_R)"
   ]
  },
  {
   "cell_type": "code",
   "execution_count": 3,
   "metadata": {
    "collapsed": true
   },
   "outputs": [],
   "source": [
    "def tti_cost(testing_delay):\n",
    "    \n",
    "    \"\"\"\n",
    "    \n",
    "    returns the additional TTI cost due to the testing delay\n",
    "    \n",
    "    \"\"\"\n",
    "    \n",
    "    if testing_delay  == 0: cost = TTI_COST*1.5\n",
    "    if testing_delay  == 1: cost = TTI_COST*1.3\n",
    "    if testing_delay  == 2: cost = TTI_COST*1.1\n",
    "    if testing_delay  == 3: cost = TTI_COST\n",
    "    if testing_delay  == 4: cost = TTI_COST*0.7\n",
    "    if testing_delay  == 5: cost = TTI_COST*0.5\n",
    "    \n",
    "    return cost"
   ]
  },
  {
   "cell_type": "code",
   "execution_count": null,
   "metadata": {
    "collapsed": true
   },
   "outputs": [],
   "source": [
    "def money_lost(x, output_dict):\n",
    "    \n",
    "    \"\"\"\n",
    "    \n",
    "    returns the money lost given the results of a simulation\n",
    "    \n",
    "    \"\"\"\n",
    "    \n",
    "    go_to_school_prob, testing_delay, app_trace_delay = x\n",
    "    \n",
    "    # money lost because of compliant symptomatic people who cannot work from home are forced into quarantine\n",
    "    # the total amount is also influenced by the testing and app delays since, supposing the person is actually \n",
    "    # negative, a quick test result will lead to less time in quarantine\n",
    "    lost_wages = (1 - P_UNDER18)*(1 - P_WORK_FROM_HOME)*LOST_DAILY_WAGE*P_COMPLIANCE*N_CASES*P_SYMPTOMATIC*(P_INFECTED*(app_trace_delay + QUARANTINE_LENGTH)+(1-P_INFECTED)*(app_trace_delay+testing_delay))                                \n",
    "    \n",
    "    # money lost because kids are not going to school (1000 dollars per day per kid)\n",
    "    missed_school_cost = P_UNDER18*N_CASES*DAILY_MONEY_LOST_NO_SCHOOL*(1 - go_to_school_prob)\n",
    "    \n",
    "    # cost of tti given the time taken to produce a test (will cost more if we need to produce tests more quickly)\n",
    "    cost_of_tti = tti_cost(testing_delay)\n",
    "    \n",
    "    # add up all the costs\n",
    "    lost_money = lost_wages + missed_school_cost + cost_of_tti\n",
    "    \n",
    "    return (lost_money-MIN_MONEY)/(MAX_MONEY-MIN_MONEY)"
   ]
  },
  {
   "cell_type": "code",
   "execution_count": null,
   "metadata": {
    "collapsed": true
   },
   "outputs": [],
   "source": [
    "def total_cost(x, lam = 0.5):\n",
    "    \n",
    "    \"\"\"\n",
    "    \n",
    "    returns the total cost, i.e. the money lost minus the number of cases prevented, \n",
    "    all scaled by lambda \n",
    "    \n",
    "    \n",
    "    \"\"\"\n",
    "    \n",
    "    x = x[0]\n",
    "    x_ = []\n",
    "    for i in config_details.keys():\n",
    "        if types[bounds[i][\"name\"]] == \"discrete\":\n",
    "            x_.append(int(x[i]))\n",
    "        else:\n",
    "            x_.append(x[i])\n",
    "            \n",
    "    output_dict = simulation(x_, config_details)\n",
    "    total_cost = lam*R(x_, output_dict) + (1-lam)*money_lost(x_, output_dict)\n",
    "    \n",
    "    print(\"theta:\", x_)\n",
    "    print(\"total cost:\", total_cost)\n",
    "    return total_cost"
   ]
  },
  {
   "cell_type": "markdown",
   "metadata": {},
   "source": [
    "# Bayesian Optimization on the parameters"
   ]
  },
  {
   "cell_type": "markdown",
   "metadata": {},
   "source": [
    "We are now ready to optimize over the parameter space to find the optimal value of $\\theta$. "
   ]
  },
  {
   "cell_type": "code",
   "execution_count": 4,
   "metadata": {
    "scrolled": true
   },
   "outputs": [],
   "source": [
    "def optimize():\n",
    "    \n",
    "    \"\"\"\n",
    "    \n",
    "    Runs Bayesian optimization on the total_cost function with the parameters defined elswehere\n",
    "    \n",
    "    \"\"\"\n",
    "    \n",
    "    seed(42)\n",
    "    myBopt2D = GPyOpt.methods.BayesianOptimization(total_cost,\n",
    "                                                  domain=bounds,\n",
    "                                                  model_type = 'GP',\n",
    "                                                  acquisition_type='EI',  \n",
    "                                                  normalize_Y = True,\n",
    "                                                  acquisition_weight = 2)    \n",
    "\n",
    "    myBopt2D.run_optimization(max_iter = 10 , max_time = 100 , verbosity=True, eps=1e-06)\n",
    "    \n",
    "    # evaluate the result of the optimization\n",
    "    myBopt2D.plot_acquisition()\n",
    "    myBopt2D.plot_convergence()\n",
    "    \n",
    "    return evaluate(np.expand_dims(myBopt2D.x_opt, axis=0))"
   ]
  },
  {
   "cell_type": "markdown",
   "metadata": {},
   "source": [
    "# Analyzing the Results"
   ]
  },
  {
   "cell_type": "code",
   "execution_count": 5,
   "metadata": {
    "collapsed": true
   },
   "outputs": [],
   "source": [
    "def evaluate(x):\n",
    "    \n",
    "    \"\"\"\n",
    "    \n",
    "    displays some KPIs to evaluate the performance of some value determined through Bayesian\n",
    "    Optimisation\n",
    "    \n",
    "    \"\"\"\n",
    "    \n",
    "    x_ = []\n",
    "    for i in config_details.keys():\n",
    "        if types[bounds[i][\"name\"]] == \"discrete\":\n",
    "            x_.append(int(x[0][i]))\n",
    "    else:\n",
    "        x_.append(x[0][i])\n",
    "        \n",
    "    output_dict = simulation(x_, config_details)\n",
    "    \n",
    "    prevented_cases = cases_prevented(x_, output_dict)*(MAX_CASES-MIN_CASES)+ MIN_CASES\n",
    "    effective_R = R(x_, output_dict)\n",
    "    lost_money = money_lost(x_, output_dict)*(MAX_MONEY-MIN_MONEY)+ MIN_MONEY\n",
    "    cost_total = total_cost(x)\n",
    "\n",
    "    print(\"####################################################\")\n",
    "    print(\"Key Performance Indicators\")\n",
    "    print(\"####################################################\")\n",
    "    print(\"Optimal value:\", x_[0])\n",
    "    print(\"Effective R:\", effective_R)\n",
    "    print(\"Cases Prevented: \", prevented_cases)\n",
    "    print(\"Money Lost: \", lost_money)\n",
    "    print(\"Total Cost: \", cost_total)\n",
    "\n",
    "    # compute cost per prevented hospitalization\n",
    "    p_hospitalisation = 0.1\n",
    "    prevented_hospitalisations = p_hospitalisation * prevented_cases\n",
    "    cost_per_prevented_hospitalisation = lost_money/prevented_hospitalisations\n",
    "\n",
    "    print(\"Cost per prevented hospitalization: \", cost_per_prevented_hospitalisation)"
   ]
  },
  {
   "cell_type": "code",
   "execution_count": null,
   "metadata": {},
   "outputs": [],
   "source": [
    "def compare(values = [np.array([[1, 1, 10, 1]]), np.array([[1, 1, 1, 1]])]):\n",
    "    \n",
    "    \"\"\"\n",
    "    \n",
    "    compares the KPIs for some range of values. Useful for debugging or fine-tuning the cost \n",
    "    functions prior to running some Bayesian Optimizations\n",
    "    \n",
    "    \"\"\"\n",
    "    \n",
    "    for x in values:\n",
    "        evaluate(x)"
   ]
  },
  {
   "cell_type": "markdown",
   "metadata": {},
   "source": [
    "# Main (run different types of simulations)"
   ]
  },
  {
   "cell_type": "code",
   "execution_count": null,
   "metadata": {
    "scrolled": true
   },
   "outputs": [],
   "source": [
    "for name in [\"S1_test_based_TTI\", \"S2_test_based_TTI\", \"S3_test_based_TTI\", \"S4_test_based_TTI\", \"S5_test_based_TTI\"]:\n",
    "\n",
    "    # define config file for each simulation\n",
    "    case_config = config.get_case_config(\"delve\")\n",
    "    contacts_config = config.get_contacts_config(\"delve\")\n",
    "    policy_config = config.get_strategy_configs(\"delve\", name)[name]\n",
    "    configs = {\"case_config\": case_config, \"contacts_config\": contacts_config, \"policy_config\": policy_config}\n",
    "    \n",
    "    print(\"Configuration:\", name)\n",
    "    print(\"Optimizing: \", [config_details[i][\"name\"] for i in range(3)])\n",
    "    optimize()\n",
    "    print(\"####################################################\")\n",
    "    print()"
   ]
  }
 ],
 "metadata": {
  "kernelspec": {
   "display_name": "Python 3",
   "language": "python",
   "name": "python3"
  },
  "language_info": {
   "codemirror_mode": {
    "name": "ipython",
    "version": 3
   },
   "file_extension": ".py",
   "mimetype": "text/x-python",
   "name": "python",
   "nbconvert_exporter": "python",
   "pygments_lexer": "ipython3",
   "version": "3.6.2"
  },
  "toc": {
   "base_numbering": 1,
   "nav_menu": {},
   "number_sections": true,
   "sideBar": true,
   "skip_h1_title": false,
   "title_cell": "Table of Contents",
   "title_sidebar": "Contents",
   "toc_cell": false,
   "toc_position": {},
   "toc_section_display": true,
   "toc_window_display": false
  }
 },
 "nbformat": 4,
 "nbformat_minor": 4
}
