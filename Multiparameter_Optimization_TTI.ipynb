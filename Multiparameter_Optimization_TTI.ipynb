{
 "cells": [
  {
   "cell_type": "markdown",
   "metadata": {},
   "source": [
    "# Multiparameter TTI Bayesian Optimization - Minimizing R and the money lost for variable values of the probability of going to school, the testing delay, and the app trace delay"
   ]
  },
  {
   "cell_type": "code",
   "execution_count": 1,
   "metadata": {},
   "outputs": [
    {
     "name": "stdout",
     "output_type": "stream",
     "text": [
      "/Users/louis/Desktop/BayesianTTI/tti-explorer/notebooks/tti-explorer\n"
     ]
    }
   ],
   "source": [
    "%cd tti-explorer"
   ]
  },
  {
   "cell_type": "code",
   "execution_count": 2,
   "metadata": {
    "collapsed": true
   },
   "outputs": [],
   "source": [
    "import GPy\n",
    "import GPyOpt\n",
    "from numpy.random import seed\n",
    "import matplotlib\n",
    "import numpy as np\n",
    "import math\n",
    "import pandas as pd\n",
    "import os\n",
    "from tqdm.notebook import trange\n",
    "from tti_explorer import config, utils\n",
    "from tti_explorer.case import simulate_case, CaseFactors\n",
    "from tti_explorer.contacts import EmpiricalContactsSimulator\n",
    "from tti_explorer.strategies import TTIFlowModel, RETURN_KEYS\n",
    "from tti_explorer.strategies import TTIFlowModel\n",
    "\n",
    "def load_csv(pth):\n",
    "    return np.loadtxt(pth, dtype=int, skiprows=1, delimiter=\",\")\n",
    "\n",
    "path_to_bbc_data = os.path.join(\"data\", \"bbc-pandemic\")\n",
    "over18 = load_csv(os.path.join(path_to_bbc_data, \"contact_distributions_o18.csv\"))\n",
    "under18 = load_csv(os.path.join(path_to_bbc_data, \"contact_distributions_u18.csv\"))\n",
    "\n",
    "rng = np.random.RandomState(0)"
   ]
  },
  {
   "cell_type": "markdown",
   "metadata": {},
   "source": [
    "# Hyperparameters"
   ]
  },
  {
   "cell_type": "code",
   "execution_count": 3,
   "metadata": {},
   "outputs": [],
   "source": [
    "\"\"\"\n",
    "\n",
    "defining global constants\n",
    "\n",
    "\"\"\"\n",
    "\n",
    "# other\n",
    "N_CASES = 10000\n",
    "LOST_DAILY_WAGE = 115\n",
    "QUARANTINE_LENGTH = 10\n",
    "TOTAL_TTI_COST = 22_000_000_000/365*10\n",
    "UK_POPULATION = 69_000_000\n",
    "TTI_COST = TOTAL_TTI_COST/UK_POPULATION * N_CASES\n",
    "DAILY_MONEY_LOST_NO_SCHOOL = 1000\n",
    "\n",
    "# probabilities\n",
    "P_UNDER18 = 0.2\n",
    "P_SYMPTOMATIC = 0.002\n",
    "P_WORK_FROM_HOME = 0.3\n",
    "P_INFECTED = 0.001\n",
    "P_COMPLIANCE = 0.8\n",
    "\n",
    "# bounds\n",
    "MAX_R = 4\n",
    "MAX_CONTACTS = 20\n",
    "MAX_CASES = N_CASES*MAX_CONTACTS\n",
    "MAX_TESTING_DELAY = 5\n",
    "MAX_QUARANTINE_LENGTH = 14\n",
    "MAX_MONEY = LOST_DAILY_WAGE * MAX_QUARANTINE_LENGTH * N_CASES + TTI_COST*1.3 + P_UNDER18*N_CASES*1000\n",
    "MAX_COMPLIANCE = 0.8\n",
    "\n",
    "\n",
    "MIN_CASES = 0\n",
    "MIN_MONEY = 0\n",
    "MIN_R = 0"
   ]
  },
  {
   "cell_type": "markdown",
   "metadata": {},
   "source": [
    "# Defining a Simulation Function"
   ]
  },
  {
   "cell_type": "markdown",
   "metadata": {},
   "source": [
    "The first step is to define the \"simulation\" function, which is going to run the covid-19 simulation given some parameter vector $\\theta$. It will return a dictionary containing some useful information which is going to help us determine how successful the simulation was, i.e. it will directly affect the cost which we will assign later on when doing the Bayesian Optimization over $\\theta$.  "
   ]
  },
  {
   "cell_type": "code",
   "execution_count": 4,
   "metadata": {
    "collapsed": true
   },
   "outputs": [],
   "source": [
    "def simulation(theta, config_details):\n",
    "    \n",
    "    \"\"\"\n",
    "    \n",
    "        theta: list in R^d where d is the number of parameters\n",
    "        config_details: dictionary where config_details[i] contains the associated\n",
    "                        to the config file in configs and the name associated to theta (for changing the config)\n",
    "                        \n",
    "    \"\"\"\n",
    "    \n",
    "    for i, val in enumerate(theta):\n",
    "        config_type = config_details[i][\"config\"]\n",
    "        config_name = config_details[i][\"name\"]\n",
    "        configs[config_type][config_name] = val\n",
    "\n",
    "    \n",
    "    factor_config = utils.get_sub_dictionary(configs[\"policy_config\"], config.DELVE_CASE_FACTOR_KEYS)\n",
    "    strategy_config = utils.get_sub_dictionary(configs[\"policy_config\"], config.DELVE_STRATEGY_FACTOR_KEYS)\n",
    "    \n",
    "    rng = np.random.RandomState(42)\n",
    "    simulate_contacts = EmpiricalContactsSimulator(over18, under18, rng)\n",
    "    tti_model = TTIFlowModel(rng, **strategy_config)\n",
    "    \n",
    "    outputs = list()\n",
    "\n",
    "    for _ in trange(N_CASES):\n",
    "        case = simulate_case(rng, **configs[\"case_config\"])\n",
    "        case_factors = CaseFactors.simulate_from(rng, case, **factor_config)\n",
    "        contacts = simulate_contacts(case, **configs[\"contacts_config\"])\n",
    "        res = tti_model(case, contacts, case_factors)\n",
    "        outputs.append(res)\n",
    "        \n",
    "    to_show = [\n",
    "        RETURN_KEYS.base_r,\n",
    "        RETURN_KEYS.reduced_r,\n",
    "        RETURN_KEYS.man_trace,\n",
    "        RETURN_KEYS.app_trace,\n",
    "        RETURN_KEYS.tests,\n",
    "        RETURN_KEYS.cases_prevented_symptom_isolating,\n",
    "        RETURN_KEYS.cases_prevented_social_distancing,\n",
    "        RETURN_KEYS.cases_prevented_contact_tracing\n",
    "    ]\n",
    "    \n",
    "    nppl = case_config['infection_proportions']['nppl']\n",
    "    scales = [1, 1, nppl, nppl, nppl, nppl, nppl, nppl]\n",
    "\n",
    "    return dict(pd.DataFrame(outputs).mean(0).loc[to_show].mul(scales))   "
   ]
  },
  {
   "cell_type": "markdown",
   "metadata": {},
   "source": [
    "# Defining the Parameter Space to Optimize Over"
   ]
  },
  {
   "cell_type": "markdown",
   "metadata": {},
   "source": [
    "For this optimization, we consider $\\theta \\in \\mathbb{R}^3$. The three parameters that we are considering are:\n",
    "- The probability of going to school\n",
    "- The testing delay\n",
    "- the app trace delay"
   ]
  },
  {
   "cell_type": "code",
   "execution_count": 28,
   "metadata": {},
   "outputs": [],
   "source": [
    "types = {\"go_to_school_prob\" : \"continuous\",\n",
    "         \"testing_delay\"     : \"discrete\",\n",
    "         \"quarantine_length\"   : \"discrete\"}\n",
    "\n",
    "bounds =[{'name': 'go_to_school_prob', 'type': types['go_to_school_prob'], 'domain': (0, 1)},\n",
    "         {'name': 'testing_delay', 'type': types['testing_delay'], 'domain': (0, 5)},\n",
    "         {'name': 'quarantine_length', 'type': types['quarantine_length'], 'domain': (1, 10)}]\n",
    "\n",
    "config_details = {0:  {\"name\": \"go_to_school_prob\", \"config\": \"policy_config\"}, \n",
    "                  1:  {\"name\": \"testing_delay\", \"config\": \"policy_config\"},\n",
    "                  2:  {\"name\": \"quarantine_length\", \"config\": \"policy_config\"}}"
   ]
  },
  {
   "cell_type": "markdown",
   "metadata": {},
   "source": [
    "# Key Performance Indicators / Cost"
   ]
  },
  {
   "cell_type": "markdown",
   "metadata": {},
   "source": [
    "To optimize over some parameter space, we first need to define some cost function. In this case, we will consider both $R$ as well as the money lost from people being forced into quarantine. In addition, we also define a function that gives us the number of cases prevented, another value that we could optimize (perhaps in a later cost function). "
   ]
  },
  {
   "cell_type": "code",
   "execution_count": 29,
   "metadata": {
    "collapsed": true
   },
   "outputs": [],
   "source": [
    "def cases_prevented(x, output_dict):\n",
    "    \n",
    "    \"\"\"\n",
    "    \n",
    "    returns the total number of cases prevented given the results of a simulation\n",
    "    \n",
    "    \"\"\"\n",
    "    \n",
    "    cases_prevented = output_dict['# Secondary Infections Prevented by Contact Tracing'] \\\n",
    "                    + output_dict['# Secondary Infections Prevented by Social Distancing'] \\\n",
    "                    + output_dict['# Secondary Infections Prevented by Isolating Cases with Symptoms'] \n",
    "\n",
    "    return (cases_prevented-MIN_CASES)/(MAX_CASES-MIN_CASES)"
   ]
  },
  {
   "cell_type": "code",
   "execution_count": 30,
   "metadata": {
    "collapsed": true
   },
   "outputs": [],
   "source": [
    "def R(x, output_dict):\n",
    "    \n",
    "    \"\"\"\n",
    "    \n",
    "    returns the effective R from the measures taken in the simulation\n",
    "    \n",
    "    \"\"\"\n",
    "    \n",
    "    return (output_dict[\"Effective R\"] - MIN_R)/(MAX_R-MIN_R)"
   ]
  },
  {
   "cell_type": "code",
   "execution_count": 31,
   "metadata": {
    "collapsed": true
   },
   "outputs": [],
   "source": [
    "def tti_cost(testing_delay):\n",
    "    \n",
    "    \"\"\"\n",
    "    \n",
    "    returns the additional TTI cost due to the testing delay\n",
    "    \n",
    "    \"\"\"\n",
    "        \n",
    "    if testing_delay  == 0: cost = TTI_COST*1.3\n",
    "    if testing_delay  == 1: cost = TTI_COST*1.2\n",
    "    if testing_delay  == 2: cost = TTI_COST*1.1\n",
    "    if testing_delay  == 3: cost = TTI_COST*1.0\n",
    "    if testing_delay  == 4: cost = TTI_COST*0.9\n",
    "    if testing_delay  == 5: cost = TTI_COST*0.8\n",
    "    \n",
    "    return cost"
   ]
  },
  {
   "cell_type": "code",
   "execution_count": 32,
   "metadata": {
    "collapsed": true
   },
   "outputs": [],
   "source": [
    "def money_lost(x, output_dict):\n",
    "    \n",
    "    \"\"\"\n",
    "    \n",
    "    returns the money lost given the results of a simulation\n",
    "    \n",
    "    \"\"\"\n",
    "    \n",
    "    go_to_school_prob, testing_delay, quarantine_length = x\n",
    "    \n",
    "    # money lost because of compliant symptomatic people who cannot work from home are forced into quarantine\n",
    "    # the total amount is also influenced by the testing and app delays since, supposing the person is actually \n",
    "    # negative, a quick test result will lead to less time in quarantine\n",
    "    \n",
    "    #lost_wages = (1 - P_UNDER18)*(1 - P_WORK_FROM_HOME)*LOST_DAILY_WAGE*P_COMPLIANCE*N_CASES*P_SYMPTOMATIC*(P_INFECTED*(app_trace_delay + QUARANTINE_LENGTH)+(1-P_INFECTED)*(app_trace_delay+testing_delay))    \n",
    "    lost_wages = (1 - P_UNDER18)*(1 - P_WORK_FROM_HOME)*LOST_DAILY_WAGE*P_COMPLIANCE*N_CASES*P_SYMPTOMATIC*(P_INFECTED*quarantine_length + (1-P_INFECTED)*testing_delay)\n",
    "    \n",
    "    # money lost because kids are not going to school (1000 dollars per day per kid)\n",
    "    missed_school_cost = P_UNDER18*N_CASES*DAILY_MONEY_LOST_NO_SCHOOL*(1 - go_to_school_prob)\n",
    "    \n",
    "    # cost of tti given the time taken to produce a test (will cost more if we need to produce tests more quickly)\n",
    "    cost_of_tti = tti_cost(testing_delay)\n",
    "    \n",
    "    # add up all the costs\n",
    "    lost_money = lost_wages + missed_school_cost + cost_of_tti\n",
    "    \n",
    "    return (lost_money-MIN_MONEY)/(MAX_MONEY-MIN_MONEY)"
   ]
  },
  {
   "cell_type": "code",
   "execution_count": 48,
   "metadata": {
    "collapsed": true
   },
   "outputs": [],
   "source": [
    "def total_cost_R(x):\n",
    "    \n",
    "    \"\"\"\n",
    "    \n",
    "    returns the total cost, i.e. the money lost minus the number of cases prevented, \n",
    "    all scaled by lambda \n",
    "    \n",
    "    \n",
    "    \"\"\"\n",
    "    \n",
    "    x = x[0]\n",
    "    x_ = []\n",
    "    for i in config_details.keys():\n",
    "        if types[bounds[i][\"name\"]] == \"discrete\":\n",
    "            x_.append(int(x[i]))\n",
    "        else:\n",
    "            x_.append(x[i])\n",
    "            \n",
    "    output_dict = simulation(x_, config_details)\n",
    "    total_cost = lam*R(x_, output_dict) + (1-lam)*money_lost(x_, output_dict)\n",
    "    \n",
    "    print(\"theta:\", x_)\n",
    "    print(\"total cost:\", total_cost)\n",
    "    return total_cost"
   ]
  },
  {
   "cell_type": "code",
   "execution_count": 49,
   "metadata": {
    "collapsed": true
   },
   "outputs": [],
   "source": [
    "def total_cost_cases_prevented(x):\n",
    "    \n",
    "    \"\"\"\n",
    "    \n",
    "    returns the total cost, i.e. the money lost minus the number of cases prevented, \n",
    "    all scaled by lambda \n",
    "    \n",
    "    \n",
    "    \"\"\"\n",
    "    \n",
    "    x = x[0]\n",
    "    x_ = []\n",
    "    for i in config_details.keys():\n",
    "        if types[bounds[i][\"name\"]] == \"discrete\":\n",
    "            x_.append(int(x[i]))\n",
    "        else:\n",
    "            x_.append(x[i])\n",
    "            \n",
    "    output_dict = simulation(x_, config_details)\n",
    "    total_cost = lam*cases_prevented(x_, output_dict) + (1-lam)*money_lost(x_, output_dict)\n",
    "    \n",
    "    print(\"theta:\", x_)\n",
    "    print(\"total cost:\", total_cost)\n",
    "    return total_cost"
   ]
  },
  {
   "cell_type": "markdown",
   "metadata": {},
   "source": [
    "# Bayesian Optimization on the parameters"
   ]
  },
  {
   "cell_type": "markdown",
   "metadata": {},
   "source": [
    "We are now ready to optimize over the parameter space to find the optimal value of $\\theta$. "
   ]
  },
  {
   "cell_type": "code",
   "execution_count": 51,
   "metadata": {
    "scrolled": true
   },
   "outputs": [],
   "source": [
    "def optimize(cost_function):\n",
    "    \n",
    "    \"\"\"\n",
    "    \n",
    "    Runs Bayesian optimization on cost_function with the parameters defined elswehere\n",
    "    \n",
    "    \"\"\"\n",
    "    \n",
    "    seed(42)\n",
    "    print(\"Setting up optimization...\")\n",
    "    optimizer = GPyOpt.methods.BayesianOptimization(cost_function,\n",
    "                                                  domain=bounds,\n",
    "                                                  model_type = 'GP',\n",
    "                                                  acquisition_type='EI',  \n",
    "                                                  normalize_Y = True)    \n",
    "    \n",
    "    print(\"Starting optimization...\")\n",
    "    optimizer.run_optimization(max_iter = 10 , max_time = 100 , verbosity=True, eps=1e-06)\n",
    "    \n",
    "    # evaluate the result of the optimization\n",
    "    optimizer.plot_acquisition()\n",
    "    optimizer.plot_convergence()\n",
    "    \n",
    "    return evaluate(np.expand_dims(optimizer.x_opt, axis=0))"
   ]
  },
  {
   "cell_type": "markdown",
   "metadata": {},
   "source": [
    "# Analyzing the Results"
   ]
  },
  {
   "cell_type": "code",
   "execution_count": 52,
   "metadata": {
    "collapsed": true
   },
   "outputs": [],
   "source": [
    "def evaluate(x):\n",
    "    \n",
    "    \"\"\"\n",
    "    \n",
    "    displays some KPIs to evaluate the performance of some value determined through Bayesian\n",
    "    Optimisation\n",
    "    \n",
    "    \"\"\"\n",
    "    \n",
    "    x_ = []\n",
    "    for i in config_details.keys():\n",
    "        if types[bounds[i][\"name\"]] == \"discrete\":\n",
    "            x_.append(int(x[0][i]))\n",
    "        else:\n",
    "            x_.append(x[0][i])\n",
    "        \n",
    "    output_dict = simulation(x_, config_details)\n",
    "    \n",
    "    prevented_cases = cases_prevented(x_, output_dict)*(MAX_CASES-MIN_CASES)+ MIN_CASES\n",
    "    effective_R = R(x_, output_dict)\n",
    "    lost_money = money_lost(x_, output_dict)*(MAX_MONEY-MIN_MONEY)+ MIN_MONEY\n",
    "    cost_total = total_cost(x)\n",
    "    \n",
    "    print()\n",
    "    print(\"####################################################\")\n",
    "    print(\"Key Performance Indicators\")\n",
    "    print(\"####################################################\")\n",
    "    print(\"Optimal value:\", x_)\n",
    "    print(\"Effective R:\", effective_R)\n",
    "    print(\"Cases Prevented: \", prevented_cases)\n",
    "    print(\"Money Lost: \", lost_money)\n",
    "    print(\"Total Cost: \", cost_total)\n",
    "\n",
    "    # compute cost per prevented hospitalization\n",
    "    p_hospitalisation = 0.1\n",
    "    prevented_hospitalisations = p_hospitalisation * prevented_cases\n",
    "    cost_per_prevented_hospitalisation = lost_money/prevented_hospitalisations\n",
    "\n",
    "    print(\"Cost per prevented hospitalization: \", cost_per_prevented_hospitalisation)"
   ]
  },
  {
   "cell_type": "code",
   "execution_count": 53,
   "metadata": {},
   "outputs": [],
   "source": [
    "def compare(values = [np.array([[1, 1, 10, 1]]), np.array([[1, 1, 1, 1]])]):\n",
    "    \n",
    "    \"\"\"\n",
    "    \n",
    "    compares the KPIs for some range of values. Useful for debugging or fine-tuning the cost \n",
    "    functions prior to running some Bayesian Optimizations\n",
    "    \n",
    "    \"\"\"\n",
    "    \n",
    "    for x in values:\n",
    "        evaluate(x)"
   ]
  },
  {
   "cell_type": "markdown",
   "metadata": {},
   "source": [
    "# Main (run different types of simulations)"
   ]
  },
  {
   "cell_type": "markdown",
   "metadata": {},
   "source": [
    "## Cost Function takes into account R and the money lost (varying $\\lambda$)"
   ]
  },
  {
   "cell_type": "code",
   "execution_count": 57,
   "metadata": {
    "scrolled": true
   },
   "outputs": [
    {
     "name": "stdout",
     "output_type": "stream",
     "text": [
      "####################################################\n",
      "Configuration: S1_test_based_TTI\n",
      "Cost function: total_cost_R\n",
      "Optimizing:  ['go_to_school_prob', 'testing_delay', 'quarantine_length']\n",
      "----------------------------------------------------------------------------\n",
      "\n",
      "lambda =  0.1\n"
     ]
    },
    {
     "data": {
      "application/vnd.jupyter.widget-view+json": {
       "model_id": "907ec0dee29f4917a6205bf092411830",
       "version_major": 2,
       "version_minor": 0
      },
      "text/plain": [
       "A Jupyter Widget"
      ]
     },
     "metadata": {},
     "output_type": "display_data"
    },
    {
     "name": "stdout",
     "output_type": "stream",
     "text": [
      "\n",
      "theta: [0.15599452033620265, 0, 10]\n",
      "total cost: 0.13182897167035468\n"
     ]
    },
    {
     "data": {
      "application/vnd.jupyter.widget-view+json": {
       "model_id": "b31e5120f0694a0e854f46114990f10b",
       "version_major": 2,
       "version_minor": 0
      },
      "text/plain": [
       "A Jupyter Widget"
      ]
     },
     "metadata": {},
     "output_type": "display_data"
    },
    {
     "name": "stdout",
     "output_type": "stream",
     "text": [
      "\n",
      "theta: [0.05808361216819946, 5, 1]\n",
      "total cost: 0.14524588938337848\n"
     ]
    },
    {
     "data": {
      "application/vnd.jupyter.widget-view+json": {
       "model_id": "7b28fc16cf0c4c0f9960bc8b912d0701",
       "version_major": 2,
       "version_minor": 0
      },
      "text/plain": [
       "A Jupyter Widget"
      ]
     },
     "metadata": {},
     "output_type": "display_data"
    },
    {
     "name": "stdout",
     "output_type": "stream",
     "text": [
      "\n",
      "theta: [0.8661761457749352, 0, 1]\n",
      "total cost: 0.06490381922111438\n"
     ]
    },
    {
     "data": {
      "application/vnd.jupyter.widget-view+json": {
       "model_id": "bab86b4c790c4300860a124b8a10f2b4",
       "version_major": 2,
       "version_minor": 0
      },
      "text/plain": [
       "A Jupyter Widget"
      ]
     },
     "metadata": {},
     "output_type": "display_data"
    },
    {
     "name": "stdout",
     "output_type": "stream",
     "text": [
      "\n",
      "theta: [0.6011150117432088, 0, 1]\n",
      "total cost: 0.09015510170262905\n"
     ]
    },
    {
     "data": {
      "application/vnd.jupyter.widget-view+json": {
       "model_id": "4bb096cad6114252b659b08a644c5fb1",
       "version_major": 2,
       "version_minor": 0
      },
      "text/plain": [
       "A Jupyter Widget"
      ]
     },
     "metadata": {},
     "output_type": "display_data"
    },
    {
     "name": "stdout",
     "output_type": "stream",
     "text": [
      "\n",
      "theta: [0.7080725777960455, 0, 10]\n",
      "total cost: 0.08001715677875663\n"
     ]
    },
    {
     "data": {
      "application/vnd.jupyter.widget-view+json": {
       "model_id": "53d5c6e1d06c442db858d3f6e1c221b8",
       "version_major": 2,
       "version_minor": 0
      },
      "text/plain": [
       "A Jupyter Widget"
      ]
     },
     "metadata": {},
     "output_type": "display_data"
    },
    {
     "name": "stdout",
     "output_type": "stream",
     "text": [
      "\n",
      "theta: [1.0, 0, 1]\n",
      "total cost: 0.05215599307070997\n",
      "num acquisition: 1, time elapsed: 8.03s\n"
     ]
    },
    {
     "data": {
      "application/vnd.jupyter.widget-view+json": {
       "model_id": "effe3bc5362042a6acfc7e25c0db5b94",
       "version_major": 2,
       "version_minor": 0
      },
      "text/plain": [
       "A Jupyter Widget"
      ]
     },
     "metadata": {},
     "output_type": "display_data"
    },
    {
     "name": "stdout",
     "output_type": "stream",
     "text": [
      "\n",
      "theta: [0.9995577032504386, 5, 10]\n",
      "total cost: 0.05751380321714023\n",
      "num acquisition: 2, time elapsed: 15.71s\n"
     ]
    },
    {
     "data": {
      "application/vnd.jupyter.widget-view+json": {
       "model_id": "ccada44a1855492298b44cb90d4cd23c",
       "version_major": 2,
       "version_minor": 0
      },
      "text/plain": [
       "A Jupyter Widget"
      ]
     },
     "metadata": {},
     "output_type": "display_data"
    },
    {
     "name": "stdout",
     "output_type": "stream",
     "text": [
      "\n",
      "theta: [0.36965963427636583, 5, 10]\n",
      "total cost: 0.11670265209021796\n",
      "num acquisition: 3, time elapsed: 24.18s\n"
     ]
    },
    {
     "data": {
      "application/vnd.jupyter.widget-view+json": {
       "model_id": "d387d5f41bf34e778a9b673817c6bea4",
       "version_major": 2,
       "version_minor": 0
      },
      "text/plain": [
       "A Jupyter Widget"
      ]
     },
     "metadata": {},
     "output_type": "display_data"
    },
    {
     "name": "stdout",
     "output_type": "stream",
     "text": [
      "\n",
      "theta: [1.0, 0, 10]\n",
      "total cost: 0.052156451313917586\n",
      "num acquisition: 4, time elapsed: 32.22s\n"
     ]
    },
    {
     "data": {
      "application/vnd.jupyter.widget-view+json": {
       "model_id": "94436126c4954ba3a6c444d794cf2064",
       "version_major": 2,
       "version_minor": 0
      },
      "text/plain": [
       "A Jupyter Widget"
      ]
     },
     "metadata": {},
     "output_type": "display_data"
    },
    {
     "name": "stdout",
     "output_type": "stream",
     "text": [
      "\n",
      "theta: [1.0, 5, 1]\n",
      "total cost: 0.05746963390568804\n",
      "num acquisition: 5, time elapsed: 39.47s\n"
     ]
    },
    {
     "data": {
      "application/vnd.jupyter.widget-view+json": {
       "model_id": "f6f996d2aecb454eace80714a178ba8e",
       "version_major": 2,
       "version_minor": 0
      },
      "text/plain": [
       "A Jupyter Widget"
      ]
     },
     "metadata": {},
     "output_type": "display_data"
    },
    {
     "name": "stdout",
     "output_type": "stream",
     "text": [
      "\n",
      "theta: [0.0, 0, 1]\n",
      "total cost: 0.1459995917636367\n",
      "num acquisition: 6, time elapsed: 46.89s\n"
     ]
    },
    {
     "data": {
      "application/vnd.jupyter.widget-view+json": {
       "model_id": "fdfdf89e584e430e947b1f3586e3d8fd",
       "version_major": 2,
       "version_minor": 0
      },
      "text/plain": [
       "A Jupyter Widget"
      ]
     },
     "metadata": {},
     "output_type": "display_data"
    },
    {
     "name": "stdout",
     "output_type": "stream",
     "text": [
      "\n",
      "theta: [0.7769078212473434, 5, 1]\n",
      "total cost: 0.07851071752720849\n",
      "num acquisition: 7, time elapsed: 55.32s\n"
     ]
    },
    {
     "data": {
      "application/vnd.jupyter.widget-view+json": {
       "model_id": "1a42b9988de540cab77ba3d4b6d2ed37",
       "version_major": 2,
       "version_minor": 0
      },
      "text/plain": [
       "A Jupyter Widget"
      ]
     },
     "metadata": {},
     "output_type": "display_data"
    },
    {
     "name": "stdout",
     "output_type": "stream",
     "text": [
      "\n",
      "theta: [0.9994590671864021, 0, 10]\n",
      "total cost: 0.0522099103347093\n",
      "num acquisition: 8, time elapsed: 63.59s\n"
     ]
    },
    {
     "data": {
      "application/vnd.jupyter.widget-view+json": {
       "model_id": "2c075f8ecac745848ee3652be6cd0b64",
       "version_major": 2,
       "version_minor": 0
      },
      "text/plain": [
       "A Jupyter Widget"
      ]
     },
     "metadata": {},
     "output_type": "display_data"
    },
    {
     "ename": "KeyboardInterrupt",
     "evalue": "",
     "output_type": "error",
     "traceback": [
      "\u001b[0;31m---------------------------------------------------------------------------\u001b[0m",
      "\u001b[0;31mKeyboardInterrupt\u001b[0m                         Traceback (most recent call last)",
      "\u001b[0;32m<ipython-input-57-3de276c223d9>\u001b[0m in \u001b[0;36m<module>\u001b[0;34m()\u001b[0m\n\u001b[1;32m     16\u001b[0m         \u001b[0mprint\u001b[0m\u001b[0;34m(\u001b[0m\u001b[0;34m\"----------------------------------------------------------------------------\"\u001b[0m\u001b[0;34m)\u001b[0m \u001b[0;34m;\u001b[0m \u001b[0mprint\u001b[0m\u001b[0;34m(\u001b[0m\u001b[0;34m)\u001b[0m\u001b[0;34m\u001b[0m\u001b[0m\n\u001b[1;32m     17\u001b[0m         \u001b[0mprint\u001b[0m\u001b[0;34m(\u001b[0m\u001b[0;34m\"lambda = \"\u001b[0m\u001b[0;34m,\u001b[0m \u001b[0mlam\u001b[0m\u001b[0;34m)\u001b[0m\u001b[0;34m\u001b[0m\u001b[0m\n\u001b[0;32m---> 18\u001b[0;31m         \u001b[0moptimize\u001b[0m\u001b[0;34m(\u001b[0m\u001b[0mcost_function\u001b[0m\u001b[0;34m=\u001b[0m\u001b[0mtotal_cost_R\u001b[0m\u001b[0;34m)\u001b[0m\u001b[0;34m\u001b[0m\u001b[0m\n\u001b[0m\u001b[1;32m     19\u001b[0m         \u001b[0mprint\u001b[0m\u001b[0;34m(\u001b[0m\u001b[0;34m\"####################################################\"\u001b[0m\u001b[0;34m)\u001b[0m \u001b[0;34m;\u001b[0m \u001b[0mprint\u001b[0m\u001b[0;34m(\u001b[0m\u001b[0;34m)\u001b[0m\u001b[0;34m\u001b[0m\u001b[0m\n",
      "\u001b[0;32m<ipython-input-51-de08efc9bccb>\u001b[0m in \u001b[0;36moptimize\u001b[0;34m(cost_function)\u001b[0m\n\u001b[1;32m     14\u001b[0m                                                   normalize_Y = True)    \n\u001b[1;32m     15\u001b[0m \u001b[0;34m\u001b[0m\u001b[0m\n\u001b[0;32m---> 16\u001b[0;31m     \u001b[0mmyBopt2D\u001b[0m\u001b[0;34m.\u001b[0m\u001b[0mrun_optimization\u001b[0m\u001b[0;34m(\u001b[0m\u001b[0mmax_iter\u001b[0m \u001b[0;34m=\u001b[0m \u001b[0;36m10\u001b[0m \u001b[0;34m,\u001b[0m \u001b[0mmax_time\u001b[0m \u001b[0;34m=\u001b[0m \u001b[0;36m100\u001b[0m \u001b[0;34m,\u001b[0m \u001b[0mverbosity\u001b[0m\u001b[0;34m=\u001b[0m\u001b[0;32mTrue\u001b[0m\u001b[0;34m,\u001b[0m \u001b[0meps\u001b[0m\u001b[0;34m=\u001b[0m\u001b[0;36m1e-06\u001b[0m\u001b[0;34m)\u001b[0m\u001b[0;34m\u001b[0m\u001b[0m\n\u001b[0m\u001b[1;32m     17\u001b[0m \u001b[0;34m\u001b[0m\u001b[0m\n\u001b[1;32m     18\u001b[0m     \u001b[0;31m# evaluate the result of the optimization\u001b[0m\u001b[0;34m\u001b[0m\u001b[0;34m\u001b[0m\u001b[0m\n",
      "\u001b[0;32m/anaconda3/lib/python3.6/site-packages/GPyOpt/core/bo.py\u001b[0m in \u001b[0;36mrun_optimization\u001b[0;34m(self, max_iter, max_time, eps, context, verbosity, save_models_parameters, report_file, evaluations_file, models_file)\u001b[0m\n\u001b[1;32m    149\u001b[0m \u001b[0;34m\u001b[0m\u001b[0m\n\u001b[1;32m    150\u001b[0m             \u001b[0;31m# --- Evaluate *f* in X, augment Y and update cost function (if needed)\u001b[0m\u001b[0;34m\u001b[0m\u001b[0;34m\u001b[0m\u001b[0m\n\u001b[0;32m--> 151\u001b[0;31m             \u001b[0mself\u001b[0m\u001b[0;34m.\u001b[0m\u001b[0mevaluate_objective\u001b[0m\u001b[0;34m(\u001b[0m\u001b[0;34m)\u001b[0m\u001b[0;34m\u001b[0m\u001b[0m\n\u001b[0m\u001b[1;32m    152\u001b[0m \u001b[0;34m\u001b[0m\u001b[0m\n\u001b[1;32m    153\u001b[0m             \u001b[0;31m# --- Update current evaluation time and function evaluations\u001b[0m\u001b[0;34m\u001b[0m\u001b[0;34m\u001b[0m\u001b[0m\n",
      "\u001b[0;32m/anaconda3/lib/python3.6/site-packages/GPyOpt/core/bo.py\u001b[0m in \u001b[0;36mevaluate_objective\u001b[0;34m(self)\u001b[0m\n\u001b[1;32m    195\u001b[0m         \u001b[0mEvaluates\u001b[0m \u001b[0mthe\u001b[0m \u001b[0mobjective\u001b[0m\u001b[0;34m\u001b[0m\u001b[0m\n\u001b[1;32m    196\u001b[0m         \"\"\"\n\u001b[0;32m--> 197\u001b[0;31m         \u001b[0mself\u001b[0m\u001b[0;34m.\u001b[0m\u001b[0mY_new\u001b[0m\u001b[0;34m,\u001b[0m \u001b[0mcost_new\u001b[0m \u001b[0;34m=\u001b[0m \u001b[0mself\u001b[0m\u001b[0;34m.\u001b[0m\u001b[0mobjective\u001b[0m\u001b[0;34m.\u001b[0m\u001b[0mevaluate\u001b[0m\u001b[0;34m(\u001b[0m\u001b[0mself\u001b[0m\u001b[0;34m.\u001b[0m\u001b[0msuggested_sample\u001b[0m\u001b[0;34m)\u001b[0m\u001b[0;34m\u001b[0m\u001b[0m\n\u001b[0m\u001b[1;32m    198\u001b[0m         \u001b[0mself\u001b[0m\u001b[0;34m.\u001b[0m\u001b[0mcost\u001b[0m\u001b[0;34m.\u001b[0m\u001b[0mupdate_cost_model\u001b[0m\u001b[0;34m(\u001b[0m\u001b[0mself\u001b[0m\u001b[0;34m.\u001b[0m\u001b[0msuggested_sample\u001b[0m\u001b[0;34m,\u001b[0m \u001b[0mcost_new\u001b[0m\u001b[0;34m)\u001b[0m\u001b[0;34m\u001b[0m\u001b[0m\n\u001b[1;32m    199\u001b[0m         \u001b[0mself\u001b[0m\u001b[0;34m.\u001b[0m\u001b[0mY\u001b[0m \u001b[0;34m=\u001b[0m \u001b[0mnp\u001b[0m\u001b[0;34m.\u001b[0m\u001b[0mvstack\u001b[0m\u001b[0;34m(\u001b[0m\u001b[0;34m(\u001b[0m\u001b[0mself\u001b[0m\u001b[0;34m.\u001b[0m\u001b[0mY\u001b[0m\u001b[0;34m,\u001b[0m\u001b[0mself\u001b[0m\u001b[0;34m.\u001b[0m\u001b[0mY_new\u001b[0m\u001b[0;34m)\u001b[0m\u001b[0;34m)\u001b[0m\u001b[0;34m\u001b[0m\u001b[0m\n",
      "\u001b[0;32m/anaconda3/lib/python3.6/site-packages/GPyOpt/core/task/objective.py\u001b[0m in \u001b[0;36mevaluate\u001b[0;34m(self, x)\u001b[0m\n\u001b[1;32m     48\u001b[0m \u001b[0;34m\u001b[0m\u001b[0m\n\u001b[1;32m     49\u001b[0m         \u001b[0;32mif\u001b[0m \u001b[0mself\u001b[0m\u001b[0;34m.\u001b[0m\u001b[0mn_procs\u001b[0m \u001b[0;34m==\u001b[0m \u001b[0;36m1\u001b[0m\u001b[0;34m:\u001b[0m\u001b[0;34m\u001b[0m\u001b[0m\n\u001b[0;32m---> 50\u001b[0;31m             \u001b[0mf_evals\u001b[0m\u001b[0;34m,\u001b[0m \u001b[0mcost_evals\u001b[0m \u001b[0;34m=\u001b[0m \u001b[0mself\u001b[0m\u001b[0;34m.\u001b[0m\u001b[0m_eval_func\u001b[0m\u001b[0;34m(\u001b[0m\u001b[0mx\u001b[0m\u001b[0;34m)\u001b[0m\u001b[0;34m\u001b[0m\u001b[0m\n\u001b[0m\u001b[1;32m     51\u001b[0m         \u001b[0;32melse\u001b[0m\u001b[0;34m:\u001b[0m\u001b[0;34m\u001b[0m\u001b[0m\n\u001b[1;32m     52\u001b[0m             \u001b[0;32mtry\u001b[0m\u001b[0;34m:\u001b[0m\u001b[0;34m\u001b[0m\u001b[0m\n",
      "\u001b[0;32m/anaconda3/lib/python3.6/site-packages/GPyOpt/core/task/objective.py\u001b[0m in \u001b[0;36m_eval_func\u001b[0;34m(self, x)\u001b[0m\n\u001b[1;32m     72\u001b[0m         \u001b[0;32mfor\u001b[0m \u001b[0mi\u001b[0m \u001b[0;32min\u001b[0m \u001b[0mrange\u001b[0m\u001b[0;34m(\u001b[0m\u001b[0mx\u001b[0m\u001b[0;34m.\u001b[0m\u001b[0mshape\u001b[0m\u001b[0;34m[\u001b[0m\u001b[0;36m0\u001b[0m\u001b[0;34m]\u001b[0m\u001b[0;34m)\u001b[0m\u001b[0;34m:\u001b[0m\u001b[0;34m\u001b[0m\u001b[0m\n\u001b[1;32m     73\u001b[0m             \u001b[0mst_time\u001b[0m    \u001b[0;34m=\u001b[0m \u001b[0mtime\u001b[0m\u001b[0;34m.\u001b[0m\u001b[0mtime\u001b[0m\u001b[0;34m(\u001b[0m\u001b[0;34m)\u001b[0m\u001b[0;34m\u001b[0m\u001b[0m\n\u001b[0;32m---> 74\u001b[0;31m             \u001b[0mrlt\u001b[0m \u001b[0;34m=\u001b[0m \u001b[0mself\u001b[0m\u001b[0;34m.\u001b[0m\u001b[0mfunc\u001b[0m\u001b[0;34m(\u001b[0m\u001b[0mnp\u001b[0m\u001b[0;34m.\u001b[0m\u001b[0matleast_2d\u001b[0m\u001b[0;34m(\u001b[0m\u001b[0mx\u001b[0m\u001b[0;34m[\u001b[0m\u001b[0mi\u001b[0m\u001b[0;34m]\u001b[0m\u001b[0;34m)\u001b[0m\u001b[0;34m)\u001b[0m\u001b[0;34m\u001b[0m\u001b[0m\n\u001b[0m\u001b[1;32m     75\u001b[0m             \u001b[0mf_evals\u001b[0m     \u001b[0;34m=\u001b[0m \u001b[0mnp\u001b[0m\u001b[0;34m.\u001b[0m\u001b[0mvstack\u001b[0m\u001b[0;34m(\u001b[0m\u001b[0;34m[\u001b[0m\u001b[0mf_evals\u001b[0m\u001b[0;34m,\u001b[0m\u001b[0mrlt\u001b[0m\u001b[0;34m]\u001b[0m\u001b[0;34m)\u001b[0m\u001b[0;34m\u001b[0m\u001b[0m\n\u001b[1;32m     76\u001b[0m             \u001b[0mcost_evals\u001b[0m \u001b[0;34m+=\u001b[0m \u001b[0;34m[\u001b[0m\u001b[0mtime\u001b[0m\u001b[0;34m.\u001b[0m\u001b[0mtime\u001b[0m\u001b[0;34m(\u001b[0m\u001b[0;34m)\u001b[0m\u001b[0;34m-\u001b[0m\u001b[0mst_time\u001b[0m\u001b[0;34m]\u001b[0m\u001b[0;34m\u001b[0m\u001b[0m\n",
      "\u001b[0;32m<ipython-input-48-8773a51b0652>\u001b[0m in \u001b[0;36mtotal_cost_R\u001b[0;34m(x)\u001b[0m\n\u001b[1;32m     17\u001b[0m             \u001b[0mx_\u001b[0m\u001b[0;34m.\u001b[0m\u001b[0mappend\u001b[0m\u001b[0;34m(\u001b[0m\u001b[0mx\u001b[0m\u001b[0;34m[\u001b[0m\u001b[0mi\u001b[0m\u001b[0;34m]\u001b[0m\u001b[0;34m)\u001b[0m\u001b[0;34m\u001b[0m\u001b[0m\n\u001b[1;32m     18\u001b[0m \u001b[0;34m\u001b[0m\u001b[0m\n\u001b[0;32m---> 19\u001b[0;31m     \u001b[0moutput_dict\u001b[0m \u001b[0;34m=\u001b[0m \u001b[0msimulation\u001b[0m\u001b[0;34m(\u001b[0m\u001b[0mx_\u001b[0m\u001b[0;34m,\u001b[0m \u001b[0mconfig_details\u001b[0m\u001b[0;34m)\u001b[0m\u001b[0;34m\u001b[0m\u001b[0m\n\u001b[0m\u001b[1;32m     20\u001b[0m     \u001b[0mtotal_cost\u001b[0m \u001b[0;34m=\u001b[0m \u001b[0mlam\u001b[0m\u001b[0;34m*\u001b[0m\u001b[0mR\u001b[0m\u001b[0;34m(\u001b[0m\u001b[0mx_\u001b[0m\u001b[0;34m,\u001b[0m \u001b[0moutput_dict\u001b[0m\u001b[0;34m)\u001b[0m \u001b[0;34m+\u001b[0m \u001b[0;34m(\u001b[0m\u001b[0;36m1\u001b[0m\u001b[0;34m-\u001b[0m\u001b[0mlam\u001b[0m\u001b[0;34m)\u001b[0m\u001b[0;34m*\u001b[0m\u001b[0mmoney_lost\u001b[0m\u001b[0;34m(\u001b[0m\u001b[0mx_\u001b[0m\u001b[0;34m,\u001b[0m \u001b[0moutput_dict\u001b[0m\u001b[0;34m)\u001b[0m\u001b[0;34m\u001b[0m\u001b[0m\n\u001b[1;32m     21\u001b[0m \u001b[0;34m\u001b[0m\u001b[0m\n",
      "\u001b[0;32m<ipython-input-4-f8ef86380e4f>\u001b[0m in \u001b[0;36msimulation\u001b[0;34m(theta, config_details)\u001b[0m\n\u001b[1;32m     24\u001b[0m     \u001b[0moutputs\u001b[0m \u001b[0;34m=\u001b[0m \u001b[0mlist\u001b[0m\u001b[0;34m(\u001b[0m\u001b[0;34m)\u001b[0m\u001b[0;34m\u001b[0m\u001b[0m\n\u001b[1;32m     25\u001b[0m \u001b[0;34m\u001b[0m\u001b[0m\n\u001b[0;32m---> 26\u001b[0;31m     \u001b[0;32mfor\u001b[0m \u001b[0m_\u001b[0m \u001b[0;32min\u001b[0m \u001b[0mtrange\u001b[0m\u001b[0;34m(\u001b[0m\u001b[0mN_CASES\u001b[0m\u001b[0;34m)\u001b[0m\u001b[0;34m:\u001b[0m\u001b[0;34m\u001b[0m\u001b[0m\n\u001b[0m\u001b[1;32m     27\u001b[0m         \u001b[0mcase\u001b[0m \u001b[0;34m=\u001b[0m \u001b[0msimulate_case\u001b[0m\u001b[0;34m(\u001b[0m\u001b[0mrng\u001b[0m\u001b[0;34m,\u001b[0m \u001b[0;34m**\u001b[0m\u001b[0mconfigs\u001b[0m\u001b[0;34m[\u001b[0m\u001b[0;34m\"case_config\"\u001b[0m\u001b[0;34m]\u001b[0m\u001b[0;34m)\u001b[0m\u001b[0;34m\u001b[0m\u001b[0m\n\u001b[1;32m     28\u001b[0m         \u001b[0mcase_factors\u001b[0m \u001b[0;34m=\u001b[0m \u001b[0mCaseFactors\u001b[0m\u001b[0;34m.\u001b[0m\u001b[0msimulate_from\u001b[0m\u001b[0;34m(\u001b[0m\u001b[0mrng\u001b[0m\u001b[0;34m,\u001b[0m \u001b[0mcase\u001b[0m\u001b[0;34m,\u001b[0m \u001b[0;34m**\u001b[0m\u001b[0mfactor_config\u001b[0m\u001b[0;34m)\u001b[0m\u001b[0;34m\u001b[0m\u001b[0m\n",
      "\u001b[0;32m/anaconda3/lib/python3.6/site-packages/tqdm/notebook.py\u001b[0m in \u001b[0;36m__iter__\u001b[0;34m(self, *args, **kwargs)\u001b[0m\n\u001b[1;32m    232\u001b[0m     \u001b[0;32mdef\u001b[0m \u001b[0m__iter__\u001b[0m\u001b[0;34m(\u001b[0m\u001b[0mself\u001b[0m\u001b[0;34m,\u001b[0m \u001b[0;34m*\u001b[0m\u001b[0margs\u001b[0m\u001b[0;34m,\u001b[0m \u001b[0;34m**\u001b[0m\u001b[0mkwargs\u001b[0m\u001b[0;34m)\u001b[0m\u001b[0;34m:\u001b[0m\u001b[0;34m\u001b[0m\u001b[0m\n\u001b[1;32m    233\u001b[0m         \u001b[0;32mtry\u001b[0m\u001b[0;34m:\u001b[0m\u001b[0;34m\u001b[0m\u001b[0m\n\u001b[0;32m--> 234\u001b[0;31m             \u001b[0;32mfor\u001b[0m \u001b[0mobj\u001b[0m \u001b[0;32min\u001b[0m \u001b[0msuper\u001b[0m\u001b[0;34m(\u001b[0m\u001b[0mtqdm_notebook\u001b[0m\u001b[0;34m,\u001b[0m \u001b[0mself\u001b[0m\u001b[0;34m)\u001b[0m\u001b[0;34m.\u001b[0m\u001b[0m__iter__\u001b[0m\u001b[0;34m(\u001b[0m\u001b[0;34m*\u001b[0m\u001b[0margs\u001b[0m\u001b[0;34m,\u001b[0m \u001b[0;34m**\u001b[0m\u001b[0mkwargs\u001b[0m\u001b[0;34m)\u001b[0m\u001b[0;34m:\u001b[0m\u001b[0;34m\u001b[0m\u001b[0m\n\u001b[0m\u001b[1;32m    235\u001b[0m                 \u001b[0;31m# return super(tqdm...) will not catch exception\u001b[0m\u001b[0;34m\u001b[0m\u001b[0;34m\u001b[0m\u001b[0m\n\u001b[1;32m    236\u001b[0m                 \u001b[0;32myield\u001b[0m \u001b[0mobj\u001b[0m\u001b[0;34m\u001b[0m\u001b[0m\n",
      "\u001b[0;32m/anaconda3/lib/python3.6/site-packages/tqdm/std.py\u001b[0m in \u001b[0;36m__iter__\u001b[0;34m(self)\u001b[0m\n\u001b[1;32m   1225\u001b[0m             \u001b[0mself\u001b[0m\u001b[0;34m.\u001b[0m\u001b[0mn\u001b[0m \u001b[0;34m=\u001b[0m \u001b[0mn\u001b[0m\u001b[0;34m\u001b[0m\u001b[0m\n\u001b[1;32m   1226\u001b[0m             \u001b[0mself\u001b[0m\u001b[0;34m.\u001b[0m\u001b[0mminiters\u001b[0m \u001b[0;34m=\u001b[0m \u001b[0mminiters\u001b[0m\u001b[0;34m\u001b[0m\u001b[0m\n\u001b[0;32m-> 1227\u001b[0;31m             \u001b[0mself\u001b[0m\u001b[0;34m.\u001b[0m\u001b[0mclose\u001b[0m\u001b[0;34m(\u001b[0m\u001b[0;34m)\u001b[0m\u001b[0;34m\u001b[0m\u001b[0m\n\u001b[0m\u001b[1;32m   1228\u001b[0m \u001b[0;34m\u001b[0m\u001b[0m\n\u001b[1;32m   1229\u001b[0m     \u001b[0;32mdef\u001b[0m \u001b[0mupdate\u001b[0m\u001b[0;34m(\u001b[0m\u001b[0mself\u001b[0m\u001b[0;34m,\u001b[0m \u001b[0mn\u001b[0m\u001b[0;34m=\u001b[0m\u001b[0;36m1\u001b[0m\u001b[0;34m)\u001b[0m\u001b[0;34m:\u001b[0m\u001b[0;34m\u001b[0m\u001b[0m\n",
      "\u001b[0;32m/anaconda3/lib/python3.6/site-packages/tqdm/notebook.py\u001b[0m in \u001b[0;36mclose\u001b[0;34m(self, *args, **kwargs)\u001b[0m\n\u001b[1;32m    255\u001b[0m \u001b[0;34m\u001b[0m\u001b[0m\n\u001b[1;32m    256\u001b[0m     \u001b[0;32mdef\u001b[0m \u001b[0mclose\u001b[0m\u001b[0;34m(\u001b[0m\u001b[0mself\u001b[0m\u001b[0;34m,\u001b[0m \u001b[0;34m*\u001b[0m\u001b[0margs\u001b[0m\u001b[0;34m,\u001b[0m \u001b[0;34m**\u001b[0m\u001b[0mkwargs\u001b[0m\u001b[0;34m)\u001b[0m\u001b[0;34m:\u001b[0m\u001b[0;34m\u001b[0m\u001b[0m\n\u001b[0;32m--> 257\u001b[0;31m         \u001b[0msuper\u001b[0m\u001b[0;34m(\u001b[0m\u001b[0mtqdm_notebook\u001b[0m\u001b[0;34m,\u001b[0m \u001b[0mself\u001b[0m\u001b[0;34m)\u001b[0m\u001b[0;34m.\u001b[0m\u001b[0mclose\u001b[0m\u001b[0;34m(\u001b[0m\u001b[0;34m*\u001b[0m\u001b[0margs\u001b[0m\u001b[0;34m,\u001b[0m \u001b[0;34m**\u001b[0m\u001b[0mkwargs\u001b[0m\u001b[0;34m)\u001b[0m\u001b[0;34m\u001b[0m\u001b[0m\n\u001b[0m\u001b[1;32m    258\u001b[0m         \u001b[0;31m# Try to detect if there was an error or KeyboardInterrupt\u001b[0m\u001b[0;34m\u001b[0m\u001b[0;34m\u001b[0m\u001b[0m\n\u001b[1;32m    259\u001b[0m         \u001b[0;31m# in manual mode: if n < total, things probably got wrong\u001b[0m\u001b[0;34m\u001b[0m\u001b[0;34m\u001b[0m\u001b[0m\n",
      "\u001b[0;32m/anaconda3/lib/python3.6/site-packages/tqdm/std.py\u001b[0m in \u001b[0;36mclose\u001b[0;34m(self)\u001b[0m\n\u001b[1;32m   1319\u001b[0m         \u001b[0;31m# decrement instance pos and remove from internal set\u001b[0m\u001b[0;34m\u001b[0m\u001b[0;34m\u001b[0m\u001b[0m\n\u001b[1;32m   1320\u001b[0m         \u001b[0mpos\u001b[0m \u001b[0;34m=\u001b[0m \u001b[0mabs\u001b[0m\u001b[0;34m(\u001b[0m\u001b[0mself\u001b[0m\u001b[0;34m.\u001b[0m\u001b[0mpos\u001b[0m\u001b[0;34m)\u001b[0m\u001b[0;34m\u001b[0m\u001b[0m\n\u001b[0;32m-> 1321\u001b[0;31m         \u001b[0mself\u001b[0m\u001b[0;34m.\u001b[0m\u001b[0m_decr_instances\u001b[0m\u001b[0;34m(\u001b[0m\u001b[0mself\u001b[0m\u001b[0;34m)\u001b[0m\u001b[0;34m\u001b[0m\u001b[0m\n\u001b[0m\u001b[1;32m   1322\u001b[0m \u001b[0;34m\u001b[0m\u001b[0m\n\u001b[1;32m   1323\u001b[0m         \u001b[0;31m# GUI mode\u001b[0m\u001b[0;34m\u001b[0m\u001b[0;34m\u001b[0m\u001b[0m\n",
      "\u001b[0;32m/anaconda3/lib/python3.6/site-packages/tqdm/std.py\u001b[0m in \u001b[0;36m_decr_instances\u001b[0;34m(cls, instance)\u001b[0m\n\u001b[1;32m    608\u001b[0m             \u001b[0;32mif\u001b[0m \u001b[0;32mnot\u001b[0m \u001b[0mcls\u001b[0m\u001b[0;34m.\u001b[0m\u001b[0m_instances\u001b[0m \u001b[0;32mand\u001b[0m \u001b[0mcls\u001b[0m\u001b[0;34m.\u001b[0m\u001b[0mmonitor\u001b[0m\u001b[0;34m:\u001b[0m\u001b[0;34m\u001b[0m\u001b[0m\n\u001b[1;32m    609\u001b[0m                 \u001b[0;32mtry\u001b[0m\u001b[0;34m:\u001b[0m\u001b[0;34m\u001b[0m\u001b[0m\n\u001b[0;32m--> 610\u001b[0;31m                     \u001b[0mcls\u001b[0m\u001b[0;34m.\u001b[0m\u001b[0mmonitor\u001b[0m\u001b[0;34m.\u001b[0m\u001b[0mexit\u001b[0m\u001b[0;34m(\u001b[0m\u001b[0;34m)\u001b[0m\u001b[0;34m\u001b[0m\u001b[0m\n\u001b[0m\u001b[1;32m    611\u001b[0m                     \u001b[0;32mdel\u001b[0m \u001b[0mcls\u001b[0m\u001b[0;34m.\u001b[0m\u001b[0mmonitor\u001b[0m\u001b[0;34m\u001b[0m\u001b[0m\n\u001b[1;32m    612\u001b[0m                 \u001b[0;32mexcept\u001b[0m \u001b[0mAttributeError\u001b[0m\u001b[0;34m:\u001b[0m  \u001b[0;31m# pragma: nocover\u001b[0m\u001b[0;34m\u001b[0m\u001b[0m\n",
      "\u001b[0;32m/anaconda3/lib/python3.6/site-packages/tqdm/_monitor.py\u001b[0m in \u001b[0;36mexit\u001b[0;34m(self)\u001b[0m\n\u001b[1;32m     51\u001b[0m         \u001b[0mself\u001b[0m\u001b[0;34m.\u001b[0m\u001b[0mwas_killed\u001b[0m\u001b[0;34m.\u001b[0m\u001b[0mset\u001b[0m\u001b[0;34m(\u001b[0m\u001b[0;34m)\u001b[0m\u001b[0;34m\u001b[0m\u001b[0m\n\u001b[1;32m     52\u001b[0m         \u001b[0;32mif\u001b[0m \u001b[0mself\u001b[0m \u001b[0;32mis\u001b[0m \u001b[0;32mnot\u001b[0m \u001b[0mcurrent_thread\u001b[0m\u001b[0;34m(\u001b[0m\u001b[0;34m)\u001b[0m\u001b[0;34m:\u001b[0m\u001b[0;34m\u001b[0m\u001b[0m\n\u001b[0;32m---> 53\u001b[0;31m             \u001b[0mself\u001b[0m\u001b[0;34m.\u001b[0m\u001b[0mjoin\u001b[0m\u001b[0;34m(\u001b[0m\u001b[0;34m)\u001b[0m\u001b[0;34m\u001b[0m\u001b[0m\n\u001b[0m\u001b[1;32m     54\u001b[0m         \u001b[0;32mreturn\u001b[0m \u001b[0mself\u001b[0m\u001b[0;34m.\u001b[0m\u001b[0mreport\u001b[0m\u001b[0;34m(\u001b[0m\u001b[0;34m)\u001b[0m\u001b[0;34m\u001b[0m\u001b[0m\n\u001b[1;32m     55\u001b[0m \u001b[0;34m\u001b[0m\u001b[0m\n",
      "\u001b[0;32m/anaconda3/lib/python3.6/threading.py\u001b[0m in \u001b[0;36mjoin\u001b[0;34m(self, timeout)\u001b[0m\n\u001b[1;32m   1054\u001b[0m \u001b[0;34m\u001b[0m\u001b[0m\n\u001b[1;32m   1055\u001b[0m         \u001b[0;32mif\u001b[0m \u001b[0mtimeout\u001b[0m \u001b[0;32mis\u001b[0m \u001b[0;32mNone\u001b[0m\u001b[0;34m:\u001b[0m\u001b[0;34m\u001b[0m\u001b[0m\n\u001b[0;32m-> 1056\u001b[0;31m             \u001b[0mself\u001b[0m\u001b[0;34m.\u001b[0m\u001b[0m_wait_for_tstate_lock\u001b[0m\u001b[0;34m(\u001b[0m\u001b[0;34m)\u001b[0m\u001b[0;34m\u001b[0m\u001b[0m\n\u001b[0m\u001b[1;32m   1057\u001b[0m         \u001b[0;32melse\u001b[0m\u001b[0;34m:\u001b[0m\u001b[0;34m\u001b[0m\u001b[0m\n\u001b[1;32m   1058\u001b[0m             \u001b[0;31m# the behavior of a negative timeout isn't documented, but\u001b[0m\u001b[0;34m\u001b[0m\u001b[0;34m\u001b[0m\u001b[0m\n",
      "\u001b[0;32m/anaconda3/lib/python3.6/threading.py\u001b[0m in \u001b[0;36m_wait_for_tstate_lock\u001b[0;34m(self, block, timeout)\u001b[0m\n\u001b[1;32m   1070\u001b[0m         \u001b[0;32mif\u001b[0m \u001b[0mlock\u001b[0m \u001b[0;32mis\u001b[0m \u001b[0;32mNone\u001b[0m\u001b[0;34m:\u001b[0m  \u001b[0;31m# already determined that the C code is done\u001b[0m\u001b[0;34m\u001b[0m\u001b[0m\n\u001b[1;32m   1071\u001b[0m             \u001b[0;32massert\u001b[0m \u001b[0mself\u001b[0m\u001b[0;34m.\u001b[0m\u001b[0m_is_stopped\u001b[0m\u001b[0;34m\u001b[0m\u001b[0m\n\u001b[0;32m-> 1072\u001b[0;31m         \u001b[0;32melif\u001b[0m \u001b[0mlock\u001b[0m\u001b[0;34m.\u001b[0m\u001b[0macquire\u001b[0m\u001b[0;34m(\u001b[0m\u001b[0mblock\u001b[0m\u001b[0;34m,\u001b[0m \u001b[0mtimeout\u001b[0m\u001b[0;34m)\u001b[0m\u001b[0;34m:\u001b[0m\u001b[0;34m\u001b[0m\u001b[0m\n\u001b[0m\u001b[1;32m   1073\u001b[0m             \u001b[0mlock\u001b[0m\u001b[0;34m.\u001b[0m\u001b[0mrelease\u001b[0m\u001b[0;34m(\u001b[0m\u001b[0;34m)\u001b[0m\u001b[0;34m\u001b[0m\u001b[0m\n\u001b[1;32m   1074\u001b[0m             \u001b[0mself\u001b[0m\u001b[0;34m.\u001b[0m\u001b[0m_stop\u001b[0m\u001b[0;34m(\u001b[0m\u001b[0;34m)\u001b[0m\u001b[0;34m\u001b[0m\u001b[0m\n",
      "\u001b[0;31mKeyboardInterrupt\u001b[0m: "
     ]
    }
   ],
   "source": [
    "for name in [\"S1_test_based_TTI\", \"S2_test_based_TTI\", \"S3_test_based_TTI\", \"S4_test_based_TTI\", \"S5_test_based_TTI\"]:\n",
    "    print(\"####################################################\")\n",
    "    # define config file for each simulation\n",
    "    case_config = config.get_case_config(\"delve\")\n",
    "    contacts_config = config.get_contacts_config(\"delve\")\n",
    "    policy_config = config.get_strategy_configs(\"delve\", name)[name]\n",
    "    configs = {\"case_config\": case_config, \"contacts_config\": contacts_config, \"policy_config\": policy_config}\n",
    "    \n",
    "    print(\"Configuration:\", name)\n",
    "    print(\"Cost function:\", \"total_cost_R\")\n",
    "    print(\"Optimizing: \", [config_details[i][\"name\"] for i in range(3)])\n",
    "    \n",
    "    # run the optimization for different values of lambda\n",
    "    for l in [0.1, 0.5, 0.9]:\n",
    "        lam = l\n",
    "        print(\"----------------------------------------------------------------------------\") ; print()\n",
    "        print(\"lambda = \", lam)\n",
    "        optimize(cost_function=total_cost_R)\n",
    "        print(\"####################################################\") ; print()"
   ]
  },
  {
   "cell_type": "markdown",
   "metadata": {},
   "source": [
    "## Cost Function takes into account number of cases prevented and money lost"
   ]
  },
  {
   "cell_type": "code",
   "execution_count": null,
   "metadata": {
    "collapsed": true
   },
   "outputs": [],
   "source": [
    "for name in [\"S1_test_based_TTI\", \"S2_test_based_TTI\", \"S3_test_based_TTI\", \"S4_test_based_TTI\", \"S5_test_based_TTI\"]:\n",
    "\n",
    "    # define config file for each simulation\n",
    "    case_config = config.get_case_config(\"delve\")\n",
    "    contacts_config = config.get_contacts_config(\"delve\")\n",
    "    policy_config = config.get_strategy_configs(\"delve\", name)[name]\n",
    "    configs = {\"case_config\": case_config, \"contacts_config\": contacts_config, \"policy_config\": policy_config}\n",
    "    \n",
    "    print(\"Configuration:\", name)\n",
    "    print(\"Cost function:\", \"total_cost_cases_prevented\")\n",
    "    print(\"Optimizing: \", [config_details[i][\"name\"] for i in range(3)])\n",
    "    \n",
    "    # run the optimization for different values of lambda\n",
    "    for l in [0.1, 0.5, 0.9]:\n",
    "        lam = l\n",
    "        print(\"lambda = \", lam)\n",
    "        optimize(cost_function=total_cost_cases_prevented)\n",
    "        print(\"####################################################\")\n",
    "        print()"
   ]
  }
 ],
 "metadata": {
  "kernelspec": {
   "display_name": "Python 3",
   "language": "python",
   "name": "python3"
  },
  "language_info": {
   "codemirror_mode": {
    "name": "ipython",
    "version": 3
   },
   "file_extension": ".py",
   "mimetype": "text/x-python",
   "name": "python",
   "nbconvert_exporter": "python",
   "pygments_lexer": "ipython3",
   "version": "3.6.2"
  },
  "toc": {
   "base_numbering": 1,
   "nav_menu": {},
   "number_sections": true,
   "sideBar": true,
   "skip_h1_title": false,
   "title_cell": "Table of Contents",
   "title_sidebar": "Contents",
   "toc_cell": false,
   "toc_position": {},
   "toc_section_display": true,
   "toc_window_display": false
  }
 },
 "nbformat": 4,
 "nbformat_minor": 4
}
